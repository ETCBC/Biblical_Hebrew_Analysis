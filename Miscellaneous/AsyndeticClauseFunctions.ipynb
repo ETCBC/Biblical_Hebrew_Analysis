{
 "metadata": {
  "name": "",
  "signature": "sha256:b5c786d1e9f788469d423b90869f4ca7ad0ef80ac9dfd1d0e0268e0d533c67eb"
 },
 "nbformat": 3,
 "nbformat_minor": 0,
 "worksheets": [
  {
   "cells": [
    {
     "cell_type": "markdown",
     "metadata": {},
     "source": [
      "<a href=\"http://www.godgeleerdheid.vu.nl/etcbc\" target=\"_blank\"><img src=\"Images/VU-ETCBC-small.png\"/></a>"
     ]
    },
    {
     "cell_type": "heading",
     "level": 1,
     "metadata": {},
     "source": [
      "Functions of Asyndetic Clause Relations in Biblical Hebrew"
     ]
    },
    {
     "cell_type": "markdown",
     "metadata": {},
     "source": [
      "**Gino Kalkman**\n",
      "\n",
      "**PhD researcher at Eep Talstra Centre for Bible and Computer**\n",
      "\n",
      "**Faculty of Theology**\n",
      "\n",
      "**VU University**"
     ]
    },
    {
     "cell_type": "heading",
     "level": 2,
     "metadata": {},
     "source": [
      "0. Introduction"
     ]
    },
    {
     "cell_type": "markdown",
     "metadata": {},
     "source": [
      "This program serves two major functions. First of all, it has provided its developer with some initial experience in the use of the [LAF Fabric Workbench](http://laf-fabric.readthedocs.org/en/latest/), which was and is still being developed by Dirk Roorda and is expected to play a significant role in future research conducted by the <em>Eep Talstra Center for Bible and Computing</em>, of which the program's developer is a member.\n",
      "Second, the specific queries conducted in the program provide us with new insights into the object of the developer's PhD research, i.e.: <strong>the functions of the verbal forms in Biblical Hebrew poetry</strong>.\n",
      "\n",
      "The main assumption in this research project is that the meaning of the Biblical Hebrew verbal forms is mainly determined by the clause patterns in which they occur. Thus, verbal forms in a daughter clause may adopt volitive and non-volitive aspects of meaning from verbal forms in their mother clauses. Furthermore, the verbal forms essentially fulfill a function at the discourse level, at which they denote shifts in type (narrative vs. discursive) and level (mainline vs. background) of communication.\n",
      "\n",
      "The current program investigates the differences between the Biblical Hebrew genres (prose, poetry and prophecy) in their use of these clause patterns. Since the number of different types of clause patterns is quite high, we decided to focus on the patterns that involve an asyndetic relation between two clauses.\n",
      "In our database, the type of clause pattern is annotated by a three-digit label, which is attached to both the mother clause and the daughter clause. The asyndetic clause connections are assigned labels from 100 up to 168. The first digit in the offset from 100 is the tense of the verbal predicate of the daughter clause atom, the second that of the mother clause atom. The digit-representations of the Hebrew tenses are as follows:\n",
      "\n",
      "0 None<br>\n",
      "1 Imperfect --> yiqtol<br>\n",
      "2 Perfect --> qatal<br>\n",
      "3 Imperative<br>\n",
      "4 Infinitive Construct<br>\n",
      "5 Infinitive Absolute<br>\n",
      "6 Participle<br>\n",
      "7 Imperfect Consecutive --> wayyiqtol<br>\n",
      "8 Imperfect Copulative --> weyiqtol<br>\n",
      "\n",
      "Since the final two tenses (7 and 8) cannot be used in asyndetic clause connections - the waw being the Hebrew copulative - the first digit in the offset from 100 will never be higher than 6.\n",
      "\n",
      "The program calculates for each of the possible patterns in the range 100-168 the number of occurrences in the books and chapters that are included in the three categories of prosaic, poetic and prophetic texts. Since the total numbers of patterns are very different for each of the genres - thus, a large part of the Hebrew poetry (e.g. the Psalms) had not yet been analyzed in the data set that is currently used by the <strong>'LAF Fabric Workbench'</strong> - the program also calculates for each of the clause patterns its relative value, i.e.: which portion of the total number of clause patterns in a given genre is represented by that specific clause pattern. "
     ]
    },
    {
     "cell_type": "heading",
     "level": 2,
     "metadata": {},
     "source": [
      "1. Importing libraries"
     ]
    },
    {
     "cell_type": "markdown",
     "metadata": {},
     "source": [
      "In the next cell the required libraries are imported and a task processor is created.\n",
      "The Notebook class in laf.notebook implements a LAF-Fabric task processor."
     ]
    },
    {
     "cell_type": "code",
     "collapsed": false,
     "input": [
      "import sys\n",
      "import collections\n",
      "from laf.fabric import LafFabric\n",
      "from etcbc.preprocess import prepare\n",
      "fabric = LafFabric()"
     ],
     "language": "python",
     "metadata": {},
     "outputs": [
      {
       "output_type": "stream",
       "stream": "stderr",
       "text": [
        "  0.00s This is LAF-Fabric 4.2.8\n",
        "http://laf-fabric.readthedocs.org/texts/API-reference.html\n"
       ]
      }
     ],
     "prompt_number": 72
    },
    {
     "cell_type": "heading",
     "level": 2,
     "metadata": {},
     "source": [
      "2. Loading the data"
     ]
    },
    {
     "cell_type": "markdown",
     "metadata": {},
     "source": [
      "In the next cell we load the data needed by the processor. In our program, we will need a few features of nodes.\n",
      "Since this program aims to extract information about the clause atom relation values of a clause atom, we will load the clause_atom_relation features of all clause atoms. These features label the relationship between a clause atom and its mother.\n",
      "Next to that, we need to keep track of the Biblical books and the chapter numbers in order to be able to correctly categorize the clause patterns into the three genres of prose, poetry and prophecy.\n",
      "\n",
      "The <em>init()</em> function draws that data in. It needs to know the name of the LAF header file. \n",
      "The '--' argument explicitates that we do not draw in an extra annotation package.\n",
      "\n",
      "The string 'ClauseFunctions' represents the name we give to this task. This name determines where on the developer's filesystem the log file and the output file will be put."
     ]
    },
    {
     "cell_type": "code",
     "collapsed": false,
     "input": [
      "fabric.load('bhs3', '--', 'ClauseFunctions', {\n",
      "    \"xmlids\": {\n",
      "        \"node\": False,\n",
      "        \"edge\": False,\n",
      "    },\n",
      "    \"features\": {\n",
      "        \"shebanq\": {\n",
      "            \"node\": [\n",
      "                \"db.otype\",\n",
      "                \"ft.clause_atom_relation\",\n",
      "                \"sft.chapter,book\",\n",
      "            ],\n",
      "            \"edge\": [\n",
      "            ],\n",
      "        },\n",
      "    },\n",
      "})\n",
      "exec(fabric.localnames.format(var='fabric'))"
     ],
     "language": "python",
     "metadata": {},
     "outputs": [
      {
       "output_type": "stream",
       "stream": "stderr",
       "text": [
        "  0.00s LOADING API: please wait ... \n"
       ]
      },
      {
       "output_type": "stream",
       "stream": "stderr",
       "text": [
        "  0.01s INFO: DATA COMPILED AT: 2014-04-18T18-24-37\n"
       ]
      },
      {
       "output_type": "stream",
       "stream": "stderr",
       "text": [
        "  2.57s LOGFILE=C:\\Users\\Gino/laf-fabric-data/bhs3/tasks/ClauseFunctions/__log__ClauseFunctions.txt\n"
       ]
      },
      {
       "output_type": "stream",
       "stream": "stderr",
       "text": [
        "  2.57s INFO: DATA LOADED FROM SOURCE bhs3 AND ANNOX -- FOR TASK ClauseFunctions\n"
       ]
      }
     ],
     "prompt_number": 73
    },
    {
     "cell_type": "heading",
     "level": 2,
     "metadata": {},
     "source": [
      "3. Executing the program"
     ]
    },
    {
     "cell_type": "heading",
     "level": 3,
     "metadata": {},
     "source": [
      "3.1 Initializing the variables"
     ]
    },
    {
     "cell_type": "markdown",
     "metadata": {},
     "source": [
      "In the cell below some global variables are initialized. It should be noted that only variables whose values will not be modified or updated by the program are made global here. This concerns several lists and dictionaries of items that will be used for checking if a book (and chapter) belongs to the corpus we want to analyze and for determining the genre of a book or chapter."
     ]
    },
    {
     "cell_type": "code",
     "collapsed": false,
     "input": [
      "#first create a list containing the names of all books that will be investigated\n",
      "books = [\"Genesis\", \"Exodus\", \"Deuteronomy\", \"Judges\", \"I_Samuel\", \"Isaiah\", \"Jeremiah\", \"Lamentations\"]\n",
      "\n",
      "#create lists for each of the genres containing the books that belong to that specific genre\n",
      "#note that for the genre of poetry, the list consists not of booknames, but of dictionaries containing combinations of booknames (keys) and \n",
      "#the specific chapters in those books that are poetic (values). Our implementation guarantees that the other chapters of these books - \n",
      "#except for the book of Lamentations - are included in the prosaic corpus (note the overlap in booknames)\n",
      "prose = [\"Genesis\", \"Exodus\", \"Deuteronomy\", \"Judges\", \"I_Samuel\"]\n",
      "poetry = {\"Exodus\":[\"15\"], \"Deuteronomy\":[\"32\",\"33\"], \"Judges\":[\"5\"], \"I_Samuel\":[\"22\"], \"Lamentations\":[\"3\"]}\n",
      "prophecy = [\"Isaiah\", \"Jeremiah\"]\n",
      "\n",
      "#create a dictionary used for mapping the numerical values of tenses to their string equivalents (cf. 0. Introduction).\n",
      "tenses = {0: \"nominal\", 1: \"yiqtol\", 2: \"qatal\", 3: \"imperative\", 4: \"infinConstr\", 5: \"infinAbsol\", 6: \"participle\", 7: \"wayyiqtol\", 8: \"weyiqtol\"}\n",
      "\n",
      "#a library function is used to create or reopen the output file 'table.csv' and make it ready for being written to.\n",
      "out = outfile('table.csv')"
     ],
     "language": "python",
     "metadata": {},
     "outputs": [],
     "prompt_number": 74
    },
    {
     "cell_type": "heading",
     "level": 3,
     "metadata": {},
     "source": [
      "3.2 Performing the task"
     ]
    },
    {
     "cell_type": "markdown",
     "metadata": {},
     "source": [
      "The next cell contains the main part of our program. The program starts by calling the function <em>perform_task()</em>, which defines several local variables pointing to modifiable lists and dictionaries. These lists and dictionaries will store and update the number of clause atom relations for each genre and the number of occurrences of each type of clause atom relation per genre.<br>\n",
      "The <em>perform_task()</em> function then calls the <em>iterate_through_nodes()</em> function, which, in turn, defines the local variables 'book' and 'chapter', that are updated in that specific function and used to assign the correct value to the variable 'genre'.\n",
      "After all nodes have been iterated through and the results of the queries have been stored, the <em>perform_task()</em> function finishes by calling the <em>write_to_output()</em> function, which writes the result data to an output file."
     ]
    },
    {
     "cell_type": "code",
     "collapsed": false,
     "input": [
      "#write the total numbers of the clause atom relation types for each of the genres to the output file\n",
      "def print_totals(prose, poetry, prophecy):\n",
      "    out.write(\"{},{},{},{},{},{},{}\\n\".format(\"TOTALS\", prose, 100, poetry, 100, prophecy, 100))\n",
      "\n",
      "#Maps digits in numerical label of clause atom relation type to corresponding values of the verb forms in the mother and daughter clause \n",
      "#by using the dictionary 'tenses'. The first digit in the offset from 100 is the tense of the verbal predicate of the daughter clause atom,\n",
      "#the second that of the mother clause atom (cf. 0. 'Introduction')\n",
      "#Subsequently, combine the string values of the verb forms into a single string representation of the clause atom relation as a whole.\n",
      "def map_label(pattern):\n",
      "    #retrieve the string representation of the tense in the daughter clause\n",
      "    tense_daughter = tenses[int(pattern[1])]\n",
      "    #retrieve the string representation of the tense in the mother clause\n",
      "    tense_mother = tenses[int(pattern[2])]\n",
      "    #return a combination of the string representations of the tense values of the mother and the daughter clause\n",
      "    return (tense_mother + \" -> \" + tense_daughter)\n",
      "\n",
      "#write the number of occurrences of a clause atom relation type (pattern) in a genre to the output file\n",
      "def print_number(out, pattern, car_genre, total_genre):\n",
      "    #if the clause atom relation type occurs in this specific genre, retrieve the number of occurrences and write it to the output file\n",
      "    if pattern in car_genre:\n",
      "        out.write(\"{:10},\".format(car_genre[pattern]))\n",
      "        #calculate the relative portion of clause atom relations in this genre represented by this specifc clause atom relation type and\n",
      "        #write the result to the output file\n",
      "        out.write(\"{:10}\".format(car_genre[pattern] / total_genre * 100))\n",
      "    #if the clause atom relation type does not occur in this specific genre, write an absolute value of 0 and a relative value of 0.0 to \n",
      "    #the output file\n",
      "    else:\n",
      "        out.write(\"{:10},\".format(\"-\"))\n",
      "        out.write(\"{:10}\".format(\"0.0\"))\n",
      "\n",
      "#the results of our queries are written to the output file 'table.csv'        \n",
      "def write_to_output(out, car_prose, car_poetry, car_prophecy, car_all, totals):\n",
      "    #write the 'headings' of the columns to the output file\n",
      "    #write the total numbers of the clause atom relation types for each of the genres to the output file\n",
      "    print_totals(totals[\"prose\"], totals[\"poetry\"], totals[\"prophecy\"])\n",
      "    #iterate through all clause atom relation types in the sorted list and for each of these types write the number of its occurrences in \n",
      "    #each of the genres to the output file\n",
      "    for pattern in car_all:\n",
      "        #map the three-digit clause atom relation label to a string representation\n",
      "        pattern_string = map_label(pattern)\n",
      "        #write the string representation of the clause atom relation type (i.e.: the clause pattern) to the output file\n",
      "        out.write(\"{},\".format(pattern_string))\n",
      "        #write the number of occurrences of this clause atom relation type (clause pattern) in our prosaic corpus to the output file\n",
      "        print_number(out, pattern, car_prose, totals[\"prose\"])\n",
      "        out.write(\",\")\n",
      "        #write the number of occurrences of this clause atom relation type (clause pattern) in our poetic corpus to the output file\n",
      "        print_number(out, pattern, car_poetry, totals[\"poetry\"])\n",
      "        out.write(\",\")\n",
      "        #write the number of occurrences of this clause atom relation type (clause pattern) in prophetic corpus to the output file\n",
      "        print_number(out, pattern, car_prophecy, totals[\"prophecy\"])\n",
      "        out.write(\"\\n\")\n",
      "\n",
      "#test the current genre        \n",
      "def set_genre(bookname, chapter):\n",
      "    #remember that only the poetry list has key-value pairs as elements;\n",
      "    if ((bookname in poetry.keys()) and (chapter in poetry[bookname])):\n",
      "        return \"poetry\"\n",
      "    #booknames shared by prose and poetry will not cause problems, since the poetic chapters have been filtered out at this point\n",
      "    elif (bookname in prose):\n",
      "        return \"prose\"\n",
      "    #our implementation guarantees that all clause atom relations that have not been categorized at this point, belong to our corpus of \n",
      "    #prophetic books\n",
      "    else:\n",
      "        return \"prophecy\"\n",
      "\n",
      "#a clause atom relation is added to the dictionary of the correct genre. If the clause atom relation type (key) has already been\n",
      "#encountered in that genre (i.e.: the key already exists), the value of that key will be simply raised by 1; if not, a new key is added \n",
      "#to the dictionary and its value, having a default value of 0, will be set to 1. \n",
      "def add_car_to_dictionary(car, car_genre):\n",
      "    car_genre[car] += 1\n",
      "\n",
      "#handle a new clause atom relation label    \n",
      "def analyze_new_car(car, car_prose, car_poetry, car_prophecy, car_total, totals, bookname, chapter):\n",
      "    #only continue if the clause atom relation is an asyndetic one (i.e.: has a three-digit value between 100 and 168; see 0 'Introduction')\n",
      "    if 100 <= int(car) <= 168:\n",
      "            #if the clause atom relation type has not yet been encountered before, add its label to the list of clause pattern types \n",
      "            #attested in our corpus\n",
      "            if car not in car_total:\n",
      "                car_total.append(car)\n",
      "            #define the genre to which the current clause atom relation belongs; do this by testing if the current bookname (and chapter)\n",
      "            #is listed in one of the genre lists created in the previous cell\n",
      "            genre = set_genre(bookname, chapter)\n",
      "            #include the clause atom relation in the correct genre and adjust the total number of clause atom relations counted for that\n",
      "            #genre; note that we use only one function for adding a clause atom relation to the correct dictionary\n",
      "            if (genre == \"prose\"):\n",
      "                add_car_to_dictionary(car, car_prose)\n",
      "                totals[\"prose\"] += 1\n",
      "            elif (genre == \"poetry\"):\n",
      "                add_car_to_dictionary(car, car_poetry)\n",
      "                totals[\"poetry\"] += 1\n",
      "            else:\n",
      "                add_car_to_dictionary(car, car_prophecy)\n",
      "                totals[\"prophecy\"] += 1\n",
      " \n",
      "def iterate_through_nodes(car_prose, car_poetry, car_prophecy, car_total, totals):\n",
      "    #bookname is initially set to \"None\" and will be reset every time the program encounters a node having the object type 'book'.\n",
      "    bookname = None\n",
      "    #chapter is initially set to \"None\" and will be reset every time the program encounters a node having the object type 'chapter'.\n",
      "    chapter = None\n",
      "    \n",
      "    #For each new node the program is provided with it tests the node's object type and subsequently calls the corresponding functions\n",
      "    for i in NN():\n",
      "        otype = F.shebanq_db_otype.v(i)\n",
      "    #test if the node's object type is that of 'clause_atom' and only continue if the current book (+ chapter) is included in our corpus\n",
      "    #of prosaic, poetic and prophetic texts by searching for its presence in the list 'books'. Note that for the book of Lamentations, we \n",
      "    #only analyze the third chapter (since the other chapters are not yet analyzed in the current dataset)\n",
      "        if ((otype == \"clause_atom\") and (bookname in books) and not (bookname == \"Lamentations\" and chapter != 3)):\n",
      "        #retrieve the three-digit label of the current clause atom relation\n",
      "            car = F.shebanq_ft_clause_atom_relation.v(i)\n",
      "        #handle the current clause atom relation\n",
      "            analyze_new_car(car, car_prose, car_poetry, car_prophecy, car_total, totals, bookname, chapter) \n",
      "    #if the node's object type is that of 'book', the bookname is reset to the value of the current node. Note that since a 'book node' \n",
      "    #always precedes the 'clause atom nodes' in that book, the bookname will always be set correctly. Thus, its initial value 'None' will\n",
      "    #always have been reset before the program for the first time encounters a new clause atom relation.\n",
      "        elif otype == \"book\":\n",
      "            bookname = F.shebanq_sft_book.v(i)\n",
      "        #as an intermediate test, print all booknames that are encountered to the standard output (see pink block below this cell)\n",
      "            sys.stderr.write(\"{} \".format(bookname))\n",
      "    #if the node's object type is that of 'chapter', the chapter number is reset to the value of the current node. Note that since a \n",
      "    #'chapter node' always precedes the 'clause atom nodes' in that chapter, the chapter numbers will always be set correctly. Thus, its \n",
      "    #initial value 'None' will always have been reset before the program for the first time encounters a new clause atom relation.\n",
      "        elif otype == \"chapter\":\n",
      "            chapter = F.shebanq_sft_chapter.v(i)\n",
      "    \n",
      "def perform_task():\n",
      "    #create 3 dictionaries for prose, poetry and prophecy. These dictionaries will contain combinations of a clause pattern type (key) and the \n",
      "    #number of occurrences of that clause pattern type (value). Every new key (clause pattern type) will be assigned a default value (number of \n",
      "    #occurrences) of 0 by using the lambda function.\n",
      "    car_prose = collections.defaultdict(lambda: 0)\n",
      "    car_poetry = collections.defaultdict(lambda: 0)\n",
      "    car_prophecy = collections.defaultdict(lambda: 0)\n",
      "\n",
      "    #create an empty list containing all clause pattern types that have been found in the books we are comparing. This will enable us to \n",
      "    #output only those patterns that are attested at least once in our corpus of prosaic, poetic and prophetic texts.\n",
      "    car_total = []\n",
      "\n",
      "    #create three variables containing the total number of clause patterns in each of the 3 genres we are comparing. This will enable us to \n",
      "    #calculate the relative portion of all clause patterns in a given genre that is represented by a specific clause pattern type.\n",
      "    totals = {\"prose\": 0, \"poetry\": 0, \"prophecy\": 0}\n",
      "    \n",
      "    #iterate through all nodes in the LAF-dataset\n",
      "    iterate_through_nodes(car_prose, car_poetry, car_prophecy, car_total, totals)\n",
      "    #after the program has iterated over all nodes, a sorted list of all clause atom relation types (between 100 and 168) that are attested \n",
      "    #in our corpus is stored in the variable 'car_all'        \n",
      "    car_all = sorted(car_total)\n",
      "    #the results are written to the output file\n",
      "    write_to_output(out, car_prose, car_poetry, car_prophecy, car_all, totals)\n",
      "\n",
      "perform_task()"
     ],
     "language": "python",
     "metadata": {},
     "outputs": [
      {
       "output_type": "stream",
       "stream": "stderr",
       "text": [
        "Genesis Exodus "
       ]
      },
      {
       "output_type": "stream",
       "stream": "stderr",
       "text": [
        "Leviticus Numbers "
       ]
      },
      {
       "output_type": "stream",
       "stream": "stderr",
       "text": [
        "Deuteronomy Joshua "
       ]
      },
      {
       "output_type": "stream",
       "stream": "stderr",
       "text": [
        "Judges I_Samuel "
       ]
      },
      {
       "output_type": "stream",
       "stream": "stderr",
       "text": [
        "II_Samuel I_Kings "
       ]
      },
      {
       "output_type": "stream",
       "stream": "stderr",
       "text": [
        "II_Kings Isaiah "
       ]
      },
      {
       "output_type": "stream",
       "stream": "stderr",
       "text": [
        "Jeremiah Ezekiel "
       ]
      },
      {
       "output_type": "stream",
       "stream": "stderr",
       "text": [
        "Hosea Joel Amos Obadiah Jonah "
       ]
      },
      {
       "output_type": "stream",
       "stream": "stderr",
       "text": [
        "Micah Nahum Habakkuk Zephaniah Haggai Zechariah Malachi "
       ]
      },
      {
       "output_type": "stream",
       "stream": "stderr",
       "text": [
        "Psalms Job "
       ]
      },
      {
       "output_type": "stream",
       "stream": "stderr",
       "text": [
        "Proverbs Ruth "
       ]
      },
      {
       "output_type": "stream",
       "stream": "stderr",
       "text": [
        "Canticles Ecclesiastes Lamentations Esther "
       ]
      },
      {
       "output_type": "stream",
       "stream": "stderr",
       "text": [
        "Daniel Ezra "
       ]
      },
      {
       "output_type": "stream",
       "stream": "stderr",
       "text": [
        "Nehemiah I_Chronicles II_Chronicles "
       ]
      }
     ],
     "prompt_number": 75
    },
    {
     "cell_type": "heading",
     "level": 2,
     "metadata": {},
     "source": [
      "4. Finalizing"
     ]
    },
    {
     "cell_type": "markdown",
     "metadata": {},
     "source": [
      "At the end of our program we need to close all open files (i.e. the log file and the output file). This is done in the <em>final()</em> function in the processor object."
     ]
    },
    {
     "cell_type": "code",
     "collapsed": false,
     "input": [
      "close()"
     ],
     "language": "python",
     "metadata": {},
     "outputs": [
      {
       "output_type": "stream",
       "stream": "stderr",
       "text": [
        "    13s Results directory:\n",
        "C:\\Users\\Gino/laf-fabric-data/bhs3/tasks/ClauseFunctions\n"
       ]
      },
      {
       "output_type": "stream",
       "stream": "stderr",
       "text": [
        "\n",
        "__log__ClauseFunctions.txt              214 Thu May 22 13:52:16 2014\n",
        "table.csv                              5616 Thu May 22 13:52:28 2014\n"
       ]
      }
     ],
     "prompt_number": 76
    },
    {
     "cell_type": "heading",
     "level": 2,
     "metadata": {},
     "source": [
      "5. Presenting the output"
     ]
    },
    {
     "cell_type": "markdown",
     "metadata": {},
     "source": [
      "After we have finished our programme, the results stored in the output file will have to be displayed. This is done in the form of an HTML-table, in which (relatively) high frequencies (> 5%) have been marked in red colour."
     ]
    },
    {
     "cell_type": "code",
     "collapsed": false,
     "input": [
      "from IPython.display import display, HTML\n",
      "import csv, re\n",
      "\n",
      "table_file = open('../../../laf-fabric-data/bhs3/tasks/ClauseFunctions/table.csv', 'r')\n",
      "reader = csv.reader(table_file)\n",
      "\n",
      "numerical = re.compile(\"[0-9]\")\n",
      "\n",
      "total = '<table class=\"presentation\" id=\"Analysis\">'\n",
      "head = '<tr><th style=\"text-align: center\">' + \"CARnumber\" + '</th><th style=\"text-align: center\">' + \"Prose\" + '</th><th style=\"text-align: center\">' + \"% of total in prose\" + '</th><th style=\"text-align: center\">' + \"Poetry\" + '</th><th style=\"text-align: center\">' + \"% of total in poetry\" + '</th><th style=\"text-align: center\">' + \"Prophecy\" + '</th><th style=\"text-align: center\">' + \"% of total in prophecy\" + '</th></tr>'\n",
      "total += head\n",
      "\n",
      "for line in reader:\n",
      "    code = '<tr>'\n",
      "    for word in line:\n",
      "        #print (\"x\" + word + \"x\")\n",
      "        if (word.strip() == '0.0'):\n",
      "            code += '<td style =\"text-align: center\">' + \"-\" + '</td>'\n",
      "        elif (len(word) > 4 and numerical.match(word[0])):\n",
      "            word = str(round(float(word), 2))\n",
      "            if (float(word) > 5):\n",
      "                code += '<td style=\"color: Red; text-align: center\">' + word + '</td>'\n",
      "            else:\n",
      "                code += '<td style=\"text-align: center\">' + word + '</td>'\n",
      "        else:\n",
      "            code += '<td style=\"text-align: center\">' + word + '</td>'\n",
      "    code += '</tr>'\n",
      "    total += code\n",
      "\n",
      "total += '</table'\n",
      "\n",
      "display(HTML(total))\n"
     ],
     "language": "python",
     "metadata": {},
     "outputs": [
      {
       "html": [
        "<table class=\"presentation\" id=\"Analysis\"><tr><th style=\"text-align: center\">CARnumber</th><th style=\"text-align: center\">Prose</th><th style=\"text-align: center\">% of total in prose</th><th style=\"text-align: center\">Poetry</th><th style=\"text-align: center\">% of total in poetry</th><th style=\"text-align: center\">Prophecy</th><th style=\"text-align: center\">% of total in prophecy</th></tr><tr><td style=\"text-align: center\">TOTALS</td><td style=\"text-align: center\">2677</td><td style=\"text-align: center\">100</td><td style=\"text-align: center\">221</td><td style=\"text-align: center\">100</td><td style=\"text-align: center\">3478</td><td style=\"text-align: center\">100</td></tr><tr><td style=\"text-align: center\">nominal -> nominal</td><td style=\"text-align: center\">       375</td><td style=\"color: Red; text-align: center\">14.01</td><td style=\"text-align: center\">        38</td><td style=\"color: Red; text-align: center\">17.19</td><td style=\"text-align: center\">       263</td><td style=\"color: Red; text-align: center\">7.56</td></tr><tr><td style=\"text-align: center\">yiqtol -> nominal</td><td style=\"text-align: center\">       105</td><td style=\"text-align: center\">3.92</td><td style=\"text-align: center\">        17</td><td style=\"color: Red; text-align: center\">7.69</td><td style=\"text-align: center\">       213</td><td style=\"color: Red; text-align: center\">6.12</td></tr><tr><td style=\"text-align: center\">qatal -> nominal</td><td style=\"text-align: center\">       145</td><td style=\"color: Red; text-align: center\">5.42</td><td style=\"text-align: center\">        15</td><td style=\"color: Red; text-align: center\">6.79</td><td style=\"text-align: center\">       299</td><td style=\"color: Red; text-align: center\">8.6</td></tr><tr><td style=\"text-align: center\">imperative -> nominal</td><td style=\"text-align: center\">        48</td><td style=\"text-align: center\">1.79</td><td style=\"text-align: center\">         4</td><td style=\"text-align: center\">1.81</td><td style=\"text-align: center\">       187</td><td style=\"color: Red; text-align: center\">5.38</td></tr><tr><td style=\"text-align: center\">infinConstr -> nominal</td><td style=\"text-align: center\">        17</td><td style=\"text-align: center\">0.64</td><td style=\"text-align: center\">-         </td><td style =\"text-align: center\">-</td><td style=\"text-align: center\">        31</td><td style=\"text-align: center\">0.89</td></tr><tr><td style=\"text-align: center\">infinAbsol -> nominal</td><td style=\"text-align: center\">-         </td><td style =\"text-align: center\">-</td><td style=\"text-align: center\">-         </td><td style =\"text-align: center\">-</td><td style=\"text-align: center\">         4</td><td style=\"text-align: center\">0.12</td></tr><tr><td style=\"text-align: center\">participle -> nominal</td><td style=\"text-align: center\">        31</td><td style=\"text-align: center\">1.16</td><td style=\"text-align: center\">         4</td><td style=\"text-align: center\">1.81</td><td style=\"text-align: center\">       104</td><td style=\"text-align: center\">2.99</td></tr><tr><td style=\"text-align: center\">wayyiqtol -> nominal</td><td style=\"text-align: center\">       114</td><td style=\"text-align: center\">4.26</td><td style=\"text-align: center\">         1</td><td style=\"text-align: center\">0.45</td><td style=\"text-align: center\">        24</td><td style=\"text-align: center\">0.69</td></tr><tr><td style=\"text-align: center\">weyiqtol -> nominal</td><td style=\"text-align: center\">         6</td><td style=\"text-align: center\">0.22</td><td style=\"text-align: center\">         1</td><td style=\"text-align: center\">0.45</td><td style=\"text-align: center\">         4</td><td style=\"text-align: center\">0.12</td></tr><tr><td style=\"text-align: center\">nominal -> yiqtol</td><td style=\"text-align: center\">       229</td><td style=\"color: Red; text-align: center\">8.55</td><td style=\"text-align: center\">        17</td><td style=\"color: Red; text-align: center\">7.69</td><td style=\"text-align: center\">       240</td><td style=\"color: Red; text-align: center\">6.9</td></tr><tr><td style=\"text-align: center\">yiqtol -> yiqtol</td><td style=\"text-align: center\">       317</td><td style=\"color: Red; text-align: center\">11.84</td><td style=\"text-align: center\">        22</td><td style=\"color: Red; text-align: center\">9.95</td><td style=\"text-align: center\">       264</td><td style=\"color: Red; text-align: center\">7.59</td></tr><tr><td style=\"text-align: center\">qatal -> yiqtol</td><td style=\"text-align: center\">       141</td><td style=\"color: Red; text-align: center\">5.27</td><td style=\"text-align: center\">        13</td><td style=\"color: Red; text-align: center\">5.88</td><td style=\"text-align: center\">       259</td><td style=\"color: Red; text-align: center\">7.45</td></tr><tr><td style=\"text-align: center\">imperative -> yiqtol</td><td style=\"text-align: center\">        73</td><td style=\"text-align: center\">2.73</td><td style=\"text-align: center\">         5</td><td style=\"text-align: center\">2.26</td><td style=\"text-align: center\">        82</td><td style=\"text-align: center\">2.36</td></tr><tr><td style=\"text-align: center\">infinConstr -> yiqtol</td><td style=\"text-align: center\">        10</td><td style=\"text-align: center\">0.37</td><td style=\"text-align: center\">-         </td><td style =\"text-align: center\">-</td><td style=\"text-align: center\">         7</td><td style=\"text-align: center\">0.2</td></tr><tr><td style=\"text-align: center\">infinAbsol -> yiqtol</td><td style=\"text-align: center\">         7</td><td style=\"text-align: center\">0.26</td><td style=\"text-align: center\">-         </td><td style =\"text-align: center\">-</td><td style=\"text-align: center\">         1</td><td style=\"text-align: center\">0.03</td></tr><tr><td style=\"text-align: center\">participle -> yiqtol</td><td style=\"text-align: center\">        35</td><td style=\"text-align: center\">1.31</td><td style=\"text-align: center\">         1</td><td style=\"text-align: center\">0.45</td><td style=\"text-align: center\">        64</td><td style=\"text-align: center\">1.84</td></tr><tr><td style=\"text-align: center\">wayyiqtol -> yiqtol</td><td style=\"text-align: center\">        11</td><td style=\"text-align: center\">0.41</td><td style=\"text-align: center\">         3</td><td style=\"text-align: center\">1.36</td><td style=\"text-align: center\">        18</td><td style=\"text-align: center\">0.52</td></tr><tr><td style=\"text-align: center\">weyiqtol -> yiqtol</td><td style=\"text-align: center\">         9</td><td style=\"text-align: center\">0.34</td><td style=\"text-align: center\">-         </td><td style =\"text-align: center\">-</td><td style=\"text-align: center\">        11</td><td style=\"text-align: center\">0.32</td></tr><tr><td style=\"text-align: center\">nominal -> qatal</td><td style=\"text-align: center\">       156</td><td style=\"color: Red; text-align: center\">5.83</td><td style=\"text-align: center\">        21</td><td style=\"color: Red; text-align: center\">9.5</td><td style=\"text-align: center\">       234</td><td style=\"color: Red; text-align: center\">6.73</td></tr><tr><td style=\"text-align: center\">yiqtol -> qatal</td><td style=\"text-align: center\">        31</td><td style=\"text-align: center\">1.16</td><td style=\"text-align: center\">         7</td><td style=\"text-align: center\">3.17</td><td style=\"text-align: center\">       118</td><td style=\"text-align: center\">3.39</td></tr><tr><td style=\"text-align: center\">qatal -> qatal</td><td style=\"text-align: center\">       106</td><td style=\"text-align: center\">3.96</td><td style=\"text-align: center\">        23</td><td style=\"color: Red; text-align: center\">10.41</td><td style=\"text-align: center\">       335</td><td style=\"color: Red; text-align: center\">9.63</td></tr><tr><td style=\"text-align: center\">imperative -> qatal</td><td style=\"text-align: center\">        30</td><td style=\"text-align: center\">1.12</td><td style=\"text-align: center\">         4</td><td style=\"text-align: center\">1.81</td><td style=\"text-align: center\">        88</td><td style=\"text-align: center\">2.53</td></tr><tr><td style=\"text-align: center\">infinConstr -> qatal</td><td style=\"text-align: center\">         5</td><td style=\"text-align: center\">0.19</td><td style=\"text-align: center\">-         </td><td style =\"text-align: center\">-</td><td style=\"text-align: center\">         5</td><td style=\"text-align: center\">0.14</td></tr><tr><td style=\"text-align: center\">participle -> qatal</td><td style=\"text-align: center\">        13</td><td style=\"text-align: center\">0.49</td><td style=\"text-align: center\">         1</td><td style=\"text-align: center\">0.45</td><td style=\"text-align: center\">        46</td><td style=\"text-align: center\">1.32</td></tr><tr><td style=\"text-align: center\">wayyiqtol -> qatal</td><td style=\"text-align: center\">       126</td><td style=\"text-align: center\">4.71</td><td style=\"text-align: center\">         4</td><td style=\"text-align: center\">1.81</td><td style=\"text-align: center\">        38</td><td style=\"text-align: center\">1.09</td></tr><tr><td style=\"text-align: center\">weyiqtol -> qatal</td><td style=\"text-align: center\">         1</td><td style=\"text-align: center\">0.04</td><td style=\"text-align: center\">-         </td><td style =\"text-align: center\">-</td><td style=\"text-align: center\">         3</td><td style=\"text-align: center\">0.09</td></tr><tr><td style=\"text-align: center\">nominal -> imperative</td><td style=\"text-align: center\">       123</td><td style=\"text-align: center\">4.59</td><td style=\"text-align: center\">         4</td><td style=\"text-align: center\">1.81</td><td style=\"text-align: center\">        59</td><td style=\"text-align: center\">1.7</td></tr><tr><td style=\"text-align: center\">yiqtol -> imperative</td><td style=\"text-align: center\">        45</td><td style=\"text-align: center\">1.68</td><td style=\"text-align: center\">         3</td><td style=\"text-align: center\">1.36</td><td style=\"text-align: center\">        38</td><td style=\"text-align: center\">1.09</td></tr><tr><td style=\"text-align: center\">qatal -> imperative</td><td style=\"text-align: center\">        46</td><td style=\"text-align: center\">1.72</td><td style=\"text-align: center\">         1</td><td style=\"text-align: center\">0.45</td><td style=\"text-align: center\">        39</td><td style=\"text-align: center\">1.12</td></tr><tr><td style=\"text-align: center\">imperative -> imperative</td><td style=\"text-align: center\">        21</td><td style=\"text-align: center\">0.78</td><td style=\"text-align: center\">         1</td><td style=\"text-align: center\">0.45</td><td style=\"text-align: center\">        28</td><td style=\"text-align: center\">0.81</td></tr><tr><td style=\"text-align: center\">infinConstr -> imperative</td><td style=\"text-align: center\">         2</td><td style=\"text-align: center\">0.07</td><td style=\"text-align: center\">-         </td><td style =\"text-align: center\">-</td><td style=\"text-align: center\">         1</td><td style=\"text-align: center\">0.03</td></tr><tr><td style=\"text-align: center\">infinAbsol -> imperative</td><td style=\"text-align: center\">         3</td><td style=\"text-align: center\">0.11</td><td style=\"text-align: center\">-         </td><td style =\"text-align: center\">-</td><td style=\"text-align: center\">         1</td><td style=\"text-align: center\">0.03</td></tr><tr><td style=\"text-align: center\">participle -> imperative</td><td style=\"text-align: center\">        13</td><td style=\"text-align: center\">0.49</td><td style=\"text-align: center\">-         </td><td style =\"text-align: center\">-</td><td style=\"text-align: center\">         8</td><td style=\"text-align: center\">0.23</td></tr><tr><td style=\"text-align: center\">wayyiqtol -> imperative</td><td style=\"text-align: center\">         2</td><td style=\"text-align: center\">0.07</td><td style=\"text-align: center\">-         </td><td style =\"text-align: center\">-</td><td style=\"text-align: center\">         1</td><td style=\"text-align: center\">0.03</td></tr><tr><td style=\"text-align: center\">nominal -> infinAbsol</td><td style=\"text-align: center\">         2</td><td style=\"text-align: center\">0.07</td><td style=\"text-align: center\">-         </td><td style =\"text-align: center\">-</td><td style=\"text-align: center\">         4</td><td style=\"text-align: center\">0.12</td></tr><tr><td style=\"text-align: center\">yiqtol -> infinAbsol</td><td style=\"text-align: center\">         6</td><td style=\"text-align: center\">0.22</td><td style=\"text-align: center\">-         </td><td style =\"text-align: center\">-</td><td style=\"text-align: center\">         8</td><td style=\"text-align: center\">0.23</td></tr><tr><td style=\"text-align: center\">qatal -> infinAbsol</td><td style=\"text-align: center\">         2</td><td style=\"text-align: center\">0.07</td><td style=\"text-align: center\">-         </td><td style =\"text-align: center\">-</td><td style=\"text-align: center\">        11</td><td style=\"text-align: center\">0.32</td></tr><tr><td style=\"text-align: center\">imperative -> infinAbsol</td><td style=\"text-align: center\">         1</td><td style=\"text-align: center\">0.04</td><td style=\"text-align: center\">-         </td><td style =\"text-align: center\">-</td><td style=\"text-align: center\">         4</td><td style=\"text-align: center\">0.12</td></tr><tr><td style=\"text-align: center\">infinConstr -> infinAbsol</td><td style=\"text-align: center\">-         </td><td style =\"text-align: center\">-</td><td style=\"text-align: center\">-         </td><td style =\"text-align: center\">-</td><td style=\"text-align: center\">         4</td><td style=\"text-align: center\">0.12</td></tr><tr><td style=\"text-align: center\">infinAbsol -> infinAbsol</td><td style=\"text-align: center\">-         </td><td style =\"text-align: center\">-</td><td style=\"text-align: center\">-         </td><td style =\"text-align: center\">-</td><td style=\"text-align: center\">         1</td><td style=\"text-align: center\">0.03</td></tr><tr><td style=\"text-align: center\">participle -> infinAbsol</td><td style=\"text-align: center\">-         </td><td style =\"text-align: center\">-</td><td style=\"text-align: center\">-         </td><td style =\"text-align: center\">-</td><td style=\"text-align: center\">         2</td><td style=\"text-align: center\">0.06</td></tr><tr><td style=\"text-align: center\">wayyiqtol -> infinAbsol</td><td style=\"text-align: center\">         4</td><td style=\"text-align: center\">0.15</td><td style=\"text-align: center\">-         </td><td style =\"text-align: center\">-</td><td style=\"text-align: center\">         3</td><td style=\"text-align: center\">0.09</td></tr><tr><td style=\"text-align: center\">weyiqtol -> infinAbsol</td><td style=\"text-align: center\">-         </td><td style =\"text-align: center\">-</td><td style=\"text-align: center\">-         </td><td style =\"text-align: center\">-</td><td style=\"text-align: center\">         1</td><td style=\"text-align: center\">0.03</td></tr><tr><td style=\"text-align: center\">nominal -> participle</td><td style=\"text-align: center\">        84</td><td style=\"text-align: center\">3.14</td><td style=\"text-align: center\">         7</td><td style=\"text-align: center\">3.17</td><td style=\"text-align: center\">       109</td><td style=\"text-align: center\">3.13</td></tr><tr><td style=\"text-align: center\">yiqtol -> participle</td><td style=\"text-align: center\">        32</td><td style=\"text-align: center\">1.2</td><td style=\"text-align: center\">-         </td><td style =\"text-align: center\">-</td><td style=\"text-align: center\">        52</td><td style=\"text-align: center\">1.5</td></tr><tr><td style=\"text-align: center\">qatal -> participle</td><td style=\"text-align: center\">        43</td><td style=\"text-align: center\">1.61</td><td style=\"text-align: center\">         2</td><td style=\"text-align: center\">0.9</td><td style=\"text-align: center\">        79</td><td style=\"text-align: center\">2.27</td></tr><tr><td style=\"text-align: center\">imperative -> participle</td><td style=\"text-align: center\">        14</td><td style=\"text-align: center\">0.52</td><td style=\"text-align: center\">-         </td><td style =\"text-align: center\">-</td><td style=\"text-align: center\">        19</td><td style=\"text-align: center\">0.55</td></tr><tr><td style=\"text-align: center\">infinConstr -> participle</td><td style=\"text-align: center\">         8</td><td style=\"text-align: center\">0.3</td><td style=\"text-align: center\">-         </td><td style =\"text-align: center\">-</td><td style=\"text-align: center\">         6</td><td style=\"text-align: center\">0.17</td></tr><tr><td style=\"text-align: center\">infinAbsol -> participle</td><td style=\"text-align: center\">         1</td><td style=\"text-align: center\">0.04</td><td style=\"text-align: center\">-         </td><td style =\"text-align: center\">-</td><td style=\"text-align: center\">-         </td><td style =\"text-align: center\">-</td></tr><tr><td style=\"text-align: center\">participle -> participle</td><td style=\"text-align: center\">        31</td><td style=\"text-align: center\">1.16</td><td style=\"text-align: center\">-         </td><td style =\"text-align: center\">-</td><td style=\"text-align: center\">        41</td><td style=\"text-align: center\">1.18</td></tr><tr><td style=\"text-align: center\">wayyiqtol -> participle</td><td style=\"text-align: center\">        52</td><td style=\"text-align: center\">1.94</td><td style=\"text-align: center\">         2</td><td style=\"text-align: center\">0.9</td><td style=\"text-align: center\">        13</td><td style=\"text-align: center\">0.37</td></tr><tr><td style=\"text-align: center\">weyiqtol -> participle</td><td style=\"text-align: center\">         1</td><td style=\"text-align: center\">0.04</td><td style=\"text-align: center\">-         </td><td style =\"text-align: center\">-</td><td style=\"text-align: center\">         4</td><td style=\"text-align: center\">0.12</td></tr></table"
       ],
       "metadata": {},
       "output_type": "display_data",
       "text": [
        "<IPython.core.display.HTML at 0x121bf250>"
       ]
      }
     ],
     "prompt_number": 77
    },
    {
     "cell_type": "heading",
     "level": 2,
     "metadata": {},
     "source": [
      "6. Results"
     ]
    },
    {
     "cell_type": "markdown",
     "metadata": {},
     "source": [
      "From the table above some interesting insights can be deduced. Thus, we find several patterns that are more strongly attested in one genre than in another. In poetry, for instance, a sequence of two perfects (21: qatal > qatal) is the second most occurring asyndetic clause pattern, while in prose other combinations of mother and daughter clause are more prominent, especially those containing a imperfect consecutive (wayyiqtol) mother clause.<br>\n",
      "On the other hand, the differences in numbers of occurrences are not extreme, which appears to support our research hypothesis that prose and poetry make use of one single verbal system. They clearly show some mutual differences in their preferences for specific patterns within this system, but the table seems to suggest indeed that this does not entail that the two genres make use of wholly different linguistic systems (or - as many Hebraists assume implicitly - that poetry's of verbal forms isn't bound to any grammatical rules at all).\n",
      "\n",
      "Yet, these conclusions are based on a rather small and not very balanced dataset. Thus, in the version of the data used for the current task, the largest collection of Biblical Hebrew poetic texts - the Book of Psalms - had not yet been analyzed and could therefore not be incorporated in our set of data. For a more extensive and better supported analysis of clause patterns, we refer the reader to the <a href=\"../PhD/Introduction.ipynb\" target=\"_blank\">collection of notebooks accompanying our dissertation</a>. "
     ]
    },
    {
     "cell_type": "code",
     "collapsed": false,
     "input": [],
     "language": "python",
     "metadata": {},
     "outputs": []
    }
   ],
   "metadata": {}
  }
 ]
}