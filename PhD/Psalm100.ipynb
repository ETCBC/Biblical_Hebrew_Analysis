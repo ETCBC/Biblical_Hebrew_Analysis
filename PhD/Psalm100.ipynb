{
 "metadata": {
  "name": ""
 },
 "nbformat": 3,
 "nbformat_minor": 0,
 "worksheets": [
  {
   "cells": [
    {
     "cell_type": "code",
     "collapsed": false,
     "input": [
      "import Psalms"
     ],
     "language": "python",
     "metadata": {},
     "outputs": [
      {
       "html": [
        "\n",
        "<style>\n",
        "\n",
        "div#notebook {\n",
        "\tbackground-color:LightYellow;\n",
        "}\n",
        "\n",
        "div.input_area {\n",
        "\tbackground-color:LemonChiffon;\n",
        "}\n",
        "\n",
        "h1, h2, h3, h4 {\n",
        "\tcolor:Gold;\n",
        "}\n",
        "\n",
        "div.text_cell_render {\n",
        "\tcolor:DarkBlue;\n",
        "}\n",
        "\n",
        "table.presentation {\n",
        "    border-style:hidden;\n",
        "}\n",
        "\n",
        "table.presentation tr {\n",
        "    border-style:hidden;\n",
        "}\n",
        "\n",
        "table.presentation th {\n",
        "    padding:0px 15px 0px 0px;\n",
        "    border-style:hidden;\n",
        "    text-align:center;\n",
        "}\n",
        "\n",
        "table.presentation td {\n",
        "    padding:0px 5px 0px 0px;\n",
        "    border-style:hidden;\n",
        "}\n",
        "\n",
        "table.presentation td.unicode {\n",
        "    text-align:right;\n",
        "    font-family:SBL Hebrew;\n",
        "}\n",
        "\n",
        "table.categories {\n",
        "    margin-left: auto;\n",
        "    margin-right: auto;\n",
        "}\n",
        "\n",
        "table.categories, table.categories tr, table.categories th, table.categories td {\n",
        "    border-style:hidden;\n",
        "    color: Maroon;\n",
        "}\n",
        "\n",
        "div.navigation {\n",
        "    margin:auto;\n",
        "    width:50%;\n",
        "    font-size:small;\n",
        "    font-style:italic;\n",
        "}\n",
        "\n",
        "div.navigation form, div.navigation form input {\n",
        "    display: inline;\n",
        "}\n",
        "\n",
        "form input {\n",
        "    max-width: 30px;\n",
        "}\n",
        "\n",
        "div.button form input {\n",
        "\tmax-width:100%;\n",
        "}\n",
        "\n",
        "div.button {\n",
        "\tmax-width:15%;\n",
        "\tmargin:auto;\n",
        "}\n",
        "\n",
        "div.output {\n",
        "    font-size: small;\n",
        "    z-index:0;\n",
        "}\n",
        "\n",
        "div.front, div.front_a, div.front_b {\n",
        "    color: Crimson;\n",
        "}\n",
        "\n",
        "div.front, div.front_a {\n",
        "\ttext-align: center;\n",
        "}\n",
        "\n",
        "div.front_b div, div.front_a div {\n",
        "    display: none;\n",
        "} \n",
        "\n",
        "div.front div, div.front_hebrew div {\n",
        "    display: none;\n",
        "    position: relative;\n",
        "}\n",
        "\n",
        "div.front:hover div, div.front_a:hover div, div.front_b:hover div {\n",
        "    display: block;\n",
        "    max-width: 200px;\n",
        "}\n",
        "    \n",
        "div.front_hebrew:hover div {\n",
        "    display: block;\n",
        "}\n",
        "\n",
        "div.def_disc, div.factors {\n",
        "    font-size: x-small;\n",
        "    background-color:White;\n",
        "    z-index:1;\n",
        "    position:absolute;\n",
        "    font-family:SBL Hebrew;\n",
        "    line-height: 95%;\n",
        "}\n",
        "\n",
        "div.translation {\n",
        "    z-index:1;\n",
        "    position:absolute;\n",
        "    right:10%;\n",
        "    line-height: 90%;\n",
        "    font-size: x-small;\n",
        "}\n",
        "\n",
        "div.left {\n",
        "    border-left-style:dotted;\n",
        "    border-left-width:thin;\n",
        "}\n",
        "\n",
        "div.right {\n",
        "    border-right-style:dotted;\n",
        "    border-right-width:thin;\n",
        "}\n",
        "\n",
        "div.delimit {\n",
        "\tborder-top-width: thin;\n",
        "\tborder-top-style: dotted;\n",
        "}\n",
        "\n",
        "span.translation_verb{\n",
        "    color: Crimson;\n",
        "}\n",
        "\n",
        "span.verb {\n",
        "    color: Crimson;\n",
        "}\n",
        "\n",
        "div.small {\n",
        "    font-size: xx-small;\t\n",
        "\tline-height: 95%;\n",
        "}\n",
        "\n",
        "div.counter {\n",
        "\tfont-size: small;\n",
        "\tfont-style: italic;\n",
        "}\n",
        "\n",
        "span.count {\n",
        "    text-align: left;\n",
        "}\n",
        "\n",
        "</style>\n"
       ],
       "metadata": {},
       "output_type": "display_data",
       "text": [
        "<IPython.core.display.HTML at 0x33043f0>"
       ]
      }
     ],
     "prompt_number": 1
    },
    {
     "cell_type": "markdown",
     "metadata": {},
     "source": [
      "<div class=\"navigation\">\n",
      "Navigate to the <a href=\"Index.ipynb\">Index</a> or enter a Psalm of your choice: <form name=\"myform\"><input type=\"text\" name=\"psalm\"> <a href=\"javascript: read_input()\">Go to Psalm...</a></form>\n",
      "</div>\n",
      "<script type=\"text/javascript\">\n",
      "function read_input(){\n",
      "    psalm_number = document.myform.psalm.value\n",
      "    if (psalm_number < 1 || psalm_number > 150){\n",
      "        alert(\"You have provided an invalid Psalm number. Please choose one of the 150 available Psalms.\");\n",
      "    } else {    \n",
      "        var psalm = \"\";\n",
      "        if (psalm_number < 10){\n",
      "            psalm = \"Psalm00\" + psalm_number + \".ipynb\";\n",
      "        } else if (psalm_number < 100){\n",
      "            psalm = \"Psalm0\" + psalm_number + \".ipynb\";\n",
      "        } else {\n",
      "            psalm = \"Psalm\" + psalm_number + \".ipynb\";\n",
      "        }\n",
      "        window.open(psalm);\n",
      "    }\n",
      "}\n",
      "</script>"
     ]
    },
    {
     "cell_type": "heading",
     "level": 1,
     "metadata": {},
     "source": [
      "PSALM 100"
     ]
    },
    {
     "cell_type": "heading",
     "level": 2,
     "metadata": {},
     "source": [
      "1. Translation of Psalm 100"
     ]
    },
    {
     "cell_type": "code",
     "collapsed": false,
     "input": [
      "Psalms.print_translation(\"Input/psalmen100Raw.txt\")"
     ],
     "language": "python",
     "metadata": {},
     "outputs": [
      {
       "html": [
        "<table class=\"presentation\" id=\"Translation\"><tr><th></th><th><a href=\"HebrewText.ipynb\" target=\"_blank\">Hebrew text</a></th><th><a href=\"ClauseLabels.ipynb\" target=\"_blank\">ClTp</a></th><th><a href=\"Translation.ipynb\" target=\"_blank\">Translation</a></th></tr><tr><td>001</td><td class=\"unicode\" nowrap>&nbsp;&nbsp;&nbsp;&nbsp;&nbsp;&nbsp;&nbsp;&nbsp;&nbsp;&nbsp;&nbsp;&nbsp;&nbsp;&nbsp;&nbsp;&nbsp;&nbsp;&nbsp;&nbsp;&nbsp;&nbsp;&nbsp;&nbsp;&nbsp;&nbsp;&nbsp;&nbsp;&nbsp;&nbsp;&nbsp;&nbsp;&nbsp;&nbsp;&nbsp;&nbsp;&nbsp;&nbsp;&nbsp;&nbsp;&nbsp;&nbsp;[&lt;sp&gt;&lt;PC&gt;&nbsp;\u05de\u05d6\u05de\u05d5\u05e8&nbsp;/&nbsp;\u05dc-\u05ea\u05d5\u05d3\u05d4]&nbsp;&nbsp;&nbsp;</td><td style=\"font-family:Courier\">NmCl</td><td nowrap>&nbsp;this <span class=\"translation_verb\">is</span> a psalm </td></tr><tr><td></td><td class=\"unicode\" nowrap>&nbsp;&nbsp;&nbsp;&nbsp;&nbsp;&nbsp;&nbsp;&nbsp;&nbsp;&nbsp;&nbsp;&nbsp;&nbsp;&nbsp;&nbsp;&nbsp;&nbsp;&nbsp;&nbsp;&nbsp;&nbsp;&nbsp;&nbsp;&nbsp;&nbsp;&nbsp;&nbsp;&nbsp;&nbsp;&nbsp;&nbsp;&nbsp;&nbsp;&nbsp;&nbsp;&nbsp;&nbsp;&nbsp;&nbsp;&nbsp;[&lt;Co&gt;&nbsp;\u05dc-\u05d9\u05d4\u05d5\u05d4]&nbsp;<span class=\"verb\">&nbsp;[&lt;Pr&gt;&nbsp;\u05d4\u05e8\u05d9\u05e2\u05d5]</span>&nbsp;&nbsp;&nbsp;</td><td style=\"font-family:Courier\">ZIm0</td><td nowrap>&nbsp;<span class=\"translation_verb\">shout</span>! </td></tr><tr><td></td><td class=\"unicode\" nowrap>&nbsp;&nbsp;&nbsp;&nbsp;&nbsp;&nbsp;&nbsp;&nbsp;&nbsp;&nbsp;&nbsp;&nbsp;&nbsp;&nbsp;&nbsp;&nbsp;&nbsp;&nbsp;&nbsp;&nbsp;&nbsp;&nbsp;&nbsp;&nbsp;&nbsp;&nbsp;&nbsp;&nbsp;&nbsp;&nbsp;&nbsp;&nbsp;&nbsp;&nbsp;&nbsp;&nbsp;&nbsp;&nbsp;&nbsp;&nbsp;&nbsp;&nbsp;&nbsp;&nbsp;&nbsp;&nbsp;&nbsp;[&lt;Vo&gt;&nbsp;\u05db\u05dc&nbsp;\u05d4-\u05d0\u05e8\u05e5]&nbsp;&nbsp;&nbsp;&nbsp;|&nbsp;&nbsp;</td><td style=\"font-family:Courier\">Voct</td><td nowrap>&nbsp;&nbsp;|&nbsp;&nbsp;o all of earth </td></tr><tr><td>002</td><td class=\"unicode\" nowrap>&nbsp;&nbsp;&nbsp;&nbsp;&nbsp;&nbsp;&nbsp;&nbsp;&nbsp;&nbsp;&nbsp;&nbsp;&nbsp;&nbsp;&nbsp;&nbsp;&nbsp;&nbsp;&nbsp;&nbsp;&nbsp;&nbsp;&nbsp;&nbsp;&nbsp;&nbsp;[&lt;Co&gt;&nbsp;\u05d1-\u05e9\u05c2\u05de\u05d7\u05d4]&nbsp;&nbsp;[&lt;Ob&gt;&nbsp;\u05d0\u05ea&nbsp;\u05d9\u05d4\u05d5\u05d4]&nbsp;<span class=\"verb\">&nbsp;[&lt;Pr&gt;&nbsp;\u05e2\u05d1\u05d3\u05d5]</span>&nbsp;&nbsp;&nbsp;</td><td style=\"font-family:Courier\">ZIm0</td><td nowrap>&nbsp;<span class=\"translation_verb\">work/serve</span> YHWH! </td></tr><tr><td></td><td class=\"unicode\" nowrap>&nbsp;&nbsp;&nbsp;&nbsp;&nbsp;&nbsp;&nbsp;&nbsp;&nbsp;&nbsp;&nbsp;&nbsp;&nbsp;&nbsp;&nbsp;&nbsp;&nbsp;&nbsp;&nbsp;&nbsp;&nbsp;&nbsp;&nbsp;&nbsp;&nbsp;&nbsp;&nbsp;&nbsp;[&lt;Aj&gt;&nbsp;\u05d1-\u05e8\u05e0\u05e0\u05d4]&nbsp;&nbsp;[&lt;Co&gt;&nbsp;\u05dc-\u05e4\u05e0\u05d9\u05d5]&nbsp;<span class=\"verb\">&nbsp;[&lt;Pr&gt;&nbsp;\u05d1\u05d0\u05d5]</span>&nbsp;&nbsp;&nbsp;</td><td style=\"font-family:Courier\">ZIm0</td><td nowrap>&nbsp;<span class=\"translation_verb\">come</span> <span class=\"translation_verb\">(to)</span>! </td></tr><tr><td>003</td><td class=\"unicode\" nowrap><span class=\"verb\">&nbsp;&nbsp;&nbsp;&nbsp;&nbsp;&nbsp;&nbsp;&nbsp;&nbsp;&nbsp;&nbsp;&nbsp;&nbsp;&nbsp;&nbsp;&nbsp;&nbsp;&nbsp;&nbsp;&nbsp;&nbsp;&nbsp;&nbsp;&nbsp;&nbsp;&nbsp;&nbsp;&nbsp;&nbsp;&nbsp;&nbsp;&nbsp;&nbsp;&nbsp;&nbsp;&nbsp;&nbsp;&nbsp;&nbsp;&nbsp;&nbsp;&nbsp;&nbsp;&nbsp;&nbsp;&nbsp;&nbsp;&nbsp;&nbsp;&nbsp;&nbsp;&nbsp;&nbsp;&nbsp;&nbsp;&nbsp;[&lt;Pr&gt;&nbsp;\u05d3\u05e2\u05d5]</span>&nbsp;&nbsp;&nbsp;</td><td style=\"font-family:Courier\">ZIm0</td><td nowrap>&nbsp;<span class=\"translation_verb\">know</span>! </td></tr><tr><td></td><td class=\"unicode\" nowrap>&nbsp;&nbsp;&nbsp;&nbsp;&nbsp;&nbsp;&nbsp;&nbsp;&nbsp;&nbsp;&nbsp;&nbsp;&nbsp;&nbsp;&nbsp;&nbsp;&nbsp;&nbsp;&nbsp;&nbsp;&nbsp;&nbsp;&nbsp;&nbsp;&nbsp;&nbsp;&nbsp;&nbsp;&nbsp;&nbsp;&nbsp;&nbsp;&nbsp;&nbsp;&nbsp;&nbsp;&nbsp;&nbsp;&nbsp;&nbsp;&nbsp;[&lt;Fr&gt;&nbsp;\u05d9\u05d4\u05d5\u05d4]&nbsp;&nbsp;[&lt;Cj&gt;&nbsp;\u05db\u05d9]&nbsp;&nbsp;&nbsp;&nbsp;|&nbsp;&nbsp;</td><td style=\"font-family:Courier\">CPen</td><td nowrap>&nbsp;&nbsp;|&nbsp;&nbsp;that concerning YHWH </td></tr><tr><td></td><td class=\"unicode\" nowrap>&nbsp;&nbsp;&nbsp;&nbsp;&nbsp;&nbsp;&nbsp;&nbsp;&nbsp;&nbsp;&nbsp;&nbsp;&nbsp;&nbsp;&nbsp;&nbsp;&nbsp;&nbsp;&nbsp;&nbsp;&nbsp;&nbsp;&nbsp;&nbsp;&nbsp;&nbsp;&nbsp;&nbsp;&nbsp;&nbsp;&nbsp;[&lt;PC&gt;&nbsp;\u05d0\u05dc\u05d4\u05d9\u05dd]&nbsp;&nbsp;[&lt;Su&gt;&nbsp;\u05d4\u05d5\u05d0]&nbsp;&nbsp;&nbsp;&nbsp;|&nbsp;&nbsp;&nbsp;&nbsp;&nbsp;&nbsp;&nbsp;|&nbsp;&nbsp;</td><td style=\"font-family:Courier\">NmCl</td><td nowrap>&nbsp;&nbsp;|&nbsp;&nbsp;&nbsp;&nbsp;&nbsp;&nbsp;&nbsp;|&nbsp;&nbsp;he <span class=\"translation_verb\">is</span> God </td></tr><tr><td></td><td class=\"unicode\" nowrap><span class=\"verb\">&nbsp;&nbsp;&nbsp;&nbsp;&nbsp;&nbsp;&nbsp;&nbsp;&nbsp;&nbsp;&nbsp;&nbsp;&nbsp;&nbsp;&nbsp;&nbsp;&nbsp;&nbsp;&nbsp;&nbsp;&nbsp;&nbsp;&nbsp;&nbsp;&nbsp;&nbsp;&nbsp;&nbsp;&nbsp;&nbsp;&nbsp;&nbsp;&nbsp;&nbsp;&nbsp;&nbsp;[&lt;PO&gt;&nbsp;\u05e2\u05e9\u05c2\u05e0\u05d5]</span>&nbsp;&nbsp;[&lt;Su&gt;&nbsp;\u05d4\u05d5\u05d0]&nbsp;&nbsp;&nbsp;&nbsp;&nbsp;&nbsp;&nbsp;&nbsp;|&nbsp;&nbsp;</td><td style=\"font-family:Courier\">XQtl</td><td nowrap>&nbsp;&nbsp;|&nbsp;&nbsp;&nbsp;&nbsp;&nbsp;&nbsp;(that) he <span class=\"translation_verb\">has</span> <span class=\"translation_verb\">made/done</span> us </td></tr><tr><td></td><td class=\"unicode\" nowrap>[&lt;ap&gt;&lt;Su&gt;&nbsp;\u05d0\u05e0\u05d7\u05e0\u05d5&nbsp;/&nbsp;\u05e2\u05de\u05d5&nbsp;\u05d5-\u05e6\u05d0\u05df&nbsp;\u05de\u05e8\u05e2\u05d9\u05ea\u05d5]&nbsp;&nbsp;[&lt;PC&gt;&nbsp;\u05dc\u05d0]&nbsp;&nbsp;[&lt;Cj&gt;&nbsp;-\u05d5]&nbsp;&nbsp;&nbsp;&nbsp;&nbsp;&nbsp;&nbsp;&nbsp;&nbsp;&nbsp;&nbsp;&nbsp;|&nbsp;&nbsp;</td><td style=\"font-family:Courier\">NmCl</td><td nowrap>&nbsp;&nbsp;|&nbsp;&nbsp;&nbsp;&nbsp;&nbsp;&nbsp;&nbsp;&nbsp;&nbsp;&nbsp;and (that) we <span class=\"translation_verb\">are</span> to him </td></tr><tr><td>004</td><td class=\"unicode\" nowrap>&nbsp;&nbsp;&nbsp;&nbsp;&nbsp;&nbsp;&nbsp;&nbsp;&nbsp;&nbsp;&nbsp;&nbsp;&nbsp;&nbsp;&nbsp;&nbsp;&nbsp;&nbsp;&nbsp;&nbsp;&nbsp;&nbsp;&nbsp;&nbsp;&nbsp;&nbsp;&nbsp;&nbsp;&nbsp;[&lt;Aj&gt;&nbsp;\u05d1-\u05ea\u05d5\u05d3\u05d4]&nbsp;&nbsp;[&lt;Co&gt;&nbsp;\u05e9\u05c1\u05e2\u05e8\u05d9\u05d5]&nbsp;<span class=\"verb\">&nbsp;[&lt;Pr&gt;&nbsp;\u05d1\u05d0\u05d5]</span>&nbsp;&nbsp;&nbsp;</td><td style=\"font-family:Courier\">ZIm0</td><td nowrap>&nbsp;<span class=\"translation_verb\">come</span> <span class=\"translation_verb\">(to)</span>! </td></tr><tr><td></td><td class=\"unicode\" nowrap>&nbsp;&nbsp;&nbsp;&nbsp;&nbsp;&nbsp;&nbsp;&nbsp;&nbsp;&nbsp;&nbsp;&nbsp;&nbsp;&nbsp;&nbsp;&nbsp;&nbsp;&nbsp;&nbsp;&nbsp;&nbsp;&nbsp;&nbsp;&nbsp;&nbsp;&nbsp;&nbsp;&nbsp;&nbsp;&nbsp;&nbsp;&nbsp;&nbsp;&nbsp;&nbsp;[&lt;Aj&gt;&nbsp;\u05d1-\u05ea\u05d4\u05dc\u05d4]&nbsp;&nbsp;[&lt;Co&gt;&nbsp;\u05d7\u05e6\u05e8\u05ea\u05d9\u05d5]&nbsp;&nbsp;&nbsp;&nbsp;|&nbsp;&nbsp;</td><td style=\"font-family:Courier\">Ellp</td><td nowrap>&nbsp;&nbsp;|&nbsp;&nbsp;---</td></tr><tr><td></td><td class=\"unicode\" nowrap>&nbsp;&nbsp;&nbsp;&nbsp;&nbsp;&nbsp;&nbsp;&nbsp;&nbsp;&nbsp;&nbsp;&nbsp;&nbsp;&nbsp;&nbsp;&nbsp;&nbsp;&nbsp;&nbsp;&nbsp;&nbsp;&nbsp;&nbsp;&nbsp;&nbsp;&nbsp;&nbsp;&nbsp;&nbsp;&nbsp;&nbsp;&nbsp;&nbsp;&nbsp;&nbsp;&nbsp;&nbsp;&nbsp;&nbsp;&nbsp;&nbsp;&nbsp;&nbsp;&nbsp;&nbsp;[&lt;Co&gt;&nbsp;\u05dc\u05d5]&nbsp;<span class=\"verb\">&nbsp;[&lt;Pr&gt;&nbsp;\u05d4\u05d5\u05d3\u05d5]</span>&nbsp;&nbsp;&nbsp;</td><td style=\"font-family:Courier\">ZIm0</td><td nowrap>&nbsp;<span class=\"translation_verb\">praise</span>! </td></tr><tr><td></td><td class=\"unicode\" nowrap>&nbsp;&nbsp;&nbsp;&nbsp;&nbsp;&nbsp;&nbsp;&nbsp;&nbsp;&nbsp;&nbsp;&nbsp;&nbsp;&nbsp;&nbsp;&nbsp;&nbsp;&nbsp;&nbsp;&nbsp;&nbsp;&nbsp;&nbsp;&nbsp;&nbsp;&nbsp;&nbsp;&nbsp;&nbsp;&nbsp;&nbsp;&nbsp;&nbsp;&nbsp;&nbsp;&nbsp;&nbsp;&nbsp;&nbsp;&nbsp;&nbsp;&nbsp;&nbsp;&nbsp;[&lt;Ob&gt;&nbsp;\u05e9\u05c1\u05de\u05d5]&nbsp;<span class=\"verb\">&nbsp;[&lt;Pr&gt;&nbsp;\u05d1\u05e8\u05db\u05d5]</span>&nbsp;&nbsp;&nbsp;</td><td style=\"font-family:Courier\">ZIm0</td><td nowrap>&nbsp;<span class=\"translation_verb\">bless</span> his name! </td></tr><tr><td>005</td><td class=\"unicode\" nowrap>&nbsp;&nbsp;&nbsp;&nbsp;&nbsp;&nbsp;&nbsp;&nbsp;&nbsp;&nbsp;&nbsp;&nbsp;&nbsp;&nbsp;&nbsp;&nbsp;&nbsp;&nbsp;&nbsp;&nbsp;&nbsp;&nbsp;&nbsp;&nbsp;&nbsp;&nbsp;&nbsp;&nbsp;&nbsp;&nbsp;[&lt;Su&gt;&nbsp;\u05d9\u05d4\u05d5\u05d4]&nbsp;&nbsp;[&lt;PC&gt;&nbsp;\u05d8\u05d5\u05d1]&nbsp;&nbsp;[&lt;Cj&gt;&nbsp;\u05db\u05d9]&nbsp;&nbsp;&nbsp;&nbsp;&nbsp;&nbsp;&nbsp;</td><td style=\"font-family:Courier\">AjCl</td><td nowrap>&nbsp;&nbsp;&nbsp;&nbsp;&nbsp;given that YHWH <span class=\"translation_verb\">is</span> good </td></tr><tr><td></td><td class=\"unicode\" nowrap>&nbsp;&nbsp;&nbsp;&nbsp;&nbsp;&nbsp;&nbsp;&nbsp;&nbsp;&nbsp;&nbsp;&nbsp;&nbsp;&nbsp;&nbsp;&nbsp;&nbsp;&nbsp;&nbsp;&nbsp;&nbsp;&nbsp;&nbsp;&nbsp;&nbsp;&nbsp;&nbsp;&nbsp;&nbsp;&nbsp;&nbsp;&nbsp;&nbsp;[&lt;Su&gt;&nbsp;\u05d7\u05e1\u05d3\u05d5]&nbsp;&nbsp;[&lt;PC&gt;&nbsp;\u05dc-\u05e2\u05d5\u05dc\u05dd]&nbsp;&nbsp;&nbsp;&nbsp;&nbsp;&nbsp;&nbsp;&nbsp;&nbsp;&nbsp;&nbsp;</td><td style=\"font-family:Courier\">NmCl</td><td nowrap>&nbsp;&nbsp;&nbsp;&nbsp;&nbsp;&nbsp;&nbsp;&nbsp;&nbsp;(given that) his loyalty <span class=\"translation_verb\">is</span> to eternity </td></tr><tr><td></td><td class=\"unicode\" nowrap>&nbsp;&nbsp;&nbsp;&nbsp;&nbsp;&nbsp;&nbsp;&nbsp;&nbsp;&nbsp;&nbsp;&nbsp;&nbsp;&nbsp;[&lt;Su&gt;&nbsp;\u05d0\u05de\u05d5\u05e0\u05ea\u05d5]&nbsp;&nbsp;[&lt;PC&gt;&nbsp;\u05e2\u05d3&nbsp;\u05d3\u05e8&nbsp;\u05d5-\u05d3\u05e8]&nbsp;&nbsp;[&lt;Cj&gt;&nbsp;-\u05d5]&nbsp;&nbsp;&nbsp;&nbsp;&nbsp;&nbsp;&nbsp;&nbsp;&nbsp;&nbsp;&nbsp;&nbsp;&nbsp;&nbsp;&nbsp;</td><td style=\"font-family:Courier\">NmCl</td><td nowrap>&nbsp;&nbsp;&nbsp;&nbsp;&nbsp;&nbsp;&nbsp;&nbsp;&nbsp;&nbsp;&nbsp;&nbsp;&nbsp;and (given that) his steadiness <span class=\"translation_verb\">is</span> unto a generation and.. </td></tr></table>"
       ],
       "metadata": {},
       "output_type": "display_data",
       "text": [
        "<IPython.core.display.HTML at 0x3bceed0>"
       ]
      }
     ],
     "prompt_number": 2
    },
    {
     "cell_type": "heading",
     "level": 2,
     "metadata": {},
     "source": [
      "2. Analysis of Psalm 100"
     ]
    },
    {
     "cell_type": "code",
     "collapsed": false,
     "input": [
      "Psalms.print_analysis(\"Input/psalmen100Raw.txt\")"
     ],
     "language": "python",
     "metadata": {},
     "outputs": [
      {
       "html": [
        "<table class=\"presentation\" id=\"Analysis\"><tr><th>Vs</th><th>Ln</th><th nowrap><a href=\"HebrewText.ipynb\" target=\"_blank\">Hebrew text</a><br><div class=\"small\">(mouse-over for <a href=\"Translation.ipynb\" target=\"_blank\">Translation)</a></div></th><th nowrap><a href=\"ClauseLabels.ipynb\" target=\"_blank\">ClTp</a><br><div class=\"small\">(mouse-over<br>for<br><a href=\"DefaultDiscourseFunctions.ipynb\" target=\"_blank\">DefDiscFu)</a></div></th><th><a href=\"DefaultFunctions.ipynb\" target=\"_blank\">DefFu</a></th><th><a href=\"Processes.ipynb\" target=\"_blank\">Processes</a><br><div class=\"small\">(hover over<br>\"!\"-sign)</div></th><th><a href=\"FinalFunctions.ipynb\" target=\"_blank\">FinFu</a></th><th><a href=\"MDModifier.ipynb\" target=\"_blank\">MDMod</a></th><th><a href=\"CCR.ipynb\" target=\"_blank\">CCR</a></th><th><a href=\"DiscourseFunctions.ipynb\" target=\"_blank\">DiscFu</a></th><th><a href=\"ConcordanceOfPatterns.ipynb\" target=\"_blank\">#Pat</a></th></tr><tr id=\"ln1\"><td>001</td><td>1</td><td class=\"unicode\" nowrap><div class=\"front_hebrew\">&nbsp;&nbsp;&nbsp;&nbsp;&nbsp;&nbsp;&nbsp;&nbsp;&nbsp;&nbsp;&nbsp;&nbsp;&nbsp;&nbsp;&nbsp;&nbsp;&nbsp;&nbsp;&nbsp;&nbsp;&nbsp;&nbsp;&nbsp;&nbsp;&nbsp;&nbsp;&nbsp;&nbsp;&nbsp;&nbsp;&nbsp;&nbsp;&nbsp;&nbsp;&nbsp;&nbsp;&nbsp;&nbsp;&nbsp;&nbsp;&nbsp;[&lt;sp&gt;&lt;PC&gt;&nbsp;\u05de\u05d6\u05de\u05d5\u05e8&nbsp;/&nbsp;\u05dc-\u05ea\u05d5\u05d3\u05d4]&nbsp;&nbsp;<div class=\"translation\">this <span class=\"translation_verb\">is</span> a psalm </div></div></td><td><div class=\"front\">NmCl<div class=\"def_disc\">disc-main</div></div></td><td><div class=\"left\">nomin.</div></td><td>  </td><td><div class=\"right\">nomin.</div></td><td class=\"unicode\"></td><td></td><td>(re)openMain</td><td><a href=\"ConcordanceOfPatterns.ipynb#0\" target=\"_blank\">0</a></td></tr><tr id=\"ln2\"><td>001</td><td>2</td><td class=\"unicode\" nowrap><div class=\"front_hebrew\">&nbsp;&nbsp;&nbsp;&nbsp;&nbsp;&nbsp;&nbsp;&nbsp;&nbsp;&nbsp;&nbsp;&nbsp;&nbsp;&nbsp;&nbsp;&nbsp;&nbsp;&nbsp;&nbsp;&nbsp;&nbsp;&nbsp;&nbsp;&nbsp;&nbsp;&nbsp;&nbsp;&nbsp;&nbsp;&nbsp;&nbsp;&nbsp;&nbsp;&nbsp;&nbsp;&nbsp;&nbsp;&nbsp;&nbsp;&nbsp;[&lt;Co&gt;&nbsp;\u05dc-\u05d9\u05d4\u05d5\u05d4]&nbsp;[&lt;Pr&gt;&nbsp;\u05d4\u05e8\u05d9\u05e2\u05d5]&nbsp;&nbsp;<div class=\"translation\"><span class=\"translation_verb\">shout</span>! </div></div></td><td><div class=\"front\">ZIm0<div class=\"def_disc\">disc-main-zero</div></div></td><td><div class=\"left\">imperat.</div></td><td>  </td><td><div class=\"right\">imperat.</div></td><td class=\"unicode\"></td><td></td><td>opnDrSpMain</td><td><a href=\"ConcordanceOfPatterns.ipynb#0\" target=\"_blank\">0</a></td></tr><tr id=\"ln3\"><td>001</td><td>3</td><td class=\"unicode\" nowrap><div class=\"front_hebrew\">&nbsp;&nbsp;&nbsp;&nbsp;&nbsp;&nbsp;&nbsp;&nbsp;&nbsp;&nbsp;&nbsp;&nbsp;&nbsp;&nbsp;&nbsp;&nbsp;&nbsp;&nbsp;&nbsp;&nbsp;&nbsp;&nbsp;&nbsp;&nbsp;&nbsp;&nbsp;&nbsp;&nbsp;&nbsp;&nbsp;&nbsp;&nbsp;&nbsp;&nbsp;&nbsp;&nbsp;&nbsp;&nbsp;&nbsp;&nbsp;&nbsp;&nbsp;&nbsp;&nbsp;&nbsp;&nbsp;&nbsp;[&lt;Vo&gt;&nbsp;\u05db\u05dc&nbsp;\u05d4-\u05d0\u05e8\u05e5]&nbsp;&nbsp;&nbsp;|&nbsp;&nbsp;<div class=\"translation\">o all of earth </div></div></td><td><div class=\"front\">Voct<div class=\"def_disc\"></div></div></td><td><div class=\"left\">-</div></td><td>  </td><td><div class=\"right\">-</div></td><td class=\"unicode\"></td><td></td><td></td><td><a href=\"ConcordanceOfPatterns.ipynb#0\" target=\"_blank\">0</a></td></tr><tr id=\"ln4\"><td>002</td><td>4</td><td class=\"unicode\" nowrap><div class=\"front_hebrew\">&nbsp;&nbsp;&nbsp;&nbsp;&nbsp;&nbsp;&nbsp;&nbsp;&nbsp;&nbsp;&nbsp;&nbsp;&nbsp;&nbsp;&nbsp;&nbsp;&nbsp;&nbsp;&nbsp;&nbsp;&nbsp;&nbsp;&nbsp;&nbsp;&nbsp;&nbsp;[&lt;Co&gt;&nbsp;\u05d1-\u05e9\u05c2\u05de\u05d7\u05d4]&nbsp;[&lt;Ob&gt;&nbsp;\u05d0\u05ea&nbsp;\u05d9\u05d4\u05d5\u05d4]&nbsp;[&lt;Pr&gt;&nbsp;\u05e2\u05d1\u05d3\u05d5]&nbsp;&nbsp;<div class=\"translation\"><span class=\"translation_verb\">work/serve</span> YHWH! </div></div></td><td><div class=\"front\">ZIm0<div class=\"def_disc\">disc-main-zero</div></div></td><td><div class=\"left\">imperat.</div></td><td>  </td><td><div class=\"right\">imperat.</div></td><td class=\"unicode\"></td><td></td><td>cntMain</td><td><a href=\"ConcordanceOfPatterns.ipynb#11\" target=\"_blank\">11</a></td></tr><tr id=\"ln5\"><td>002</td><td>5</td><td class=\"unicode\" nowrap><div class=\"front_hebrew\">&nbsp;&nbsp;&nbsp;&nbsp;&nbsp;&nbsp;&nbsp;&nbsp;&nbsp;&nbsp;&nbsp;&nbsp;&nbsp;&nbsp;&nbsp;&nbsp;&nbsp;&nbsp;&nbsp;&nbsp;&nbsp;&nbsp;&nbsp;&nbsp;&nbsp;&nbsp;&nbsp;&nbsp;[&lt;Aj&gt;&nbsp;\u05d1-\u05e8\u05e0\u05e0\u05d4]&nbsp;[&lt;Co&gt;&nbsp;\u05dc-\u05e4\u05e0\u05d9\u05d5]&nbsp;[&lt;Pr&gt;&nbsp;\u05d1\u05d0\u05d5]&nbsp;&nbsp;<div class=\"translation\"><span class=\"translation_verb\">come</span> <span class=\"translation_verb\">(to)</span>! </div></div></td><td><div class=\"front\">ZIm0<div class=\"def_disc\">disc-main-zero</div></div></td><td><div class=\"left\">imperat.</div></td><td>  </td><td><div class=\"right\">imperat.</div></td><td class=\"unicode\"></td><td></td><td>cntMain</td><td><a href=\"ConcordanceOfPatterns.ipynb#11\" target=\"_blank\">11</a></td></tr><tr id=\"ln6\"><td>003</td><td>6</td><td class=\"unicode\" nowrap><div class=\"front_hebrew\">&nbsp;&nbsp;&nbsp;&nbsp;&nbsp;&nbsp;&nbsp;&nbsp;&nbsp;&nbsp;&nbsp;&nbsp;&nbsp;&nbsp;&nbsp;&nbsp;&nbsp;&nbsp;&nbsp;&nbsp;&nbsp;&nbsp;&nbsp;&nbsp;&nbsp;&nbsp;&nbsp;&nbsp;&nbsp;&nbsp;&nbsp;&nbsp;&nbsp;&nbsp;&nbsp;&nbsp;&nbsp;&nbsp;&nbsp;&nbsp;&nbsp;&nbsp;&nbsp;&nbsp;&nbsp;&nbsp;&nbsp;&nbsp;&nbsp;&nbsp;&nbsp;&nbsp;&nbsp;&nbsp;&nbsp;&nbsp;[&lt;Pr&gt;&nbsp;\u05d3\u05e2\u05d5]&nbsp;&nbsp;<div class=\"translation\"><span class=\"translation_verb\">know</span>! </div></div></td><td><div class=\"front\">ZIm0<div class=\"def_disc\">disc-main-zero</div></div></td><td><div class=\"left\">imperat.</div></td><td>  </td><td><div class=\"right\">imperat.</div></td><td class=\"unicode\"></td><td></td><td>cntMain</td><td><a href=\"ConcordanceOfPatterns.ipynb#11\" target=\"_blank\">11</a></td></tr><tr id=\"ln7\"><td>003</td><td>7</td><td class=\"unicode\" nowrap><div class=\"front_hebrew\">&nbsp;&nbsp;&nbsp;&nbsp;&nbsp;&nbsp;&nbsp;&nbsp;&nbsp;&nbsp;&nbsp;&nbsp;&nbsp;&nbsp;&nbsp;&nbsp;&nbsp;&nbsp;&nbsp;&nbsp;&nbsp;&nbsp;&nbsp;&nbsp;&nbsp;&nbsp;&nbsp;&nbsp;&nbsp;&nbsp;&nbsp;&nbsp;&nbsp;&nbsp;&nbsp;&nbsp;&nbsp;&nbsp;&nbsp;&nbsp;&nbsp;[&lt;Fr&gt;&nbsp;\u05d9\u05d4\u05d5\u05d4]&nbsp;[&lt;Cj&gt;&nbsp;\u05db\u05d9]&nbsp;&nbsp;&nbsp;|&nbsp;&nbsp;<div class=\"translation\">that concerning YHWH </div></div></td><td><div class=\"front\">CPen<div class=\"def_disc\"></div></div></td><td><div class=\"left\">-</div></td><td>  </td><td><div class=\"right\">-</div></td><td class=\"unicode\"></td><td>ObCl</td><td>opnDpLnMain</td><td><a href=\"ConcordanceOfPatterns.ipynb#0\" target=\"_blank\">0</a></td></tr><tr id=\"ln8\"><td>003</td><td>8</td><td class=\"unicode\" nowrap><div class=\"front_hebrew\">&nbsp;&nbsp;&nbsp;&nbsp;&nbsp;&nbsp;&nbsp;&nbsp;&nbsp;&nbsp;&nbsp;&nbsp;&nbsp;&nbsp;&nbsp;&nbsp;&nbsp;&nbsp;&nbsp;&nbsp;&nbsp;&nbsp;&nbsp;&nbsp;&nbsp;&nbsp;&nbsp;&nbsp;&nbsp;&nbsp;&nbsp;[&lt;PC&gt;&nbsp;\u05d0\u05dc\u05d4\u05d9\u05dd]&nbsp;[&lt;Su&gt;&nbsp;\u05d4\u05d5\u05d0]&nbsp;&nbsp;&nbsp;|&nbsp;&nbsp;&nbsp;&nbsp;&nbsp;&nbsp;&nbsp;|&nbsp;&nbsp;<div class=\"translation\">he <span class=\"translation_verb\">is</span> God </div></div></td><td><div class=\"front\">NmCl<div class=\"def_disc\">disc-main</div></div></td><td><div class=\"left\">nomin.</div></td><td>  </td><td><div class=\"right\">nomin.</div></td><td class=\"unicode\"></td><td></td><td></td><td><a href=\"ConcordanceOfPatterns.ipynb#0\" target=\"_blank\">0</a></td></tr><tr id=\"ln9\"><td>003</td><td>9</td><td class=\"unicode\" nowrap><div class=\"front_hebrew\">&nbsp;&nbsp;&nbsp;&nbsp;&nbsp;&nbsp;&nbsp;&nbsp;&nbsp;&nbsp;&nbsp;&nbsp;&nbsp;&nbsp;&nbsp;&nbsp;&nbsp;&nbsp;&nbsp;&nbsp;&nbsp;&nbsp;&nbsp;&nbsp;&nbsp;&nbsp;&nbsp;&nbsp;&nbsp;&nbsp;&nbsp;&nbsp;&nbsp;&nbsp;&nbsp;&nbsp;[&lt;PO&gt;&nbsp;\u05e2\u05e9\u05c2\u05e0\u05d5]&nbsp;[&lt;Su&gt;&nbsp;\u05d4\u05d5\u05d0]&nbsp;&nbsp;&nbsp;&nbsp;&nbsp;&nbsp;&nbsp;|&nbsp;&nbsp;<div class=\"translation\">(that) he <span class=\"translation_verb\">has</span> <span class=\"translation_verb\">made/done</span> us </div></div></td><td><div class=\"front\">XQtl<div class=\"def_disc\">disc-2nd-retro</div></div></td><td><div class=\"left\">ind.</div></td><td>  </td><td><div class=\"right\">ind.</div></td><td class=\"unicode\">\u05db\u05d9</td><td>Coor</td><td>crdDpLn>2ndR</td><td><a href=\"ConcordanceOfPatterns.ipynb#831\" target=\"_blank\">831</a></td></tr><tr id=\"ln10\"><td>003</td><td>10</td><td class=\"unicode\" nowrap><div class=\"front_hebrew\">[&lt;ap&gt;&lt;Su&gt;&nbsp;\u05d0\u05e0\u05d7\u05e0\u05d5&nbsp;/&nbsp;\u05e2\u05de\u05d5&nbsp;\u05d5-\u05e6\u05d0\u05df&nbsp;\u05de\u05e8\u05e2\u05d9\u05ea\u05d5]&nbsp;[&lt;PC&gt;&nbsp;\u05dc\u05d0]&nbsp;[&lt;Cj&gt;&nbsp;-\u05d5]&nbsp;&nbsp;&nbsp;&nbsp;&nbsp;&nbsp;&nbsp;&nbsp;&nbsp;&nbsp;&nbsp;|&nbsp;&nbsp;<div class=\"translation\">and (that) we <span class=\"translation_verb\">are</span> to him </div></div></td><td><div class=\"front\">NmCl<div class=\"def_disc\">disc-main</div></div></td><td><div class=\"left\">nomin.</div></td><td>  </td><td><div class=\"right\">nomin.</div></td><td class=\"unicode\">\u05db\u05d9</td><td>Coor</td><td>crdDpLn>Fg</td><td><a href=\"ConcordanceOfPatterns.ipynb#1692\" target=\"_blank\">1692</a></td></tr><tr id=\"ln11\"><td>004</td><td>11</td><td class=\"unicode\" nowrap><div class=\"front_hebrew\">&nbsp;&nbsp;&nbsp;&nbsp;&nbsp;&nbsp;&nbsp;&nbsp;&nbsp;&nbsp;&nbsp;&nbsp;&nbsp;&nbsp;&nbsp;&nbsp;&nbsp;&nbsp;&nbsp;&nbsp;&nbsp;&nbsp;&nbsp;&nbsp;&nbsp;&nbsp;&nbsp;&nbsp;&nbsp;[&lt;Aj&gt;&nbsp;\u05d1-\u05ea\u05d5\u05d3\u05d4]&nbsp;[&lt;Co&gt;&nbsp;\u05e9\u05c1\u05e2\u05e8\u05d9\u05d5]&nbsp;[&lt;Pr&gt;&nbsp;\u05d1\u05d0\u05d5]&nbsp;&nbsp;<div class=\"translation\"><span class=\"translation_verb\">come</span> <span class=\"translation_verb\">(to)</span>! </div></div></td><td><div class=\"front\">ZIm0<div class=\"def_disc\">disc-main-zero</div></div></td><td><div class=\"left\">imperat.</div></td><td>  </td><td><div class=\"right\">imperat.</div></td><td class=\"unicode\"></td><td></td><td>cntMain</td><td><a href=\"ConcordanceOfPatterns.ipynb#11\" target=\"_blank\">11</a></td></tr><tr id=\"ln12\"><td>004</td><td>12</td><td class=\"unicode\" nowrap><div class=\"front_hebrew\">&nbsp;&nbsp;&nbsp;&nbsp;&nbsp;&nbsp;&nbsp;&nbsp;&nbsp;&nbsp;&nbsp;&nbsp;&nbsp;&nbsp;&nbsp;&nbsp;&nbsp;&nbsp;&nbsp;&nbsp;&nbsp;&nbsp;&nbsp;&nbsp;&nbsp;&nbsp;&nbsp;&nbsp;&nbsp;&nbsp;&nbsp;&nbsp;&nbsp;&nbsp;&nbsp;[&lt;Aj&gt;&nbsp;\u05d1-\u05ea\u05d4\u05dc\u05d4]&nbsp;[&lt;Co&gt;&nbsp;\u05d7\u05e6\u05e8\u05ea\u05d9\u05d5]&nbsp;&nbsp;&nbsp;|&nbsp;&nbsp;<div class=\"translation\">---</div></div></td><td><div class=\"front\">Ellp<div class=\"def_disc\"></div></div></td><td><div class=\"left\">-</div></td><td>  </td><td><div class=\"right\">-</div></td><td class=\"unicode\"></td><td></td><td></td><td><a href=\"ConcordanceOfPatterns.ipynb#0\" target=\"_blank\">0</a></td></tr><tr id=\"ln13\"><td>004</td><td>13</td><td class=\"unicode\" nowrap><div class=\"front_hebrew\">&nbsp;&nbsp;&nbsp;&nbsp;&nbsp;&nbsp;&nbsp;&nbsp;&nbsp;&nbsp;&nbsp;&nbsp;&nbsp;&nbsp;&nbsp;&nbsp;&nbsp;&nbsp;&nbsp;&nbsp;&nbsp;&nbsp;&nbsp;&nbsp;&nbsp;&nbsp;&nbsp;&nbsp;&nbsp;&nbsp;&nbsp;&nbsp;&nbsp;&nbsp;&nbsp;&nbsp;&nbsp;&nbsp;&nbsp;&nbsp;&nbsp;&nbsp;&nbsp;&nbsp;&nbsp;[&lt;Co&gt;&nbsp;\u05dc\u05d5]&nbsp;[&lt;Pr&gt;&nbsp;\u05d4\u05d5\u05d3\u05d5]&nbsp;&nbsp;<div class=\"translation\"><span class=\"translation_verb\">praise</span>! </div></div></td><td><div class=\"front\">ZIm0<div class=\"def_disc\">disc-main-zero</div></div></td><td><div class=\"left\">imperat.</div></td><td>  </td><td><div class=\"right\">imperat.</div></td><td class=\"unicode\"></td><td></td><td>cntMain</td><td><a href=\"ConcordanceOfPatterns.ipynb#11\" target=\"_blank\">11</a></td></tr><tr id=\"ln14\"><td>004</td><td>14</td><td class=\"unicode\" nowrap><div class=\"front_hebrew\">&nbsp;&nbsp;&nbsp;&nbsp;&nbsp;&nbsp;&nbsp;&nbsp;&nbsp;&nbsp;&nbsp;&nbsp;&nbsp;&nbsp;&nbsp;&nbsp;&nbsp;&nbsp;&nbsp;&nbsp;&nbsp;&nbsp;&nbsp;&nbsp;&nbsp;&nbsp;&nbsp;&nbsp;&nbsp;&nbsp;&nbsp;&nbsp;&nbsp;&nbsp;&nbsp;&nbsp;&nbsp;&nbsp;&nbsp;&nbsp;&nbsp;&nbsp;&nbsp;&nbsp;[&lt;Ob&gt;&nbsp;\u05e9\u05c1\u05de\u05d5]&nbsp;[&lt;Pr&gt;&nbsp;\u05d1\u05e8\u05db\u05d5]&nbsp;&nbsp;<div class=\"translation\"><span class=\"translation_verb\">bless</span> his name! </div></div></td><td><div class=\"front\">ZIm0<div class=\"def_disc\">disc-main-zero</div></div></td><td><div class=\"left\">imperat.</div></td><td>  </td><td><div class=\"right\">imperat.</div></td><td class=\"unicode\"></td><td></td><td>cntMain</td><td><a href=\"ConcordanceOfPatterns.ipynb#11\" target=\"_blank\">11</a></td></tr><tr id=\"ln15\"><td>005</td><td>15</td><td class=\"unicode\" nowrap><div class=\"front_hebrew\">&nbsp;&nbsp;&nbsp;&nbsp;&nbsp;&nbsp;&nbsp;&nbsp;&nbsp;&nbsp;&nbsp;&nbsp;&nbsp;&nbsp;&nbsp;&nbsp;&nbsp;&nbsp;&nbsp;&nbsp;&nbsp;&nbsp;&nbsp;&nbsp;&nbsp;&nbsp;&nbsp;&nbsp;&nbsp;&nbsp;[&lt;Su&gt;&nbsp;\u05d9\u05d4\u05d5\u05d4]&nbsp;[&lt;PC&gt;&nbsp;\u05d8\u05d5\u05d1]&nbsp;[&lt;Cj&gt;&nbsp;\u05db\u05d9]&nbsp;&nbsp;&nbsp;&nbsp;&nbsp;&nbsp;<div class=\"translation\">given that YHWH <span class=\"translation_verb\">is</span> good </div></div></td><td><div class=\"front\">AjCl<div class=\"def_disc\">disc-main</div></div></td><td><div class=\"left\">nomin.</div></td><td>  </td><td><div class=\"right\">nomin.</div></td><td class=\"unicode\"></td><td></td><td>opnSbLnMain</td><td><a href=\"ConcordanceOfPatterns.ipynb#1653\" target=\"_blank\">1653</a></td></tr><tr id=\"ln16\"><td>005</td><td>16</td><td class=\"unicode\" nowrap><div class=\"front_hebrew\">&nbsp;&nbsp;&nbsp;&nbsp;&nbsp;&nbsp;&nbsp;&nbsp;&nbsp;&nbsp;&nbsp;&nbsp;&nbsp;&nbsp;&nbsp;&nbsp;&nbsp;&nbsp;&nbsp;&nbsp;&nbsp;&nbsp;&nbsp;&nbsp;&nbsp;&nbsp;&nbsp;&nbsp;&nbsp;&nbsp;&nbsp;&nbsp;&nbsp;[&lt;Su&gt;&nbsp;\u05d7\u05e1\u05d3\u05d5]&nbsp;[&lt;PC&gt;&nbsp;\u05dc-\u05e2\u05d5\u05dc\u05dd]&nbsp;&nbsp;&nbsp;&nbsp;&nbsp;&nbsp;&nbsp;&nbsp;&nbsp;&nbsp;<div class=\"translation\">(given that) his loyalty <span class=\"translation_verb\">is</span> to eternity </div></div></td><td><div class=\"front\">NmCl<div class=\"def_disc\">disc-main</div></div></td><td><div class=\"left\">nomin.</div></td><td>  </td><td><div class=\"right\">nomin.</div></td><td class=\"unicode\">\u05db\u05d9</td><td>Coor</td><td>crdSbLnMain</td><td><a href=\"ConcordanceOfPatterns.ipynb#1731\" target=\"_blank\">1731</a></td></tr><tr id=\"ln17\"><td>005</td><td>17</td><td class=\"unicode\" nowrap><div class=\"front_hebrew\">&nbsp;&nbsp;&nbsp;&nbsp;&nbsp;&nbsp;&nbsp;&nbsp;&nbsp;&nbsp;&nbsp;&nbsp;&nbsp;&nbsp;[&lt;Su&gt;&nbsp;\u05d0\u05de\u05d5\u05e0\u05ea\u05d5]&nbsp;[&lt;PC&gt;&nbsp;\u05e2\u05d3&nbsp;\u05d3\u05e8&nbsp;\u05d5-\u05d3\u05e8]&nbsp;[&lt;Cj&gt;&nbsp;-\u05d5]&nbsp;&nbsp;&nbsp;&nbsp;&nbsp;&nbsp;&nbsp;&nbsp;&nbsp;&nbsp;&nbsp;&nbsp;&nbsp;&nbsp;<div class=\"translation\">and (given that) his steadiness <span class=\"translation_verb\">is</span> unto a generation and.. </div></div></td><td><div class=\"front\">NmCl<div class=\"def_disc\">disc-main</div></div></td><td><div class=\"left\">nomin.</div></td><td>  </td><td><div class=\"right\">nomin.</div></td><td class=\"unicode\">\u05db\u05d9</td><td>Coor</td><td>crdSbLnMain</td><td><a href=\"ConcordanceOfPatterns.ipynb#1731\" target=\"_blank\">1731</a></td></tr></table>"
       ],
       "metadata": {},
       "output_type": "display_data",
       "text": [
        "<IPython.core.display.HTML at 0x3bf2330>"
       ]
      }
     ],
     "prompt_number": 3
    },
    {
     "cell_type": "heading",
     "level": 2,
     "metadata": {},
     "source": [
      "3. Patterns in Psalm 100"
     ]
    },
    {
     "cell_type": "code",
     "collapsed": false,
     "input": [
      "Psalms.print_patterns(\"Input/psalmen100dataPatterns.txt\")"
     ],
     "language": "python",
     "metadata": {},
     "outputs": [
      {
       "html": [
        "<table class=\"presentation\" id=\"Patterns\"><tr><th><a href=\"ConcordanceOfPatterns.ipynb\" target=\"_blank\">#Pat</a></th><th>Vs</th><th>Ln</th><th nowrap><a href=\"ClauseLabels.ipynb\" target=\"_blank\">ClTp</a><br><div class=\"small\">(mouse-over<br>for<br><a href=\"DefaultDiscourseFunctions.ipynb\" target=\"_blank\">DefDiscFu)</a></div></th><th nowrap><a href=\"HebrewText.ipynb\" target=\"_blank\">Hebrew text</a><br><div class=\"small\">(mouse-over for <a href=\"Translation.ipynb\" target=\"_blank\">Translation)</a></div></th><th><a href=\"CCR.ipynb\" target=\"_blank\">CCR</a></th><th><a href=\"DefaultFunctions.ipynb\" target=\"_blank\">DefFu</a></th><th><a href=\"Processes.ipynb\" target=\"_blank\">Processes</a><br><div class=\"small\">(hover over<br>\"!\"-sign)</div></th><th><a href=\"FinalFunctions.ipynb\" target=\"_blank\">FinFu</a></th><th nowrap><a href=\"MDModifier.ipynb\" target=\"_blank\">Mod-MDM</a></th><th><a href=\"Participants.ipynb\" target=\"_blank\">Ptcp</a></th><th><a href=\"DiscourseFunctions.ipynb\" target=\"_blank\">DiscFu</th></tr><tr><td><a href=\"ConcordanceOfPatterns.ipynb#11\" target=\"_blank\">11</a></td><td>PS100,002</td><td><a href=\"#ln2\">2</a></td><td><div class=\"front\">ZIm0<div class=\"def_disc\">disc-main-zero</div></div></td><td class=\"unicode\" nowrap><div class=\"front_hebrew\">[&lt;Co&gt;&nbsp;\u05dc-\u05d9\u05d4\u05d5\u05d4]&nbsp;[&lt;Pr&gt;&nbsp;\u05d4\u05e8\u05d9\u05e2\u05d5]<div class=\"translation\"><span class=\"translation_verb\">shout</span>! </div></div></td><td></td><td nowrap><div class=\"left\">imperat.</div></td><td>  </td><td nowrap><div class=\"right\">imperat.</div></td><td><div class=\"right\">&nbsp;</div></td><td></td><td>opnDrSpMain</td></tr><tr><td></td><td></td><td><a href=\"#ln4\">4</a></td><td><div class=\"front\">ZIm0<div class=\"def_disc\">disc-main-zero</div></div></td><td class=\"unicode\" nowrap><div class=\"front_hebrew\">[&lt;Co&gt;&nbsp;\u05d1-\u05e9\u05c2\u05de\u05d7\u05d4]&nbsp;[&lt;Ob&gt;&nbsp;\u05d0\u05ea&nbsp;\u05d9\u05d4\u05d5\u05d4]&nbsp;[&lt;Pr&gt;&nbsp;\u05e2\u05d1\u05d3\u05d5]<div class=\"translation\"><span class=\"translation_verb\">work/serve</span> YHWH! </div></div></td><td></td><td nowrap><div class=\"left\">imperat.</div></td><td>  </td><td nowrap><div class=\"right\">imperat.</div></td><td><div class=\"right\">&nbsp;</div></td><td>  SS</td><td>cntMain</td></tr><tr><td>&nbsp;</td></tr><tr><td><a href=\"ConcordanceOfPatterns.ipynb#11\" target=\"_blank\">11</a></td><td>PS100,002</td><td><a href=\"#ln4\">4</a></td><td><div class=\"front\">ZIm0<div class=\"def_disc\">disc-main-zero</div></div></td><td class=\"unicode\" nowrap><div class=\"front_hebrew\">[&lt;Co&gt;&nbsp;\u05d1-\u05e9\u05c2\u05de\u05d7\u05d4]&nbsp;[&lt;Ob&gt;&nbsp;\u05d0\u05ea&nbsp;\u05d9\u05d4\u05d5\u05d4]&nbsp;[&lt;Pr&gt;&nbsp;\u05e2\u05d1\u05d3\u05d5]<div class=\"translation\"><span class=\"translation_verb\">work/serve</span> YHWH! </div></div></td><td></td><td nowrap><div class=\"left\">imperat.</div></td><td>  </td><td nowrap><div class=\"right\">imperat.</div></td><td><div class=\"right\">&nbsp;</div></td><td></td><td>cntMain</td></tr><tr><td></td><td></td><td><a href=\"#ln5\">5</a></td><td><div class=\"front\">ZIm0<div class=\"def_disc\">disc-main-zero</div></div></td><td class=\"unicode\" nowrap><div class=\"front_hebrew\">[&lt;Aj&gt;&nbsp;\u05d1-\u05e8\u05e0\u05e0\u05d4]&nbsp;[&lt;Co&gt;&nbsp;\u05dc-\u05e4\u05e0\u05d9\u05d5]&nbsp;[&lt;Pr&gt;&nbsp;\u05d1\u05d0\u05d5]<div class=\"translation\"><span class=\"translation_verb\">come</span> <span class=\"translation_verb\">(to)</span>! </div></div></td><td></td><td nowrap><div class=\"left\">imperat.</div></td><td>  </td><td nowrap><div class=\"right\">imperat.</div></td><td><div class=\"right\">&nbsp;</div></td><td>  SS</td><td>cntMain</td></tr><tr><td>&nbsp;</td></tr><tr><td><a href=\"ConcordanceOfPatterns.ipynb#11\" target=\"_blank\">11</a></td><td>PS100,003</td><td><a href=\"#ln5\">5</a></td><td><div class=\"front\">ZIm0<div class=\"def_disc\">disc-main-zero</div></div></td><td class=\"unicode\" nowrap><div class=\"front_hebrew\">[&lt;Aj&gt;&nbsp;\u05d1-\u05e8\u05e0\u05e0\u05d4]&nbsp;[&lt;Co&gt;&nbsp;\u05dc-\u05e4\u05e0\u05d9\u05d5]&nbsp;[&lt;Pr&gt;&nbsp;\u05d1\u05d0\u05d5]<div class=\"translation\"><span class=\"translation_verb\">come</span> <span class=\"translation_verb\">(to)</span>! </div></div></td><td></td><td nowrap><div class=\"left\">imperat.</div></td><td>  </td><td nowrap><div class=\"right\">imperat.</div></td><td><div class=\"right\">&nbsp;</div></td><td></td><td>cntMain</td></tr><tr><td></td><td></td><td><a href=\"#ln6\">6</a></td><td><div class=\"front\">ZIm0<div class=\"def_disc\">disc-main-zero</div></div></td><td class=\"unicode\" nowrap><div class=\"front_hebrew\">[&lt;Pr&gt;&nbsp;\u05d3\u05e2\u05d5]<div class=\"translation\"><span class=\"translation_verb\">know</span>! </div></div></td><td></td><td nowrap><div class=\"left\">imperat.</div></td><td>  </td><td nowrap><div class=\"right\">imperat.</div></td><td><div class=\"right\">&nbsp;</div></td><td>  SS</td><td>cntMain</td></tr><tr><td>&nbsp;</td></tr><tr><td><a href=\"ConcordanceOfPatterns.ipynb#11\" target=\"_blank\">11</a></td><td>PS100,004</td><td><a href=\"#ln6\">6</a></td><td><div class=\"front\">ZIm0<div class=\"def_disc\">disc-main-zero</div></div></td><td class=\"unicode\" nowrap><div class=\"front_hebrew\">[&lt;Pr&gt;&nbsp;\u05d3\u05e2\u05d5]<div class=\"translation\"><span class=\"translation_verb\">know</span>! </div></div></td><td></td><td nowrap><div class=\"left\">imperat.</div></td><td>  </td><td nowrap><div class=\"right\">imperat.</div></td><td><div class=\"right\">&nbsp;</div></td><td></td><td>cntMain</td></tr><tr><td></td><td></td><td><a href=\"#ln11\">11</a></td><td><div class=\"front\">ZIm0<div class=\"def_disc\">disc-main-zero</div></div></td><td class=\"unicode\" nowrap><div class=\"front_hebrew\">[&lt;Aj&gt;&nbsp;\u05d1-\u05ea\u05d5\u05d3\u05d4]&nbsp;[&lt;Co&gt;&nbsp;\u05e9\u05c1\u05e2\u05e8\u05d9\u05d5]&nbsp;[&lt;Pr&gt;&nbsp;\u05d1\u05d0\u05d5]<div class=\"translation\"><span class=\"translation_verb\">come</span> <span class=\"translation_verb\">(to)</span>! </div></div></td><td></td><td nowrap><div class=\"left\">imperat.</div></td><td>  </td><td nowrap><div class=\"right\">imperat.</div></td><td><div class=\"right\">&nbsp;</div></td><td>  SS</td><td>cntMain</td></tr><tr><td>&nbsp;</td></tr><tr><td><a href=\"ConcordanceOfPatterns.ipynb#11\" target=\"_blank\">11</a></td><td>PS100,004</td><td><a href=\"#ln11\">11</a></td><td><div class=\"front\">ZIm0<div class=\"def_disc\">disc-main-zero</div></div></td><td class=\"unicode\" nowrap><div class=\"front_hebrew\">[&lt;Aj&gt;&nbsp;\u05d1-\u05ea\u05d5\u05d3\u05d4]&nbsp;[&lt;Co&gt;&nbsp;\u05e9\u05c1\u05e2\u05e8\u05d9\u05d5]&nbsp;[&lt;Pr&gt;&nbsp;\u05d1\u05d0\u05d5]<div class=\"translation\"><span class=\"translation_verb\">come</span> <span class=\"translation_verb\">(to)</span>! </div></div></td><td></td><td nowrap><div class=\"left\">imperat.</div></td><td>  </td><td nowrap><div class=\"right\">imperat.</div></td><td><div class=\"right\">&nbsp;</div></td><td></td><td>cntMain</td></tr><tr><td></td><td></td><td><a href=\"#ln13\">13</a></td><td><div class=\"front\">ZIm0<div class=\"def_disc\">disc-main-zero</div></div></td><td class=\"unicode\" nowrap><div class=\"front_hebrew\">[&lt;Co&gt;&nbsp;\u05dc\u05d5]&nbsp;[&lt;Pr&gt;&nbsp;\u05d4\u05d5\u05d3\u05d5]<div class=\"translation\"><span class=\"translation_verb\">praise</span>! </div></div></td><td></td><td nowrap><div class=\"left\">imperat.</div></td><td>  </td><td nowrap><div class=\"right\">imperat.</div></td><td><div class=\"right\">&nbsp;</div></td><td>  SS</td><td>cntMain</td></tr><tr><td>&nbsp;</td></tr><tr><td><a href=\"ConcordanceOfPatterns.ipynb#11\" target=\"_blank\">11</a></td><td>PS100,004</td><td><a href=\"#ln13\">13</a></td><td><div class=\"front\">ZIm0<div class=\"def_disc\">disc-main-zero</div></div></td><td class=\"unicode\" nowrap><div class=\"front_hebrew\">[&lt;Co&gt;&nbsp;\u05dc\u05d5]&nbsp;[&lt;Pr&gt;&nbsp;\u05d4\u05d5\u05d3\u05d5]<div class=\"translation\"><span class=\"translation_verb\">praise</span>! </div></div></td><td></td><td nowrap><div class=\"left\">imperat.</div></td><td>  </td><td nowrap><div class=\"right\">imperat.</div></td><td><div class=\"right\">&nbsp;</div></td><td></td><td>cntMain</td></tr><tr><td></td><td></td><td><a href=\"#ln14\">14</a></td><td><div class=\"front\">ZIm0<div class=\"def_disc\">disc-main-zero</div></div></td><td class=\"unicode\" nowrap><div class=\"front_hebrew\">[&lt;Ob&gt;&nbsp;\u05e9\u05c1\u05de\u05d5]&nbsp;[&lt;Pr&gt;&nbsp;\u05d1\u05e8\u05db\u05d5]<div class=\"translation\"><span class=\"translation_verb\">bless</span> his name! </div></div></td><td></td><td nowrap><div class=\"left\">imperat.</div></td><td>  </td><td nowrap><div class=\"right\">imperat.</div></td><td><div class=\"right\">&nbsp;</div></td><td>  SS</td><td>cntMain</td></tr><tr><td>&nbsp;</td></tr><tr><td><a href=\"ConcordanceOfPatterns.ipynb#831\" target=\"_blank\">831</a></td><td>PS100,003</td><td><a href=\"#ln7\">7</a></td><td><div class=\"front\">NmCl<div class=\"def_disc\">disc-main</div></div></td><td class=\"unicode\" nowrap><div class=\"front_hebrew\">[&lt;Fr&gt;&nbsp;\u05d9\u05d4\u05d5\u05d4]&nbsp;[&lt;Cj&gt;&nbsp;\u05db\u05d9]<div class=\"translation\">that concerning YHWH </div></div></td><td>ObCl</td><td nowrap><div class=\"left\">nomin.</div></td><td>  </td><td nowrap><div class=\"right\">nomin.</div></td><td class=\"unicode\" nowrap><div class=\"right\">\u05db\u05d9</div></td><td></td><td>opnDpLnMain</td></tr><tr><td></td><td></td><td><a href=\"#ln9\">9</a></td><td><div class=\"front\">XQtl<div class=\"def_disc\">disc-2nd-retro</div></div></td><td class=\"unicode\" nowrap><div class=\"front_hebrew\">[&lt;PO&gt;&nbsp;\u05e2\u05e9\u05c2\u05e0\u05d5]&nbsp;[&lt;Su&gt;&nbsp;\u05d4\u05d5\u05d0]<div class=\"translation\">(that) he <span class=\"translation_verb\">has</span> <span class=\"translation_verb\">made/done</span> us </div></div></td><td>Coor</td><td nowrap><div class=\"left\">ind.</div></td><td>  </td><td nowrap><div class=\"right\">ind.</div></td><td class=\"unicode\" nowrap><div class=\"right\">(\u05db\u05d9)</div></td><td>  SS</td><td>crdDpLn>2ndR</td></tr><tr><td>&nbsp;</td></tr><tr><td><a href=\"ConcordanceOfPatterns.ipynb#1653\" target=\"_blank\">1653</a></td><td>PS100,005</td><td><a href=\"#ln14\">14</a></td><td><div class=\"front\">ZIm0<div class=\"def_disc\">disc-main-zero</div></div></td><td class=\"unicode\" nowrap><div class=\"front_hebrew\">[&lt;Ob&gt;&nbsp;\u05e9\u05c1\u05de\u05d5]&nbsp;[&lt;Pr&gt;&nbsp;\u05d1\u05e8\u05db\u05d5]<div class=\"translation\"><span class=\"translation_verb\">bless</span> his name! </div></div></td><td></td><td nowrap><div class=\"left\">imperat.</div></td><td>  </td><td nowrap><div class=\"right\">imperat.</div></td><td><div class=\"right\">&nbsp;</div></td><td></td><td>cntMain</td></tr><tr><td></td><td></td><td><a href=\"#ln15\">15</a></td><td><div class=\"front\">AjCl<div class=\"def_disc\">disc-main</div></div></td><td class=\"unicode\" nowrap><div class=\"front_hebrew\">[&lt;Su&gt;&nbsp;\u05d9\u05d4\u05d5\u05d4]&nbsp;[&lt;PC&gt;&nbsp;\u05d8\u05d5\u05d1]&nbsp;[&lt;Cj&gt;&nbsp;\u05db\u05d9]<div class=\"translation\">given that YHWH <span class=\"translation_verb\">is</span> good </div></div></td><td></td><td nowrap><div class=\"left\">nomin.</div></td><td>  </td><td nowrap><div class=\"right\">nomin.</div></td><td class=\"unicode\" nowrap><div class=\"right\">\u05db\u05d9</div></td><td>  </td><td>opnSbLnMain</td></tr><tr><td>&nbsp;</td></tr><tr><td><a href=\"ConcordanceOfPatterns.ipynb#1692\" target=\"_blank\">1692</a></td><td>PS100,003</td><td><a href=\"#ln9\">9</a></td><td><div class=\"front\">XQtl<div class=\"def_disc\">disc-2nd-retro</div></div></td><td class=\"unicode\" nowrap><div class=\"front_hebrew\">[&lt;PO&gt;&nbsp;\u05e2\u05e9\u05c2\u05e0\u05d5]&nbsp;[&lt;Su&gt;&nbsp;\u05d4\u05d5\u05d0]<div class=\"translation\">(that) he <span class=\"translation_verb\">has</span> <span class=\"translation_verb\">made/done</span> us </div></div></td><td>Coor</td><td nowrap><div class=\"left\">ind.</div></td><td>  </td><td nowrap><div class=\"right\">ind.</div></td><td class=\"unicode\" nowrap><div class=\"right\">(\u05db\u05d9)</div></td><td></td><td>crdDpLn>2ndR</td></tr><tr><td></td><td></td><td><a href=\"#ln10\">10</a></td><td><div class=\"front\">NmCl<div class=\"def_disc\">disc-main</div></div></td><td class=\"unicode\" nowrap><div class=\"front_hebrew\">[&lt;ap&gt;&lt;Su&gt;&nbsp;\u05d0\u05e0\u05d7\u05e0\u05d5&nbsp;/&nbsp;\u05e2\u05de\u05d5&nbsp;\u05d5-\u05e6\u05d0\u05df&nbsp;\u05de\u05e8\u05e2\u05d9\u05ea\u05d5]&nbsp;[&lt;PC&gt;&nbsp;\u05dc\u05d0]&nbsp;[&lt;Cj&gt;&nbsp;-\u05d5]<div class=\"translation\">and (that) we <span class=\"translation_verb\">are</span> to him </div></div></td><td>Coor</td><td nowrap><div class=\"left\">nomin.</div></td><td>  </td><td nowrap><div class=\"right\">nomin.</div></td><td class=\"unicode\" nowrap><div class=\"right\">(\u05db\u05d9)</div></td><td>  DS</td><td>crdDpLn>Fg</td></tr><tr><td>&nbsp;</td></tr><tr><td><a href=\"ConcordanceOfPatterns.ipynb#1731\" target=\"_blank\">1731</a></td><td>PS100,005</td><td><a href=\"#ln15\">15</a></td><td><div class=\"front\">AjCl<div class=\"def_disc\">disc-main</div></div></td><td class=\"unicode\" nowrap><div class=\"front_hebrew\">[&lt;Su&gt;&nbsp;\u05d9\u05d4\u05d5\u05d4]&nbsp;[&lt;PC&gt;&nbsp;\u05d8\u05d5\u05d1]&nbsp;[&lt;Cj&gt;&nbsp;\u05db\u05d9]<div class=\"translation\">given that YHWH <span class=\"translation_verb\">is</span> good </div></div></td><td></td><td nowrap><div class=\"left\">nomin.</div></td><td>  </td><td nowrap><div class=\"right\">nomin.</div></td><td class=\"unicode\" nowrap><div class=\"right\">\u05db\u05d9</div></td><td></td><td>opnSbLnMain</td></tr><tr><td></td><td></td><td><a href=\"#ln16\">16</a></td><td><div class=\"front\">NmCl<div class=\"def_disc\">disc-main</div></div></td><td class=\"unicode\" nowrap><div class=\"front_hebrew\">[&lt;Su&gt;&nbsp;\u05d7\u05e1\u05d3\u05d5]&nbsp;[&lt;PC&gt;&nbsp;\u05dc-\u05e2\u05d5\u05dc\u05dd]<div class=\"translation\">(given that) his loyalty <span class=\"translation_verb\">is</span> to eternity </div></div></td><td>Coor</td><td nowrap><div class=\"left\">nomin.</div></td><td>  </td><td nowrap><div class=\"right\">nomin.</div></td><td class=\"unicode\" nowrap><div class=\"right\">(\u05db\u05d9)</div></td><td>  SRef</td><td>crdSbLnMain</td></tr><tr><td>&nbsp;</td></tr><tr><td><a href=\"ConcordanceOfPatterns.ipynb#1731\" target=\"_blank\">1731</a></td><td>PS100,005</td><td><a href=\"#ln16\">16</a></td><td><div class=\"front\">NmCl<div class=\"def_disc\">disc-main</div></div></td><td class=\"unicode\" nowrap><div class=\"front_hebrew\">[&lt;Su&gt;&nbsp;\u05d7\u05e1\u05d3\u05d5]&nbsp;[&lt;PC&gt;&nbsp;\u05dc-\u05e2\u05d5\u05dc\u05dd]<div class=\"translation\">(given that) his loyalty <span class=\"translation_verb\">is</span> to eternity </div></div></td><td>Coor</td><td nowrap><div class=\"left\">nomin.</div></td><td>  </td><td nowrap><div class=\"right\">nomin.</div></td><td class=\"unicode\" nowrap><div class=\"right\">(\u05db\u05d9)</div></td><td></td><td>crdSbLnMain</td></tr><tr><td></td><td></td><td><a href=\"#ln17\">17</a></td><td><div class=\"front\">NmCl<div class=\"def_disc\">disc-main</div></div></td><td class=\"unicode\" nowrap><div class=\"front_hebrew\">[&lt;Su&gt;&nbsp;\u05d0\u05de\u05d5\u05e0\u05ea\u05d5]&nbsp;[&lt;PC&gt;&nbsp;\u05e2\u05d3&nbsp;\u05d3\u05e8&nbsp;\u05d5-\u05d3\u05e8]&nbsp;[&lt;Cj&gt;&nbsp;-\u05d5]<div class=\"translation\">and (given that) his steadiness <span class=\"translation_verb\">is</span> unto a generation and.. </div></div></td><td>Coor</td><td nowrap><div class=\"left\">nomin.</div></td><td>  </td><td nowrap><div class=\"right\">nomin.</div></td><td class=\"unicode\" nowrap><div class=\"right\">(\u05db\u05d9)</div></td><td>  Syn</td><td>crdSbLnMain</td></tr><tr><td>&nbsp;</td></tr></table>"
       ],
       "metadata": {},
       "output_type": "display_data",
       "text": [
        "<IPython.core.display.HTML at 0x3bf2430>"
       ]
      }
     ],
     "prompt_number": 4
    }
   ],
   "metadata": {}
  }
 ]
}