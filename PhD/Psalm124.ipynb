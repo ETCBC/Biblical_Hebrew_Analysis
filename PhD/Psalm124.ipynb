{
 "metadata": {
  "name": ""
 },
 "nbformat": 3,
 "nbformat_minor": 0,
 "worksheets": [
  {
   "cells": [
    {
     "cell_type": "code",
     "collapsed": false,
     "input": [
      "import Psalms"
     ],
     "language": "python",
     "metadata": {},
     "outputs": [
      {
       "html": [
        "\n",
        "<style>\n",
        "\n",
        "table.presentation {\n",
        "    border-style:hidden;\n",
        "}\n",
        "\n",
        "table.presentation tr {\n",
        "    border-style:hidden;\n",
        "}\n",
        "\n",
        "table.presentation th {\n",
        "    padding:0px 15px 0px 0px;\n",
        "    border-style:hidden;\n",
        "    text-align:center;\n",
        "}\n",
        "\n",
        "table.presentation td {\n",
        "    padding:0px 5px 0px 0px;\n",
        "    border-style:hidden;\n",
        "}\n",
        "\n",
        "table.presentation td.unicode {\n",
        "    text-align:right;\n",
        "    font-family:SBL Hebrew;\n",
        "}\n",
        "\n",
        "table.categories {\n",
        "    margin-left: auto;\n",
        "    margin-right: auto;\n",
        "}\n",
        "\n",
        "table.categories, table.categories tr, table.categories th, table.categories td {\n",
        "    border-style:hidden;\n",
        "    color: Maroon;\n",
        "}\n",
        "\n",
        "div.navigation {\n",
        "    margin:auto;\n",
        "    width:50%;\n",
        "    font-size:small;\n",
        "    font-style:italic;\n",
        "}\n",
        "\n",
        "div.navigation form, div.navigation form input {\n",
        "    display: inline;\n",
        "}\n",
        "\n",
        "form input {\n",
        "    max-width: 30px;\n",
        "}\n",
        "\n",
        "div.button form input {\n",
        "\tmax-width:100%;\n",
        "}\n",
        "\n",
        "div.button {\n",
        "\tmax-width:15%;\n",
        "\tmargin:auto;\n",
        "}\n",
        "\n",
        "div.output {\n",
        "    font-size: small;\n",
        "    z-index:0;\n",
        "}\n",
        "\n",
        "div.front, div.front_a, div.front_b {\n",
        "    color: Crimson;\n",
        "}\n",
        "\n",
        "div.front, div.front_a {\n",
        "\ttext-align: center;\n",
        "}\n",
        "\n",
        "div.front_b div, div.front_a div {\n",
        "    display: none;\n",
        "} \n",
        "\n",
        "div.front div, div.front_hebrew div {\n",
        "    display: none;\n",
        "    position: relative;\n",
        "}\n",
        "\n",
        "div.front:hover div, div.front_a:hover div, div.front_b:hover div {\n",
        "    display: block;\n",
        "    max-width: 200px;\n",
        "}\n",
        "    \n",
        "div.front_hebrew:hover div {\n",
        "    display: block;\n",
        "}\n",
        "\n",
        "div.def_disc, div.factors {\n",
        "    font-size: x-small;\n",
        "    background-color:White;\n",
        "    z-index:1;\n",
        "    position:absolute;\n",
        "    font-family:SBL Hebrew;\n",
        "    line-height: 95%;\n",
        "}\n",
        "\n",
        "div.translation {\n",
        "    z-index:1;\n",
        "    position:absolute;\n",
        "    right:10%;\n",
        "    line-height: 90%;\n",
        "    font-size: x-small;\n",
        "}\n",
        "\n",
        "div.left {\n",
        "    border-left-style:dotted;\n",
        "    border-left-width:thin;\n",
        "}\n",
        "\n",
        "div.right {\n",
        "    border-right-style:dotted;\n",
        "    border-right-width:thin;\n",
        "}\n",
        "\n",
        "div.delimit {\n",
        "\tborder-top-width: thin;\n",
        "\tborder-top-style: dotted;\n",
        "}\n",
        "\n",
        "span.translation_verb{\n",
        "    color: Crimson;\n",
        "    font-weight: bold;\n",
        "}\n",
        "\n",
        "span.verb {\n",
        "    color: Crimson;\n",
        "}\n",
        "\n",
        "div.small {\n",
        "    font-size: xx-small;\t\n",
        "\tline-height: 95%;\n",
        "}\n",
        "\n",
        "</style>\n"
       ],
       "metadata": {},
       "output_type": "display_data",
       "text": [
        "<IPython.core.display.HTML at 0x3bfa2f0>"
       ]
      }
     ],
     "prompt_number": 1
    },
    {
     "cell_type": "markdown",
     "metadata": {},
     "source": [
      "<div class=\"navigation\">\n",
      "Navigate to the <a href=\"Index.ipynb\">Index</a> or enter a Psalm of your choice: <form name=\"myform\"><input type=\"text\" name=\"psalm\"> <a href=\"javascript: read_input()\">Go to Psalm...</a></form>\n",
      "</div>\n",
      "<script type=\"text/javascript\">\n",
      "function read_input(){\n",
      "    psalm_number = document.myform.psalm.value\n",
      "    if (psalm_number < 1 || psalm_number > 150){\n",
      "        alert(\"You have provided an invalid Psalm number. Please choose one of the 150 available Psalms.\");\n",
      "    } else {    \n",
      "        var psalm = \"\";\n",
      "        if (psalm_number < 10){\n",
      "            psalm = \"Psalm00\" + psalm_number + \".ipynb\";\n",
      "        } else if (psalm_number < 100){\n",
      "            psalm = \"Psalm0\" + psalm_number + \".ipynb\";\n",
      "        } else {\n",
      "            psalm = \"Psalm\" + psalm_number + \".ipynb\";\n",
      "        }\n",
      "        window.open(psalm);\n",
      "    }\n",
      "}\n",
      "</script>"
     ]
    },
    {
     "cell_type": "heading",
     "level": 1,
     "metadata": {},
     "source": [
      "PSALM 124"
     ]
    },
    {
     "cell_type": "heading",
     "level": 2,
     "metadata": {},
     "source": [
      "1. Translation of Psalm 124"
     ]
    },
    {
     "cell_type": "code",
     "collapsed": false,
     "input": [
      "Psalms.print_translation(\"Input/psalmen124Raw.txt\")"
     ],
     "language": "python",
     "metadata": {},
     "outputs": [
      {
       "html": [
        "<table class=\"presentation\" id=\"Translation\"><tr><th></th><th><a href=\"HebrewText.ipynb\" target=\"_blank\">Hebrew text</a></th><th><a href=\"ClauseLabels.ipynb\" target=\"_blank\">ClTp</a></th><th><a href=\"Translation.ipynb\" target=\"_blank\">Translation</a></th></tr><tr><td>001</td><td class=\"unicode\" nowrap>&nbsp;&nbsp;&nbsp;&nbsp;&nbsp;&nbsp;&nbsp;&nbsp;&nbsp;&nbsp;&nbsp;&nbsp;&nbsp;&nbsp;&nbsp;&nbsp;&nbsp;&nbsp;&nbsp;&nbsp;&nbsp;&nbsp;&nbsp;&nbsp;&nbsp;&nbsp;&nbsp;&nbsp;&nbsp;&nbsp;&nbsp;&nbsp;&nbsp;&nbsp;&nbsp;&nbsp;&nbsp;&nbsp;&nbsp;&nbsp;&nbsp;&nbsp;&nbsp;&nbsp;&nbsp;&nbsp;&nbsp;&nbsp;&nbsp;&nbsp;&nbsp;&nbsp;&nbsp;&nbsp;&nbsp;&nbsp;&nbsp;&nbsp;[&lt;PC&gt;&nbsp;\u05e9\u05c1\u05d9\u05e8&nbsp;\u05d4-\u05de\u05e2\u05dc\u05d5\u05ea]&nbsp;&nbsp;&nbsp;</td><td style=\"font-family:Courier\">NmCl</td><td nowrap>&nbsp;this <span class=\"translation_verb\">is</span> the song of the ascents </td></tr><tr><td></td><td class=\"unicode\" nowrap>&nbsp;&nbsp;&nbsp;&nbsp;&nbsp;&nbsp;&nbsp;&nbsp;&nbsp;&nbsp;&nbsp;&nbsp;&nbsp;&nbsp;&nbsp;&nbsp;&nbsp;&nbsp;&nbsp;&nbsp;&nbsp;&nbsp;&nbsp;&nbsp;&nbsp;&nbsp;&nbsp;&nbsp;&nbsp;&nbsp;&nbsp;&nbsp;&nbsp;&nbsp;&nbsp;&nbsp;&nbsp;&nbsp;&nbsp;&nbsp;&nbsp;&nbsp;&nbsp;&nbsp;&nbsp;&nbsp;&nbsp;&nbsp;&nbsp;&nbsp;&nbsp;&nbsp;&nbsp;&nbsp;&nbsp;&nbsp;&nbsp;&nbsp;&nbsp;&nbsp;[&lt;PC&gt;&nbsp;\u05dc-\u05d3\u05d5\u05d3]&nbsp;&nbsp;&nbsp;&nbsp;|&nbsp;&nbsp;</td><td style=\"font-family:Courier\">NmCl</td><td nowrap>&nbsp;&nbsp;|&nbsp;&nbsp;this <span class=\"translation_verb\">is</span> to David </td></tr><tr><td></td><td class=\"unicode\" nowrap>&nbsp;&nbsp;&nbsp;&nbsp;&nbsp;&nbsp;&nbsp;&nbsp;&nbsp;&nbsp;&nbsp;&nbsp;&nbsp;&nbsp;&nbsp;&nbsp;&nbsp;&nbsp;&nbsp;&nbsp;&nbsp;&nbsp;&nbsp;&nbsp;&nbsp;&nbsp;&nbsp;&nbsp;&nbsp;&nbsp;&nbsp;&nbsp;&nbsp;&nbsp;&nbsp;&nbsp;&nbsp;&nbsp;&nbsp;&nbsp;&nbsp;&nbsp;&nbsp;&nbsp;&nbsp;&nbsp;&nbsp;&nbsp;&nbsp;&nbsp;&nbsp;&nbsp;&nbsp;[&lt;Su&gt;&nbsp;\u05d9\u05d4\u05d5\u05d4]&nbsp;&nbsp;[&lt;Cj&gt;&nbsp;\u05dc\u05d5\u05dc\u05d9]&nbsp;&nbsp;&nbsp;</td><td style=\"font-family:Courier\">NmCl</td><td nowrap>&nbsp;if not YHWH <span class=\"translation_verb\">is</span> </td></tr><tr><td></td><td class=\"unicode\" nowrap>&nbsp;&nbsp;&nbsp;&nbsp;&nbsp;&nbsp;&nbsp;&nbsp;&nbsp;&nbsp;&nbsp;&nbsp;&nbsp;&nbsp;&nbsp;&nbsp;&nbsp;&nbsp;&nbsp;&nbsp;&nbsp;&nbsp;&nbsp;&nbsp;&nbsp;&nbsp;&nbsp;&nbsp;&nbsp;&nbsp;&nbsp;&nbsp;&nbsp;&nbsp;&nbsp;&nbsp;&nbsp;&nbsp;[&lt;PC&gt;&nbsp;\u05dc\u05e0\u05d5]&nbsp;<span class=\"verb\">&nbsp;[&lt;Pr&gt;&nbsp;\u05d4\u05d9\u05d4]</span>&nbsp;&nbsp;[&lt;Re&gt;&nbsp;-\u05e9\u05c1]&nbsp;&nbsp;&nbsp;&nbsp;|&nbsp;&nbsp;&nbsp;|&nbsp;&nbsp;</td><td style=\"font-family:Courier\">xQt0</td><td nowrap>&nbsp;&nbsp;|&nbsp;&nbsp;&nbsp;|&nbsp;&nbsp;the one who/which <span class=\"translation_verb\">has</span> <span class=\"translation_verb\">been</span> to us </td></tr><tr><td></td><td class=\"unicode\" nowrap>&nbsp;&nbsp;&nbsp;&nbsp;&nbsp;&nbsp;&nbsp;&nbsp;&nbsp;&nbsp;&nbsp;&nbsp;&nbsp;&nbsp;&nbsp;&nbsp;&nbsp;&nbsp;&nbsp;&nbsp;&nbsp;&nbsp;&nbsp;&nbsp;&nbsp;&nbsp;&nbsp;&nbsp;&nbsp;&nbsp;&nbsp;&nbsp;&nbsp;&nbsp;&nbsp;&nbsp;&nbsp;&nbsp;[&lt;Su&gt;&nbsp;\u05d9\u05e9\u05c2\u05e8\u05d0\u05dc]&nbsp;&nbsp;[&lt;Ij&gt;&nbsp;\u05e0\u05d0]&nbsp;<span class=\"verb\">&nbsp;[&lt;Pr&gt;&nbsp;\u05d9\u05d0\u05de\u05e8]</span>&nbsp;&nbsp;&nbsp;&nbsp;|&nbsp;&nbsp;</td><td style=\"font-family:Courier\">ZYqX</td><td nowrap>&nbsp;&nbsp;|&nbsp;&nbsp;yeah, Israel <span class=\"translation_verb\">says</span> </td></tr><tr><td>002</td><td class=\"unicode\" nowrap>&nbsp;&nbsp;&nbsp;&nbsp;&nbsp;&nbsp;&nbsp;&nbsp;&nbsp;&nbsp;&nbsp;&nbsp;&nbsp;&nbsp;&nbsp;&nbsp;&nbsp;&nbsp;&nbsp;&nbsp;&nbsp;&nbsp;&nbsp;&nbsp;&nbsp;&nbsp;&nbsp;&nbsp;&nbsp;&nbsp;&nbsp;&nbsp;&nbsp;&nbsp;&nbsp;&nbsp;&nbsp;&nbsp;&nbsp;&nbsp;&nbsp;&nbsp;&nbsp;&nbsp;&nbsp;&nbsp;&nbsp;&nbsp;&nbsp;&nbsp;&nbsp;&nbsp;&nbsp;[&lt;Su&gt;&nbsp;\u05d9\u05d4\u05d5\u05d4]&nbsp;&nbsp;[&lt;Cj&gt;&nbsp;\u05dc\u05d5\u05dc\u05d9]&nbsp;&nbsp;&nbsp;</td><td style=\"font-family:Courier\">NmCl</td><td nowrap>&nbsp;if not YHWH <span class=\"translation_verb\">is</span> </td></tr><tr><td></td><td class=\"unicode\" nowrap>&nbsp;&nbsp;&nbsp;&nbsp;&nbsp;&nbsp;&nbsp;&nbsp;&nbsp;&nbsp;&nbsp;&nbsp;&nbsp;&nbsp;&nbsp;&nbsp;&nbsp;&nbsp;&nbsp;&nbsp;&nbsp;&nbsp;&nbsp;&nbsp;&nbsp;&nbsp;&nbsp;&nbsp;&nbsp;&nbsp;&nbsp;&nbsp;&nbsp;&nbsp;[&lt;PC&gt;&nbsp;\u05dc\u05e0\u05d5]&nbsp;<span class=\"verb\">&nbsp;[&lt;Pr&gt;&nbsp;\u05d4\u05d9\u05d4]</span>&nbsp;&nbsp;[&lt;Re&gt;&nbsp;-\u05e9\u05c1]&nbsp;&nbsp;&nbsp;&nbsp;|&nbsp;&nbsp;&nbsp;|&nbsp;&nbsp;&nbsp;&nbsp;&nbsp;&nbsp;</td><td style=\"font-family:Courier\">xQt0</td><td nowrap>&nbsp;&nbsp;&nbsp;&nbsp;&nbsp;&nbsp;|&nbsp;&nbsp;&nbsp;|&nbsp;&nbsp;the one who/which <span class=\"translation_verb\">has</span> <span class=\"translation_verb\">been</span> to us </td></tr><tr><td></td><td class=\"unicode\" nowrap>&nbsp;&nbsp;&nbsp;&nbsp;&nbsp;&nbsp;&nbsp;&nbsp;&nbsp;&nbsp;&nbsp;&nbsp;&nbsp;&nbsp;&nbsp;&nbsp;&nbsp;&nbsp;&nbsp;&nbsp;&nbsp;&nbsp;&nbsp;&nbsp;[&lt;Su&gt;&nbsp;\u05d0\u05d3\u05dd]&nbsp;&nbsp;[&lt;Co&gt;&nbsp;\u05e2\u05dc\u05d9\u05e0\u05d5]&nbsp;<span class=\"verb\">&nbsp;[&lt;Pr&gt;&nbsp;\u05d1-\u05e7\u05d5\u05dd]</span>&nbsp;&nbsp;&nbsp;&nbsp;&nbsp;&nbsp;&nbsp;&nbsp;|&nbsp;&nbsp;&nbsp;|&nbsp;&nbsp;&nbsp;&nbsp;&nbsp;&nbsp;</td><td style=\"font-family:Courier\">InfC</td><td nowrap>&nbsp;&nbsp;&nbsp;&nbsp;&nbsp;&nbsp;|&nbsp;&nbsp;&nbsp;|&nbsp;&nbsp;&nbsp;&nbsp;&nbsp;&nbsp;while/when a human <span class=\"translation_verb\">is</span> <span class=\"translation_verb\">arising</span> <span class=\"translation_verb\">(against)</span> </td></tr><tr><td>003</td><td class=\"unicode\" nowrap><span class=\"verb\">&nbsp;&nbsp;&nbsp;&nbsp;&nbsp;&nbsp;&nbsp;&nbsp;&nbsp;&nbsp;&nbsp;&nbsp;&nbsp;&nbsp;&nbsp;&nbsp;&nbsp;&nbsp;&nbsp;&nbsp;&nbsp;&nbsp;&nbsp;&nbsp;&nbsp;&nbsp;&nbsp;&nbsp;&nbsp;&nbsp;&nbsp;&nbsp;[&lt;PO&gt;&nbsp;\u05d1\u05dc\u05e2\u05d5\u05e0\u05d5]</span>&nbsp;&nbsp;[&lt;Pj&gt;&nbsp;\u05d7\u05d9\u05d9\u05dd]&nbsp;&nbsp;[&lt;Mo&gt;&nbsp;\u05d0\u05d6\u05d9]&nbsp;&nbsp;&nbsp;&nbsp;|&nbsp;&nbsp;&nbsp;&nbsp;&nbsp;&nbsp;</td><td style=\"font-family:Courier\">xQt0</td><td nowrap>&nbsp;&nbsp;&nbsp;&nbsp;&nbsp;&nbsp;|&nbsp;&nbsp;then they <span class=\"translation_verb\">have</span> <span class=\"translation_verb\">swallowed</span> us </td></tr><tr><td></td><td class=\"unicode\" nowrap>&nbsp;&nbsp;&nbsp;&nbsp;&nbsp;&nbsp;&nbsp;&nbsp;&nbsp;&nbsp;&nbsp;&nbsp;&nbsp;&nbsp;&nbsp;&nbsp;&nbsp;&nbsp;&nbsp;&nbsp;&nbsp;&nbsp;&nbsp;&nbsp;&nbsp;[&lt;Co&gt;&nbsp;\u05d1\u05e0\u05d5]&nbsp;&nbsp;[&lt;Su&gt;&nbsp;\u05d0\u05e4\u05dd]&nbsp;<span class=\"verb\">&nbsp;[&lt;Pr&gt;&nbsp;\u05d1-\u05d7\u05e8\u05d5\u05ea]</span>&nbsp;&nbsp;&nbsp;&nbsp;|&nbsp;&nbsp;&nbsp;&nbsp;&nbsp;&nbsp;&nbsp;|&nbsp;&nbsp;&nbsp;&nbsp;&nbsp;&nbsp;</td><td style=\"font-family:Courier\">InfC</td><td nowrap>&nbsp;&nbsp;&nbsp;&nbsp;&nbsp;&nbsp;|&nbsp;&nbsp;&nbsp;&nbsp;&nbsp;&nbsp;&nbsp;|&nbsp;&nbsp;while/when their nose <span class=\"translation_verb\">is</span> <span class=\"translation_verb\">being</span> <span class=\"translation_verb\">hot</span> </td></tr><tr><td>004</td><td class=\"unicode\" nowrap><span class=\"verb\">&nbsp;&nbsp;&nbsp;&nbsp;&nbsp;&nbsp;&nbsp;&nbsp;&nbsp;&nbsp;&nbsp;&nbsp;&nbsp;&nbsp;&nbsp;&nbsp;&nbsp;&nbsp;&nbsp;&nbsp;&nbsp;&nbsp;&nbsp;&nbsp;&nbsp;&nbsp;&nbsp;[&lt;PO&gt;&nbsp;\u05e9\u05c1\u05d8\u05e4\u05d5\u05e0\u05d5]</span>&nbsp;&nbsp;[&lt;Su&gt;&nbsp;\u05d4-\u05de\u05d9\u05dd]&nbsp;&nbsp;[&lt;Mo&gt;&nbsp;\u05d0\u05d6\u05d9]&nbsp;&nbsp;&nbsp;&nbsp;&nbsp;&nbsp;&nbsp;&nbsp;|&nbsp;&nbsp;&nbsp;&nbsp;&nbsp;&nbsp;</td><td style=\"font-family:Courier\">xXQt</td><td nowrap>&nbsp;&nbsp;&nbsp;&nbsp;&nbsp;&nbsp;|&nbsp;&nbsp;&nbsp;&nbsp;&nbsp;&nbsp;then the waters <span class=\"translation_verb\">have</span> <span class=\"translation_verb\">washed</span> <span class=\"translation_verb\">off</span> us </td></tr><tr><td></td><td class=\"unicode\" nowrap>&nbsp;&nbsp;&nbsp;&nbsp;&nbsp;&nbsp;&nbsp;&nbsp;&nbsp;&nbsp;&nbsp;&nbsp;&nbsp;&nbsp;&nbsp;&nbsp;&nbsp;&nbsp;[&lt;Co&gt;&nbsp;\u05e2\u05dc&nbsp;\u05e0\u05e4\u05e9\u05c1\u05e0\u05d5]&nbsp;<span class=\"verb\">&nbsp;[&lt;Pr&gt;&nbsp;\u05e2\u05d1\u05e8]</span>&nbsp;&nbsp;[&lt;Su&gt;&nbsp;\u05e0\u05d7\u05dc\u05d4]&nbsp;&nbsp;&nbsp;&nbsp;|&nbsp;&nbsp;&nbsp;&nbsp;&nbsp;&nbsp;&nbsp;&nbsp;&nbsp;&nbsp;&nbsp;|&nbsp;&nbsp;&nbsp;&nbsp;&nbsp;&nbsp;</td><td style=\"font-family:Courier\">XQtl</td><td nowrap>&nbsp;&nbsp;&nbsp;&nbsp;&nbsp;&nbsp;|&nbsp;&nbsp;&nbsp;&nbsp;&nbsp;&nbsp;&nbsp;&nbsp;&nbsp;&nbsp;&nbsp;|&nbsp;&nbsp;(then) a wadi <span class=\"translation_verb\">has</span> <span class=\"translation_verb\">passed</span> </td></tr><tr><td>005</td><td class=\"unicode\" nowrap>[&lt;Su&gt;&nbsp;\u05d4-\u05de\u05d9\u05dd&nbsp;\u05d4-\u05d6\u05d9\u05d3\u05d5\u05e0\u05d9\u05dd]&nbsp;&nbsp;[&lt;Co&gt;&nbsp;\u05e2\u05dc&nbsp;\u05e0\u05e4\u05e9\u05c1\u05e0\u05d5]&nbsp;<span class=\"verb\">&nbsp;[&lt;Pr&gt;&nbsp;\u05e2\u05d1\u05e8]</span>&nbsp;&nbsp;[&lt;Mo&gt;&nbsp;\u05d0\u05d6\u05d9]&nbsp;&nbsp;&nbsp;&nbsp;&nbsp;&nbsp;&nbsp;&nbsp;&nbsp;&nbsp;&nbsp;&nbsp;|&nbsp;&nbsp;&nbsp;&nbsp;&nbsp;&nbsp;</td><td style=\"font-family:Courier\">xQtX</td><td nowrap>&nbsp;&nbsp;&nbsp;&nbsp;&nbsp;&nbsp;|&nbsp;&nbsp;&nbsp;&nbsp;&nbsp;&nbsp;&nbsp;&nbsp;&nbsp;&nbsp;then the waters <span class=\"translation_verb\">has</span> <span class=\"translation_verb\">passed</span> </td></tr><tr><td>006</td><td class=\"unicode\" nowrap>&nbsp;&nbsp;&nbsp;&nbsp;&nbsp;&nbsp;&nbsp;&nbsp;&nbsp;&nbsp;&nbsp;&nbsp;&nbsp;&nbsp;&nbsp;&nbsp;&nbsp;&nbsp;&nbsp;&nbsp;&nbsp;&nbsp;&nbsp;&nbsp;&nbsp;&nbsp;&nbsp;&nbsp;&nbsp;&nbsp;&nbsp;&nbsp;&nbsp;&nbsp;&nbsp;&nbsp;&nbsp;&nbsp;&nbsp;&nbsp;&nbsp;&nbsp;&nbsp;&nbsp;&nbsp;&nbsp;&nbsp;&nbsp;&nbsp;[&lt;Su&gt;&nbsp;\u05d9\u05d4\u05d5\u05d4]&nbsp;<span class=\"verb\">&nbsp;[&lt;PC&gt;&nbsp;\u05d1\u05e8\u05d5\u05da]</span>&nbsp;&nbsp;&nbsp;&nbsp;&nbsp;&nbsp;&nbsp;</td><td style=\"font-family:Courier\">Ptcp</td><td nowrap>&nbsp;&nbsp;&nbsp;&nbsp;&nbsp;YHWH <span class=\"translation_verb\">is</span> <span class=\"translation_verb\">being</span> <span class=\"translation_verb\">blessed</span> </td></tr><tr><td></td><td class=\"unicode\" nowrap>&nbsp;&nbsp;&nbsp;[&lt;Co&gt;&nbsp;\u05dc-\u05e9\u05c1\u05e0\u05d9\u05d4\u05dd]&nbsp;&nbsp;[&lt;Ob&gt;&nbsp;\u05d8\u05e8\u05e3]&nbsp;<span class=\"verb\">&nbsp;[&lt;PO&gt;&nbsp;\u05e0\u05ea\u05e0\u05e0\u05d5]</span>&nbsp;&nbsp;[&lt;Ng&gt;&nbsp;\u05dc\u05d0]&nbsp;&nbsp;[&lt;Cj&gt;&nbsp;-\u05e9\u05c1]&nbsp;&nbsp;&nbsp;&nbsp;|&nbsp;&nbsp;&nbsp;|&nbsp;&nbsp;&nbsp;&nbsp;&nbsp;&nbsp;&nbsp;&nbsp;&nbsp;&nbsp;</td><td style=\"font-family:Courier\">xQt0</td><td nowrap>&nbsp;&nbsp;&nbsp;&nbsp;&nbsp;&nbsp;&nbsp;&nbsp;&nbsp;&nbsp;|&nbsp;&nbsp;&nbsp;|&nbsp;&nbsp;who/which <span class=\"translation_verb\">has</span> not <span class=\"translation_verb\">given</span> us </td></tr><tr><td>007</td><td class=\"unicode\" nowrap>&nbsp;&nbsp;&nbsp;&nbsp;&nbsp;&nbsp;[&lt;Co&gt;&nbsp;\u05de-\u05e4\u05d7&nbsp;\u05d9\u05d5\u05e7\u05e9\u05c1\u05d9\u05dd]&nbsp;<span class=\"verb\">&nbsp;[&lt;Pr&gt;&nbsp;\u05e0\u05de\u05dc\u05d8\u05d4]</span>&nbsp;&nbsp;[&lt;Aj&gt;&nbsp;\u05db-\u05e6\u05e4\u05d5\u05e8]&nbsp;&nbsp;[&lt;Su&gt;&nbsp;\u05e0\u05e4\u05e9\u05c1\u05e0\u05d5]&nbsp;&nbsp;&nbsp;&nbsp;|&nbsp;&nbsp;&nbsp;&nbsp;&nbsp;&nbsp;&nbsp;&nbsp;&nbsp;&nbsp;</td><td style=\"font-family:Courier\">XxQt</td><td nowrap>&nbsp;&nbsp;&nbsp;&nbsp;&nbsp;&nbsp;&nbsp;&nbsp;&nbsp;&nbsp;|&nbsp;&nbsp;our soul <span class=\"translation_verb\">has</span> <span class=\"translation_verb\">escaped</span> </td></tr><tr><td></td><td class=\"unicode\" nowrap><span class=\"verb\">&nbsp;&nbsp;&nbsp;&nbsp;&nbsp;&nbsp;&nbsp;&nbsp;&nbsp;&nbsp;&nbsp;&nbsp;&nbsp;&nbsp;&nbsp;&nbsp;&nbsp;&nbsp;&nbsp;&nbsp;&nbsp;&nbsp;&nbsp;&nbsp;&nbsp;&nbsp;&nbsp;&nbsp;&nbsp;&nbsp;&nbsp;&nbsp;&nbsp;&nbsp;&nbsp;&nbsp;&nbsp;[&lt;PC&gt;&nbsp;\u05e0\u05e9\u05c1\u05d1\u05e8]</span>&nbsp;&nbsp;[&lt;Su&gt;&nbsp;\u05d4-\u05e4\u05d7]&nbsp;&nbsp;&nbsp;&nbsp;&nbsp;&nbsp;&nbsp;&nbsp;|&nbsp;&nbsp;&nbsp;&nbsp;&nbsp;&nbsp;&nbsp;&nbsp;&nbsp;&nbsp;</td><td style=\"font-family:Courier\">Ptcp</td><td nowrap>&nbsp;&nbsp;&nbsp;&nbsp;&nbsp;&nbsp;&nbsp;&nbsp;&nbsp;&nbsp;|&nbsp;&nbsp;&nbsp;&nbsp;&nbsp;&nbsp;the bird-trap <span class=\"translation_verb\">is</span> <span class=\"translation_verb\">being</span> <span class=\"translation_verb\">broken</span> </td></tr><tr><td></td><td class=\"unicode\" nowrap><span class=\"verb\">&nbsp;&nbsp;&nbsp;&nbsp;&nbsp;&nbsp;&nbsp;&nbsp;&nbsp;&nbsp;&nbsp;&nbsp;&nbsp;&nbsp;&nbsp;&nbsp;&nbsp;&nbsp;&nbsp;&nbsp;&nbsp;[&lt;Pr&gt;&nbsp;\u05e0\u05de\u05dc\u05d8\u05e0\u05d5]</span>&nbsp;&nbsp;[&lt;Su&gt;&nbsp;\u05d0\u05e0\u05d7\u05e0\u05d5]&nbsp;&nbsp;[&lt;Cj&gt;&nbsp;-\u05d5]&nbsp;&nbsp;&nbsp;&nbsp;&nbsp;&nbsp;&nbsp;&nbsp;&nbsp;&nbsp;&nbsp;&nbsp;|&nbsp;&nbsp;&nbsp;&nbsp;&nbsp;&nbsp;&nbsp;&nbsp;&nbsp;&nbsp;</td><td style=\"font-family:Courier\">WXQt</td><td nowrap>&nbsp;&nbsp;&nbsp;&nbsp;&nbsp;&nbsp;&nbsp;&nbsp;&nbsp;&nbsp;|&nbsp;&nbsp;&nbsp;&nbsp;&nbsp;&nbsp;&nbsp;&nbsp;&nbsp;&nbsp;while we <span class=\"translation_verb\">have</span> <span class=\"translation_verb\">escaped</span> </td></tr><tr><td>008</td><td class=\"unicode\" nowrap>&nbsp;&nbsp;&nbsp;&nbsp;&nbsp;&nbsp;&nbsp;&nbsp;&nbsp;&nbsp;&nbsp;&nbsp;&nbsp;&nbsp;&nbsp;&nbsp;&nbsp;&nbsp;[&lt;ap&gt;&lt;PC&gt;&nbsp;\u05d1-\u05e9\u05c1\u05dd&nbsp;\u05d9\u05d4\u05d5\u05d4&nbsp;/&nbsp;\u05e2\u05e9\u05c2\u05d4&nbsp;\u05e9\u05c1\u05de\u05d9\u05dd&nbsp;\u05d5-\u05d0\u05e8\u05e5]&nbsp;&nbsp;[&lt;Su&gt;&nbsp;\u05e2\u05d6\u05e8\u05e0\u05d5]&nbsp;&nbsp;&nbsp;&nbsp;&nbsp;&nbsp;&nbsp;&nbsp;&nbsp;&nbsp;&nbsp;</td><td style=\"font-family:Courier\">NmCl</td><td nowrap>&nbsp;&nbsp;&nbsp;&nbsp;&nbsp;&nbsp;&nbsp;&nbsp;&nbsp;our help <span class=\"translation_verb\">is</span> in/among the name of YHWH </td></tr></table>"
       ],
       "metadata": {},
       "output_type": "display_data",
       "text": [
        "<IPython.core.display.HTML at 0x3c19290>"
       ]
      }
     ],
     "prompt_number": 2
    },
    {
     "cell_type": "heading",
     "level": 2,
     "metadata": {},
     "source": [
      "2. Analysis of Psalm 124"
     ]
    },
    {
     "cell_type": "code",
     "collapsed": false,
     "input": [
      "Psalms.print_analysis(\"Input/psalmen124Raw.txt\")"
     ],
     "language": "python",
     "metadata": {},
     "outputs": [
      {
       "html": [
        "<table class=\"presentation\" id=\"Analysis\"><tr><th>Vs</th><th>Ln</th><th nowrap><a href=\"HebrewText.ipynb\" target=\"_blank\">Hebrew text</a><br><div class=\"small\">(mouse-over for <a href=\"Translation.ipynb\" target=\"_blank\">Translation)</a></div></th><th nowrap><a href=\"ClauseLabels.ipynb\" target=\"_blank\">ClTp</a><br><div class=\"small\">(mouse-over<br>for<br><a href=\"DefaultDiscourseFunctions.ipynb\" target=\"_blank\">DefDiscFu)</a></div></th><th><a href=\"DefaultFunctions.ipynb\" target=\"_blank\">DefFu</a></th><th><a href=\"Processes.ipynb\" target=\"_blank\">Processes</a><br><div class=\"small\">(hover over<br>\"!\"-sign)</div></th><th><a href=\"FinalFunctions.ipynb\" target=\"_blank\">FinFu</a></th><th><a href=\"MDModifier.ipynb\" target=\"_blank\">MDMod</a></th><th><a href=\"CCR.ipynb\" target=\"_blank\">CCR</a></th><th><a href=\"DiscourseFunctions.ipynb\" target=\"_blank\">DiscFu</a></th><th><a href=\"ConcordanceOfPatterns.ipynb\" target=\"_blank\">#Pat</a></th></tr><tr id=\"ln1\"><td>001</td><td>1</td><td class=\"unicode\" nowrap><div class=\"front_hebrew\">&nbsp;&nbsp;&nbsp;&nbsp;&nbsp;&nbsp;&nbsp;&nbsp;&nbsp;&nbsp;&nbsp;&nbsp;&nbsp;&nbsp;&nbsp;&nbsp;&nbsp;&nbsp;&nbsp;&nbsp;&nbsp;&nbsp;&nbsp;&nbsp;&nbsp;&nbsp;&nbsp;&nbsp;&nbsp;&nbsp;&nbsp;&nbsp;&nbsp;&nbsp;&nbsp;&nbsp;&nbsp;&nbsp;&nbsp;&nbsp;&nbsp;&nbsp;&nbsp;&nbsp;&nbsp;&nbsp;&nbsp;&nbsp;&nbsp;&nbsp;&nbsp;&nbsp;&nbsp;&nbsp;&nbsp;&nbsp;&nbsp;&nbsp;[&lt;PC&gt;&nbsp;\u05e9\u05c1\u05d9\u05e8&nbsp;\u05d4-\u05de\u05e2\u05dc\u05d5\u05ea]&nbsp;&nbsp;<div class=\"translation\">this <span class=\"translation_verb\">is</span> the song of the ascents </div></div></td><td><div class=\"front\">NmCl<div class=\"def_disc\">disc-main</div></div></td><td><div class=\"left\">nomin.</div></td><td>  </td><td><div class=\"right\">nomin.</div></td><td class=\"unicode\"></td><td></td><td>(re)openMain</td><td>&nbsp;</td></tr><tr id=\"ln2\"><td>001</td><td>2</td><td class=\"unicode\" nowrap><div class=\"front_hebrew\">&nbsp;&nbsp;&nbsp;&nbsp;&nbsp;&nbsp;&nbsp;&nbsp;&nbsp;&nbsp;&nbsp;&nbsp;&nbsp;&nbsp;&nbsp;&nbsp;&nbsp;&nbsp;&nbsp;&nbsp;&nbsp;&nbsp;&nbsp;&nbsp;&nbsp;&nbsp;&nbsp;&nbsp;&nbsp;&nbsp;&nbsp;&nbsp;&nbsp;&nbsp;&nbsp;&nbsp;&nbsp;&nbsp;&nbsp;&nbsp;&nbsp;&nbsp;&nbsp;&nbsp;&nbsp;&nbsp;&nbsp;&nbsp;&nbsp;&nbsp;&nbsp;&nbsp;&nbsp;&nbsp;&nbsp;&nbsp;&nbsp;&nbsp;&nbsp;&nbsp;[&lt;PC&gt;&nbsp;\u05dc-\u05d3\u05d5\u05d3]&nbsp;&nbsp;&nbsp;|&nbsp;&nbsp;<div class=\"translation\">this <span class=\"translation_verb\">is</span> to David </div></div></td><td><div class=\"front\">NmCl<div class=\"def_disc\">disc-main</div></div></td><td><div class=\"left\">nomin.</div></td><td>  </td><td><div class=\"right\">nomin.</div></td><td class=\"unicode\"></td><td></td><td>cntMain</td><td><a href=\"ConcordanceOfPatterns.ipynb#1731\" target=\"_blank\">1731</a></td></tr><tr id=\"ln3\"><td>001</td><td>3</td><td class=\"unicode\" nowrap><div class=\"front_hebrew\">&nbsp;&nbsp;&nbsp;&nbsp;&nbsp;&nbsp;&nbsp;&nbsp;&nbsp;&nbsp;&nbsp;&nbsp;&nbsp;&nbsp;&nbsp;&nbsp;&nbsp;&nbsp;&nbsp;&nbsp;&nbsp;&nbsp;&nbsp;&nbsp;&nbsp;&nbsp;&nbsp;&nbsp;&nbsp;&nbsp;&nbsp;&nbsp;&nbsp;&nbsp;&nbsp;&nbsp;&nbsp;&nbsp;&nbsp;&nbsp;&nbsp;&nbsp;&nbsp;&nbsp;&nbsp;&nbsp;&nbsp;&nbsp;&nbsp;&nbsp;&nbsp;&nbsp;&nbsp;[&lt;Su&gt;&nbsp;\u05d9\u05d4\u05d5\u05d4]&nbsp;[&lt;Cj&gt;&nbsp;\u05dc\u05d5\u05dc\u05d9]&nbsp;&nbsp;<div class=\"translation\">if not YHWH <span class=\"translation_verb\">is</span> </div></div></td><td><div class=\"front\">NmCl<div class=\"def_disc\">disc-main</div></div></td><td><div class=\"left\">nomin.</div></td><td>  </td><td><div class=\"right\">nomin.</div></td><td class=\"unicode\"></td><td></td><td>opnProtMain</td><td>&nbsp;</td></tr><tr id=\"ln4\"><td>001</td><td>4</td><td class=\"unicode\" nowrap><div class=\"front_hebrew\">&nbsp;&nbsp;&nbsp;&nbsp;&nbsp;&nbsp;&nbsp;&nbsp;&nbsp;&nbsp;&nbsp;&nbsp;&nbsp;&nbsp;&nbsp;&nbsp;&nbsp;&nbsp;&nbsp;&nbsp;&nbsp;&nbsp;&nbsp;&nbsp;&nbsp;&nbsp;&nbsp;&nbsp;&nbsp;&nbsp;&nbsp;&nbsp;&nbsp;&nbsp;&nbsp;&nbsp;&nbsp;&nbsp;[&lt;PC&gt;&nbsp;\u05dc\u05e0\u05d5]&nbsp;[&lt;Pr&gt;&nbsp;\u05d4\u05d9\u05d4]&nbsp;[&lt;Re&gt;&nbsp;-\u05e9\u05c1]&nbsp;&nbsp;&nbsp;|&nbsp;&nbsp;&nbsp;|&nbsp;&nbsp;<div class=\"translation\">the one who/which <span class=\"translation_verb\">has</span> <span class=\"translation_verb\">been</span> to us </div></div></td><td><div class=\"front\">xQt0<div class=\"def_disc\">disc-2nd-retro</div></div></td><td><div class=\"left\">ind.</div></td><td>  </td><td><div class=\"right\">ind.</div></td><td class=\"unicode\"></td><td>PcCl</td><td>opnDpLn2ndR</td><td>&nbsp;</td></tr><tr id=\"ln5\"><td>001</td><td>5</td><td class=\"unicode\" nowrap><div class=\"front_hebrew\">&nbsp;&nbsp;&nbsp;&nbsp;&nbsp;&nbsp;&nbsp;&nbsp;&nbsp;&nbsp;&nbsp;&nbsp;&nbsp;&nbsp;&nbsp;&nbsp;&nbsp;&nbsp;&nbsp;&nbsp;&nbsp;&nbsp;&nbsp;&nbsp;&nbsp;&nbsp;&nbsp;&nbsp;&nbsp;&nbsp;&nbsp;&nbsp;&nbsp;&nbsp;&nbsp;&nbsp;&nbsp;&nbsp;[&lt;Su&gt;&nbsp;\u05d9\u05e9\u05c2\u05e8\u05d0\u05dc]&nbsp;[&lt;Ij&gt;&nbsp;\u05e0\u05d0]&nbsp;[&lt;Pr&gt;&nbsp;\u05d9\u05d0\u05de\u05e8]&nbsp;&nbsp;&nbsp;|&nbsp;&nbsp;<div class=\"translation\">yeah, Israel <span class=\"translation_verb\">says</span> </div></div></td><td><div class=\"front\">ZYqX<div class=\"def_disc\">disc-main-zero</div></div></td><td><div class=\"left\">volit.</div></td><td><div class=\"front_a\">!<div class=\"factors\">This 0-yiqtol clause introduces the preceding direct speech section, which should be seen as the 0-yiqtol verb's object. Therefore the clause does not fulfill its volitive default function.</div></div></td><td><div class=\"right\">non-vol.</div></td><td class=\"unicode\"></td><td></td><td>(re)openMain</td><td>&nbsp;</td></tr><tr id=\"ln6\"><td>002</td><td>6</td><td class=\"unicode\" nowrap><div class=\"front_hebrew\">&nbsp;&nbsp;&nbsp;&nbsp;&nbsp;&nbsp;&nbsp;&nbsp;&nbsp;&nbsp;&nbsp;&nbsp;&nbsp;&nbsp;&nbsp;&nbsp;&nbsp;&nbsp;&nbsp;&nbsp;&nbsp;&nbsp;&nbsp;&nbsp;&nbsp;&nbsp;&nbsp;&nbsp;&nbsp;&nbsp;&nbsp;&nbsp;&nbsp;&nbsp;&nbsp;&nbsp;&nbsp;&nbsp;&nbsp;&nbsp;&nbsp;&nbsp;&nbsp;&nbsp;&nbsp;&nbsp;&nbsp;&nbsp;&nbsp;&nbsp;&nbsp;&nbsp;&nbsp;[&lt;Su&gt;&nbsp;\u05d9\u05d4\u05d5\u05d4]&nbsp;[&lt;Cj&gt;&nbsp;\u05dc\u05d5\u05dc\u05d9]&nbsp;&nbsp;<div class=\"translation\">if not YHWH <span class=\"translation_verb\">is</span> </div></div></td><td><div class=\"front\">NmCl<div class=\"def_disc\">disc-main</div></div></td><td><div class=\"left\">nomin.</div></td><td>  </td><td><div class=\"right\">nomin.</div></td><td class=\"unicode\"></td><td></td><td>opnProtMain</td><td><a href=\"ConcordanceOfPatterns.ipynb#1733\" target=\"_blank\">1733</a></td></tr><tr id=\"ln7\"><td>002</td><td>7</td><td class=\"unicode\" nowrap><div class=\"front_hebrew\">&nbsp;&nbsp;&nbsp;&nbsp;&nbsp;&nbsp;&nbsp;&nbsp;&nbsp;&nbsp;&nbsp;&nbsp;&nbsp;&nbsp;&nbsp;&nbsp;&nbsp;&nbsp;&nbsp;&nbsp;&nbsp;&nbsp;&nbsp;&nbsp;&nbsp;&nbsp;&nbsp;&nbsp;&nbsp;&nbsp;&nbsp;&nbsp;&nbsp;&nbsp;[&lt;PC&gt;&nbsp;\u05dc\u05e0\u05d5]&nbsp;[&lt;Pr&gt;&nbsp;\u05d4\u05d9\u05d4]&nbsp;[&lt;Re&gt;&nbsp;-\u05e9\u05c1]&nbsp;&nbsp;&nbsp;|&nbsp;&nbsp;&nbsp;|&nbsp;&nbsp;&nbsp;&nbsp;&nbsp;&nbsp;<div class=\"translation\">the one who/which <span class=\"translation_verb\">has</span> <span class=\"translation_verb\">been</span> to us </div></div></td><td><div class=\"front\">xQt0<div class=\"def_disc\">disc-2nd-retro</div></div></td><td><div class=\"left\">ind.</div></td><td>  </td><td><div class=\"right\">ind.</div></td><td class=\"unicode\"></td><td>PcCl</td><td>opnDpLn2ndR</td><td>&nbsp;</td></tr><tr id=\"ln8\"><td>002</td><td>8</td><td class=\"unicode\" nowrap><div class=\"front_hebrew\">&nbsp;&nbsp;&nbsp;&nbsp;&nbsp;&nbsp;&nbsp;&nbsp;&nbsp;&nbsp;&nbsp;&nbsp;&nbsp;&nbsp;&nbsp;&nbsp;&nbsp;&nbsp;&nbsp;&nbsp;&nbsp;&nbsp;&nbsp;&nbsp;[&lt;Su&gt;&nbsp;\u05d0\u05d3\u05dd]&nbsp;[&lt;Co&gt;&nbsp;\u05e2\u05dc\u05d9\u05e0\u05d5]&nbsp;[&lt;Pr&gt;&nbsp;\u05d1-\u05e7\u05d5\u05dd]&nbsp;&nbsp;&nbsp;&nbsp;&nbsp;&nbsp;&nbsp;|&nbsp;&nbsp;&nbsp;|&nbsp;&nbsp;&nbsp;&nbsp;&nbsp;&nbsp;<div class=\"translation\">while/when a human <span class=\"translation_verb\">is</span> <span class=\"translation_verb\">arising</span> <span class=\"translation_verb\">(against)</span> </div></div></td><td><div class=\"front\">InfC<div class=\"def_disc\"></div></div></td><td><div class=\"left\">inf.</div></td><td>  </td><td><div class=\"right\">inf.</div></td><td class=\"unicode\"></td><td>AjCl</td><td>opnDpLn</td><td>&nbsp;</td></tr><tr id=\"ln9\"><td>003</td><td>9</td><td class=\"unicode\" nowrap><div class=\"front_hebrew\">&nbsp;&nbsp;&nbsp;&nbsp;&nbsp;&nbsp;&nbsp;&nbsp;&nbsp;&nbsp;&nbsp;&nbsp;&nbsp;&nbsp;&nbsp;&nbsp;&nbsp;&nbsp;&nbsp;&nbsp;&nbsp;&nbsp;&nbsp;&nbsp;&nbsp;&nbsp;&nbsp;&nbsp;&nbsp;&nbsp;&nbsp;&nbsp;[&lt;PO&gt;&nbsp;\u05d1\u05dc\u05e2\u05d5\u05e0\u05d5]&nbsp;[&lt;Pj&gt;&nbsp;\u05d7\u05d9\u05d9\u05dd]&nbsp;[&lt;Mo&gt;&nbsp;\u05d0\u05d6\u05d9]&nbsp;&nbsp;&nbsp;|&nbsp;&nbsp;&nbsp;&nbsp;&nbsp;&nbsp;<div class=\"translation\">then they <span class=\"translation_verb\">have</span> <span class=\"translation_verb\">swallowed</span> us </div></div></td><td><div class=\"front\">xQt0<div class=\"def_disc\">disc-2nd-retro</div></div></td><td><div class=\"left\">ind.</div></td><td>  </td><td><div class=\"right\">ind.</div></td><td class=\"unicode\"></td><td></td><td>opnApod2ndR</td><td><a href=\"ConcordanceOfPatterns.ipynb#1012\" target=\"_blank\">1012</a></td></tr><tr id=\"ln10\"><td>003</td><td>10</td><td class=\"unicode\" nowrap><div class=\"front_hebrew\">&nbsp;&nbsp;&nbsp;&nbsp;&nbsp;&nbsp;&nbsp;&nbsp;&nbsp;&nbsp;&nbsp;&nbsp;&nbsp;&nbsp;&nbsp;&nbsp;&nbsp;&nbsp;&nbsp;&nbsp;&nbsp;&nbsp;&nbsp;&nbsp;&nbsp;[&lt;Co&gt;&nbsp;\u05d1\u05e0\u05d5]&nbsp;[&lt;Su&gt;&nbsp;\u05d0\u05e4\u05dd]&nbsp;[&lt;Pr&gt;&nbsp;\u05d1-\u05d7\u05e8\u05d5\u05ea]&nbsp;&nbsp;&nbsp;|&nbsp;&nbsp;&nbsp;&nbsp;&nbsp;&nbsp;&nbsp;|&nbsp;&nbsp;&nbsp;&nbsp;&nbsp;&nbsp;<div class=\"translation\">while/when their nose <span class=\"translation_verb\">is</span> <span class=\"translation_verb\">being</span> <span class=\"translation_verb\">hot</span> </div></div></td><td><div class=\"front\">InfC<div class=\"def_disc\"></div></div></td><td><div class=\"left\">inf.</div></td><td>  </td><td><div class=\"right\">inf.</div></td><td class=\"unicode\"></td><td>AjCl</td><td>opnDpLn</td><td>&nbsp;</td></tr><tr id=\"ln11\"><td>004</td><td>11</td><td class=\"unicode\" nowrap><div class=\"front_hebrew\">&nbsp;&nbsp;&nbsp;&nbsp;&nbsp;&nbsp;&nbsp;&nbsp;&nbsp;&nbsp;&nbsp;&nbsp;&nbsp;&nbsp;&nbsp;&nbsp;&nbsp;&nbsp;&nbsp;&nbsp;&nbsp;&nbsp;&nbsp;&nbsp;&nbsp;&nbsp;&nbsp;[&lt;PO&gt;&nbsp;\u05e9\u05c1\u05d8\u05e4\u05d5\u05e0\u05d5]&nbsp;[&lt;Su&gt;&nbsp;\u05d4-\u05de\u05d9\u05dd]&nbsp;[&lt;Mo&gt;&nbsp;\u05d0\u05d6\u05d9]&nbsp;&nbsp;&nbsp;&nbsp;&nbsp;&nbsp;&nbsp;|&nbsp;&nbsp;&nbsp;&nbsp;&nbsp;&nbsp;<div class=\"translation\">then the waters <span class=\"translation_verb\">have</span> <span class=\"translation_verb\">washed</span> <span class=\"translation_verb\">off</span> us </div></div></td><td><div class=\"front\">xXQt<div class=\"def_disc\">disc-2nd-retro</div></div></td><td><div class=\"left\">ind.</div></td><td>  </td><td><div class=\"right\">ind.</div></td><td class=\"unicode\"></td><td>Coor</td><td>cntApod2ndR</td><td><a href=\"ConcordanceOfPatterns.ipynb#792\" target=\"_blank\">792</a></td></tr><tr id=\"ln12\"><td>004</td><td>12</td><td class=\"unicode\" nowrap><div class=\"front_hebrew\">&nbsp;&nbsp;&nbsp;&nbsp;&nbsp;&nbsp;&nbsp;&nbsp;&nbsp;&nbsp;&nbsp;&nbsp;&nbsp;&nbsp;&nbsp;&nbsp;&nbsp;&nbsp;[&lt;Co&gt;&nbsp;\u05e2\u05dc&nbsp;\u05e0\u05e4\u05e9\u05c1\u05e0\u05d5]&nbsp;[&lt;Pr&gt;&nbsp;\u05e2\u05d1\u05e8]&nbsp;[&lt;Su&gt;&nbsp;\u05e0\u05d7\u05dc\u05d4]&nbsp;&nbsp;&nbsp;|&nbsp;&nbsp;&nbsp;&nbsp;&nbsp;&nbsp;&nbsp;&nbsp;&nbsp;&nbsp;&nbsp;|&nbsp;&nbsp;&nbsp;&nbsp;&nbsp;&nbsp;<div class=\"translation\">(then) a wadi <span class=\"translation_verb\">has</span> <span class=\"translation_verb\">passed</span> </div></div></td><td><div class=\"front\">XQtl<div class=\"def_disc\">disc-2nd-retro</div></div></td><td><div class=\"left\">ind.</div></td><td>  </td><td><div class=\"right\">ind.</div></td><td class=\"unicode\">\u05d0\u05d6\u05d9</td><td>Coor</td><td>cntApod2ndR</td><td><a href=\"ConcordanceOfPatterns.ipynb#792\" target=\"_blank\">792</a></td></tr><tr id=\"ln13\"><td>005</td><td>13</td><td class=\"unicode\" nowrap><div class=\"front_hebrew\">[&lt;Su&gt;&nbsp;\u05d4-\u05de\u05d9\u05dd&nbsp;\u05d4-\u05d6\u05d9\u05d3\u05d5\u05e0\u05d9\u05dd]&nbsp;[&lt;Co&gt;&nbsp;\u05e2\u05dc&nbsp;\u05e0\u05e4\u05e9\u05c1\u05e0\u05d5]&nbsp;[&lt;Pr&gt;&nbsp;\u05e2\u05d1\u05e8]&nbsp;[&lt;Mo&gt;&nbsp;\u05d0\u05d6\u05d9]&nbsp;&nbsp;&nbsp;&nbsp;&nbsp;&nbsp;&nbsp;&nbsp;&nbsp;&nbsp;&nbsp;|&nbsp;&nbsp;&nbsp;&nbsp;&nbsp;&nbsp;<div class=\"translation\">then the waters <span class=\"translation_verb\">has</span> <span class=\"translation_verb\">passed</span> </div></div></td><td><div class=\"front\">xQtX<div class=\"def_disc\">disc-2nd-retro</div></div></td><td><div class=\"left\">ind.</div></td><td>  </td><td><div class=\"right\">ind.</div></td><td class=\"unicode\"></td><td>Coor</td><td>cntApod2ndR</td><td><a href=\"ConcordanceOfPatterns.ipynb#972\" target=\"_blank\">972</a></td></tr><tr id=\"ln14\"><td>006</td><td>14</td><td class=\"unicode\" nowrap><div class=\"front_hebrew\">&nbsp;&nbsp;&nbsp;&nbsp;&nbsp;&nbsp;&nbsp;&nbsp;&nbsp;&nbsp;&nbsp;&nbsp;&nbsp;&nbsp;&nbsp;&nbsp;&nbsp;&nbsp;&nbsp;&nbsp;&nbsp;&nbsp;&nbsp;&nbsp;&nbsp;&nbsp;&nbsp;&nbsp;&nbsp;&nbsp;&nbsp;&nbsp;&nbsp;&nbsp;&nbsp;&nbsp;&nbsp;&nbsp;&nbsp;&nbsp;&nbsp;&nbsp;&nbsp;&nbsp;&nbsp;&nbsp;&nbsp;&nbsp;&nbsp;[&lt;Su&gt;&nbsp;\u05d9\u05d4\u05d5\u05d4]&nbsp;[&lt;PC&gt;&nbsp;\u05d1\u05e8\u05d5\u05da]&nbsp;&nbsp;&nbsp;&nbsp;&nbsp;&nbsp;<div class=\"translation\">YHWH <span class=\"translation_verb\">is</span> <span class=\"translation_verb\">being</span> <span class=\"translation_verb\">blessed</span> </div></div></td><td><div class=\"front\">Ptcp<div class=\"def_disc\">disc-main</div></div></td><td><div class=\"left\">ind.</div></td><td>  </td><td><div class=\"right\">ind.</div></td><td class=\"unicode\"></td><td></td><td>(re)openMain</td><td><a href=\"ConcordanceOfPatterns.ipynb#1643\" target=\"_blank\">1643</a></td></tr><tr id=\"ln15\"><td>006</td><td>15</td><td class=\"unicode\" nowrap><div class=\"front_hebrew\">&nbsp;&nbsp;&nbsp;[&lt;Co&gt;&nbsp;\u05dc-\u05e9\u05c1\u05e0\u05d9\u05d4\u05dd]&nbsp;[&lt;Ob&gt;&nbsp;\u05d8\u05e8\u05e3]&nbsp;[&lt;PO&gt;&nbsp;\u05e0\u05ea\u05e0\u05e0\u05d5]&nbsp;[&lt;Ng&gt;&nbsp;\u05dc\u05d0]&nbsp;[&lt;Cj&gt;&nbsp;-\u05e9\u05c1]&nbsp;&nbsp;&nbsp;|&nbsp;&nbsp;&nbsp;|&nbsp;&nbsp;&nbsp;&nbsp;&nbsp;&nbsp;&nbsp;&nbsp;&nbsp;&nbsp;<div class=\"translation\">who/which <span class=\"translation_verb\">has</span> not <span class=\"translation_verb\">given</span> us </div></div></td><td><div class=\"front\">xQt0<div class=\"def_disc\">disc-2nd-retro</div></div></td><td><div class=\"left\">ind.</div></td><td>  </td><td><div class=\"right\">ind.</div></td><td class=\"unicode\"></td><td>Attr</td><td>opnAttr2ndR</td><td><a href=\"ConcordanceOfPatterns.ipynb#1003\" target=\"_blank\">1003</a></td></tr><tr id=\"ln16\"><td>007</td><td>16</td><td class=\"unicode\" nowrap><div class=\"front_hebrew\">&nbsp;&nbsp;&nbsp;&nbsp;&nbsp;&nbsp;[&lt;Co&gt;&nbsp;\u05de-\u05e4\u05d7&nbsp;\u05d9\u05d5\u05e7\u05e9\u05c1\u05d9\u05dd]&nbsp;[&lt;Pr&gt;&nbsp;\u05e0\u05de\u05dc\u05d8\u05d4]&nbsp;[&lt;Aj&gt;&nbsp;\u05db-\u05e6\u05e4\u05d5\u05e8]&nbsp;[&lt;Su&gt;&nbsp;\u05e0\u05e4\u05e9\u05c1\u05e0\u05d5]&nbsp;&nbsp;&nbsp;|&nbsp;&nbsp;&nbsp;&nbsp;&nbsp;&nbsp;&nbsp;&nbsp;&nbsp;&nbsp;<div class=\"translation\">our soul <span class=\"translation_verb\">has</span> <span class=\"translation_verb\">escaped</span> </div></div></td><td><div class=\"front\">XxQt<div class=\"def_disc\">disc-2nd-retro</div></div></td><td><div class=\"left\">ind.</div></td><td>  </td><td><div class=\"right\">ind.</div></td><td class=\"unicode\"></td><td></td><td>opn2ndR</td><td><a href=\"ConcordanceOfPatterns.ipynb#822\" target=\"_blank\">822</a></td></tr><tr id=\"ln17\"><td>007</td><td>17</td><td class=\"unicode\" nowrap><div class=\"front_hebrew\">&nbsp;&nbsp;&nbsp;&nbsp;&nbsp;&nbsp;&nbsp;&nbsp;&nbsp;&nbsp;&nbsp;&nbsp;&nbsp;&nbsp;&nbsp;&nbsp;&nbsp;&nbsp;&nbsp;&nbsp;&nbsp;&nbsp;&nbsp;&nbsp;&nbsp;&nbsp;&nbsp;&nbsp;&nbsp;&nbsp;&nbsp;&nbsp;&nbsp;&nbsp;&nbsp;&nbsp;&nbsp;[&lt;PC&gt;&nbsp;\u05e0\u05e9\u05c1\u05d1\u05e8]&nbsp;[&lt;Su&gt;&nbsp;\u05d4-\u05e4\u05d7]&nbsp;&nbsp;&nbsp;&nbsp;&nbsp;&nbsp;&nbsp;|&nbsp;&nbsp;&nbsp;&nbsp;&nbsp;&nbsp;&nbsp;&nbsp;&nbsp;&nbsp;<div class=\"translation\">the bird-trap <span class=\"translation_verb\">is</span> <span class=\"translation_verb\">being</span> <span class=\"translation_verb\">broken</span> </div></div></td><td><div class=\"front\">Ptcp<div class=\"def_disc\">disc-main</div></div></td><td><div class=\"left\">ind.</div></td><td>  </td><td><div class=\"right\">ind.</div></td><td class=\"unicode\"></td><td></td><td>opnMain</td><td><a href=\"ConcordanceOfPatterns.ipynb#1602\" target=\"_blank\">1602</a></td></tr><tr id=\"ln18\"><td>007</td><td>18</td><td class=\"unicode\" nowrap><div class=\"front_hebrew\">&nbsp;&nbsp;&nbsp;&nbsp;&nbsp;&nbsp;&nbsp;&nbsp;&nbsp;&nbsp;&nbsp;&nbsp;&nbsp;&nbsp;&nbsp;&nbsp;&nbsp;&nbsp;&nbsp;&nbsp;&nbsp;[&lt;Pr&gt;&nbsp;\u05e0\u05de\u05dc\u05d8\u05e0\u05d5]&nbsp;[&lt;Su&gt;&nbsp;\u05d0\u05e0\u05d7\u05e0\u05d5]&nbsp;[&lt;Cj&gt;&nbsp;-\u05d5]&nbsp;&nbsp;&nbsp;&nbsp;&nbsp;&nbsp;&nbsp;&nbsp;&nbsp;&nbsp;&nbsp;|&nbsp;&nbsp;&nbsp;&nbsp;&nbsp;&nbsp;&nbsp;&nbsp;&nbsp;&nbsp;<div class=\"translation\">while we <span class=\"translation_verb\">have</span> <span class=\"translation_verb\">escaped</span> </div></div></td><td><div class=\"front\">WXQt<div class=\"def_disc\">disc-2nd-retro</div></div></td><td><div class=\"left\">ind.</div></td><td>  </td><td><div class=\"right\">ind.</div></td><td class=\"unicode\"></td><td></td><td>parSit>2ndR</td><td><a href=\"ConcordanceOfPatterns.ipynb#912\" target=\"_blank\">912</a></td></tr><tr id=\"ln19\"><td>008</td><td>19</td><td class=\"unicode\" nowrap><div class=\"front_hebrew\">&nbsp;&nbsp;&nbsp;&nbsp;&nbsp;&nbsp;&nbsp;&nbsp;&nbsp;&nbsp;&nbsp;&nbsp;&nbsp;&nbsp;&nbsp;&nbsp;&nbsp;&nbsp;[&lt;ap&gt;&lt;PC&gt;&nbsp;\u05d1-\u05e9\u05c1\u05dd&nbsp;\u05d9\u05d4\u05d5\u05d4&nbsp;/&nbsp;\u05e2\u05e9\u05c2\u05d4&nbsp;\u05e9\u05c1\u05de\u05d9\u05dd&nbsp;\u05d5-\u05d0\u05e8\u05e5]&nbsp;[&lt;Su&gt;&nbsp;\u05e2\u05d6\u05e8\u05e0\u05d5]&nbsp;&nbsp;&nbsp;&nbsp;&nbsp;&nbsp;&nbsp;&nbsp;&nbsp;&nbsp;<div class=\"translation\">our help <span class=\"translation_verb\">is</span> in/among the name of YHWH </div></div></td><td><div class=\"front\">NmCl<div class=\"def_disc\">disc-main</div></div></td><td><div class=\"left\">nomin.</div></td><td>  </td><td><div class=\"right\">nomin.</div></td><td class=\"unicode\"></td><td></td><td>cntMain</td><td><a href=\"ConcordanceOfPatterns.ipynb#1722\" target=\"_blank\">1722</a></td></tr></table>"
       ],
       "metadata": {},
       "output_type": "display_data",
       "text": [
        "<IPython.core.display.HTML at 0x3c19390>"
       ]
      }
     ],
     "prompt_number": 3
    },
    {
     "cell_type": "heading",
     "level": 2,
     "metadata": {},
     "source": [
      "3. Patterns in Psalm 124"
     ]
    },
    {
     "cell_type": "code",
     "collapsed": false,
     "input": [
      "Psalms.print_patterns(\"Input/psalmen124dataPatterns.txt\")"
     ],
     "language": "python",
     "metadata": {},
     "outputs": [
      {
       "html": [
        "<table class=\"presentation\" id=\"Patterns\"><tr><th><a href=\"ConcordanceOfPatterns.ipynb\" target=\"_blank\">#Pat</a></th><th>Vs</th><th>Ln</th><th nowrap><a href=\"ClauseLabels.ipynb\" target=\"_blank\">ClTp</a><br><div class=\"small\">(mouse-over<br>for<br><a href=\"DefaultDiscourseFunctions.ipynb\" target=\"_blank\">DefDiscFu)</a></div></th><th nowrap><a href=\"HebrewText.ipynb\" target=\"_blank\">Hebrew text</a><br><div class=\"small\">(mouse-over for <a href=\"Translation.ipynb\" target=\"_blank\">Translation)</a></div></th><th><a href=\"CCR.ipynb\" target=\"_blank\">CCR</a></th><th><a href=\"DefaultFunctions.ipynb\" target=\"_blank\">DefFu</a></th><th><a href=\"Processes.ipynb\" target=\"_blank\">Processes</a><br><div class=\"small\">(hover over<br>\"!\"-sign)</div></th><th><a href=\"FinalFunctions.ipynb\" target=\"_blank\">FinFu</a></th><th nowrap><a href=\"MDModifier.ipynb\" target=\"_blank\">Mod-MDM</a></th><th><a href=\"Participants.ipynb\" target=\"_blank\">Ptcp</a></th><th><a href=\"DiscourseFunctions.ipynb\" target=\"_blank\">DiscFu</th></tr><tr><td><a href=\"ConcordanceOfPatterns.ipynb#792\" target=\"_blank\">792</a></td><td>PS124,004</td><td><a href=\"#ln9\">9</a></td><td><div class=\"front\">xQt0<div class=\"def_disc\">disc-2nd-retro</div></div></td><td class=\"unicode\" nowrap><div class=\"front_hebrew\">[&lt;PO&gt;&nbsp;\u05d1\u05dc\u05e2\u05d5\u05e0\u05d5]&nbsp;[&lt;Pj&gt;&nbsp;\u05d7\u05d9\u05d9\u05dd]&nbsp;[&lt;Mo&gt;&nbsp;\u05d0\u05d6\u05d9]<div class=\"translation\">then they <span class=\"translation_verb\">have</span> <span class=\"translation_verb\">swallowed</span> us </div></div></td><td></td><td nowrap><div class=\"left\">ind.</div></td><td>  </td><td nowrap><div class=\"right\">ind.</div></td><td class=\"unicode\" nowrap><div class=\"right\">\u05d0\u05d6\u05d9</div></td><td></td><td>opnApod2ndR</td></tr><tr><td></td><td></td><td><a href=\"#ln11\">11</a></td><td><div class=\"front\">xXQt<div class=\"def_disc\">disc-2nd-retro</div></div></td><td class=\"unicode\" nowrap><div class=\"front_hebrew\">[&lt;PO&gt;&nbsp;\u05e9\u05c1\u05d8\u05e4\u05d5\u05e0\u05d5]&nbsp;[&lt;Su&gt;&nbsp;\u05d4-\u05de\u05d9\u05dd]&nbsp;[&lt;Mo&gt;&nbsp;\u05d0\u05d6\u05d9]<div class=\"translation\">then the waters <span class=\"translation_verb\">have</span> <span class=\"translation_verb\">washed</span> <span class=\"translation_verb\">off</span> us </div></div></td><td>Coor</td><td nowrap><div class=\"left\">ind.</div></td><td>  </td><td nowrap><div class=\"right\">ind.</div></td><td class=\"unicode\" nowrap><div class=\"right\">\u05d0\u05d6\u05d9</div></td><td>  DS</td><td>cntApod2ndR</td></tr><tr><td>&nbsp;</td></tr><tr><td><a href=\"ConcordanceOfPatterns.ipynb#792\" target=\"_blank\">792</a></td><td>PS124,004</td><td><a href=\"#ln11\">11</a></td><td><div class=\"front\">xXQt<div class=\"def_disc\">disc-2nd-retro</div></div></td><td class=\"unicode\" nowrap><div class=\"front_hebrew\">[&lt;PO&gt;&nbsp;\u05e9\u05c1\u05d8\u05e4\u05d5\u05e0\u05d5]&nbsp;[&lt;Su&gt;&nbsp;\u05d4-\u05de\u05d9\u05dd]&nbsp;[&lt;Mo&gt;&nbsp;\u05d0\u05d6\u05d9]<div class=\"translation\">then the waters <span class=\"translation_verb\">have</span> <span class=\"translation_verb\">washed</span> <span class=\"translation_verb\">off</span> us </div></div></td><td>Coor</td><td nowrap><div class=\"left\">ind.</div></td><td>  </td><td nowrap><div class=\"right\">ind.</div></td><td class=\"unicode\" nowrap><div class=\"right\">\u05d0\u05d6\u05d9</div></td><td></td><td>cntApod2ndR</td></tr><tr><td></td><td></td><td><a href=\"#ln12\">12</a></td><td><div class=\"front\">XQtl<div class=\"def_disc\">disc-2nd-retro</div></div></td><td class=\"unicode\" nowrap><div class=\"front_hebrew\">[&lt;Co&gt;&nbsp;\u05e2\u05dc&nbsp;\u05e0\u05e4\u05e9\u05c1\u05e0\u05d5]&nbsp;[&lt;Pr&gt;&nbsp;\u05e2\u05d1\u05e8]&nbsp;[&lt;Su&gt;&nbsp;\u05e0\u05d7\u05dc\u05d4]<div class=\"translation\">(then) a wadi <span class=\"translation_verb\">has</span> <span class=\"translation_verb\">passed</span> </div></div></td><td>Coor</td><td nowrap><div class=\"left\">ind.</div></td><td>  </td><td nowrap><div class=\"right\">ind.</div></td><td class=\"unicode\" nowrap><div class=\"right\">(\u05d0\u05d6\u05d9)</div></td><td>  DS</td><td>cntApod2ndR</td></tr><tr><td>&nbsp;</td></tr><tr><td><a href=\"ConcordanceOfPatterns.ipynb#822\" target=\"_blank\">822</a></td><td>PS124,007</td><td><a href=\"#ln14\">14</a></td><td><div class=\"front\">Ptcp<div class=\"def_disc\">disc-main</div></div></td><td class=\"unicode\" nowrap><div class=\"front_hebrew\">[&lt;Su&gt;&nbsp;\u05d9\u05d4\u05d5\u05d4]&nbsp;[&lt;PC&gt;&nbsp;\u05d1\u05e8\u05d5\u05da]<div class=\"translation\">YHWH <span class=\"translation_verb\">is</span> <span class=\"translation_verb\">being</span> <span class=\"translation_verb\">blessed</span> </div></div></td><td></td><td nowrap><div class=\"left\">ind.</div></td><td>  </td><td nowrap><div class=\"right\">ind.</div></td><td><div class=\"right\">&nbsp;</div></td><td></td><td>(re)openMain</td></tr><tr><td></td><td></td><td><a href=\"#ln16\">16</a></td><td><div class=\"front\">XxQt<div class=\"def_disc\">disc-2nd-retro</div></div></td><td class=\"unicode\" nowrap><div class=\"front_hebrew\">[&lt;Co&gt;&nbsp;\u05de-\u05e4\u05d7&nbsp;\u05d9\u05d5\u05e7\u05e9\u05c1\u05d9\u05dd]&nbsp;[&lt;Pr&gt;&nbsp;\u05e0\u05de\u05dc\u05d8\u05d4]&nbsp;[&lt;Aj&gt;&nbsp;\u05db-\u05e6\u05e4\u05d5\u05e8]&nbsp;[&lt;Su&gt;&nbsp;\u05e0\u05e4\u05e9\u05c1\u05e0\u05d5]<div class=\"translation\">our soul <span class=\"translation_verb\">has</span> <span class=\"translation_verb\">escaped</span> </div></div></td><td></td><td nowrap><div class=\"left\">ind.</div></td><td>  </td><td nowrap><div class=\"right\">ind.</div></td><td><div class=\"right\">&nbsp;</div></td><td>  DS</td><td>opn2ndR</td></tr><tr><td>&nbsp;</td></tr><tr><td><a href=\"ConcordanceOfPatterns.ipynb#912\" target=\"_blank\">912</a></td><td>PS124,007</td><td><a href=\"#ln17\">17</a></td><td><div class=\"front\">Ptcp<div class=\"def_disc\">disc-main</div></div></td><td class=\"unicode\" nowrap><div class=\"front_hebrew\">[&lt;PC&gt;&nbsp;\u05e0\u05e9\u05c1\u05d1\u05e8]&nbsp;[&lt;Su&gt;&nbsp;\u05d4-\u05e4\u05d7]<div class=\"translation\">the bird-trap <span class=\"translation_verb\">is</span> <span class=\"translation_verb\">being</span> <span class=\"translation_verb\">broken</span> </div></div></td><td></td><td nowrap><div class=\"left\">ind.</div></td><td>  </td><td nowrap><div class=\"right\">ind.</div></td><td><div class=\"right\">&nbsp;</div></td><td></td><td>opnMain</td></tr><tr><td></td><td></td><td><a href=\"#ln18\">18</a></td><td><div class=\"front\">WXQt<div class=\"def_disc\">disc-2nd-retro</div></div></td><td class=\"unicode\" nowrap><div class=\"front_hebrew\">[&lt;Pr&gt;&nbsp;\u05e0\u05de\u05dc\u05d8\u05e0\u05d5]&nbsp;[&lt;Su&gt;&nbsp;\u05d0\u05e0\u05d7\u05e0\u05d5]&nbsp;[&lt;Cj&gt;&nbsp;-\u05d5]<div class=\"translation\">while we <span class=\"translation_verb\">have</span> <span class=\"translation_verb\">escaped</span> </div></div></td><td></td><td nowrap><div class=\"left\">ind.</div></td><td>  </td><td nowrap><div class=\"right\">ind.</div></td><td><div class=\"right\">&nbsp;</div></td><td>  DS</td><td>parSit>2ndR</td></tr><tr><td>&nbsp;</td></tr><tr><td><a href=\"ConcordanceOfPatterns.ipynb#972\" target=\"_blank\">972</a></td><td>PS124,005</td><td><a href=\"#ln11\">11</a></td><td><div class=\"front\">xXQt<div class=\"def_disc\">disc-2nd-retro</div></div></td><td class=\"unicode\" nowrap><div class=\"front_hebrew\">[&lt;PO&gt;&nbsp;\u05e9\u05c1\u05d8\u05e4\u05d5\u05e0\u05d5]&nbsp;[&lt;Su&gt;&nbsp;\u05d4-\u05de\u05d9\u05dd]&nbsp;[&lt;Mo&gt;&nbsp;\u05d0\u05d6\u05d9]<div class=\"translation\">then the waters <span class=\"translation_verb\">have</span> <span class=\"translation_verb\">washed</span> <span class=\"translation_verb\">off</span> us </div></div></td><td>Coor</td><td nowrap><div class=\"left\">ind.</div></td><td>  </td><td nowrap><div class=\"right\">ind.</div></td><td class=\"unicode\" nowrap><div class=\"right\">\u05d0\u05d6\u05d9</div></td><td></td><td>cntApod2ndR</td></tr><tr><td></td><td></td><td><a href=\"#ln13\">13</a></td><td><div class=\"front\">xQtX<div class=\"def_disc\">disc-2nd-retro</div></div></td><td class=\"unicode\" nowrap><div class=\"front_hebrew\">[&lt;Su&gt;&nbsp;\u05d4-\u05de\u05d9\u05dd&nbsp;\u05d4-\u05d6\u05d9\u05d3\u05d5\u05e0\u05d9\u05dd]&nbsp;[&lt;Co&gt;&nbsp;\u05e2\u05dc&nbsp;\u05e0\u05e4\u05e9\u05c1\u05e0\u05d5]&nbsp;[&lt;Pr&gt;&nbsp;\u05e2\u05d1\u05e8]&nbsp;[&lt;Mo&gt;&nbsp;\u05d0\u05d6\u05d9]<div class=\"translation\">then the waters <span class=\"translation_verb\">has</span> <span class=\"translation_verb\">passed</span> </div></div></td><td>Coor</td><td nowrap><div class=\"left\">ind.</div></td><td>  </td><td nowrap><div class=\"right\">ind.</div></td><td class=\"unicode\" nowrap><div class=\"right\">\u05d0\u05d6\u05d9</div></td><td>  DS</td><td>cntApod2ndR</td></tr><tr><td>&nbsp;</td></tr><tr><td><a href=\"ConcordanceOfPatterns.ipynb#1003\" target=\"_blank\">1003</a></td><td>PS124,006</td><td><a href=\"#ln14\">14</a></td><td><div class=\"front\">Ptcp<div class=\"def_disc\">disc-main</div></div></td><td class=\"unicode\" nowrap><div class=\"front_hebrew\">[&lt;Su&gt;&nbsp;\u05d9\u05d4\u05d5\u05d4]&nbsp;[&lt;PC&gt;&nbsp;\u05d1\u05e8\u05d5\u05da]<div class=\"translation\">YHWH <span class=\"translation_verb\">is</span> <span class=\"translation_verb\">being</span> <span class=\"translation_verb\">blessed</span> </div></div></td><td></td><td nowrap><div class=\"left\">ind.</div></td><td>  </td><td nowrap><div class=\"right\">ind.</div></td><td><div class=\"right\">&nbsp;</div></td><td></td><td>(re)openMain</td></tr><tr><td></td><td></td><td><a href=\"#ln15\">15</a></td><td><div class=\"front\">xQt0<div class=\"def_disc\">disc-2nd-retro</div></div></td><td class=\"unicode\" nowrap><div class=\"front_hebrew\">[&lt;Co&gt;&nbsp;\u05dc-\u05e9\u05c1\u05e0\u05d9\u05d4\u05dd]&nbsp;[&lt;Ob&gt;&nbsp;\u05d8\u05e8\u05e3]&nbsp;[&lt;PO&gt;&nbsp;\u05e0\u05ea\u05e0\u05e0\u05d5]&nbsp;[&lt;Ng&gt;&nbsp;\u05dc\u05d0]&nbsp;[&lt;Cj&gt;&nbsp;-\u05e9\u05c1]<div class=\"translation\">who/which <span class=\"translation_verb\">has</span> not <span class=\"translation_verb\">given</span> us </div></div></td><td>Attr</td><td nowrap><div class=\"left\">ind.</div></td><td>  </td><td nowrap><div class=\"right\">ind.</div></td><td class=\"unicode\" nowrap><div class=\"right\">\u05e9\u05c1</div></td><td>  </td><td>opnAttr2ndR</td></tr><tr><td>&nbsp;</td></tr><tr><td><a href=\"ConcordanceOfPatterns.ipynb#1012\" target=\"_blank\">1012</a></td><td>PS124,003</td><td><a href=\"#ln6\">6</a></td><td><div class=\"front\">NmCl<div class=\"def_disc\">disc-main</div></div></td><td class=\"unicode\" nowrap><div class=\"front_hebrew\">[&lt;Su&gt;&nbsp;\u05d9\u05d4\u05d5\u05d4]&nbsp;[&lt;Cj&gt;&nbsp;\u05dc\u05d5\u05dc\u05d9]<div class=\"translation\">if not YHWH <span class=\"translation_verb\">is</span> </div></div></td><td></td><td nowrap><div class=\"left\">nomin.</div></td><td>  </td><td nowrap><div class=\"right\">nomin.</div></td><td class=\"unicode\" nowrap><div class=\"right\">\u05dc\u05d5\u05dc\u05d0</div></td><td></td><td>opnProtMain</td></tr><tr><td></td><td></td><td><a href=\"#ln9\">9</a></td><td><div class=\"front\">xQt0<div class=\"def_disc\">disc-2nd-retro</div></div></td><td class=\"unicode\" nowrap><div class=\"front_hebrew\">[&lt;PO&gt;&nbsp;\u05d1\u05dc\u05e2\u05d5\u05e0\u05d5]&nbsp;[&lt;Pj&gt;&nbsp;\u05d7\u05d9\u05d9\u05dd]&nbsp;[&lt;Mo&gt;&nbsp;\u05d0\u05d6\u05d9]<div class=\"translation\">then they <span class=\"translation_verb\">have</span> <span class=\"translation_verb\">swallowed</span> us </div></div></td><td></td><td nowrap><div class=\"left\">ind.</div></td><td>  </td><td nowrap><div class=\"right\">ind.</div></td><td class=\"unicode\" nowrap><div class=\"right\">\u05d0\u05d6\u05d9</div></td><td>  DS</td><td>opnApod2ndR</td></tr><tr><td>&nbsp;</td></tr><tr><td><a href=\"ConcordanceOfPatterns.ipynb#1602\" target=\"_blank\">1602</a></td><td>PS124,007</td><td><a href=\"#ln16\">16</a></td><td><div class=\"front\">XxQt<div class=\"def_disc\">disc-2nd-retro</div></div></td><td class=\"unicode\" nowrap><div class=\"front_hebrew\">[&lt;Co&gt;&nbsp;\u05de-\u05e4\u05d7&nbsp;\u05d9\u05d5\u05e7\u05e9\u05c1\u05d9\u05dd]&nbsp;[&lt;Pr&gt;&nbsp;\u05e0\u05de\u05dc\u05d8\u05d4]&nbsp;[&lt;Aj&gt;&nbsp;\u05db-\u05e6\u05e4\u05d5\u05e8]&nbsp;[&lt;Su&gt;&nbsp;\u05e0\u05e4\u05e9\u05c1\u05e0\u05d5]<div class=\"translation\">our soul <span class=\"translation_verb\">has</span> <span class=\"translation_verb\">escaped</span> </div></div></td><td></td><td nowrap><div class=\"left\">ind.</div></td><td>  </td><td nowrap><div class=\"right\">ind.</div></td><td><div class=\"right\">&nbsp;</div></td><td></td><td>opn2ndR</td></tr><tr><td></td><td></td><td><a href=\"#ln17\">17</a></td><td><div class=\"front\">Ptcp<div class=\"def_disc\">disc-main</div></div></td><td class=\"unicode\" nowrap><div class=\"front_hebrew\">[&lt;PC&gt;&nbsp;\u05e0\u05e9\u05c1\u05d1\u05e8]&nbsp;[&lt;Su&gt;&nbsp;\u05d4-\u05e4\u05d7]<div class=\"translation\">the bird-trap <span class=\"translation_verb\">is</span> <span class=\"translation_verb\">being</span> <span class=\"translation_verb\">broken</span> </div></div></td><td></td><td nowrap><div class=\"left\">ind.</div></td><td>  </td><td nowrap><div class=\"right\">ind.</div></td><td><div class=\"right\">&nbsp;</div></td><td>  DS</td><td>opnMain</td></tr><tr><td>&nbsp;</td></tr><tr><td><a href=\"ConcordanceOfPatterns.ipynb#1643\" target=\"_blank\">1643</a></td><td>PS124,006</td><td><a href=\"#ln6\">6</a></td><td><div class=\"front\">NmCl<div class=\"def_disc\">disc-main</div></div></td><td class=\"unicode\" nowrap><div class=\"front_hebrew\">[&lt;Su&gt;&nbsp;\u05d9\u05d4\u05d5\u05d4]&nbsp;[&lt;Cj&gt;&nbsp;\u05dc\u05d5\u05dc\u05d9]<div class=\"translation\">if not YHWH <span class=\"translation_verb\">is</span> </div></div></td><td></td><td nowrap><div class=\"left\">nomin.</div></td><td>  </td><td nowrap><div class=\"right\">nomin.</div></td><td class=\"unicode\" nowrap><div class=\"right\">\u05dc\u05d5\u05dc\u05d0</div></td><td></td><td>opnProtMain</td></tr><tr><td></td><td></td><td><a href=\"#ln14\">14</a></td><td><div class=\"front\">Ptcp<div class=\"def_disc\">disc-main</div></div></td><td class=\"unicode\" nowrap><div class=\"front_hebrew\">[&lt;Su&gt;&nbsp;\u05d9\u05d4\u05d5\u05d4]&nbsp;[&lt;PC&gt;&nbsp;\u05d1\u05e8\u05d5\u05da]<div class=\"translation\">YHWH <span class=\"translation_verb\">is</span> <span class=\"translation_verb\">being</span> <span class=\"translation_verb\">blessed</span> </div></div></td><td></td><td nowrap><div class=\"left\">ind.</div></td><td>  </td><td nowrap><div class=\"right\">ind.</div></td><td><div class=\"right\">&nbsp;</div></td><td>  SS</td><td>(re)openMain</td></tr><tr><td>&nbsp;</td></tr><tr><td><a href=\"ConcordanceOfPatterns.ipynb#1722\" target=\"_blank\">1722</a></td><td>PS124,008</td><td><a href=\"#ln14\">14</a></td><td><div class=\"front\">Ptcp<div class=\"def_disc\">disc-main</div></div></td><td class=\"unicode\" nowrap><div class=\"front_hebrew\">[&lt;Su&gt;&nbsp;\u05d9\u05d4\u05d5\u05d4]&nbsp;[&lt;PC&gt;&nbsp;\u05d1\u05e8\u05d5\u05da]<div class=\"translation\">YHWH <span class=\"translation_verb\">is</span> <span class=\"translation_verb\">being</span> <span class=\"translation_verb\">blessed</span> </div></div></td><td></td><td nowrap><div class=\"left\">ind.</div></td><td>  </td><td nowrap><div class=\"right\">ind.</div></td><td><div class=\"right\">&nbsp;</div></td><td></td><td>(re)openMain</td></tr><tr><td></td><td></td><td><a href=\"#ln19\">19</a></td><td><div class=\"front\">NmCl<div class=\"def_disc\">disc-main</div></div></td><td class=\"unicode\" nowrap><div class=\"front_hebrew\">[&lt;ap&gt;&lt;PC&gt;&nbsp;\u05d1-\u05e9\u05c1\u05dd&nbsp;\u05d9\u05d4\u05d5\u05d4&nbsp;/&nbsp;\u05e2\u05e9\u05c2\u05d4&nbsp;\u05e9\u05c1\u05de\u05d9\u05dd&nbsp;\u05d5-\u05d0\u05e8\u05e5]&nbsp;[&lt;Su&gt;&nbsp;\u05e2\u05d6\u05e8\u05e0\u05d5]<div class=\"translation\">our help <span class=\"translation_verb\">is</span> in/among the name of YHWH </div></div></td><td></td><td nowrap><div class=\"left\">nomin.</div></td><td>  </td><td nowrap><div class=\"right\">nomin.</div></td><td><div class=\"right\">&nbsp;</div></td><td>  DS</td><td>cntMain</td></tr><tr><td>&nbsp;</td></tr><tr><td><a href=\"ConcordanceOfPatterns.ipynb#1731\" target=\"_blank\">1731</a></td><td>PS124,001</td><td><a href=\"#ln1\">1</a></td><td><div class=\"front\">NmCl<div class=\"def_disc\">disc-main</div></div></td><td class=\"unicode\" nowrap><div class=\"front_hebrew\">[&lt;PC&gt;&nbsp;\u05e9\u05c1\u05d9\u05e8&nbsp;\u05d4-\u05de\u05e2\u05dc\u05d5\u05ea]<div class=\"translation\">this <span class=\"translation_verb\">is</span> the song of the ascents </div></div></td><td></td><td nowrap><div class=\"left\">nomin.</div></td><td>  </td><td nowrap><div class=\"right\">nomin.</div></td><td><div class=\"right\">&nbsp;</div></td><td></td><td>(re)openMain</td></tr><tr><td></td><td></td><td><a href=\"#ln2\">2</a></td><td><div class=\"front\">NmCl<div class=\"def_disc\">disc-main</div></div></td><td class=\"unicode\" nowrap><div class=\"front_hebrew\">[&lt;PC&gt;&nbsp;\u05dc-\u05d3\u05d5\u05d3]<div class=\"translation\">this <span class=\"translation_verb\">is</span> to David </div></div></td><td></td><td nowrap><div class=\"left\">nomin.</div></td><td>  </td><td nowrap><div class=\"right\">nomin.</div></td><td><div class=\"right\">&nbsp;</div></td><td>  SS</td><td>cntMain</td></tr><tr><td>&nbsp;</td></tr><tr><td><a href=\"ConcordanceOfPatterns.ipynb#1733\" target=\"_blank\">1733</a></td><td>PS124,002</td><td><a href=\"#ln3\">3</a></td><td><div class=\"front\">NmCl<div class=\"def_disc\">disc-main</div></div></td><td class=\"unicode\" nowrap><div class=\"front_hebrew\">[&lt;Su&gt;&nbsp;\u05d9\u05d4\u05d5\u05d4]&nbsp;[&lt;Cj&gt;&nbsp;\u05dc\u05d5\u05dc\u05d9]<div class=\"translation\">if not YHWH <span class=\"translation_verb\">is</span> </div></div></td><td></td><td nowrap><div class=\"left\">nomin.</div></td><td>  </td><td nowrap><div class=\"right\">nomin.</div></td><td class=\"unicode\" nowrap><div class=\"right\">\u05dc\u05d5\u05dc\u05d0</div></td><td></td><td>opnProtMain</td></tr><tr><td></td><td></td><td><a href=\"#ln6\">6</a></td><td><div class=\"front\">NmCl<div class=\"def_disc\">disc-main</div></div></td><td class=\"unicode\" nowrap><div class=\"front_hebrew\">[&lt;Su&gt;&nbsp;\u05d9\u05d4\u05d5\u05d4]&nbsp;[&lt;Cj&gt;&nbsp;\u05dc\u05d5\u05dc\u05d9]<div class=\"translation\">if not YHWH <span class=\"translation_verb\">is</span> </div></div></td><td></td><td nowrap><div class=\"left\">nomin.</div></td><td>  </td><td nowrap><div class=\"right\">nomin.</div></td><td class=\"unicode\" nowrap><div class=\"right\">\u05dc\u05d5\u05dc\u05d0</div></td><td>  </td><td>opnProtMain</td></tr><tr><td>&nbsp;</td></tr></table>"
       ],
       "metadata": {},
       "output_type": "display_data",
       "text": [
        "<IPython.core.display.HTML at 0x3c19470>"
       ]
      }
     ],
     "prompt_number": 4
    }
   ],
   "metadata": {}
  }
 ]
}