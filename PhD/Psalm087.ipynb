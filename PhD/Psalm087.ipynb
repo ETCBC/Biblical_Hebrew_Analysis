{
 "metadata": {
  "name": ""
 },
 "nbformat": 3,
 "nbformat_minor": 0,
 "worksheets": [
  {
   "cells": [
    {
     "cell_type": "code",
     "collapsed": false,
     "input": [
      "import Psalms"
     ],
     "language": "python",
     "metadata": {},
     "outputs": [
      {
       "html": [
        "\n",
        "<style>\n",
        "\n",
        "div#notebook {\n",
        "\tbackground-color:LightYellow;\n",
        "}\n",
        "\n",
        "div.input_area {\n",
        "\tbackground-color:LemonChiffon;\n",
        "}\n",
        "\n",
        "h1, h2, h3, h4 {\n",
        "\tcolor:Gold;\n",
        "}\n",
        "\n",
        "div.text_cell_render {\n",
        "\tcolor:DarkBlue;\n",
        "}\n",
        "\n",
        "table.presentation {\n",
        "    border-style:hidden;\n",
        "}\n",
        "\n",
        "table.presentation tr {\n",
        "    border-style:hidden;\n",
        "}\n",
        "\n",
        "table.presentation th {\n",
        "    padding:0px 15px 0px 0px;\n",
        "    border-style:hidden;\n",
        "    text-align:center;\n",
        "}\n",
        "\n",
        "table.presentation td {\n",
        "    padding:0px 5px 0px 0px;\n",
        "    border-style:hidden;\n",
        "}\n",
        "\n",
        "table.presentation td.unicode {\n",
        "    text-align:right;\n",
        "    font-family:SBL Hebrew;\n",
        "}\n",
        "\n",
        "table.categories {\n",
        "    margin-left: auto;\n",
        "    margin-right: auto;\n",
        "}\n",
        "\n",
        "table.categories, table.categories tr, table.categories th, table.categories td {\n",
        "    border-style:hidden;\n",
        "    color: Maroon;\n",
        "}\n",
        "\n",
        "div.navigation {\n",
        "    margin:auto;\n",
        "    width:50%;\n",
        "    font-size:small;\n",
        "    font-style:italic;\n",
        "}\n",
        "\n",
        "div.navigation form, div.navigation form input {\n",
        "    display: inline;\n",
        "}\n",
        "\n",
        "form input {\n",
        "    max-width: 30px;\n",
        "}\n",
        "\n",
        "div.button form input {\n",
        "\tmax-width:100%;\n",
        "}\n",
        "\n",
        "div.button {\n",
        "\tmax-width:15%;\n",
        "\tmargin:auto;\n",
        "}\n",
        "\n",
        "div.output {\n",
        "    font-size: small;\n",
        "    z-index:0;\n",
        "}\n",
        "\n",
        "div.front, div.front_a, div.front_b {\n",
        "    color: Crimson;\n",
        "}\n",
        "\n",
        "div.front, div.front_a {\n",
        "\ttext-align: center;\n",
        "}\n",
        "\n",
        "div.front_b div, div.front_a div {\n",
        "    display: none;\n",
        "} \n",
        "\n",
        "div.front div, div.front_hebrew div {\n",
        "    display: none;\n",
        "    position: relative;\n",
        "}\n",
        "\n",
        "div.front:hover div, div.front_a:hover div, div.front_b:hover div {\n",
        "    display: block;\n",
        "    max-width: 200px;\n",
        "}\n",
        "    \n",
        "div.front_hebrew:hover div {\n",
        "    display: block;\n",
        "}\n",
        "\n",
        "div.def_disc, div.factors {\n",
        "    font-size: x-small;\n",
        "    background-color:White;\n",
        "    z-index:1;\n",
        "    position:absolute;\n",
        "    font-family:SBL Hebrew;\n",
        "    line-height: 95%;\n",
        "}\n",
        "\n",
        "div.translation {\n",
        "    z-index:1;\n",
        "    position:absolute;\n",
        "    right:10%;\n",
        "    line-height: 90%;\n",
        "    font-size: x-small;\n",
        "}\n",
        "\n",
        "div.left {\n",
        "    border-left-style:dotted;\n",
        "    border-left-width:thin;\n",
        "}\n",
        "\n",
        "div.right {\n",
        "    border-right-style:dotted;\n",
        "    border-right-width:thin;\n",
        "}\n",
        "\n",
        "div.delimit {\n",
        "\tborder-top-width: thin;\n",
        "\tborder-top-style: dotted;\n",
        "}\n",
        "\n",
        "span.translation_verb{\n",
        "    color: Crimson;\n",
        "}\n",
        "\n",
        "span.verb {\n",
        "    color: Crimson;\n",
        "}\n",
        "\n",
        "div.small {\n",
        "    font-size: xx-small;\t\n",
        "\tline-height: 95%;\n",
        "}\n",
        "\n",
        "div.counter {\n",
        "\tfont-size: small;\n",
        "\tfont-style: italic;\n",
        "}\n",
        "\n",
        "span.count {\n",
        "    text-align: left;\n",
        "}\n",
        "\n",
        "</style>\n"
       ],
       "metadata": {},
       "output_type": "display_data",
       "text": [
        "<IPython.core.display.HTML at 0x32294b0>"
       ]
      }
     ],
     "prompt_number": 1
    },
    {
     "cell_type": "markdown",
     "metadata": {},
     "source": [
      "<div class=\"navigation\">\n",
      "Navigate to the <a href=\"Index.ipynb\">Index</a> or enter a Psalm of your choice: <form name=\"myform\"><input type=\"text\" name=\"psalm\"> <a href=\"javascript: read_input()\">Go to Psalm...</a></form>\n",
      "</div>\n",
      "<script type=\"text/javascript\">\n",
      "function read_input(){\n",
      "    psalm_number = document.myform.psalm.value\n",
      "    if (psalm_number < 1 || psalm_number > 150){\n",
      "        alert(\"You have provided an invalid Psalm number. Please choose one of the 150 available Psalms.\");\n",
      "    } else {    \n",
      "        var psalm = \"\";\n",
      "        if (psalm_number < 10){\n",
      "            psalm = \"Psalm00\" + psalm_number + \".ipynb\";\n",
      "        } else if (psalm_number < 100){\n",
      "            psalm = \"Psalm0\" + psalm_number + \".ipynb\";\n",
      "        } else {\n",
      "            psalm = \"Psalm\" + psalm_number + \".ipynb\";\n",
      "        }\n",
      "        window.open(psalm);\n",
      "    }\n",
      "}\n",
      "</script>"
     ]
    },
    {
     "cell_type": "heading",
     "level": 1,
     "metadata": {},
     "source": [
      "PSALM 87"
     ]
    },
    {
     "cell_type": "heading",
     "level": 2,
     "metadata": {},
     "source": [
      "1. Translation of Psalm 87"
     ]
    },
    {
     "cell_type": "code",
     "collapsed": false,
     "input": [
      "Psalms.print_translation(\"Input/psalmen087Raw.txt\")"
     ],
     "language": "python",
     "metadata": {},
     "outputs": [
      {
       "html": [
        "<table class=\"presentation\" id=\"Translation\"><tr><th></th><th><a href=\"HebrewText.ipynb\" target=\"_blank\">Hebrew text</a></th><th><a href=\"ClauseLabels.ipynb\" target=\"_blank\">ClTp</a></th><th><a href=\"Translation.ipynb\" target=\"_blank\">Translation</a></th></tr><tr><td>001</td><td class=\"unicode\" nowrap>&nbsp;&nbsp;&nbsp;&nbsp;&nbsp;&nbsp;&nbsp;&nbsp;&nbsp;&nbsp;&nbsp;&nbsp;&nbsp;&nbsp;&nbsp;&nbsp;&nbsp;&nbsp;&nbsp;&nbsp;&nbsp;&nbsp;&nbsp;&nbsp;&nbsp;&nbsp;&nbsp;&nbsp;&nbsp;&nbsp;&nbsp;&nbsp;&nbsp;&nbsp;&nbsp;&nbsp;&nbsp;&nbsp;&nbsp;&nbsp;&nbsp;&nbsp;&nbsp;&nbsp;&nbsp;&nbsp;&nbsp;&nbsp;&nbsp;&nbsp;&nbsp;[&lt;PC&gt;&nbsp;\u05dc-\u05d1\u05e0\u05d9&nbsp;\u05e7\u05e8\u05d7]&nbsp;&nbsp;&nbsp;</td><td style=\"font-family:Courier\">NmCl</td><td nowrap>&nbsp;this <span class=\"translation_verb\">is</span> to the sons of Korah </td></tr><tr><td></td><td class=\"unicode\" nowrap>&nbsp;&nbsp;&nbsp;&nbsp;&nbsp;&nbsp;&nbsp;&nbsp;&nbsp;&nbsp;&nbsp;&nbsp;&nbsp;&nbsp;&nbsp;&nbsp;&nbsp;&nbsp;&nbsp;&nbsp;&nbsp;&nbsp;&nbsp;&nbsp;&nbsp;&nbsp;&nbsp;&nbsp;&nbsp;&nbsp;&nbsp;&nbsp;&nbsp;&nbsp;&nbsp;&nbsp;&nbsp;&nbsp;&nbsp;&nbsp;&nbsp;&nbsp;&nbsp;&nbsp;&nbsp;&nbsp;&nbsp;&nbsp;&nbsp;&nbsp;&nbsp;[&lt;PC&gt;&nbsp;\u05de\u05d6\u05de\u05d5\u05e8]&nbsp;&nbsp;&nbsp;&nbsp;|&nbsp;&nbsp;</td><td style=\"font-family:Courier\">NmCl</td><td nowrap>&nbsp;&nbsp;|&nbsp;&nbsp;this <span class=\"translation_verb\">is</span> a psalm </td></tr><tr><td></td><td class=\"unicode\" nowrap>&nbsp;&nbsp;&nbsp;&nbsp;&nbsp;&nbsp;&nbsp;&nbsp;&nbsp;&nbsp;&nbsp;&nbsp;&nbsp;&nbsp;&nbsp;&nbsp;&nbsp;&nbsp;&nbsp;&nbsp;&nbsp;&nbsp;&nbsp;&nbsp;&nbsp;&nbsp;&nbsp;&nbsp;&nbsp;&nbsp;&nbsp;&nbsp;&nbsp;&nbsp;&nbsp;&nbsp;&nbsp;&nbsp;&nbsp;&nbsp;&nbsp;&nbsp;&nbsp;&nbsp;&nbsp;&nbsp;&nbsp;&nbsp;&nbsp;&nbsp;&nbsp;&nbsp;&nbsp;[&lt;PC&gt;&nbsp;\u05e9\u05c1\u05d9\u05e8]&nbsp;&nbsp;&nbsp;&nbsp;|&nbsp;&nbsp;</td><td style=\"font-family:Courier\">NmCl</td><td nowrap>&nbsp;&nbsp;|&nbsp;&nbsp;this <span class=\"translation_verb\">is</span> a song </td></tr><tr><td></td><td class=\"unicode\" nowrap>&nbsp;&nbsp;&nbsp;&nbsp;&nbsp;&nbsp;&nbsp;&nbsp;&nbsp;&nbsp;&nbsp;&nbsp;&nbsp;&nbsp;&nbsp;&nbsp;&nbsp;&nbsp;&nbsp;&nbsp;&nbsp;&nbsp;&nbsp;&nbsp;&nbsp;&nbsp;&nbsp;&nbsp;&nbsp;&nbsp;&nbsp;&nbsp;&nbsp;&nbsp;&nbsp;&nbsp;[&lt;PC&gt;&nbsp;\u05d1-\u05d4\u05e8\u05e8\u05d9&nbsp;\u05e7\u05d3\u05e9\u05c1]&nbsp;&nbsp;[&lt;Su&gt;&nbsp;\u05d9\u05e1\u05d5\u05d3\u05ea\u05d5]&nbsp;&nbsp;&nbsp;</td><td style=\"font-family:Courier\">NmCl</td><td nowrap>&nbsp;his foundation <span class=\"translation_verb\">is</span> in/among mountains of a holiness </td></tr><tr><td>002</td><td class=\"unicode\" nowrap>[&lt;Aj&gt;&nbsp;\u05de-\u05db\u05dc&nbsp;\u05de\u05e9\u05c1\u05db\u05e0\u05d5\u05ea&nbsp;\u05d9\u05e2\u05e7\u05d1]&nbsp;&nbsp;[&lt;Ob&gt;&nbsp;\u05e9\u05c1\u05e2\u05e8\u05d9&nbsp;\u05e6\u05d9\u05d5\u05df]&nbsp;&nbsp;[&lt;Su&gt;&nbsp;\u05d9\u05d4\u05d5\u05d4]&nbsp;<span class=\"verb\">&nbsp;[&lt;PC&gt;&nbsp;\u05d0\u05d4\u05d1]</span>&nbsp;&nbsp;&nbsp;&nbsp;&nbsp;&nbsp;&nbsp;</td><td style=\"font-family:Courier\">Ptcp</td><td nowrap>&nbsp;&nbsp;&nbsp;&nbsp;&nbsp;YHWH <span class=\"translation_verb\">is</span> <span class=\"translation_verb\">loving</span> the gates of Zion </td></tr><tr><td>003</td><td class=\"unicode\" nowrap>&nbsp;&nbsp;&nbsp;&nbsp;&nbsp;&nbsp;&nbsp;&nbsp;&nbsp;&nbsp;&nbsp;&nbsp;&nbsp;&nbsp;&nbsp;&nbsp;[&lt;Co&gt;&nbsp;\u05d1\u05da]&nbsp;<span class=\"verb\">&nbsp;[&lt;PC&gt;&nbsp;\u05de\u05d3\u05d1\u05e8]</span>&nbsp;&nbsp;[&lt;Su&gt;&nbsp;\u05e0\u05db\u05d1\u05d3\u05d5\u05ea]&nbsp;&nbsp;&nbsp;&nbsp;|&nbsp;&nbsp;&nbsp;|&nbsp;&nbsp;&nbsp;&nbsp;&nbsp;&nbsp;&nbsp;&nbsp;&nbsp;&nbsp;</td><td style=\"font-family:Courier\">Ptcp</td><td nowrap>&nbsp;&nbsp;&nbsp;&nbsp;&nbsp;&nbsp;&nbsp;&nbsp;&nbsp;&nbsp;|&nbsp;&nbsp;&nbsp;|&nbsp;&nbsp;heavy ones <span class=\"translation_verb\">are</span> <span class=\"translation_verb\">being</span> <span class=\"translation_verb\">spoken</span> </td></tr><tr><td></td><td class=\"unicode\" nowrap>&nbsp;&nbsp;&nbsp;&nbsp;&nbsp;&nbsp;&nbsp;&nbsp;&nbsp;&nbsp;&nbsp;&nbsp;&nbsp;&nbsp;&nbsp;&nbsp;&nbsp;&nbsp;&nbsp;&nbsp;&nbsp;&nbsp;&nbsp;&nbsp;&nbsp;[&lt;Vo&gt;&nbsp;\u05e2\u05d9\u05e8&nbsp;\u05d4-\u05d0\u05dc\u05d4\u05d9\u05dd]&nbsp;&nbsp;&nbsp;&nbsp;|&nbsp;&nbsp;&nbsp;&nbsp;&nbsp;&nbsp;&nbsp;|&nbsp;&nbsp;&nbsp;|&nbsp;&nbsp;&nbsp;&nbsp;&nbsp;&nbsp;&nbsp;&nbsp;&nbsp;&nbsp;</td><td style=\"font-family:Courier\">Voct</td><td nowrap>&nbsp;&nbsp;&nbsp;&nbsp;&nbsp;&nbsp;&nbsp;&nbsp;&nbsp;&nbsp;|&nbsp;&nbsp;&nbsp;|&nbsp;&nbsp;&nbsp;&nbsp;&nbsp;&nbsp;&nbsp;|&nbsp;&nbsp;o town of God </td></tr><tr><td></td><td class=\"unicode\" nowrap>&nbsp;&nbsp;&nbsp;&nbsp;&nbsp;&nbsp;&nbsp;&nbsp;&nbsp;&nbsp;&nbsp;&nbsp;&nbsp;&nbsp;&nbsp;&nbsp;&nbsp;&nbsp;&nbsp;&nbsp;&nbsp;&nbsp;&nbsp;&nbsp;&nbsp;&nbsp;&nbsp;&nbsp;&nbsp;&nbsp;&nbsp;&nbsp;&nbsp;&nbsp;&nbsp;&nbsp;&nbsp;[&lt;Ij&gt;&nbsp;\u05e1\u05dc\u05d4]&nbsp;&nbsp;&nbsp;&nbsp;&nbsp;&nbsp;&nbsp;&nbsp;|&nbsp;&nbsp;&nbsp;|&nbsp;&nbsp;&nbsp;&nbsp;&nbsp;&nbsp;&nbsp;&nbsp;&nbsp;&nbsp;</td><td style=\"font-family:Courier\">MSyn</td><td nowrap>&nbsp;&nbsp;&nbsp;&nbsp;&nbsp;&nbsp;&nbsp;&nbsp;&nbsp;&nbsp;|&nbsp;&nbsp;&nbsp;|&nbsp;&nbsp;&nbsp;&nbsp;&nbsp;&nbsp;sela </td></tr><tr><td>004</td><td class=\"unicode\" nowrap>&nbsp;&nbsp;&nbsp;&nbsp;&nbsp;&nbsp;&nbsp;&nbsp;&nbsp;&nbsp;&nbsp;&nbsp;[&lt;Co&gt;&nbsp;\u05dc-\u05d9\u05d3\u05e2\u05d9]&nbsp;&nbsp;[&lt;Ob&gt;&nbsp;\u05e8\u05d4\u05d1&nbsp;\u05d5-\u05d1\u05d1\u05dc]&nbsp;<span class=\"verb\">&nbsp;[&lt;Pr&gt;&nbsp;\u05d0\u05d6\u05db\u05d9\u05e8]</span>&nbsp;&nbsp;&nbsp;&nbsp;|&nbsp;&nbsp;&nbsp;&nbsp;&nbsp;&nbsp;&nbsp;&nbsp;&nbsp;&nbsp;</td><td style=\"font-family:Courier\">ZYq0</td><td nowrap>&nbsp;&nbsp;&nbsp;&nbsp;&nbsp;&nbsp;&nbsp;&nbsp;&nbsp;&nbsp;|&nbsp;&nbsp;<span class=\"translation_verb\">let</span> me <span class=\"translation_verb\">cause</span> Rahab and.. <span class=\"translation_verb\">to</span> <span class=\"translation_verb\">remember</span> </td></tr><tr><td></td><td class=\"unicode\" nowrap>&nbsp;&nbsp;&nbsp;&nbsp;&nbsp;&nbsp;[&lt;sp&gt;&lt;Fs&gt;&nbsp;\u05e4\u05dc\u05e9\u05c1\u05ea&nbsp;\u05d5-\u05e6\u05d5\u05e8&nbsp;/&nbsp;\u05e2\u05dd&nbsp;\u05db\u05d5\u05e9\u05c1]&nbsp;&nbsp;[&lt;Ij&gt;&nbsp;\u05d4\u05e0\u05d4]&nbsp;&nbsp;&nbsp;&nbsp;|&nbsp;&nbsp;&nbsp;&nbsp;&nbsp;&nbsp;&nbsp;|&nbsp;&nbsp;&nbsp;&nbsp;&nbsp;&nbsp;&nbsp;&nbsp;&nbsp;&nbsp;</td><td style=\"font-family:Courier\">CPen</td><td nowrap>&nbsp;&nbsp;&nbsp;&nbsp;&nbsp;&nbsp;&nbsp;&nbsp;&nbsp;&nbsp;|&nbsp;&nbsp;&nbsp;&nbsp;&nbsp;&nbsp;&nbsp;|&nbsp;&nbsp;behold, concerning Philistia and.. </td></tr><tr><td></td><td class=\"unicode\" nowrap>&nbsp;&nbsp;&nbsp;&nbsp;&nbsp;&nbsp;&nbsp;&nbsp;&nbsp;&nbsp;&nbsp;&nbsp;&nbsp;[&lt;Lo&gt;&nbsp;\u05e9\u05c1\u05dd]&nbsp;<span class=\"verb\">&nbsp;[&lt;Pr&gt;&nbsp;\u05d9\u05dc\u05d3]</span>&nbsp;&nbsp;[&lt;Su&gt;&nbsp;\u05d6\u05d4]&nbsp;&nbsp;&nbsp;&nbsp;&nbsp;&nbsp;&nbsp;&nbsp;|&nbsp;&nbsp;&nbsp;&nbsp;&nbsp;&nbsp;&nbsp;|&nbsp;&nbsp;&nbsp;&nbsp;&nbsp;&nbsp;&nbsp;&nbsp;&nbsp;&nbsp;</td><td style=\"font-family:Courier\">XQtl</td><td nowrap>&nbsp;&nbsp;&nbsp;&nbsp;&nbsp;&nbsp;&nbsp;&nbsp;&nbsp;&nbsp;|&nbsp;&nbsp;&nbsp;&nbsp;&nbsp;&nbsp;&nbsp;|&nbsp;&nbsp;&nbsp;&nbsp;&nbsp;&nbsp;this <span class=\"translation_verb\">has</span> <span class=\"translation_verb\">been</span> <span class=\"translation_verb\">born</span> </td></tr><tr><td>005</td><td class=\"unicode\" nowrap><span class=\"verb\">&nbsp;&nbsp;&nbsp;&nbsp;&nbsp;&nbsp;&nbsp;&nbsp;&nbsp;&nbsp;&nbsp;&nbsp;&nbsp;&nbsp;&nbsp;&nbsp;&nbsp;[&lt;Pr&gt;&nbsp;\u05d9\u05d0\u05de\u05e8]</span>&nbsp;&nbsp;[&lt;Co&gt;&nbsp;\u05dc-\u05e6\u05d9\u05d5\u05df]&nbsp;&nbsp;[&lt;Cj&gt;&nbsp;-\u05d5]&nbsp;&nbsp;&nbsp;&nbsp;&nbsp;&nbsp;&nbsp;&nbsp;|&nbsp;&nbsp;&nbsp;&nbsp;&nbsp;&nbsp;&nbsp;&nbsp;&nbsp;&nbsp;</td><td style=\"font-family:Courier\">WxY0</td><td nowrap>&nbsp;&nbsp;&nbsp;&nbsp;&nbsp;&nbsp;&nbsp;&nbsp;&nbsp;&nbsp;|&nbsp;&nbsp;&nbsp;&nbsp;&nbsp;&nbsp;and he <span class=\"translation_verb\">is</span> <span class=\"translation_verb\">said</span> </td></tr><tr><td></td><td class=\"unicode\" nowrap>&nbsp;&nbsp;&nbsp;&nbsp;&nbsp;&nbsp;[&lt;Aj&gt;&nbsp;\u05d1\u05d4]&nbsp;<span class=\"verb\">&nbsp;[&lt;Pr&gt;&nbsp;\u05d9\u05dc\u05d3]</span>&nbsp;&nbsp;[&lt;Su&gt;&nbsp;\u05d0\u05d9\u05e9\u05c1&nbsp;\u05d5-\u05d0\u05d9\u05e9\u05c1]&nbsp;&nbsp;&nbsp;&nbsp;|&nbsp;&nbsp;&nbsp;&nbsp;&nbsp;&nbsp;&nbsp;&nbsp;&nbsp;&nbsp;&nbsp;|&nbsp;&nbsp;&nbsp;&nbsp;&nbsp;&nbsp;&nbsp;&nbsp;&nbsp;&nbsp;</td><td style=\"font-family:Courier\">XQtl</td><td nowrap>&nbsp;&nbsp;&nbsp;&nbsp;&nbsp;&nbsp;&nbsp;&nbsp;&nbsp;&nbsp;|&nbsp;&nbsp;&nbsp;&nbsp;&nbsp;&nbsp;&nbsp;&nbsp;&nbsp;&nbsp;&nbsp;|&nbsp;&nbsp;a man and.. <span class=\"translation_verb\">has</span> <span class=\"translation_verb\">been</span> <span class=\"translation_verb\">born</span> </td></tr><tr><td></td><td class=\"unicode\" nowrap><span class=\"verb\">&nbsp;&nbsp;&nbsp;&nbsp;&nbsp;&nbsp;&nbsp;&nbsp;&nbsp;&nbsp;&nbsp;&nbsp;&nbsp;&nbsp;[&lt;PO&gt;&nbsp;\u05d9\u05db\u05d5\u05e0\u05e0\u05d4]</span>&nbsp;&nbsp;[&lt;Su&gt;&nbsp;\u05d4\u05d5\u05d0]&nbsp;&nbsp;[&lt;Cj&gt;&nbsp;-\u05d5]&nbsp;&nbsp;&nbsp;&nbsp;&nbsp;&nbsp;&nbsp;&nbsp;&nbsp;&nbsp;&nbsp;&nbsp;|&nbsp;&nbsp;&nbsp;&nbsp;&nbsp;&nbsp;&nbsp;&nbsp;&nbsp;&nbsp;</td><td style=\"font-family:Courier\">WXYq</td><td nowrap>&nbsp;&nbsp;&nbsp;&nbsp;&nbsp;&nbsp;&nbsp;&nbsp;&nbsp;&nbsp;|&nbsp;&nbsp;&nbsp;&nbsp;&nbsp;&nbsp;&nbsp;&nbsp;&nbsp;&nbsp;and/but he <span class=\"translation_verb\">prepares</span> her </td></tr><tr><td></td><td class=\"unicode\" nowrap>&nbsp;&nbsp;&nbsp;&nbsp;&nbsp;&nbsp;&nbsp;&nbsp;&nbsp;&nbsp;&nbsp;&nbsp;&nbsp;&nbsp;&nbsp;&nbsp;&nbsp;&nbsp;&nbsp;&nbsp;&nbsp;&nbsp;&nbsp;&nbsp;&nbsp;&nbsp;&nbsp;&nbsp;&nbsp;&nbsp;&nbsp;[&lt;Su&gt;&nbsp;\u05e2\u05dc\u05d9\u05d5\u05df]&nbsp;&nbsp;&nbsp;&nbsp;&nbsp;&nbsp;&nbsp;&nbsp;&nbsp;&nbsp;&nbsp;&nbsp;&nbsp;&nbsp;&nbsp;&nbsp;|&nbsp;&nbsp;&nbsp;&nbsp;&nbsp;&nbsp;&nbsp;&nbsp;&nbsp;&nbsp;</td><td style=\"font-family:Courier\">Ellp</td><td nowrap>&nbsp;&nbsp;&nbsp;&nbsp;&nbsp;&nbsp;&nbsp;&nbsp;&nbsp;&nbsp;|&nbsp;&nbsp;&nbsp;&nbsp;&nbsp;&nbsp;&nbsp;&nbsp;&nbsp;&nbsp;&nbsp;&nbsp;&nbsp;&nbsp;the upper one </td></tr><tr><td>006</td><td class=\"unicode\" nowrap><span class=\"verb\">&nbsp;&nbsp;&nbsp;&nbsp;&nbsp;&nbsp;&nbsp;&nbsp;&nbsp;&nbsp;&nbsp;&nbsp;&nbsp;&nbsp;&nbsp;&nbsp;&nbsp;&nbsp;&nbsp;&nbsp;&nbsp;&nbsp;&nbsp;&nbsp;&nbsp;&nbsp;&nbsp;&nbsp;&nbsp;&nbsp;&nbsp;&nbsp;&nbsp;&nbsp;&nbsp;&nbsp;[&lt;Pr&gt;&nbsp;\u05d9\u05e1\u05e4\u05e8]</span>&nbsp;&nbsp;[&lt;Su&gt;&nbsp;\u05d9\u05d4\u05d5\u05d4]&nbsp;&nbsp;&nbsp;&nbsp;&nbsp;&nbsp;&nbsp;&nbsp;&nbsp;&nbsp;&nbsp;</td><td style=\"font-family:Courier\">XYqt</td><td nowrap>&nbsp;&nbsp;&nbsp;&nbsp;&nbsp;&nbsp;&nbsp;&nbsp;&nbsp;YHWH <span class=\"translation_verb\">counts</span> </td></tr><tr><td></td><td class=\"unicode\" nowrap>&nbsp;&nbsp;&nbsp;&nbsp;&nbsp;&nbsp;&nbsp;&nbsp;&nbsp;&nbsp;&nbsp;&nbsp;&nbsp;&nbsp;&nbsp;&nbsp;&nbsp;&nbsp;&nbsp;&nbsp;&nbsp;&nbsp;[&lt;Ob&gt;&nbsp;\u05e2\u05de\u05d9\u05dd]&nbsp;<span class=\"verb\">&nbsp;[&lt;Pr&gt;&nbsp;\u05d1-\u05db\u05ea\u05d5\u05d1]</span>&nbsp;&nbsp;&nbsp;&nbsp;|&nbsp;&nbsp;&nbsp;|&nbsp;&nbsp;&nbsp;&nbsp;&nbsp;&nbsp;&nbsp;&nbsp;&nbsp;&nbsp;&nbsp;&nbsp;&nbsp;&nbsp;</td><td style=\"font-family:Courier\">InfC</td><td nowrap>&nbsp;&nbsp;&nbsp;&nbsp;&nbsp;&nbsp;&nbsp;&nbsp;&nbsp;&nbsp;&nbsp;&nbsp;&nbsp;&nbsp;|&nbsp;&nbsp;&nbsp;|&nbsp;&nbsp;while/when <span class=\"translation_verb\">writing</span> peoples </td></tr><tr><td></td><td class=\"unicode\" nowrap>&nbsp;&nbsp;&nbsp;&nbsp;&nbsp;&nbsp;&nbsp;&nbsp;&nbsp;&nbsp;&nbsp;&nbsp;&nbsp;&nbsp;&nbsp;&nbsp;&nbsp;&nbsp;&nbsp;&nbsp;&nbsp;[&lt;Lo&gt;&nbsp;\u05e9\u05c1\u05dd]&nbsp;<span class=\"verb\">&nbsp;[&lt;Pr&gt;&nbsp;\u05d9\u05dc\u05d3]</span>&nbsp;&nbsp;[&lt;Su&gt;&nbsp;\u05d6\u05d4]&nbsp;&nbsp;&nbsp;&nbsp;|&nbsp;&nbsp;&nbsp;&nbsp;&nbsp;&nbsp;&nbsp;&nbsp;&nbsp;&nbsp;&nbsp;&nbsp;&nbsp;&nbsp;</td><td style=\"font-family:Courier\">XQtl</td><td nowrap>&nbsp;&nbsp;&nbsp;&nbsp;&nbsp;&nbsp;&nbsp;&nbsp;&nbsp;&nbsp;&nbsp;&nbsp;&nbsp;&nbsp;|&nbsp;&nbsp;this <span class=\"translation_verb\">has</span> <span class=\"translation_verb\">been</span> <span class=\"translation_verb\">born</span> </td></tr><tr><td></td><td class=\"unicode\" nowrap>&nbsp;&nbsp;&nbsp;&nbsp;&nbsp;&nbsp;&nbsp;&nbsp;&nbsp;&nbsp;&nbsp;&nbsp;&nbsp;&nbsp;&nbsp;&nbsp;&nbsp;&nbsp;&nbsp;&nbsp;&nbsp;&nbsp;&nbsp;&nbsp;&nbsp;&nbsp;&nbsp;&nbsp;&nbsp;&nbsp;&nbsp;&nbsp;&nbsp;&nbsp;&nbsp;&nbsp;&nbsp;[&lt;Ij&gt;&nbsp;\u05e1\u05dc\u05d4]&nbsp;&nbsp;&nbsp;&nbsp;&nbsp;&nbsp;&nbsp;&nbsp;|&nbsp;&nbsp;&nbsp;&nbsp;&nbsp;&nbsp;&nbsp;&nbsp;&nbsp;&nbsp;&nbsp;&nbsp;&nbsp;&nbsp;</td><td style=\"font-family:Courier\">MSyn</td><td nowrap>&nbsp;&nbsp;&nbsp;&nbsp;&nbsp;&nbsp;&nbsp;&nbsp;&nbsp;&nbsp;&nbsp;&nbsp;&nbsp;&nbsp;|&nbsp;&nbsp;&nbsp;&nbsp;&nbsp;&nbsp;sela </td></tr><tr><td>007</td><td class=\"unicode\" nowrap>&nbsp;&nbsp;&nbsp;&nbsp;&nbsp;&nbsp;&nbsp;&nbsp;&nbsp;&nbsp;&nbsp;&nbsp;&nbsp;&nbsp;&nbsp;&nbsp;&nbsp;&nbsp;&nbsp;&nbsp;[&lt;Aj&gt;&nbsp;\u05db-\u05d7\u05dc\u05dc\u05d9\u05dd]&nbsp;<span class=\"verb\">&nbsp;[&lt;PC&gt;&nbsp;\u05e9\u05c1\u05e8\u05d9\u05dd]</span>&nbsp;&nbsp;[&lt;Cj&gt;&nbsp;-\u05d5]&nbsp;&nbsp;&nbsp;&nbsp;&nbsp;&nbsp;&nbsp;&nbsp;&nbsp;&nbsp;&nbsp;&nbsp;&nbsp;&nbsp;&nbsp;</td><td style=\"font-family:Courier\">Ptcp</td><td nowrap>&nbsp;&nbsp;&nbsp;&nbsp;&nbsp;&nbsp;&nbsp;&nbsp;&nbsp;&nbsp;&nbsp;&nbsp;&nbsp;while they <span class=\"translation_verb\">are</span> <span class=\"translation_verb\">singing</span> <span class=\"translation_verb\">(of)</span> </td></tr><tr><td></td><td class=\"unicode\" nowrap>&nbsp;&nbsp;&nbsp;&nbsp;&nbsp;&nbsp;&nbsp;&nbsp;&nbsp;&nbsp;&nbsp;&nbsp;&nbsp;&nbsp;&nbsp;&nbsp;&nbsp;&nbsp;&nbsp;&nbsp;&nbsp;&nbsp;&nbsp;&nbsp;&nbsp;&nbsp;[&lt;PC&gt;&nbsp;\u05d1\u05da]&nbsp;&nbsp;[&lt;Su&gt;&nbsp;\u05db\u05dc&nbsp;\u05de\u05e2\u05d9\u05e0\u05d9]&nbsp;&nbsp;&nbsp;&nbsp;&nbsp;&nbsp;&nbsp;&nbsp;&nbsp;&nbsp;&nbsp;&nbsp;&nbsp;&nbsp;&nbsp;&nbsp;&nbsp;&nbsp;&nbsp;</td><td style=\"font-family:Courier\">NmCl</td><td nowrap>&nbsp;&nbsp;&nbsp;&nbsp;&nbsp;&nbsp;&nbsp;&nbsp;&nbsp;&nbsp;&nbsp;&nbsp;&nbsp;&nbsp;&nbsp;&nbsp;&nbsp;all of my wells <span class=\"translation_verb\">is</span> in/among you </td></tr></table>"
       ],
       "metadata": {},
       "output_type": "display_data",
       "text": [
        "<IPython.core.display.HTML at 0x3c69f30>"
       ]
      }
     ],
     "prompt_number": 2
    },
    {
     "cell_type": "heading",
     "level": 2,
     "metadata": {},
     "source": [
      "2. Analysis of Psalm 87"
     ]
    },
    {
     "cell_type": "code",
     "collapsed": false,
     "input": [
      "Psalms.print_analysis(\"Input/psalmen087Raw.txt\")"
     ],
     "language": "python",
     "metadata": {},
     "outputs": [
      {
       "html": [
        "<table class=\"presentation\" id=\"Analysis\"><tr><th>Vs</th><th>Ln</th><th nowrap><a href=\"HebrewText.ipynb\" target=\"_blank\">Hebrew text</a><br><div class=\"small\">(mouse-over for <a href=\"Translation.ipynb\" target=\"_blank\">Translation)</a></div></th><th nowrap><a href=\"ClauseLabels.ipynb\" target=\"_blank\">ClTp</a><br><div class=\"small\">(mouse-over<br>for<br><a href=\"DefaultDiscourseFunctions.ipynb\" target=\"_blank\">DefDiscFu)</a></div></th><th><a href=\"DefaultFunctions.ipynb\" target=\"_blank\">DefFu</a></th><th><a href=\"Processes.ipynb\" target=\"_blank\">Processes</a><br><div class=\"small\">(hover over<br>\"!\"-sign)</div></th><th><a href=\"FinalFunctions.ipynb\" target=\"_blank\">FinFu</a></th><th><a href=\"MDModifier.ipynb\" target=\"_blank\">MDMod</a></th><th><a href=\"CCR.ipynb\" target=\"_blank\">CCR</a></th><th><a href=\"DiscourseFunctions.ipynb\" target=\"_blank\">DiscFu</a></th><th><a href=\"ConcordanceOfPatterns.ipynb\" target=\"_blank\">#Pat</a></th></tr><tr id=\"ln1\"><td>001</td><td>1</td><td class=\"unicode\" nowrap><div class=\"front_hebrew\">&nbsp;&nbsp;&nbsp;&nbsp;&nbsp;&nbsp;&nbsp;&nbsp;&nbsp;&nbsp;&nbsp;&nbsp;&nbsp;&nbsp;&nbsp;&nbsp;&nbsp;&nbsp;&nbsp;&nbsp;&nbsp;&nbsp;&nbsp;&nbsp;&nbsp;&nbsp;&nbsp;&nbsp;&nbsp;&nbsp;&nbsp;&nbsp;&nbsp;&nbsp;&nbsp;&nbsp;&nbsp;&nbsp;&nbsp;&nbsp;&nbsp;&nbsp;&nbsp;&nbsp;&nbsp;&nbsp;&nbsp;&nbsp;&nbsp;&nbsp;&nbsp;[&lt;PC&gt;&nbsp;\u05dc-\u05d1\u05e0\u05d9&nbsp;\u05e7\u05e8\u05d7]&nbsp;&nbsp;<div class=\"translation\">this <span class=\"translation_verb\">is</span> to the sons of Korah </div></div></td><td><div class=\"front\">NmCl<div class=\"def_disc\">disc-main</div></div></td><td><div class=\"left\">nomin.</div></td><td>  </td><td><div class=\"right\">nomin.</div></td><td class=\"unicode\"></td><td></td><td>(re)openMain</td><td><a href=\"ConcordanceOfPatterns.ipynb#0\" target=\"_blank\">0</a></td></tr><tr id=\"ln2\"><td>001</td><td>2</td><td class=\"unicode\" nowrap><div class=\"front_hebrew\">&nbsp;&nbsp;&nbsp;&nbsp;&nbsp;&nbsp;&nbsp;&nbsp;&nbsp;&nbsp;&nbsp;&nbsp;&nbsp;&nbsp;&nbsp;&nbsp;&nbsp;&nbsp;&nbsp;&nbsp;&nbsp;&nbsp;&nbsp;&nbsp;&nbsp;&nbsp;&nbsp;&nbsp;&nbsp;&nbsp;&nbsp;&nbsp;&nbsp;&nbsp;&nbsp;&nbsp;&nbsp;&nbsp;&nbsp;&nbsp;&nbsp;&nbsp;&nbsp;&nbsp;&nbsp;&nbsp;&nbsp;&nbsp;&nbsp;&nbsp;&nbsp;[&lt;PC&gt;&nbsp;\u05de\u05d6\u05de\u05d5\u05e8]&nbsp;&nbsp;&nbsp;|&nbsp;&nbsp;<div class=\"translation\">this <span class=\"translation_verb\">is</span> a psalm </div></div></td><td><div class=\"front\">NmCl<div class=\"def_disc\">disc-main</div></div></td><td><div class=\"left\">nomin.</div></td><td>  </td><td><div class=\"right\">nomin.</div></td><td class=\"unicode\"></td><td></td><td>cntMain</td><td><a href=\"ConcordanceOfPatterns.ipynb#1731\" target=\"_blank\">1731</a></td></tr><tr id=\"ln3\"><td>001</td><td>3</td><td class=\"unicode\" nowrap><div class=\"front_hebrew\">&nbsp;&nbsp;&nbsp;&nbsp;&nbsp;&nbsp;&nbsp;&nbsp;&nbsp;&nbsp;&nbsp;&nbsp;&nbsp;&nbsp;&nbsp;&nbsp;&nbsp;&nbsp;&nbsp;&nbsp;&nbsp;&nbsp;&nbsp;&nbsp;&nbsp;&nbsp;&nbsp;&nbsp;&nbsp;&nbsp;&nbsp;&nbsp;&nbsp;&nbsp;&nbsp;&nbsp;&nbsp;&nbsp;&nbsp;&nbsp;&nbsp;&nbsp;&nbsp;&nbsp;&nbsp;&nbsp;&nbsp;&nbsp;&nbsp;&nbsp;&nbsp;&nbsp;&nbsp;[&lt;PC&gt;&nbsp;\u05e9\u05c1\u05d9\u05e8]&nbsp;&nbsp;&nbsp;|&nbsp;&nbsp;<div class=\"translation\">this <span class=\"translation_verb\">is</span> a song </div></div></td><td><div class=\"front\">NmCl<div class=\"def_disc\">disc-main</div></div></td><td><div class=\"left\">nomin.</div></td><td>  </td><td><div class=\"right\">nomin.</div></td><td class=\"unicode\"></td><td></td><td>cntMain</td><td><a href=\"ConcordanceOfPatterns.ipynb#1731\" target=\"_blank\">1731</a></td></tr><tr id=\"ln4\"><td>001</td><td>4</td><td class=\"unicode\" nowrap><div class=\"front_hebrew\">&nbsp;&nbsp;&nbsp;&nbsp;&nbsp;&nbsp;&nbsp;&nbsp;&nbsp;&nbsp;&nbsp;&nbsp;&nbsp;&nbsp;&nbsp;&nbsp;&nbsp;&nbsp;&nbsp;&nbsp;&nbsp;&nbsp;&nbsp;&nbsp;&nbsp;&nbsp;&nbsp;&nbsp;&nbsp;&nbsp;&nbsp;&nbsp;&nbsp;&nbsp;&nbsp;&nbsp;[&lt;PC&gt;&nbsp;\u05d1-\u05d4\u05e8\u05e8\u05d9&nbsp;\u05e7\u05d3\u05e9\u05c1]&nbsp;[&lt;Su&gt;&nbsp;\u05d9\u05e1\u05d5\u05d3\u05ea\u05d5]&nbsp;&nbsp;<div class=\"translation\">his foundation <span class=\"translation_verb\">is</span> in/among mountains of a holiness </div></div></td><td><div class=\"front\">NmCl<div class=\"def_disc\">disc-main</div></div></td><td><div class=\"left\">nomin.</div></td><td>  </td><td><div class=\"right\">nomin.</div></td><td class=\"unicode\"></td><td></td><td>opnDrSpMain</td><td><a href=\"ConcordanceOfPatterns.ipynb#0\" target=\"_blank\">0</a></td></tr><tr id=\"ln5\"><td>002</td><td>5</td><td class=\"unicode\" nowrap><div class=\"front_hebrew\">[&lt;Aj&gt;&nbsp;\u05de-\u05db\u05dc&nbsp;\u05de\u05e9\u05c1\u05db\u05e0\u05d5\u05ea&nbsp;\u05d9\u05e2\u05e7\u05d1]&nbsp;[&lt;Ob&gt;&nbsp;\u05e9\u05c1\u05e2\u05e8\u05d9&nbsp;\u05e6\u05d9\u05d5\u05df]&nbsp;[&lt;Su&gt;&nbsp;\u05d9\u05d4\u05d5\u05d4]&nbsp;[&lt;PC&gt;&nbsp;\u05d0\u05d4\u05d1]&nbsp;&nbsp;&nbsp;&nbsp;&nbsp;&nbsp;<div class=\"translation\">YHWH <span class=\"translation_verb\">is</span> <span class=\"translation_verb\">loving</span> the gates of Zion </div></div></td><td><div class=\"front\">Ptcp<div class=\"def_disc\">disc-main</div></div></td><td><div class=\"left\">ind.</div></td><td>  </td><td><div class=\"right\">ind.</div></td><td class=\"unicode\"></td><td></td><td>cntMain</td><td><a href=\"ConcordanceOfPatterns.ipynb#1642\" target=\"_blank\">1642</a></td></tr><tr id=\"ln6\"><td>003</td><td>6</td><td class=\"unicode\" nowrap><div class=\"front_hebrew\">&nbsp;&nbsp;&nbsp;&nbsp;&nbsp;&nbsp;&nbsp;&nbsp;&nbsp;&nbsp;&nbsp;&nbsp;&nbsp;&nbsp;&nbsp;&nbsp;[&lt;Co&gt;&nbsp;\u05d1\u05da]&nbsp;[&lt;PC&gt;&nbsp;\u05de\u05d3\u05d1\u05e8]&nbsp;[&lt;Su&gt;&nbsp;\u05e0\u05db\u05d1\u05d3\u05d5\u05ea]&nbsp;&nbsp;&nbsp;|&nbsp;&nbsp;&nbsp;|&nbsp;&nbsp;&nbsp;&nbsp;&nbsp;&nbsp;&nbsp;&nbsp;&nbsp;&nbsp;<div class=\"translation\">heavy ones <span class=\"translation_verb\">are</span> <span class=\"translation_verb\">being</span> <span class=\"translation_verb\">spoken</span> </div></div></td><td><div class=\"front\">Ptcp<div class=\"def_disc\">disc-main</div></div></td><td><div class=\"left\">ind.</div></td><td>  </td><td><div class=\"right\">ind.</div></td><td class=\"unicode\"></td><td></td><td>(re)openMain</td><td><a href=\"ConcordanceOfPatterns.ipynb#0\" target=\"_blank\">0</a></td></tr><tr id=\"ln7\"><td>003</td><td>7</td><td class=\"unicode\" nowrap><div class=\"front_hebrew\">&nbsp;&nbsp;&nbsp;&nbsp;&nbsp;&nbsp;&nbsp;&nbsp;&nbsp;&nbsp;&nbsp;&nbsp;&nbsp;&nbsp;&nbsp;&nbsp;&nbsp;&nbsp;&nbsp;&nbsp;&nbsp;&nbsp;&nbsp;&nbsp;&nbsp;[&lt;Vo&gt;&nbsp;\u05e2\u05d9\u05e8&nbsp;\u05d4-\u05d0\u05dc\u05d4\u05d9\u05dd]&nbsp;&nbsp;&nbsp;|&nbsp;&nbsp;&nbsp;&nbsp;&nbsp;&nbsp;&nbsp;|&nbsp;&nbsp;&nbsp;|&nbsp;&nbsp;&nbsp;&nbsp;&nbsp;&nbsp;&nbsp;&nbsp;&nbsp;&nbsp;<div class=\"translation\">o town of God </div></div></td><td><div class=\"front\">Voct<div class=\"def_disc\"></div></div></td><td><div class=\"left\">-</div></td><td>  </td><td><div class=\"right\">-</div></td><td class=\"unicode\"></td><td></td><td></td><td><a href=\"ConcordanceOfPatterns.ipynb#0\" target=\"_blank\">0</a></td></tr><tr id=\"ln8\"><td>003</td><td>8</td><td class=\"unicode\" nowrap><div class=\"front_hebrew\">&nbsp;&nbsp;&nbsp;&nbsp;&nbsp;&nbsp;&nbsp;&nbsp;&nbsp;&nbsp;&nbsp;&nbsp;&nbsp;&nbsp;&nbsp;&nbsp;&nbsp;&nbsp;&nbsp;&nbsp;&nbsp;&nbsp;&nbsp;&nbsp;&nbsp;&nbsp;&nbsp;&nbsp;&nbsp;&nbsp;&nbsp;&nbsp;&nbsp;&nbsp;&nbsp;&nbsp;&nbsp;[&lt;Ij&gt;&nbsp;\u05e1\u05dc\u05d4]&nbsp;&nbsp;&nbsp;&nbsp;&nbsp;&nbsp;&nbsp;|&nbsp;&nbsp;&nbsp;|&nbsp;&nbsp;&nbsp;&nbsp;&nbsp;&nbsp;&nbsp;&nbsp;&nbsp;&nbsp;<div class=\"translation\">sela </div></div></td><td><div class=\"front\">MSyn<div class=\"def_disc\">-MAIN;<br>The clause contains or inherits the mainline anchor \u05e1\u05dc\u05d4.</div></div></td><td><div class=\"left\">-</div></td><td>  </td><td><div class=\"right\">-</div></td><td class=\"unicode\"></td><td></td><td></td><td><a href=\"ConcordanceOfPatterns.ipynb#0\" target=\"_blank\">0</a></td></tr><tr id=\"ln9\"><td>004</td><td>9</td><td class=\"unicode\" nowrap><div class=\"front_hebrew\">&nbsp;&nbsp;&nbsp;&nbsp;&nbsp;&nbsp;&nbsp;&nbsp;&nbsp;&nbsp;&nbsp;&nbsp;[&lt;Co&gt;&nbsp;\u05dc-\u05d9\u05d3\u05e2\u05d9]&nbsp;[&lt;Ob&gt;&nbsp;\u05e8\u05d4\u05d1&nbsp;\u05d5-\u05d1\u05d1\u05dc]&nbsp;[&lt;Pr&gt;&nbsp;\u05d0\u05d6\u05db\u05d9\u05e8]&nbsp;&nbsp;&nbsp;|&nbsp;&nbsp;&nbsp;&nbsp;&nbsp;&nbsp;&nbsp;&nbsp;&nbsp;&nbsp;<div class=\"translation\"><span class=\"translation_verb\">let</span> me <span class=\"translation_verb\">cause</span> Rahab and.. <span class=\"translation_verb\">to</span> <span class=\"translation_verb\">remember</span> </div></div></td><td><div class=\"front\">ZYq0<div class=\"def_disc\">disc-main-zero</div></div></td><td><div class=\"left\">coh.</div></td><td>  </td><td><div class=\"right\">coh.</div></td><td class=\"unicode\"></td><td></td><td>(re)openMain</td><td><a href=\"ConcordanceOfPatterns.ipynb#0\" target=\"_blank\">0</a></td></tr><tr id=\"ln10\"><td>004</td><td>10</td><td class=\"unicode\" nowrap><div class=\"front_hebrew\">&nbsp;&nbsp;&nbsp;&nbsp;&nbsp;&nbsp;[&lt;sp&gt;&lt;Fs&gt;&nbsp;\u05e4\u05dc\u05e9\u05c1\u05ea&nbsp;\u05d5-\u05e6\u05d5\u05e8&nbsp;/&nbsp;\u05e2\u05dd&nbsp;\u05db\u05d5\u05e9\u05c1]&nbsp;[&lt;Ij&gt;&nbsp;\u05d4\u05e0\u05d4]&nbsp;&nbsp;&nbsp;|&nbsp;&nbsp;&nbsp;&nbsp;&nbsp;&nbsp;&nbsp;|&nbsp;&nbsp;&nbsp;&nbsp;&nbsp;&nbsp;&nbsp;&nbsp;&nbsp;&nbsp;<div class=\"translation\">behold, concerning Philistia and.. </div></div></td><td><div class=\"front\">CPen<div class=\"def_disc\"></div></div></td><td><div class=\"left\">-</div></td><td>  </td><td><div class=\"right\">-</div></td><td class=\"unicode\"></td><td></td><td>cntMn>retro</td><td><a href=\"ConcordanceOfPatterns.ipynb#762\" target=\"_blank\">762</a></td></tr><tr id=\"ln11\"><td>004</td><td>11</td><td class=\"unicode\" nowrap><div class=\"front_hebrew\">&nbsp;&nbsp;&nbsp;&nbsp;&nbsp;&nbsp;&nbsp;&nbsp;&nbsp;&nbsp;&nbsp;&nbsp;&nbsp;[&lt;Lo&gt;&nbsp;\u05e9\u05c1\u05dd]&nbsp;[&lt;Pr&gt;&nbsp;\u05d9\u05dc\u05d3]&nbsp;[&lt;Su&gt;&nbsp;\u05d6\u05d4]&nbsp;&nbsp;&nbsp;&nbsp;&nbsp;&nbsp;&nbsp;|&nbsp;&nbsp;&nbsp;&nbsp;&nbsp;&nbsp;&nbsp;|&nbsp;&nbsp;&nbsp;&nbsp;&nbsp;&nbsp;&nbsp;&nbsp;&nbsp;&nbsp;<div class=\"translation\">this <span class=\"translation_verb\">has</span> <span class=\"translation_verb\">been</span> <span class=\"translation_verb\">born</span> </div></div></td><td><div class=\"front\">XQtl<div class=\"def_disc\">disc-MAIN-retro</div></div></td><td><div class=\"left\">ind.</div></td><td>  </td><td><div class=\"right\">ind.</div></td><td class=\"unicode\"></td><td></td><td></td><td><a href=\"ConcordanceOfPatterns.ipynb#0\" target=\"_blank\">0</a></td></tr><tr id=\"ln12\"><td>005</td><td>12</td><td class=\"unicode\" nowrap><div class=\"front_hebrew\">&nbsp;&nbsp;&nbsp;&nbsp;&nbsp;&nbsp;&nbsp;&nbsp;&nbsp;&nbsp;&nbsp;&nbsp;&nbsp;&nbsp;&nbsp;&nbsp;&nbsp;[&lt;Pr&gt;&nbsp;\u05d9\u05d0\u05de\u05e8]&nbsp;[&lt;Co&gt;&nbsp;\u05dc-\u05e6\u05d9\u05d5\u05df]&nbsp;[&lt;Cj&gt;&nbsp;-\u05d5]&nbsp;&nbsp;&nbsp;&nbsp;&nbsp;&nbsp;&nbsp;|&nbsp;&nbsp;&nbsp;&nbsp;&nbsp;&nbsp;&nbsp;&nbsp;&nbsp;&nbsp;<div class=\"translation\">and he <span class=\"translation_verb\">is</span> <span class=\"translation_verb\">said</span> </div></div></td><td><div class=\"front\">WxY0<div class=\"def_disc\">disc-main-zero</div></div></td><td><div class=\"left\">non-vol.</div></td><td><div class=\"front_a\">!<div class=\"factors\">Inheritance of volitive functionality is possible, but does not take place. The non-volitive default function is not overridden.</div></div></td><td><div class=\"right\">non-vol.</div></td><td class=\"unicode\"></td><td></td><td>cntMain</td><td><a href=\"ConcordanceOfPatterns.ipynb#672\" target=\"_blank\">672</a></td></tr><tr id=\"ln13\"><td>005</td><td>13</td><td class=\"unicode\" nowrap><div class=\"front_hebrew\">&nbsp;&nbsp;&nbsp;&nbsp;&nbsp;&nbsp;[&lt;Aj&gt;&nbsp;\u05d1\u05d4]&nbsp;[&lt;Pr&gt;&nbsp;\u05d9\u05dc\u05d3]&nbsp;[&lt;Su&gt;&nbsp;\u05d0\u05d9\u05e9\u05c1&nbsp;\u05d5-\u05d0\u05d9\u05e9\u05c1]&nbsp;&nbsp;&nbsp;|&nbsp;&nbsp;&nbsp;&nbsp;&nbsp;&nbsp;&nbsp;&nbsp;&nbsp;&nbsp;&nbsp;|&nbsp;&nbsp;&nbsp;&nbsp;&nbsp;&nbsp;&nbsp;&nbsp;&nbsp;&nbsp;<div class=\"translation\">a man and.. <span class=\"translation_verb\">has</span> <span class=\"translation_verb\">been</span> <span class=\"translation_verb\">born</span> </div></div></td><td><div class=\"front\">XQtl<div class=\"def_disc\">disc-2nd-retro</div></div></td><td><div class=\"left\">ind.</div></td><td>  </td><td><div class=\"right\">ind.</div></td><td class=\"unicode\"></td><td></td><td>opnDrSp2ndR</td><td><a href=\"ConcordanceOfPatterns.ipynb#0\" target=\"_blank\">0</a></td></tr><tr id=\"ln14\"><td>005</td><td>14</td><td class=\"unicode\" nowrap><div class=\"front_hebrew\">&nbsp;&nbsp;&nbsp;&nbsp;&nbsp;&nbsp;&nbsp;&nbsp;&nbsp;&nbsp;&nbsp;&nbsp;&nbsp;&nbsp;[&lt;PO&gt;&nbsp;\u05d9\u05db\u05d5\u05e0\u05e0\u05d4]&nbsp;[&lt;Su&gt;&nbsp;\u05d4\u05d5\u05d0]&nbsp;[&lt;Cj&gt;&nbsp;-\u05d5]&nbsp;&nbsp;&nbsp;&nbsp;&nbsp;&nbsp;&nbsp;&nbsp;&nbsp;&nbsp;&nbsp;|&nbsp;&nbsp;&nbsp;&nbsp;&nbsp;&nbsp;&nbsp;&nbsp;&nbsp;&nbsp;<div class=\"translation\">and/but he <span class=\"translation_verb\">prepares</span> her </div></div></td><td><div class=\"front\">WXYq<div class=\"def_disc\">disc-main-zero</div></div></td><td><div class=\"left\">non-vol.</div></td><td>  </td><td><div class=\"right\">non-vol.</div></td><td class=\"unicode\"></td><td></td><td>cntMain</td><td><a href=\"ConcordanceOfPatterns.ipynb#512\" target=\"_blank\">512</a></td></tr><tr id=\"ln15\"><td>005</td><td>15</td><td class=\"unicode\" nowrap><div class=\"front_hebrew\">&nbsp;&nbsp;&nbsp;&nbsp;&nbsp;&nbsp;&nbsp;&nbsp;&nbsp;&nbsp;&nbsp;&nbsp;&nbsp;&nbsp;&nbsp;&nbsp;&nbsp;&nbsp;&nbsp;&nbsp;&nbsp;&nbsp;&nbsp;&nbsp;&nbsp;&nbsp;&nbsp;&nbsp;&nbsp;&nbsp;&nbsp;[&lt;Su&gt;&nbsp;\u05e2\u05dc\u05d9\u05d5\u05df]&nbsp;&nbsp;&nbsp;&nbsp;&nbsp;&nbsp;&nbsp;&nbsp;&nbsp;&nbsp;&nbsp;&nbsp;&nbsp;&nbsp;&nbsp;|&nbsp;&nbsp;&nbsp;&nbsp;&nbsp;&nbsp;&nbsp;&nbsp;&nbsp;&nbsp;<div class=\"translation\">the upper one </div></div></td><td><div class=\"front\">Ellp<div class=\"def_disc\"></div></div></td><td><div class=\"left\">-</div></td><td>  </td><td><div class=\"right\">-</div></td><td class=\"unicode\"></td><td></td><td></td><td><a href=\"ConcordanceOfPatterns.ipynb#0\" target=\"_blank\">0</a></td></tr><tr id=\"ln16\"><td>006</td><td>16</td><td class=\"unicode\" nowrap><div class=\"front_hebrew\">&nbsp;&nbsp;&nbsp;&nbsp;&nbsp;&nbsp;&nbsp;&nbsp;&nbsp;&nbsp;&nbsp;&nbsp;&nbsp;&nbsp;&nbsp;&nbsp;&nbsp;&nbsp;&nbsp;&nbsp;&nbsp;&nbsp;&nbsp;&nbsp;&nbsp;&nbsp;&nbsp;&nbsp;&nbsp;&nbsp;&nbsp;&nbsp;&nbsp;&nbsp;&nbsp;&nbsp;[&lt;Pr&gt;&nbsp;\u05d9\u05e1\u05e4\u05e8]&nbsp;[&lt;Su&gt;&nbsp;\u05d9\u05d4\u05d5\u05d4]&nbsp;&nbsp;&nbsp;&nbsp;&nbsp;&nbsp;&nbsp;&nbsp;&nbsp;&nbsp;<div class=\"translation\">YHWH <span class=\"translation_verb\">counts</span> </div></div></td><td><div class=\"front\">XYqt<div class=\"def_disc\">disc-main-zero</div></div></td><td><div class=\"left\">non-vol.</div></td><td>  </td><td><div class=\"right\">non-vol.</div></td><td class=\"unicode\"></td><td></td><td>(re)openMain</td><td><a href=\"ConcordanceOfPatterns.ipynb#0\" target=\"_blank\">0</a></td></tr><tr id=\"ln17\"><td>006</td><td>17</td><td class=\"unicode\" nowrap><div class=\"front_hebrew\">&nbsp;&nbsp;&nbsp;&nbsp;&nbsp;&nbsp;&nbsp;&nbsp;&nbsp;&nbsp;&nbsp;&nbsp;&nbsp;&nbsp;&nbsp;&nbsp;&nbsp;&nbsp;&nbsp;&nbsp;&nbsp;&nbsp;[&lt;Ob&gt;&nbsp;\u05e2\u05de\u05d9\u05dd]&nbsp;[&lt;Pr&gt;&nbsp;\u05d1-\u05db\u05ea\u05d5\u05d1]&nbsp;&nbsp;&nbsp;|&nbsp;&nbsp;&nbsp;|&nbsp;&nbsp;&nbsp;&nbsp;&nbsp;&nbsp;&nbsp;&nbsp;&nbsp;&nbsp;&nbsp;&nbsp;&nbsp;&nbsp;<div class=\"translation\">while/when <span class=\"translation_verb\">writing</span> peoples </div></div></td><td><div class=\"front\">InfC<div class=\"def_disc\"></div></div></td><td><div class=\"left\">inf.</div></td><td>  </td><td><div class=\"right\">inf.</div></td><td class=\"unicode\"></td><td>AjCl</td><td>opnDpLn</td><td><a href=\"ConcordanceOfPatterns.ipynb#0\" target=\"_blank\">0</a></td></tr><tr id=\"ln18\"><td>006</td><td>18</td><td class=\"unicode\" nowrap><div class=\"front_hebrew\">&nbsp;&nbsp;&nbsp;&nbsp;&nbsp;&nbsp;&nbsp;&nbsp;&nbsp;&nbsp;&nbsp;&nbsp;&nbsp;&nbsp;&nbsp;&nbsp;&nbsp;&nbsp;&nbsp;&nbsp;&nbsp;[&lt;Lo&gt;&nbsp;\u05e9\u05c1\u05dd]&nbsp;[&lt;Pr&gt;&nbsp;\u05d9\u05dc\u05d3]&nbsp;[&lt;Su&gt;&nbsp;\u05d6\u05d4]&nbsp;&nbsp;&nbsp;|&nbsp;&nbsp;&nbsp;&nbsp;&nbsp;&nbsp;&nbsp;&nbsp;&nbsp;&nbsp;&nbsp;&nbsp;&nbsp;&nbsp;<div class=\"translation\">this <span class=\"translation_verb\">has</span> <span class=\"translation_verb\">been</span> <span class=\"translation_verb\">born</span> </div></div></td><td><div class=\"front\">XQtl<div class=\"def_disc\">disc-2nd-retro</div></div></td><td><div class=\"left\">ind.</div></td><td>  </td><td><div class=\"right\">ind.</div></td><td class=\"unicode\"></td><td></td><td>opnDrSp2ndR</td><td><a href=\"ConcordanceOfPatterns.ipynb#0\" target=\"_blank\">0</a></td></tr><tr id=\"ln19\"><td>006</td><td>19</td><td class=\"unicode\" nowrap><div class=\"front_hebrew\">&nbsp;&nbsp;&nbsp;&nbsp;&nbsp;&nbsp;&nbsp;&nbsp;&nbsp;&nbsp;&nbsp;&nbsp;&nbsp;&nbsp;&nbsp;&nbsp;&nbsp;&nbsp;&nbsp;&nbsp;&nbsp;&nbsp;&nbsp;&nbsp;&nbsp;&nbsp;&nbsp;&nbsp;&nbsp;&nbsp;&nbsp;&nbsp;&nbsp;&nbsp;&nbsp;&nbsp;&nbsp;[&lt;Ij&gt;&nbsp;\u05e1\u05dc\u05d4]&nbsp;&nbsp;&nbsp;&nbsp;&nbsp;&nbsp;&nbsp;|&nbsp;&nbsp;&nbsp;&nbsp;&nbsp;&nbsp;&nbsp;&nbsp;&nbsp;&nbsp;&nbsp;&nbsp;&nbsp;&nbsp;<div class=\"translation\">sela </div></div></td><td><div class=\"front\">MSyn<div class=\"def_disc\">-MAIN;<br>The clause contains or inherits the mainline anchor \u05e1\u05dc\u05d4.</div></div></td><td><div class=\"left\">-</div></td><td>  </td><td><div class=\"right\">-</div></td><td class=\"unicode\"></td><td></td><td></td><td><a href=\"ConcordanceOfPatterns.ipynb#0\" target=\"_blank\">0</a></td></tr><tr id=\"ln20\"><td>007</td><td>20</td><td class=\"unicode\" nowrap><div class=\"front_hebrew\">&nbsp;&nbsp;&nbsp;&nbsp;&nbsp;&nbsp;&nbsp;&nbsp;&nbsp;&nbsp;&nbsp;&nbsp;&nbsp;&nbsp;&nbsp;&nbsp;&nbsp;&nbsp;&nbsp;&nbsp;[&lt;Aj&gt;&nbsp;\u05db-\u05d7\u05dc\u05dc\u05d9\u05dd]&nbsp;[&lt;PC&gt;&nbsp;\u05e9\u05c1\u05e8\u05d9\u05dd]&nbsp;[&lt;Cj&gt;&nbsp;-\u05d5]&nbsp;&nbsp;&nbsp;&nbsp;&nbsp;&nbsp;&nbsp;&nbsp;&nbsp;&nbsp;&nbsp;&nbsp;&nbsp;&nbsp;<div class=\"translation\">while they <span class=\"translation_verb\">are</span> <span class=\"translation_verb\">singing</span> <span class=\"translation_verb\">(of)</span> </div></div></td><td><div class=\"front\">Ptcp<div class=\"def_disc\">disc-main</div></div></td><td><div class=\"left\">ind.</div></td><td>  </td><td><div class=\"right\">ind.</div></td><td class=\"unicode\"></td><td></td><td>cntMain</td><td><a href=\"ConcordanceOfPatterns.ipynb#1582\" target=\"_blank\">1582</a></td></tr><tr id=\"ln21\"><td>007</td><td>21</td><td class=\"unicode\" nowrap><div class=\"front_hebrew\">&nbsp;&nbsp;&nbsp;&nbsp;&nbsp;&nbsp;&nbsp;&nbsp;&nbsp;&nbsp;&nbsp;&nbsp;&nbsp;&nbsp;&nbsp;&nbsp;&nbsp;&nbsp;&nbsp;&nbsp;&nbsp;&nbsp;&nbsp;&nbsp;&nbsp;&nbsp;[&lt;PC&gt;&nbsp;\u05d1\u05da]&nbsp;[&lt;Su&gt;&nbsp;\u05db\u05dc&nbsp;\u05de\u05e2\u05d9\u05e0\u05d9]&nbsp;&nbsp;&nbsp;&nbsp;&nbsp;&nbsp;&nbsp;&nbsp;&nbsp;&nbsp;&nbsp;&nbsp;&nbsp;&nbsp;&nbsp;&nbsp;&nbsp;&nbsp;<div class=\"translation\">all of my wells <span class=\"translation_verb\">is</span> in/among you </div></div></td><td><div class=\"front\">NmCl<div class=\"def_disc\">disc-main</div></div></td><td><div class=\"left\">nomin.</div></td><td>  </td><td><div class=\"right\">nomin.</div></td><td class=\"unicode\"></td><td></td><td>opnDrSpMain</td><td><a href=\"ConcordanceOfPatterns.ipynb#0\" target=\"_blank\">0</a></td></tr></table>"
       ],
       "metadata": {},
       "output_type": "display_data",
       "text": [
        "<IPython.core.display.HTML at 0x3c8b390>"
       ]
      }
     ],
     "prompt_number": 3
    },
    {
     "cell_type": "heading",
     "level": 2,
     "metadata": {},
     "source": [
      "3. Patterns in Psalm 87"
     ]
    },
    {
     "cell_type": "code",
     "collapsed": false,
     "input": [
      "Psalms.print_patterns(\"Input/psalmen087dataPatterns.txt\")"
     ],
     "language": "python",
     "metadata": {},
     "outputs": [
      {
       "html": [
        "<table class=\"presentation\" id=\"Patterns\"><tr><th><a href=\"ConcordanceOfPatterns.ipynb\" target=\"_blank\">#Pat</a></th><th>Vs</th><th>Ln</th><th nowrap><a href=\"ClauseLabels.ipynb\" target=\"_blank\">ClTp</a><br><div class=\"small\">(mouse-over<br>for<br><a href=\"DefaultDiscourseFunctions.ipynb\" target=\"_blank\">DefDiscFu)</a></div></th><th nowrap><a href=\"HebrewText.ipynb\" target=\"_blank\">Hebrew text</a><br><div class=\"small\">(mouse-over for <a href=\"Translation.ipynb\" target=\"_blank\">Translation)</a></div></th><th><a href=\"CCR.ipynb\" target=\"_blank\">CCR</a></th><th><a href=\"DefaultFunctions.ipynb\" target=\"_blank\">DefFu</a></th><th><a href=\"Processes.ipynb\" target=\"_blank\">Processes</a><br><div class=\"small\">(hover over<br>\"!\"-sign)</div></th><th><a href=\"FinalFunctions.ipynb\" target=\"_blank\">FinFu</a></th><th nowrap><a href=\"MDModifier.ipynb\" target=\"_blank\">Mod-MDM</a></th><th><a href=\"Participants.ipynb\" target=\"_blank\">Ptcp</a></th><th><a href=\"DiscourseFunctions.ipynb\" target=\"_blank\">DiscFu</th></tr><tr><td><a href=\"ConcordanceOfPatterns.ipynb#512\" target=\"_blank\">512</a></td><td>PS087,005</td><td><a href=\"#ln12\">12</a></td><td><div class=\"front\">WxY0<div class=\"def_disc\">disc-main-zero</div></div></td><td class=\"unicode\" nowrap><div class=\"front_hebrew\">[&lt;Pr&gt;&nbsp;\u05d9\u05d0\u05de\u05e8]&nbsp;[&lt;Co&gt;&nbsp;\u05dc-\u05e6\u05d9\u05d5\u05df]&nbsp;[&lt;Cj&gt;&nbsp;-\u05d5]<div class=\"translation\">and he <span class=\"translation_verb\">is</span> <span class=\"translation_verb\">said</span> </div></div></td><td></td><td nowrap><div class=\"left\">non-vol.</div></td><td><div class=\"front_a\">!<div class=\"factors\">Inheritance of volitive functionality is possible, but does not take place. The non-volitive default function is not overridden.</div></div></td><td nowrap><div class=\"right\">non-vol.</div></td><td><div class=\"right\">&nbsp;</div></td><td></td><td>cntMain</td></tr><tr><td></td><td></td><td><a href=\"#ln14\">14</a></td><td><div class=\"front\">WXYq<div class=\"def_disc\">disc-main-zero</div></div></td><td class=\"unicode\" nowrap><div class=\"front_hebrew\">[&lt;PO&gt;&nbsp;\u05d9\u05db\u05d5\u05e0\u05e0\u05d4]&nbsp;[&lt;Su&gt;&nbsp;\u05d4\u05d5\u05d0]&nbsp;[&lt;Cj&gt;&nbsp;-\u05d5]<div class=\"translation\">and/but he <span class=\"translation_verb\">prepares</span> her </div></div></td><td></td><td nowrap><div class=\"left\">non-vol.</div></td><td>  </td><td nowrap><div class=\"right\">non-vol.</div></td><td><div class=\"right\">&nbsp;</div></td><td>  DS</td><td>cntMain</td></tr><tr><td>&nbsp;</td></tr><tr><td><a href=\"ConcordanceOfPatterns.ipynb#672\" target=\"_blank\">672</a></td><td>PS087,005</td><td><a href=\"#ln9\">9</a></td><td><div class=\"front\">ZYq0<div class=\"def_disc\">disc-main-zero</div></div></td><td class=\"unicode\" nowrap><div class=\"front_hebrew\">[&lt;Co&gt;&nbsp;\u05dc-\u05d9\u05d3\u05e2\u05d9]&nbsp;[&lt;Ob&gt;&nbsp;\u05e8\u05d4\u05d1&nbsp;\u05d5-\u05d1\u05d1\u05dc]&nbsp;[&lt;Pr&gt;&nbsp;\u05d0\u05d6\u05db\u05d9\u05e8]<div class=\"translation\"><span class=\"translation_verb\">let</span> me <span class=\"translation_verb\">cause</span> Rahab and.. <span class=\"translation_verb\">to</span> <span class=\"translation_verb\">remember</span> </div></div></td><td></td><td nowrap><div class=\"left\">coh.</div></td><td>  </td><td nowrap><div class=\"right\">coh.</div></td><td><div class=\"right\">&nbsp;</div></td><td></td><td>(re)openMain</td></tr><tr><td></td><td></td><td><a href=\"#ln12\">12</a></td><td><div class=\"front\">WxY0<div class=\"def_disc\">disc-main-zero</div></div></td><td class=\"unicode\" nowrap><div class=\"front_hebrew\">[&lt;Pr&gt;&nbsp;\u05d9\u05d0\u05de\u05e8]&nbsp;[&lt;Co&gt;&nbsp;\u05dc-\u05e6\u05d9\u05d5\u05df]&nbsp;[&lt;Cj&gt;&nbsp;-\u05d5]<div class=\"translation\">and he <span class=\"translation_verb\">is</span> <span class=\"translation_verb\">said</span> </div></div></td><td></td><td nowrap><div class=\"left\">non-vol.</div></td><td><div class=\"front_a\">!<div class=\"factors\">Inheritance of volitive functionality is possible, but does not take place. The non-volitive default function is not overridden.</div></div></td><td nowrap><div class=\"right\">non-vol.</div></td><td><div class=\"right\">&nbsp;</div></td><td>  DS</td><td>cntMain</td></tr><tr><td>&nbsp;</td></tr><tr><td><a href=\"ConcordanceOfPatterns.ipynb#762\" target=\"_blank\">762</a></td><td>PS087,004</td><td><a href=\"#ln9\">9</a></td><td><div class=\"front\">ZYq0<div class=\"def_disc\">disc-main-zero</div></div></td><td class=\"unicode\" nowrap><div class=\"front_hebrew\">[&lt;Co&gt;&nbsp;\u05dc-\u05d9\u05d3\u05e2\u05d9]&nbsp;[&lt;Ob&gt;&nbsp;\u05e8\u05d4\u05d1&nbsp;\u05d5-\u05d1\u05d1\u05dc]&nbsp;[&lt;Pr&gt;&nbsp;\u05d0\u05d6\u05db\u05d9\u05e8]<div class=\"translation\"><span class=\"translation_verb\">let</span> me <span class=\"translation_verb\">cause</span> Rahab and.. <span class=\"translation_verb\">to</span> <span class=\"translation_verb\">remember</span> </div></div></td><td></td><td nowrap><div class=\"left\">coh.</div></td><td>  </td><td nowrap><div class=\"right\">coh.</div></td><td><div class=\"right\">&nbsp;</div></td><td></td><td>(re)openMain</td></tr><tr><td></td><td></td><td><a href=\"#ln10\">10</a></td><td><div class=\"front\">XQtl<div class=\"def_disc\">disc-MAIN-retro;<br>The clause contains or inherits the mainline anchor \u05d4\u05e0\u05d4.</div></div></td><td class=\"unicode\" nowrap><div class=\"front_hebrew\">[&lt;sp&gt;&lt;Fs&gt;&nbsp;\u05e4\u05dc\u05e9\u05c1\u05ea&nbsp;\u05d5-\u05e6\u05d5\u05e8&nbsp;/&nbsp;\u05e2\u05dd&nbsp;\u05db\u05d5\u05e9\u05c1]&nbsp;[&lt;Ij&gt;&nbsp;\u05d4\u05e0\u05d4]<div class=\"translation\">behold, concerning Philistia and.. </div></div></td><td></td><td nowrap><div class=\"left\">ind.</div></td><td>  </td><td nowrap><div class=\"right\">ind.</div></td><td><div class=\"right\">&nbsp;</div></td><td>  DS</td><td>cntMn>retro</td></tr><tr><td>&nbsp;</td></tr><tr><td><a href=\"ConcordanceOfPatterns.ipynb#1582\" target=\"_blank\">1582</a></td><td>PS087,007</td><td><a href=\"#ln16\">16</a></td><td><div class=\"front\">XYqt<div class=\"def_disc\">disc-main-zero</div></div></td><td class=\"unicode\" nowrap><div class=\"front_hebrew\">[&lt;Pr&gt;&nbsp;\u05d9\u05e1\u05e4\u05e8]&nbsp;[&lt;Su&gt;&nbsp;\u05d9\u05d4\u05d5\u05d4]<div class=\"translation\">YHWH <span class=\"translation_verb\">counts</span> </div></div></td><td></td><td nowrap><div class=\"left\">non-vol.</div></td><td>  </td><td nowrap><div class=\"right\">non-vol.</div></td><td><div class=\"right\">&nbsp;</div></td><td></td><td>(re)openMain</td></tr><tr><td></td><td></td><td><a href=\"#ln20\">20</a></td><td><div class=\"front\">Ptcp<div class=\"def_disc\">disc-main</div></div></td><td class=\"unicode\" nowrap><div class=\"front_hebrew\">[&lt;Aj&gt;&nbsp;\u05db-\u05d7\u05dc\u05dc\u05d9\u05dd]&nbsp;[&lt;PC&gt;&nbsp;\u05e9\u05c1\u05e8\u05d9\u05dd]&nbsp;[&lt;Cj&gt;&nbsp;-\u05d5]<div class=\"translation\">while they <span class=\"translation_verb\">are</span> <span class=\"translation_verb\">singing</span> <span class=\"translation_verb\">(of)</span> </div></div></td><td></td><td nowrap><div class=\"left\">ind.</div></td><td>  </td><td nowrap><div class=\"right\">ind.</div></td><td><div class=\"right\">&nbsp;</div></td><td>  DS</td><td>cntMain</td></tr><tr><td>&nbsp;</td></tr><tr><td><a href=\"ConcordanceOfPatterns.ipynb#1642\" target=\"_blank\">1642</a></td><td>PS087,002</td><td><a href=\"#ln4\">4</a></td><td><div class=\"front\">NmCl<div class=\"def_disc\">disc-main</div></div></td><td class=\"unicode\" nowrap><div class=\"front_hebrew\">[&lt;PC&gt;&nbsp;\u05d1-\u05d4\u05e8\u05e8\u05d9&nbsp;\u05e7\u05d3\u05e9\u05c1]&nbsp;[&lt;Su&gt;&nbsp;\u05d9\u05e1\u05d5\u05d3\u05ea\u05d5]<div class=\"translation\">his foundation <span class=\"translation_verb\">is</span> in/among mountains of a holiness </div></div></td><td></td><td nowrap><div class=\"left\">nomin.</div></td><td>  </td><td nowrap><div class=\"right\">nomin.</div></td><td><div class=\"right\">&nbsp;</div></td><td></td><td>opnDrSpMain</td></tr><tr><td></td><td></td><td><a href=\"#ln5\">5</a></td><td><div class=\"front\">Ptcp<div class=\"def_disc\">disc-main</div></div></td><td class=\"unicode\" nowrap><div class=\"front_hebrew\">[&lt;Aj&gt;&nbsp;\u05de-\u05db\u05dc&nbsp;\u05de\u05e9\u05c1\u05db\u05e0\u05d5\u05ea&nbsp;\u05d9\u05e2\u05e7\u05d1]&nbsp;[&lt;Ob&gt;&nbsp;\u05e9\u05c1\u05e2\u05e8\u05d9&nbsp;\u05e6\u05d9\u05d5\u05df]&nbsp;[&lt;Su&gt;&nbsp;\u05d9\u05d4\u05d5\u05d4]&nbsp;[&lt;PC&gt;&nbsp;\u05d0\u05d4\u05d1]<div class=\"translation\">YHWH <span class=\"translation_verb\">is</span> <span class=\"translation_verb\">loving</span> the gates of Zion </div></div></td><td></td><td nowrap><div class=\"left\">ind.</div></td><td>  </td><td nowrap><div class=\"right\">ind.</div></td><td><div class=\"right\">&nbsp;</div></td><td>  DS</td><td>cntMain</td></tr><tr><td>&nbsp;</td></tr><tr><td><a href=\"ConcordanceOfPatterns.ipynb#1731\" target=\"_blank\">1731</a></td><td>PS087,001</td><td><a href=\"#ln1\">1</a></td><td><div class=\"front\">NmCl<div class=\"def_disc\">disc-main</div></div></td><td class=\"unicode\" nowrap><div class=\"front_hebrew\">[&lt;PC&gt;&nbsp;\u05dc-\u05d1\u05e0\u05d9&nbsp;\u05e7\u05e8\u05d7]<div class=\"translation\">this <span class=\"translation_verb\">is</span> to the sons of Korah </div></div></td><td></td><td nowrap><div class=\"left\">nomin.</div></td><td>  </td><td nowrap><div class=\"right\">nomin.</div></td><td><div class=\"right\">&nbsp;</div></td><td></td><td>(re)openMain</td></tr><tr><td></td><td></td><td><a href=\"#ln2\">2</a></td><td><div class=\"front\">NmCl<div class=\"def_disc\">disc-main</div></div></td><td class=\"unicode\" nowrap><div class=\"front_hebrew\">[&lt;PC&gt;&nbsp;\u05de\u05d6\u05de\u05d5\u05e8]<div class=\"translation\">this <span class=\"translation_verb\">is</span> a psalm </div></div></td><td></td><td nowrap><div class=\"left\">nomin.</div></td><td>  </td><td nowrap><div class=\"right\">nomin.</div></td><td><div class=\"right\">&nbsp;</div></td><td>  SS</td><td>cntMain</td></tr><tr><td>&nbsp;</td></tr><tr><td><a href=\"ConcordanceOfPatterns.ipynb#1731\" target=\"_blank\">1731</a></td><td>PS087,001</td><td><a href=\"#ln2\">2</a></td><td><div class=\"front\">NmCl<div class=\"def_disc\">disc-main</div></div></td><td class=\"unicode\" nowrap><div class=\"front_hebrew\">[&lt;PC&gt;&nbsp;\u05de\u05d6\u05de\u05d5\u05e8]<div class=\"translation\">this <span class=\"translation_verb\">is</span> a psalm </div></div></td><td></td><td nowrap><div class=\"left\">nomin.</div></td><td>  </td><td nowrap><div class=\"right\">nomin.</div></td><td><div class=\"right\">&nbsp;</div></td><td></td><td>cntMain</td></tr><tr><td></td><td></td><td><a href=\"#ln3\">3</a></td><td><div class=\"front\">NmCl<div class=\"def_disc\">disc-main</div></div></td><td class=\"unicode\" nowrap><div class=\"front_hebrew\">[&lt;PC&gt;&nbsp;\u05e9\u05c1\u05d9\u05e8]<div class=\"translation\">this <span class=\"translation_verb\">is</span> a song </div></div></td><td></td><td nowrap><div class=\"left\">nomin.</div></td><td>  </td><td nowrap><div class=\"right\">nomin.</div></td><td><div class=\"right\">&nbsp;</div></td><td>  SS</td><td>cntMain</td></tr><tr><td>&nbsp;</td></tr></table>"
       ],
       "metadata": {},
       "output_type": "display_data",
       "text": [
        "<IPython.core.display.HTML at 0x3c8b4b0>"
       ]
      }
     ],
     "prompt_number": 4
    }
   ],
   "metadata": {}
  }
 ]
}