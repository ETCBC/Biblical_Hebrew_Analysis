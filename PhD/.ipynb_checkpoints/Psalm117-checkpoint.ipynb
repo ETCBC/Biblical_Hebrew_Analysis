{
 "metadata": {
  "name": ""
 },
 "nbformat": 3,
 "nbformat_minor": 0,
 "worksheets": [
  {
   "cells": [
    {
     "cell_type": "code",
     "collapsed": false,
     "input": [
      "import Psalms"
     ],
     "language": "python",
     "metadata": {},
     "outputs": [
      {
       "html": [
        "\n",
        "<style>\n",
        "\n",
        "table.presentation {\n",
        "    border-style:hidden;\n",
        "}\n",
        "\n",
        "table.presentation tr {\n",
        "    border-style:hidden;\n",
        "}\n",
        "\n",
        "table.presentation th {\n",
        "    padding:0px 15px 0px 0px;\n",
        "    border-style:hidden;\n",
        "    text-align:center;\n",
        "}\n",
        "\n",
        "table.presentation td {\n",
        "    padding:0px 5px 0px 0px;\n",
        "    border-style:hidden;\n",
        "}\n",
        "\n",
        "table.presentation td.unicode {\n",
        "    text-align:right;\n",
        "    font-family:SBL Hebrew;\n",
        "}\n",
        "\n",
        "table.categories {\n",
        "    margin-left: auto;\n",
        "    margin-right: auto;\n",
        "}\n",
        "\n",
        "table.categories, table.categories tr, table.categories th, table.categories td {\n",
        "    border-style:hidden;\n",
        "    color: Maroon;\n",
        "}\n",
        "\n",
        "div.navigation {\n",
        "    margin:auto;\n",
        "    width:50%;\n",
        "    font-size:small;\n",
        "    font-style:italic;\n",
        "}\n",
        "\n",
        "div.navigation form, div.navigation form input {\n",
        "    display: inline;\n",
        "}\n",
        "\n",
        "form input {\n",
        "    max-width: 30px;\n",
        "}\n",
        "\n",
        "div.button form input {\n",
        "\tmax-width:100%;\n",
        "}\n",
        "\n",
        "div.button {\n",
        "\tmax-width:15%;\n",
        "\tmargin:auto;\n",
        "}\n",
        "\n",
        "div.output {\n",
        "    font-size: small;\n",
        "    z-index:0;\n",
        "}\n",
        "\n",
        "div.front, div.front_a, div.front_b {\n",
        "    color: Crimson;\n",
        "}\n",
        "\n",
        "div.front, div.front_a {\n",
        "\ttext-align: center;\n",
        "}\n",
        "\n",
        "div.front_b div, div.front_a div {\n",
        "    display: none;\n",
        "} \n",
        "\n",
        "div.front div, div.front_hebrew div {\n",
        "    display: none;\n",
        "    position: relative;\n",
        "}\n",
        "\n",
        "div.front:hover div, div.front_a:hover div, div.front_b:hover div {\n",
        "    display: block;\n",
        "    max-width: 200px;\n",
        "}\n",
        "    \n",
        "div.front_hebrew:hover div {\n",
        "    display: block;\n",
        "}\n",
        "\n",
        "div.def_disc, div.factors {\n",
        "    font-size: x-small;\n",
        "    background-color:White;\n",
        "    z-index:1;\n",
        "    position:absolute;\n",
        "    font-family:SBL Hebrew;\n",
        "    line-height: 95%;\n",
        "}\n",
        "\n",
        "div.translation {\n",
        "    z-index:1;\n",
        "    position:absolute;\n",
        "    right:10%;\n",
        "    line-height: 90%;\n",
        "    font-size: x-small;\n",
        "}\n",
        "\n",
        "div.left {\n",
        "    border-left-style:dotted;\n",
        "    border-left-width:thin;\n",
        "}\n",
        "\n",
        "div.right {\n",
        "    border-right-style:dotted;\n",
        "    border-right-width:thin;\n",
        "}\n",
        "\n",
        "div.delimit {\n",
        "\tborder-top-width: thin;\n",
        "\tborder-top-style: dotted;\n",
        "}\n",
        "\n",
        "span.translation_verb{\n",
        "    color: Crimson;\n",
        "    font-weight: bold;\n",
        "}\n",
        "\n",
        "span.verb {\n",
        "    color: Crimson;\n",
        "}\n",
        "\n",
        "div.small {\n",
        "    font-size: xx-small;\t\n",
        "\tline-height: 95%;\n",
        "}\n",
        "\n",
        "</style>\n"
       ],
       "metadata": {},
       "output_type": "display_data",
       "text": [
        "<IPython.core.display.HTML at 0x3aaf3d0>"
       ]
      }
     ],
     "prompt_number": 1
    },
    {
     "cell_type": "markdown",
     "metadata": {},
     "source": [
      "<div class=\"navigation\">\n",
      "Navigate to the <a href=\"Index.ipynb\">Index</a> or enter a Psalm of your choice: <form name=\"myform\"><input type=\"text\" name=\"psalm\"> <a href=\"javascript: read_input()\">Go to Psalm...</a></form>\n",
      "</div>\n",
      "<script type=\"text/javascript\">\n",
      "function read_input(){\n",
      "    psalm_number = document.myform.psalm.value\n",
      "    if (psalm_number < 1 || psalm_number > 150){\n",
      "        alert(\"You have provided an invalid Psalm number. Please choose one of the 150 available Psalms.\");\n",
      "    } else {    \n",
      "        var psalm = \"\";\n",
      "        if (psalm_number < 10){\n",
      "            psalm = \"Psalm00\" + psalm_number + \".ipynb\";\n",
      "        } else if (psalm_number < 100){\n",
      "            psalm = \"Psalm0\" + psalm_number + \".ipynb\";\n",
      "        } else {\n",
      "            psalm = \"Psalm\" + psalm_number + \".ipynb\";\n",
      "        }\n",
      "        window.open(psalm);\n",
      "    }\n",
      "}\n",
      "</script>"
     ]
    },
    {
     "cell_type": "heading",
     "level": 1,
     "metadata": {},
     "source": [
      "PSALM 117"
     ]
    },
    {
     "cell_type": "heading",
     "level": 2,
     "metadata": {},
     "source": [
      "1. Translation of Psalm 117"
     ]
    },
    {
     "cell_type": "code",
     "collapsed": false,
     "input": [
      "Psalms.print_translation(\"Input/psalmen117Raw.txt\")"
     ],
     "language": "python",
     "metadata": {},
     "outputs": [
      {
       "html": [
        "<table class=\"presentation\" id=\"Translation\"><tr><th></th><th><a href=\"HebrewText.ipynb\" target=\"_blank\">Hebrew text</a></th><th><a href=\"ClauseLabels.ipynb\" target=\"_blank\">ClTp</a></th><th><a href=\"Translation.ipynb\" target=\"_blank\">Translation</a></th></tr><tr><td>001</td><td class=\"unicode\" nowrap>&nbsp;&nbsp;&nbsp;&nbsp;&nbsp;&nbsp;&nbsp;&nbsp;&nbsp;&nbsp;&nbsp;&nbsp;&nbsp;&nbsp;&nbsp;&nbsp;&nbsp;&nbsp;&nbsp;&nbsp;&nbsp;&nbsp;&nbsp;&nbsp;&nbsp;&nbsp;&nbsp;[&lt;Ob&gt;&nbsp;\u05d0\u05ea&nbsp;\u05d9\u05d4\u05d5\u05d4]&nbsp;<span class=\"verb\">&nbsp;[&lt;Pr&gt;&nbsp;\u05d4\u05dc\u05dc\u05d5]</span>&nbsp;&nbsp;&nbsp;</td><td style=\"font-family:Courier\">ZIm0</td><td nowrap>&nbsp;<span class=\"translation_verb\">praise</span> YHWH! </td></tr><tr><td></td><td class=\"unicode\" nowrap>&nbsp;&nbsp;&nbsp;&nbsp;&nbsp;&nbsp;&nbsp;&nbsp;&nbsp;&nbsp;&nbsp;&nbsp;&nbsp;&nbsp;&nbsp;&nbsp;&nbsp;&nbsp;&nbsp;&nbsp;&nbsp;&nbsp;&nbsp;&nbsp;&nbsp;&nbsp;&nbsp;&nbsp;&nbsp;&nbsp;&nbsp;[&lt;Vo&gt;&nbsp;\u05db\u05dc&nbsp;\u05d2\u05d5\u05d9\u05dd]&nbsp;&nbsp;&nbsp;&nbsp;|&nbsp;&nbsp;&nbsp;|&nbsp;&nbsp;</td><td style=\"font-family:Courier\">Voct</td><td nowrap>&nbsp;&nbsp;|&nbsp;&nbsp;&nbsp;|&nbsp;&nbsp;o all of peoples </td></tr><tr><td></td><td class=\"unicode\" nowrap><span class=\"verb\">&nbsp;&nbsp;&nbsp;&nbsp;&nbsp;&nbsp;&nbsp;&nbsp;&nbsp;&nbsp;&nbsp;&nbsp;&nbsp;&nbsp;&nbsp;&nbsp;&nbsp;&nbsp;&nbsp;&nbsp;&nbsp;&nbsp;&nbsp;&nbsp;&nbsp;&nbsp;&nbsp;&nbsp;&nbsp;&nbsp;&nbsp;&nbsp;&nbsp;&nbsp;&nbsp;&nbsp;[&lt;PO&gt;&nbsp;\u05e9\u05c1\u05d1\u05d7\u05d5\u05d4\u05d5]</span>&nbsp;&nbsp;&nbsp;&nbsp;|&nbsp;&nbsp;</td><td style=\"font-family:Courier\">ZIm0</td><td nowrap>&nbsp;&nbsp;|&nbsp;&nbsp;<span class=\"translation_verb\">praise</span> him! </td></tr><tr><td></td><td class=\"unicode\" nowrap>&nbsp;&nbsp;&nbsp;&nbsp;&nbsp;&nbsp;&nbsp;&nbsp;&nbsp;&nbsp;&nbsp;&nbsp;&nbsp;&nbsp;&nbsp;&nbsp;&nbsp;&nbsp;&nbsp;&nbsp;&nbsp;&nbsp;&nbsp;&nbsp;&nbsp;[&lt;Vo&gt;&nbsp;\u05db\u05dc&nbsp;\u05d4-\u05d0\u05de\u05d9\u05dd]&nbsp;&nbsp;&nbsp;&nbsp;|&nbsp;&nbsp;&nbsp;&nbsp;&nbsp;&nbsp;&nbsp;|&nbsp;&nbsp;</td><td style=\"font-family:Courier\">Voct</td><td nowrap>&nbsp;&nbsp;|&nbsp;&nbsp;&nbsp;&nbsp;&nbsp;&nbsp;&nbsp;|&nbsp;&nbsp;o all of clans </td></tr><tr><td>002</td><td class=\"unicode\" nowrap>[&lt;Su&gt;&nbsp;\u05d7\u05e1\u05d3\u05d5]&nbsp;&nbsp;[&lt;Co&gt;&nbsp;\u05e2\u05dc\u05d9\u05e0\u05d5]&nbsp;<span class=\"verb\">&nbsp;[&lt;Pr&gt;&nbsp;\u05d2\u05d1\u05e8]</span>&nbsp;&nbsp;[&lt;Cj&gt;&nbsp;\u05db\u05d9]&nbsp;&nbsp;&nbsp;&nbsp;&nbsp;&nbsp;&nbsp;&nbsp;|&nbsp;&nbsp;</td><td style=\"font-family:Courier\">xQtX</td><td nowrap>&nbsp;&nbsp;|&nbsp;&nbsp;&nbsp;&nbsp;&nbsp;&nbsp;given that his loyalty <span class=\"translation_verb\">has</span> <span class=\"translation_verb\">been</span> <span class=\"translation_verb\">superior</span> </td></tr><tr><td></td><td class=\"unicode\" nowrap>&nbsp;&nbsp;&nbsp;[&lt;PC&gt;&nbsp;\u05dc-\u05e2\u05d5\u05dc\u05dd]&nbsp;&nbsp;[&lt;Su&gt;&nbsp;\u05d0\u05de\u05ea&nbsp;\u05d9\u05d4\u05d5\u05d4]&nbsp;&nbsp;[&lt;Cj&gt;&nbsp;-\u05d5]&nbsp;&nbsp;&nbsp;&nbsp;&nbsp;&nbsp;&nbsp;&nbsp;&nbsp;&nbsp;&nbsp;&nbsp;|&nbsp;&nbsp;</td><td style=\"font-family:Courier\">NmCl</td><td nowrap>&nbsp;&nbsp;|&nbsp;&nbsp;&nbsp;&nbsp;&nbsp;&nbsp;&nbsp;&nbsp;&nbsp;&nbsp;and (given that) the trustworthiness of YHWH <span class=\"translation_verb\">is</span> to eternity </td></tr><tr><td></td><td class=\"unicode\" nowrap>&nbsp;&nbsp;&nbsp;&nbsp;&nbsp;&nbsp;&nbsp;&nbsp;&nbsp;&nbsp;&nbsp;&nbsp;&nbsp;&nbsp;&nbsp;&nbsp;&nbsp;&nbsp;&nbsp;&nbsp;&nbsp;&nbsp;&nbsp;&nbsp;&nbsp;&nbsp;&nbsp;&nbsp;&nbsp;&nbsp;&nbsp;&nbsp;[&lt;Ob&gt;&nbsp;\u05d9\u05d4]&nbsp;<span class=\"verb\">&nbsp;[&lt;Pr&gt;&nbsp;\u05d4\u05dc\u05dc\u05d5]</span>&nbsp;&nbsp;&nbsp;</td><td style=\"font-family:Courier\">ZIm0</td><td nowrap>&nbsp;<span class=\"translation_verb\">praise</span> Yah! </td></tr></table>"
       ],
       "metadata": {},
       "output_type": "display_data",
       "text": [
        "<IPython.core.display.HTML at 0x3ace370>"
       ]
      }
     ],
     "prompt_number": 2
    },
    {
     "cell_type": "heading",
     "level": 2,
     "metadata": {},
     "source": [
      "2. Analysis of Psalm 117"
     ]
    },
    {
     "cell_type": "code",
     "collapsed": false,
     "input": [
      "Psalms.print_analysis(\"Input/psalmen117Raw.txt\")"
     ],
     "language": "python",
     "metadata": {},
     "outputs": [
      {
       "html": [
        "<table class=\"presentation\" id=\"Analysis\"><tr><th>Vs</th><th>Ln</th><th nowrap><a href=\"HebrewText.ipynb\" target=\"_blank\">Hebrew text</a><br><div class=\"small\">(mouse-over for <a href=\"Translation.ipynb\" target=\"_blank\">Translation)</a></div></th><th nowrap><a href=\"ClauseLabels.ipynb\" target=\"_blank\">ClTp</a><br><div class=\"small\">(mouse-over<br>for<br><a href=\"DefaultDiscourseFunctions.ipynb\" target=\"_blank\">DefDiscFu)</a></div></th><th><a href=\"DefaultFunctions.ipynb\" target=\"_blank\">DefFu</a></th><th><a href=\"Processes.ipynb\" target=\"_blank\">Processes</a><br><div class=\"small\">(hover over<br>\"!\"-sign)</div></th><th><a href=\"FinalFunctions.ipynb\" target=\"_blank\">FinFu</a></th><th><a href=\"MDModifier.ipynb\" target=\"_blank\">MDMod</a></th><th><a href=\"CCR.ipynb\" target=\"_blank\">CCR</a></th><th><a href=\"DiscourseFunctions.ipynb\" target=\"_blank\">DiscFu</a></th><th><a href=\"ConcordanceOfPatterns.ipynb\" target=\"_blank\">#Pat</a></th></tr><tr id=\"ln1\"><td>001</td><td>1</td><td class=\"unicode\" nowrap><div class=\"front_hebrew\">&nbsp;&nbsp;&nbsp;&nbsp;&nbsp;&nbsp;&nbsp;&nbsp;&nbsp;&nbsp;&nbsp;&nbsp;&nbsp;&nbsp;&nbsp;&nbsp;&nbsp;&nbsp;&nbsp;&nbsp;&nbsp;&nbsp;&nbsp;&nbsp;&nbsp;&nbsp;&nbsp;[&lt;Ob&gt;&nbsp;\u05d0\u05ea&nbsp;\u05d9\u05d4\u05d5\u05d4]&nbsp;[&lt;Pr&gt;&nbsp;\u05d4\u05dc\u05dc\u05d5]&nbsp;&nbsp;<div class=\"translation\"><span class=\"translation_verb\">praise</span> YHWH! </div></div></td><td><div class=\"front\">ZIm0<div class=\"def_disc\">disc-main-zero</div></div></td><td><div class=\"left\">imperat.</div></td><td>  </td><td><div class=\"right\">imperat.</div></td><td class=\"unicode\"></td><td></td><td>opnDrSpMain</td><td>&nbsp;</td></tr><tr id=\"ln2\"><td>001</td><td>2</td><td class=\"unicode\" nowrap><div class=\"front_hebrew\">&nbsp;&nbsp;&nbsp;&nbsp;&nbsp;&nbsp;&nbsp;&nbsp;&nbsp;&nbsp;&nbsp;&nbsp;&nbsp;&nbsp;&nbsp;&nbsp;&nbsp;&nbsp;&nbsp;&nbsp;&nbsp;&nbsp;&nbsp;&nbsp;&nbsp;&nbsp;&nbsp;&nbsp;&nbsp;&nbsp;&nbsp;[&lt;Vo&gt;&nbsp;\u05db\u05dc&nbsp;\u05d2\u05d5\u05d9\u05dd]&nbsp;&nbsp;&nbsp;|&nbsp;&nbsp;&nbsp;|&nbsp;&nbsp;<div class=\"translation\">o all of peoples </div></div></td><td><div class=\"front\">Voct<div class=\"def_disc\"></div></div></td><td><div class=\"left\">-</div></td><td>  </td><td><div class=\"right\">-</div></td><td class=\"unicode\"></td><td></td><td></td><td>&nbsp;</td></tr><tr id=\"ln3\"><td>001</td><td>3</td><td class=\"unicode\" nowrap><div class=\"front_hebrew\">&nbsp;&nbsp;&nbsp;&nbsp;&nbsp;&nbsp;&nbsp;&nbsp;&nbsp;&nbsp;&nbsp;&nbsp;&nbsp;&nbsp;&nbsp;&nbsp;&nbsp;&nbsp;&nbsp;&nbsp;&nbsp;&nbsp;&nbsp;&nbsp;&nbsp;&nbsp;&nbsp;&nbsp;&nbsp;&nbsp;&nbsp;&nbsp;&nbsp;&nbsp;&nbsp;&nbsp;[&lt;PO&gt;&nbsp;\u05e9\u05c1\u05d1\u05d7\u05d5\u05d4\u05d5]&nbsp;&nbsp;&nbsp;|&nbsp;&nbsp;<div class=\"translation\"><span class=\"translation_verb\">praise</span> him! </div></div></td><td><div class=\"front\">ZIm0<div class=\"def_disc\">disc-main-zero</div></div></td><td><div class=\"left\">imperat.</div></td><td>  </td><td><div class=\"right\">imperat.</div></td><td class=\"unicode\"></td><td></td><td>cntMain</td><td><a href=\"ConcordanceOfPatterns.ipynb#11\" target=\"_blank\">11</a></td></tr><tr id=\"ln4\"><td>001</td><td>4</td><td class=\"unicode\" nowrap><div class=\"front_hebrew\">&nbsp;&nbsp;&nbsp;&nbsp;&nbsp;&nbsp;&nbsp;&nbsp;&nbsp;&nbsp;&nbsp;&nbsp;&nbsp;&nbsp;&nbsp;&nbsp;&nbsp;&nbsp;&nbsp;&nbsp;&nbsp;&nbsp;&nbsp;&nbsp;&nbsp;[&lt;Vo&gt;&nbsp;\u05db\u05dc&nbsp;\u05d4-\u05d0\u05de\u05d9\u05dd]&nbsp;&nbsp;&nbsp;|&nbsp;&nbsp;&nbsp;&nbsp;&nbsp;&nbsp;&nbsp;|&nbsp;&nbsp;<div class=\"translation\">o all of clans </div></div></td><td><div class=\"front\">Voct<div class=\"def_disc\"></div></div></td><td><div class=\"left\">-</div></td><td>  </td><td><div class=\"right\">-</div></td><td class=\"unicode\"></td><td></td><td></td><td>&nbsp;</td></tr><tr id=\"ln5\"><td>002</td><td>5</td><td class=\"unicode\" nowrap><div class=\"front_hebrew\">[&lt;Su&gt;&nbsp;\u05d7\u05e1\u05d3\u05d5]&nbsp;[&lt;Co&gt;&nbsp;\u05e2\u05dc\u05d9\u05e0\u05d5]&nbsp;[&lt;Pr&gt;&nbsp;\u05d2\u05d1\u05e8]&nbsp;[&lt;Cj&gt;&nbsp;\u05db\u05d9]&nbsp;&nbsp;&nbsp;&nbsp;&nbsp;&nbsp;&nbsp;|&nbsp;&nbsp;<div class=\"translation\">given that his loyalty <span class=\"translation_verb\">has</span> <span class=\"translation_verb\">been</span> <span class=\"translation_verb\">superior</span> </div></div></td><td><div class=\"front\">xQtX<div class=\"def_disc\">disc-2nd-retro</div></div></td><td><div class=\"left\">ind.</div></td><td>  </td><td><div class=\"right\">ind.</div></td><td class=\"unicode\"></td><td></td><td>opnSbLn2ndR</td><td><a href=\"ConcordanceOfPatterns.ipynb#933\" target=\"_blank\">933</a></td></tr><tr id=\"ln6\"><td>002</td><td>6</td><td class=\"unicode\" nowrap><div class=\"front_hebrew\">&nbsp;&nbsp;&nbsp;[&lt;PC&gt;&nbsp;\u05dc-\u05e2\u05d5\u05dc\u05dd]&nbsp;[&lt;Su&gt;&nbsp;\u05d0\u05de\u05ea&nbsp;\u05d9\u05d4\u05d5\u05d4]&nbsp;[&lt;Cj&gt;&nbsp;-\u05d5]&nbsp;&nbsp;&nbsp;&nbsp;&nbsp;&nbsp;&nbsp;&nbsp;&nbsp;&nbsp;&nbsp;|&nbsp;&nbsp;<div class=\"translation\">and (given that) the trustworthiness of YHWH <span class=\"translation_verb\">is</span> to eternity </div></div></td><td><div class=\"front\">NmCl<div class=\"def_disc\">disc-main</div></div></td><td><div class=\"left\">nomin.</div></td><td>  </td><td><div class=\"right\">nomin.</div></td><td class=\"unicode\">\u05db\u05d9</td><td>Coor</td><td>crdSbLn>Fg</td><td><a href=\"ConcordanceOfPatterns.ipynb#1691\" target=\"_blank\">1691</a></td></tr><tr id=\"ln7\"><td>002</td><td>7</td><td class=\"unicode\" nowrap><div class=\"front_hebrew\">&nbsp;&nbsp;&nbsp;&nbsp;&nbsp;&nbsp;&nbsp;&nbsp;&nbsp;&nbsp;&nbsp;&nbsp;&nbsp;&nbsp;&nbsp;&nbsp;&nbsp;&nbsp;&nbsp;&nbsp;&nbsp;&nbsp;&nbsp;&nbsp;&nbsp;&nbsp;&nbsp;&nbsp;&nbsp;&nbsp;&nbsp;&nbsp;[&lt;Ob&gt;&nbsp;\u05d9\u05d4]&nbsp;[&lt;Pr&gt;&nbsp;\u05d4\u05dc\u05dc\u05d5]&nbsp;&nbsp;<div class=\"translation\"><span class=\"translation_verb\">praise</span> Yah! </div></div></td><td><div class=\"front\">ZIm0<div class=\"def_disc\">disc-main-zero</div></div></td><td><div class=\"left\">imperat.</div></td><td>  </td><td><div class=\"right\">imperat.</div></td><td class=\"unicode\"></td><td></td><td>cntMain</td><td><a href=\"ConcordanceOfPatterns.ipynb#11\" target=\"_blank\">11</a></td></tr></table>"
       ],
       "metadata": {},
       "output_type": "display_data",
       "text": [
        "<IPython.core.display.HTML at 0x3ace450>"
       ]
      }
     ],
     "prompt_number": 3
    },
    {
     "cell_type": "heading",
     "level": 2,
     "metadata": {},
     "source": [
      "3. Patterns in Psalm 117"
     ]
    },
    {
     "cell_type": "code",
     "collapsed": false,
     "input": [
      "Psalms.print_patterns(\"Input/psalmen117dataPatterns.txt\")"
     ],
     "language": "python",
     "metadata": {},
     "outputs": [
      {
       "html": [
        "<table class=\"presentation\" id=\"Patterns\"><tr><th><a href=\"ConcordanceOfPatterns.ipynb\" target=\"_blank\">#Pat</a></th><th>Vs</th><th>Ln</th><th nowrap><a href=\"ClauseLabels.ipynb\" target=\"_blank\">ClTp</a><br><div class=\"small\">(mouse-over<br>for<br><a href=\"DefaultDiscourseFunctions.ipynb\" target=\"_blank\">DefDiscFu)</a></div></th><th nowrap><a href=\"HebrewText.ipynb\" target=\"_blank\">Hebrew text</a><br><div class=\"small\">(mouse-over for <a href=\"Translation.ipynb\" target=\"_blank\">Translation)</a></div></th><th><a href=\"CCR.ipynb\" target=\"_blank\">CCR</a></th><th><a href=\"DefaultFunctions.ipynb\" target=\"_blank\">DefFu</a></th><th><a href=\"Processes.ipynb\" target=\"_blank\">Processes</a><br><div class=\"small\">(hover over<br>\"!\"-sign)</div></th><th><a href=\"FinalFunctions.ipynb\" target=\"_blank\">FinFu</a></th><th nowrap><a href=\"MDModifier.ipynb\" target=\"_blank\">Mod-MDM</a></th><th><a href=\"Participants.ipynb\" target=\"_blank\">Ptcp</a></th><th><a href=\"DiscourseFunctions.ipynb\" target=\"_blank\">DiscFu</th></tr><tr><td><a href=\"ConcordanceOfPatterns.ipynb#11\" target=\"_blank\">11</a></td><td>PS117,001</td><td><a href=\"#ln1\">1</a></td><td><div class=\"front\">ZIm0<div class=\"def_disc\">disc-main-zero</div></div></td><td class=\"unicode\" nowrap><div class=\"front_hebrew\">[&lt;Ob&gt;&nbsp;\u05d0\u05ea&nbsp;\u05d9\u05d4\u05d5\u05d4]&nbsp;[&lt;Pr&gt;&nbsp;\u05d4\u05dc\u05dc\u05d5]<div class=\"translation\"><span class=\"translation_verb\">praise</span> YHWH! </div></div></td><td></td><td nowrap><div class=\"left\">imperat.</div></td><td>  </td><td nowrap><div class=\"right\">imperat.</div></td><td><div class=\"right\">&nbsp;</div></td><td></td><td>opnDrSpMain</td></tr><tr><td></td><td></td><td><a href=\"#ln3\">3</a></td><td><div class=\"front\">ZIm0<div class=\"def_disc\">disc-main-zero</div></div></td><td class=\"unicode\" nowrap><div class=\"front_hebrew\">[&lt;PO&gt;&nbsp;\u05e9\u05c1\u05d1\u05d7\u05d5\u05d4\u05d5]<div class=\"translation\"><span class=\"translation_verb\">praise</span> him! </div></div></td><td></td><td nowrap><div class=\"left\">imperat.</div></td><td>  </td><td nowrap><div class=\"right\">imperat.</div></td><td><div class=\"right\">&nbsp;</div></td><td>  SS</td><td>cntMain</td></tr><tr><td>&nbsp;</td></tr><tr><td><a href=\"ConcordanceOfPatterns.ipynb#11\" target=\"_blank\">11</a></td><td>PS117,002</td><td><a href=\"#ln1\">1</a></td><td><div class=\"front\">ZIm0<div class=\"def_disc\">disc-main-zero</div></div></td><td class=\"unicode\" nowrap><div class=\"front_hebrew\">[&lt;Ob&gt;&nbsp;\u05d0\u05ea&nbsp;\u05d9\u05d4\u05d5\u05d4]&nbsp;[&lt;Pr&gt;&nbsp;\u05d4\u05dc\u05dc\u05d5]<div class=\"translation\"><span class=\"translation_verb\">praise</span> YHWH! </div></div></td><td></td><td nowrap><div class=\"left\">imperat.</div></td><td>  </td><td nowrap><div class=\"right\">imperat.</div></td><td><div class=\"right\">&nbsp;</div></td><td></td><td>opnDrSpMain</td></tr><tr><td></td><td></td><td><a href=\"#ln7\">7</a></td><td><div class=\"front\">ZIm0<div class=\"def_disc\">disc-main-zero</div></div></td><td class=\"unicode\" nowrap><div class=\"front_hebrew\">[&lt;Ob&gt;&nbsp;\u05d9\u05d4]&nbsp;[&lt;Pr&gt;&nbsp;\u05d4\u05dc\u05dc\u05d5]<div class=\"translation\"><span class=\"translation_verb\">praise</span> Yah! </div></div></td><td></td><td nowrap><div class=\"left\">imperat.</div></td><td>  </td><td nowrap><div class=\"right\">imperat.</div></td><td><div class=\"right\">&nbsp;</div></td><td>  SS</td><td>cntMain</td></tr><tr><td>&nbsp;</td></tr><tr><td><a href=\"ConcordanceOfPatterns.ipynb#933\" target=\"_blank\">933</a></td><td>PS117,002</td><td><a href=\"#ln3\">3</a></td><td><div class=\"front\">ZIm0<div class=\"def_disc\">disc-main-zero</div></div></td><td class=\"unicode\" nowrap><div class=\"front_hebrew\">[&lt;PO&gt;&nbsp;\u05e9\u05c1\u05d1\u05d7\u05d5\u05d4\u05d5]<div class=\"translation\"><span class=\"translation_verb\">praise</span> him! </div></div></td><td></td><td nowrap><div class=\"left\">imperat.</div></td><td>  </td><td nowrap><div class=\"right\">imperat.</div></td><td><div class=\"right\">&nbsp;</div></td><td></td><td>cntMain</td></tr><tr><td></td><td></td><td><a href=\"#ln5\">5</a></td><td><div class=\"front\">xQtX<div class=\"def_disc\">disc-2nd-retro</div></div></td><td class=\"unicode\" nowrap><div class=\"front_hebrew\">[&lt;Su&gt;&nbsp;\u05d7\u05e1\u05d3\u05d5]&nbsp;[&lt;Co&gt;&nbsp;\u05e2\u05dc\u05d9\u05e0\u05d5]&nbsp;[&lt;Pr&gt;&nbsp;\u05d2\u05d1\u05e8]&nbsp;[&lt;Cj&gt;&nbsp;\u05db\u05d9]<div class=\"translation\">given that his loyalty <span class=\"translation_verb\">has</span> <span class=\"translation_verb\">been</span> <span class=\"translation_verb\">superior</span> </div></div></td><td></td><td nowrap><div class=\"left\">ind.</div></td><td>  </td><td nowrap><div class=\"right\">ind.</div></td><td class=\"unicode\" nowrap><div class=\"right\">\u05db\u05d9</div></td><td>  </td><td>opnSbLn2ndR</td></tr><tr><td>&nbsp;</td></tr><tr><td><a href=\"ConcordanceOfPatterns.ipynb#1691\" target=\"_blank\">1691</a></td><td>PS117,002</td><td><a href=\"#ln5\">5</a></td><td><div class=\"front\">xQtX<div class=\"def_disc\">disc-2nd-retro</div></div></td><td class=\"unicode\" nowrap><div class=\"front_hebrew\">[&lt;Su&gt;&nbsp;\u05d7\u05e1\u05d3\u05d5]&nbsp;[&lt;Co&gt;&nbsp;\u05e2\u05dc\u05d9\u05e0\u05d5]&nbsp;[&lt;Pr&gt;&nbsp;\u05d2\u05d1\u05e8]&nbsp;[&lt;Cj&gt;&nbsp;\u05db\u05d9]<div class=\"translation\">given that his loyalty <span class=\"translation_verb\">has</span> <span class=\"translation_verb\">been</span> <span class=\"translation_verb\">superior</span> </div></div></td><td></td><td nowrap><div class=\"left\">ind.</div></td><td>  </td><td nowrap><div class=\"right\">ind.</div></td><td class=\"unicode\" nowrap><div class=\"right\">\u05db\u05d9</div></td><td></td><td>opnSbLn2ndR</td></tr><tr><td></td><td></td><td><a href=\"#ln6\">6</a></td><td><div class=\"front\">NmCl<div class=\"def_disc\">disc-main</div></div></td><td class=\"unicode\" nowrap><div class=\"front_hebrew\">[&lt;PC&gt;&nbsp;\u05dc-\u05e2\u05d5\u05dc\u05dd]&nbsp;[&lt;Su&gt;&nbsp;\u05d0\u05de\u05ea&nbsp;\u05d9\u05d4\u05d5\u05d4]&nbsp;[&lt;Cj&gt;&nbsp;-\u05d5]<div class=\"translation\">and (given that) the trustworthiness of YHWH <span class=\"translation_verb\">is</span> to eternity </div></div></td><td>Coor</td><td nowrap><div class=\"left\">nomin.</div></td><td>  </td><td nowrap><div class=\"right\">nomin.</div></td><td class=\"unicode\" nowrap><div class=\"right\">(\u05db\u05d9)</div></td><td>  Syn</td><td>crdSbLn>Fg</td></tr><tr><td>&nbsp;</td></tr></table>"
       ],
       "metadata": {},
       "output_type": "display_data",
       "text": [
        "<IPython.core.display.HTML at 0x3ace550>"
       ]
      }
     ],
     "prompt_number": 4
    }
   ],
   "metadata": {}
  }
 ]
}