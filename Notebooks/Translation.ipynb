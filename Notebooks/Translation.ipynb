{
 "metadata": {
  "name": ""
 },
 "nbformat": 3,
 "nbformat_minor": 0,
 "worksheets": [
  {
   "cells": [
    {
     "cell_type": "heading",
     "level": 1,
     "metadata": {},
     "source": [
      "Translation"
     ]
    },
    {
     "cell_type": "code",
     "collapsed": false,
     "input": [
      "%%html\n",
      "<style>\n",
      "\n",
      "table.presentation, table.presentation td, table.presentation th {\n",
      "    border-style:hidden;\n",
      "    color: Maroon;\n",
      "}\n",
      "\n",
      "table.presentation td {\n",
      "    padding:0px 15px 0px 0px;\n",
      "}\n",
      "\n",
      "table.presentation {\n",
      "    margin-left:auto;\n",
      "    margin-right:auto;\n",
      "}\n",
      "\n",
      "\n",
      "</style>"
     ],
     "language": "python",
     "metadata": {},
     "outputs": [
      {
       "html": [
        "<style>\n",
        "\n",
        "table.presentation, table.presentation td, table.presentation th {\n",
        "    border-style:hidden;\n",
        "    color: Maroon;\n",
        "}\n",
        "\n",
        "table.presentation td {\n",
        "    padding:0px 15px 0px 0px;\n",
        "}\n",
        "\n",
        "table.presentation {\n",
        "    margin-left:auto;\n",
        "    margin-right:auto;\n",
        "}\n",
        "\n",
        "\n",
        "</style>"
       ],
       "metadata": {},
       "output_type": "display_data",
       "text": [
        "<IPython.core.display.HTML at 0x3afd890>"
       ]
      }
     ],
     "prompt_number": 5
    },
    {
     "cell_type": "markdown",
     "metadata": {},
     "source": [
      "<p>The translations of the Psalms are all generated automatically by the Java program. We have not translated the whole Hebrew text of the Psalms, but have included in our translations only the subjects, the objects, the predicate complements, and, of course, the verbal forms occurring in all clauses.</p> \n",
      "For the rendering of the non-verbal constituents, our program has made use of the lexicon included in the <abbr title=\"Eep Talstra Centre for Bible and Computing\">ETCBC</abbr> database. The rendering of the verbal forms has a central position in our translation and is therefore printed in a different colour and in bold.</p>\n",
      "<p>The translation of the verbal lexeme is based on a list of all verbs and their translations which we have created ourselves. In this list, we have tried to account for Biblical Hebrew's use of different stem formations by providing passive renderings for Nifal forms and causative renderings for Hifil and some Piel forms.</p>\n",
      "<p>The translation of the actual verbal forms is designed to reflect as much as possible their <a href=\"DefaultDiscourseFunctions\" title=\"_blank\">default discourse functions</a>. Below we provide an overview of our renderings (using the English verb 'to do') of the verbal forms in the different clause types:</p>\n",
      "\n",
      "<table class=\"presentation\">\n",
      "<tr><th>Form</th><th>Translation</th></tr>\n",
      "<tr><td><em>imperative</em></td><td>do / you must do</td></tr>\n",
      "<tr><td>cohortative <em>yiqtol</em></td><td>let me/us do</td></tr>\n",
      "<tr><td>jussive <em>yiqtol</em></td><td>you should do</td></tr>\n",
      "<tr><td>volitive <em>yiqtol</em></td><td>let/may X do / X may/should do</td></tr>\n",
      "<tr><td>prohibitive <em>yiqtol</em></td><td>let/may X not do / X may/should not do</td></tr>\n",
      "<tr><td>final <em>weyiqtol</em></td><td>so that X may do</td></tr>\n",
      "<tr><td>non-volitive <em>yiqtol</em></td><td>X do/does</td></tr>\n",
      "<tr><td><em>wayyiqtol</em></td><td>X did</td></tr>\n",
      "<tr><td>discursive <em>qatal</em></td><td>X have/has done</td></tr>\n",
      "<tr><td>narrative <em>qatal</em></td><td>X had done</td></tr>\n",
      "<tr><td>anticipating <em>weqatal</em></td><td>X will do</td></tr>\n",
      "<tr><td>consecutive <em>weqatal</em></td><td>so that X will do</td></tr>\n",
      "<tr><td>discursive <em>participle</em></td><td>X am/is/are doing</td></tr>\n",
      "<tr><td>narrative <em>participle</em></td><td>X was/were doing</td></tr>\n",
      "<tr><td>discursive <em>nominal/adjective clause</em></td><td>X am/are/is</td></tr>\n",
      "<tr><td>narrative <em>nominal/adjective clause</em></td><td>X was/were</td></tr>\n",
      "</table>\n",
      "\n"
     ]
    },
    {
     "cell_type": "code",
     "collapsed": false,
     "input": [],
     "language": "python",
     "metadata": {},
     "outputs": []
    }
   ],
   "metadata": {}
  }
 ]
}