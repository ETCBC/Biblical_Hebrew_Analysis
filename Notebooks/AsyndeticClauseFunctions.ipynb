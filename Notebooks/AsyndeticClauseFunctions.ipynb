{
 "metadata": {
  "name": ""
 },
 "nbformat": 3,
 "nbformat_minor": 0,
 "worksheets": [
  {
   "cells": [
    {
     "cell_type": "markdown",
     "metadata": {},
     "source": [
      "<a href=\"http://www.godgeleerdheid.vu.nl/etcbc\" target=\"_blank\"><img src=\"files/VU-ETCBC-small.png\"/></a>"
     ]
    },
    {
     "cell_type": "heading",
     "level": 1,
     "metadata": {},
     "source": [
      "Functions of Asyndetic Clause Relations in Biblical Hebrew"
     ]
    },
    {
     "cell_type": "heading",
     "level": 4,
     "metadata": {},
     "source": [
      "Gino Kalkman, PhD researcher at Eep Talstra Centre for Bible and Computer, Faculty of Theology, VU University"
     ]
    },
    {
     "cell_type": "heading",
     "level": 2,
     "metadata": {},
     "source": [
      "0. Introduction"
     ]
    },
    {
     "cell_type": "markdown",
     "metadata": {},
     "source": [
      "This program serves two major functions. First of all, it has provided its developer with some initial experience in the use of the [LAF Fabric Workbench](http://laf-fabric.readthedocs.org/en/latest/), which was and is still being developed by Dirk Roorda and is expected to play a significant role in future research conducted by the <em>Eep Talstra Center for Bible and Computing</em>, of which the program's developer is a member.\n",
      "Second, the specific queries conducted in the program provide us with new insights into the object of the developer's PhD research, i.e.: <strong>the functions of the verbal forms in Biblical Hebrew poetry</strong>.\n",
      "\n",
      "The main assumption in this research project is that the meaning of the Biblical Hebrew verbal forms is mainly determined by the clause patterns in which they occur. Thus, verbal forms in a daughter clause may adopt volitive and non-volitive aspects of meaning from verbal forms in their mother clauses. Furthermore, the verbal forms essentially fulfill a function at the discourse level, at which they denote shifts in type (narrative vs. discursive) and level (mainline vs. background) of communication.\n",
      "\n",
      "The current program investigates the differences between the Biblical Hebrew genres (prose, poetry and prophecy) in their use of these clause patterns. Since the number of different types of clause patterns is quite high, we decided to focus on the patterns that involve an asyndetic relation between two clauses.\n",
      "In our database, the type of clause pattern is annotated by a three-digit label, which is attached to both the mother clause and the daughter clause. The asyndetic clause connections are assigned labels from 100 up to 168. The first digit in the offset from 100 is the tense of the verbal predicate of the daughter clause atom, the second that of the mother clause atom. The digit-representations of the Hebrew tenses are as follows:\n",
      "\n",
      "0 None<br>\n",
      "1 Imperfect --> yiqtol<br>\n",
      "2 Perfect --> qatal<br>\n",
      "3 Imperative<br>\n",
      "4 Infinitive Construct<br>\n",
      "5 Infinitive Absolute<br>\n",
      "6 Participle<br>\n",
      "7 Imperfect Consecutive --> wayyiqtol<br>\n",
      "8 Imperfect Copulative --> weyiqtol<br>\n",
      "\n",
      "Since the final two tenses (7 and 8) cannot be used in asyndetic clause connections - the waw being the Hebrew copulative - the first digit in the offset from 100 will never be higher than 6.\n",
      "\n",
      "The program calculates for each of the possible patterns in the range 100-168 the number of occurrences in the books and chapters that are included in the three categories of prosaic, poetic and prophetic texts. Since the total numbers of patterns are very different for each of the genres - thus, a large part of the Hebrew poetry (e.g. the Psalms) had not yet been analyzed in the data set that is currently used by the <strong>'LAF Fabric Workbench'</strong> - the program also calculates for each of the clause patterns its relative value, i.e.: which portion of the total number of clause patterns in a given genre is represented by that specific clause pattern. "
     ]
    },
    {
     "cell_type": "heading",
     "level": 2,
     "metadata": {},
     "source": [
      "1. Importing libraries"
     ]
    },
    {
     "cell_type": "markdown",
     "metadata": {},
     "source": [
      "In the next cell the required libraries are imported and a task processor is created.\n",
      "The Notebook class in laf.notebook implements a LAF-Fabric task processor."
     ]
    },
    {
     "cell_type": "code",
     "collapsed": false,
     "input": [
      "import sys\n",
      "import collections\n",
      "import laf\n",
      "from laf.notebook import Notebook\n",
      "processor = Notebook()"
     ],
     "language": "python",
     "metadata": {},
     "outputs": [],
     "prompt_number": 54
    },
    {
     "cell_type": "heading",
     "level": 2,
     "metadata": {},
     "source": [
      "2. Loading the data"
     ]
    },
    {
     "cell_type": "markdown",
     "metadata": {},
     "source": [
      "In the next cell we load the data needed by the processor. In our program, we will need a few features of nodes.\n",
      "Since this program aims to extract information about the clause atom relation values of a clause atom, we will load the clause_atom_relation features of all clause atoms. These features label the relationship between a clause atom and its mother.\n",
      "Next to that, we need to keep track of the Biblical books and the chapter numbers in order to be able to correctly categorize the clause patterns into the three genres of prose, poetry and prophecy.\n",
      "\n",
      "The <em>init()</em> function draws that data in. It needs to know the name of the LAF header file. \n",
      "The '--' argument explicitates that we do not draw in an extra annotation package.\n",
      "\n",
      "The string 'ClauseFunctions' represents the name we give to this task. This name determines where on the developer's filesystem the log file and the output file will be put."
     ]
    },
    {
     "cell_type": "code",
     "collapsed": false,
     "input": [
      "processor.init('bhs3.txt.hdr', '--', 'ClauseFunctions', {\n",
      "    \"xmlids\": {\n",
      "        \"node\": False,\n",
      "        \"edge\": False,\n",
      "    },\n",
      "    \"features\": {\n",
      "        \"shebanq\": {\n",
      "            \"node\": [\n",
      "                \"db.otype\",\n",
      "                \"ft.clause_atom_relation\",\n",
      "                \"sft.chapter,book\",\n",
      "            ],\n",
      "            \"edge\": [\n",
      "            ],\n",
      "        },\n",
      "    },\n",
      "})"
     ],
     "language": "python",
     "metadata": {},
     "outputs": [
      {
       "output_type": "stream",
       "stream": "stderr",
       "text": [
        "  0.00s COMPILING source: UP TO DATE\n"
       ]
      },
      {
       "output_type": "stream",
       "stream": "stderr",
       "text": [
        "  0.00s COMPILING annox: UP TO DATE\n"
       ]
      },
      {
       "output_type": "stream",
       "stream": "stderr",
       "text": [
        "  0.00s loading common: node_anchor_min ... \n"
       ]
      },
      {
       "output_type": "stream",
       "stream": "stderr",
       "text": [
        "  0.16s loading common: node_anchor_max ... \n"
       ]
      },
      {
       "output_type": "stream",
       "stream": "stderr",
       "text": [
        "  0.27s loading common: node_events ... \n"
       ]
      },
      {
       "output_type": "stream",
       "stream": "stderr",
       "text": [
        "  1.00s loading common: node_events_n ... \n"
       ]
      },
      {
       "output_type": "stream",
       "stream": "stderr",
       "text": [
        "  1.34s loading common: node_events_k ... \n"
       ]
      },
      {
       "output_type": "stream",
       "stream": "stderr",
       "text": [
        "  1.58s loading common: node_sort ... \n"
       ]
      },
      {
       "output_type": "stream",
       "stream": "stderr",
       "text": [
        "  1.67s loading common: node_out ... \n"
       ]
      },
      {
       "output_type": "stream",
       "stream": "stderr",
       "text": [
        "  1.95s loading common: node_in ... \n"
       ]
      },
      {
       "output_type": "stream",
       "stream": "stderr",
       "text": [
        "  2.23s loading common: edges_from ... \n"
       ]
      },
      {
       "output_type": "stream",
       "stream": "stderr",
       "text": [
        "  2.32s loading common: edges_to ... \n"
       ]
      },
      {
       "output_type": "stream",
       "stream": "stderr",
       "text": [
        "  2.43s loading feature: feature ('shebanq', 'sft', 'chapter', 'node') ... \n"
       ]
      },
      {
       "output_type": "stream",
       "stream": "stderr",
       "text": [
        "  2.46s loading feature: feature ('shebanq', 'ft', 'clause_atom_relation', 'node') ... \n"
       ]
      },
      {
       "output_type": "stream",
       "stream": "stderr",
       "text": [
        "  2.54s loading feature: feature ('shebanq', 'db', 'otype', 'node') ... \n"
       ]
      },
      {
       "output_type": "stream",
       "stream": "stderr",
       "text": [
        "  3.68s loading feature: feature ('shebanq', 'sft', 'book', 'node') ... \n"
       ]
      },
      {
       "output_type": "stream",
       "stream": "stderr",
       "text": [
        "  3.71s loading annox: xfeature ('shebanq', 'sft', 'chapter', 'node') ... \n"
       ]
      },
      {
       "output_type": "stream",
       "stream": "stderr",
       "text": [
        "  3.71s loading annox: xfeature ('shebanq', 'ft', 'clause_atom_relation', 'node') ... \n"
       ]
      },
      {
       "output_type": "stream",
       "stream": "stderr",
       "text": [
        "  3.71s loading annox: xfeature ('shebanq', 'db', 'otype', 'node') ... \n"
       ]
      },
      {
       "output_type": "stream",
       "stream": "stderr",
       "text": [
        "  3.71s loading annox: xfeature ('shebanq', 'sft', 'book', 'node') ... \n"
       ]
      },
      {
       "output_type": "stream",
       "stream": "stderr",
       "text": [
        "  4.76s present feature: shebanq:sft.chapter (node) from source bhs3.txt.hdr, annox --\n"
       ]
      },
      {
       "output_type": "stream",
       "stream": "stderr",
       "text": [
        "  4.76s present feature: shebanq:ft.clause_atom_relation (node) from source bhs3.txt.hdr, annox --\n"
       ]
      },
      {
       "output_type": "stream",
       "stream": "stderr",
       "text": [
        "  4.76s present feature: shebanq:db.otype (node) from source bhs3.txt.hdr, annox --\n"
       ]
      },
      {
       "output_type": "stream",
       "stream": "stderr",
       "text": [
        "  4.77s present feature: shebanq:sft.book (node) from source bhs3.txt.hdr, annox --\n"
       ]
      },
      {
       "output_type": "stream",
       "stream": "stderr",
       "text": [
        "  0.00s LOGFILE=C:/Users/Gino/bhs/Data/bhs3.txt.hdr/ClauseFunctions/__log__ClauseFunctions.txt\n"
       ]
      },
      {
       "output_type": "stream",
       "stream": "stderr",
       "text": [
        "  0.00s BEGIN TASK=ClauseFunctions SOURCE=bhs3.txt.hdr\n"
       ]
      }
     ],
     "prompt_number": 55
    },
    {
     "cell_type": "heading",
     "level": 2,
     "metadata": {},
     "source": [
      "3. Naming the objects"
     ]
    },
    {
     "cell_type": "markdown",
     "metadata": {},
     "source": [
      "Below we name the different objects that are needed for conducting queries on our data.\n",
      "\n",
      "<strong>F</strong> is an object that has a member with a handy name for each feature that has been declared above. \n",
      "Thus, <em>F.shebanq_db_otype</em> is a feature object that corresponds with the LAF feature given in an annotation in the annotation space shebanq, with label db and name otype. \n",
      "The feature value of this feature for a specific node n can be retrieved by stating: <em>F.shebanq_db_otype.v(n)</em>\n",
      "    \n",
      "<strong>NN</strong> is an iterator that yields a new node every time it is called. It enables us to iterate through all nodes in the LAF-data."
     ]
    },
    {
     "cell_type": "code",
     "collapsed": false,
     "input": [
      "API = processor.API()\n",
      "F = API['F']\n",
      "NN = API['NN']"
     ],
     "language": "python",
     "metadata": {},
     "outputs": [
      {
       "output_type": "stream",
       "stream": "stderr",
       "text": [
        "20m 16s END\n"
       ]
      }
     ],
     "prompt_number": 56
    },
    {
     "cell_type": "heading",
     "level": 2,
     "metadata": {},
     "source": [
      "4. Executing the program"
     ]
    },
    {
     "cell_type": "heading",
     "level": 3,
     "metadata": {},
     "source": [
      "4.1 Initializing the variables"
     ]
    },
    {
     "cell_type": "markdown",
     "metadata": {},
     "source": [
      "In the cell below some global variables are initialized. It should be noted that only variables whose values will not be modified or updated by the program are made global here. This concerns several lists and dictionaries of items that will be used for checking if a book (and chapter) belongs to the corpus we want to analyze and for determining the genre of a book or chapter."
     ]
    },
    {
     "cell_type": "code",
     "collapsed": false,
     "input": [
      "#first create a list containing the names of all books that will be investigated\n",
      "books = [\"Genesis\", \"Exodus\", \"Deuteronomy\", \"Judges\", \"I_Samuel\", \"Isaiah\", \"Jeremiah\", \"Lamentations\"]\n",
      "\n",
      "#create lists for each of the genres containing the books that belong to that specific genre\n",
      "#note that for the genre of poetry, the list consists not of booknames, but of dictionaries containing combinations of booknames (keys) and \n",
      "#the specific chapters in those books that are poetic (values). Our implementation guarantees that the other chapters of these books - \n",
      "#except for the book of Lamentations - are included in the prosaic corpus (note the overlap in booknames)\n",
      "prose = [\"Genesis\", \"Exodus\", \"Deuteronomy\", \"Judges\", \"I_Samuel\"]\n",
      "poetry = {\"Exodus\":[\"15\"], \"Deuteronomy\":[\"32\",\"33\"], \"Judges\":[\"5\"], \"I_Samuel\":[\"22\"], \"Lamentations\":[\"3\"]}\n",
      "prophecy = [\"Isaiah\", \"Jeremiah\"]\n",
      "\n",
      "#create a dictionary used for mapping the numerical values of tenses to their string equivalents (cf. 0. Introduction).\n",
      "tenses = {0: \"nominal\", 1: \"yiqtol\", 2: \"qatal\", 3: \"imperative\", 4: \"infinConstr\", 5: \"infinAbsol\", 6: \"participle\", 7: \"wayyiqtol\", 8: \"weyiqtol\"}\n",
      "\n",
      "#a library function is used to create or reopen the output file 'table.csv' and make it ready for being written to.\n",
      "out = processor.add_output('table.csv')"
     ],
     "language": "python",
     "metadata": {},
     "outputs": [],
     "prompt_number": 57
    },
    {
     "cell_type": "heading",
     "level": 3,
     "metadata": {},
     "source": [
      "4.2 Performing the task"
     ]
    },
    {
     "cell_type": "markdown",
     "metadata": {},
     "source": [
      "The next cell contains the main part of our program. The program starts by calling the function <em>perform_task()</em>, which defines several local variables pointing to modifiable lists and dictionaries. These lists and dictionaries will store and update the number of clause atom relations for each genre and the number of occurrences of each type of clause atom relation per genre.<br>\n",
      "The <em>perform_task()</em> function then calls the <em>iterate_through_nodes()</em> function, which, in turn, defines the local variables 'book' and 'chapter', that are updated in that specific function and used to assign the correct value to the variable 'genre'.\n",
      "After all nodes have been iterated through and the results of the queries have been stored, the <em>perform_task()</em> function finishes by calling the <em>write_to_output()</em> function, which writes the result data to an output file."
     ]
    },
    {
     "cell_type": "code",
     "collapsed": false,
     "input": [
      "#write the total numbers of the clause atom relation types for each of the genres to the output file\n",
      "def print_totals(prose, poetry, prophecy):\n",
      "    out.write(\"{},{},{},{},{},{},{}\\n\".format(\"TOTALS\", prose, 100, poetry, 100, prophecy, 100))\n",
      "\n",
      "#Maps digits in numerical label of clause atom relation type to corresponding values of the verb forms in the mother and daughter clause \n",
      "#by using the dictionary 'tenses'. The first digit in the offset from 100 is the tense of the verbal predicate of the daughter clause atom,\n",
      "#the second that of the mother clause atom (cf. 0. 'Introduction')\n",
      "#Subsequently, combine the string values of the verb forms into a single string representation of the clause atom relation as a whole.\n",
      "def map_label(pattern):\n",
      "    #retrieve the string representation of the tense in the daughter clause\n",
      "    tense_daughter = tenses[int(pattern[1])]\n",
      "    #retrieve the string representation of the tense in the mother clause\n",
      "    tense_mother = tenses[int(pattern[2])]\n",
      "    #return a combination of the string representations of the tense values of the mother and the daughter clause\n",
      "    return (tense_mother + \" -> \" + tense_daughter)\n",
      "\n",
      "#write the number of occurrences of a clause atom relation type (pattern) in a genre to the output file\n",
      "def print_number(out, pattern, car_genre, total_genre):\n",
      "    #if the clause atom relation type occurs in this specific genre, retrieve the number of occurrences and write it to the output file\n",
      "    if pattern in car_genre:\n",
      "        out.write(\"{:10},\".format(car_genre[pattern]))\n",
      "        #calculate the relative portion of clause atom relations in this genre represented by this specifc clause atom relation type and\n",
      "        #write the result to the output file\n",
      "        out.write(\"{:10}\".format(car_genre[pattern] / total_genre * 100))\n",
      "    #if the clause atom relation type does not occur in this specific genre, write an absolute value of 0 and a relative value of 0.0 to \n",
      "    #the output file\n",
      "    else:\n",
      "        out.write(\"{:10},\".format(\"0\"))\n",
      "        out.write(\"{:10}\".format(\"0.0\"))\n",
      "\n",
      "#the results of our queries are written to the output file 'table.csv'        \n",
      "def write_to_output(out, car_prose, car_poetry, car_prophecy, car_all, totals):\n",
      "    #write the 'headings' of the columns to the output file\n",
      "    out.write(\"{},{:10},{:10},{:10},{:10},{:10},{:10}\\n\".format(\"CARnumber\", \"prose\", \"% of clauses in prose\", \"poetry\", \"% of clauses in poetry\", \"prophecy\", \"% of clauses in prophecy\"))\n",
      "    #write the total numbers of the clause atom relation types for each of the genres to the output file\n",
      "    print_totals(totals[\"prose\"], totals[\"poetry\"], totals[\"prophecy\"])\n",
      "    #iterate through all clause atom relation types in the sorted list and for each of these types write the number of its occurrences in \n",
      "    #each of the genres to the output file\n",
      "    for pattern in car_all:\n",
      "        #map the three-digit clause atom relation label to a string representation\n",
      "        pattern_string = map_label(pattern)\n",
      "        #write the string representation of the clause atom relation type (i.e.: the clause pattern) to the output file\n",
      "        out.write(\"{},\".format(pattern_string))\n",
      "        #write the number of occurrences of this clause atom relation type (clause pattern) in our prosaic corpus to the output file\n",
      "        print_number(out, pattern, car_prose, totals[\"prose\"])\n",
      "        out.write(\",\")\n",
      "        #write the number of occurrences of this clause atom relation type (clause pattern) in our poetic corpus to the output file\n",
      "        print_number(out, pattern, car_poetry, totals[\"poetry\"])\n",
      "        out.write(\",\")\n",
      "        #write the number of occurrences of this clause atom relation type (clause pattern) in prophetic corpus to the output file\n",
      "        print_number(out, pattern, car_prophecy, totals[\"prophecy\"])\n",
      "        out.write(\"\\n\")\n",
      "\n",
      "#test the current genre        \n",
      "def set_genre(bookname, chapter):\n",
      "    #remember that only the poetry list has key-value pairs as elements;\n",
      "    if ((bookname in poetry.keys()) and (chapter in poetry[bookname])):\n",
      "        return \"poetry\"\n",
      "    #booknames shared by prose and poetry will not cause problems, since the poetic chapters have been filtered out at this point\n",
      "    elif (bookname in prose):\n",
      "        return \"prose\"\n",
      "    #our implementation guarantees that all clause atom relations that have not been categorized at this point, belong to our corpus of \n",
      "    #prophetic books\n",
      "    else:\n",
      "        return \"prophecy\"\n",
      "\n",
      "#a clause atom relation is added to the dictionary of the correct genre. If the clause atom relation type (key) has already been\n",
      "#encountered in that genre (i.e.: the key already exists), the value of that key will be simply raised by 1; if not, a new key is added \n",
      "#to the dictionary and its value, having a default value of 0, will be set to 1. \n",
      "def add_car_to_dictionary(car, car_genre):\n",
      "    car_genre[car] += 1\n",
      "\n",
      "#handle a new clause atom relation label    \n",
      "def analyze_new_car(car, car_prose, car_poetry, car_prophecy, car_total, totals, bookname, chapter):\n",
      "    #only continue if the clause atom relation is an asyndetic one (i.e.: has a three-digit value between 100 and 168; see 0 'Introduction')\n",
      "    if 100 <= int(car) <= 168:\n",
      "            #if the clause atom relation type has not yet been encountered before, add its label to the list of clause pattern types \n",
      "            #attested in our corpus\n",
      "            if car not in car_total:\n",
      "                car_total.append(car)\n",
      "            #define the genre to which the current clause atom relation belongs; do this by testing if the current bookname (and chapter)\n",
      "            #is listed in one of the genre lists created in the previous cell\n",
      "            genre = set_genre(bookname, chapter)\n",
      "            #include the clause atom relation in the correct genre and adjust the total number of clause atom relations counted for that\n",
      "            #genre; note that we use only one function for adding a clause atom relation to the correct dictionary\n",
      "            if (genre == \"prose\"):\n",
      "                add_car_to_dictionary(car, car_prose)\n",
      "                totals[\"prose\"] += 1\n",
      "            elif (genre == \"poetry\"):\n",
      "                add_car_to_dictionary(car, car_poetry)\n",
      "                totals[\"poetry\"] += 1\n",
      "            else:\n",
      "                add_car_to_dictionary(car, car_prophecy)\n",
      "                totals[\"prophecy\"] += 1\n",
      " \n",
      "def iterate_through_nodes(car_prose, car_poetry, car_prophecy, car_total, totals):\n",
      "    #bookname is initially set to \"None\" and will be reset every time the program encounters a node having the object type 'book'.\n",
      "    bookname = None\n",
      "    #chapter is initially set to \"None\" and will be reset every time the program encounters a node having the object type 'chapter'.\n",
      "    chapter = None\n",
      "    \n",
      "    #For each new node the program is provided with it tests the node's object type and subsequently calls the corresponding functions\n",
      "    for i in NN():\n",
      "        otype = F.shebanq_db_otype.v(i)\n",
      "    #test if the node's object type is that of 'clause_atom' and only continue if the current book (+ chapter) is included in our corpus\n",
      "    #of prosaic, poetic and prophetic texts by searching for its presence in the list 'books'. Note that for the book of Lamentations, we \n",
      "    #only analyze the third chapter (since the other chapters are not yet analyzed in the current dataset)\n",
      "        if ((otype == \"clause_atom\") and (bookname in books) and not (bookname == \"Lamentations\" and chapter != 3)):\n",
      "        #retrieve the three-digit label of the current clause atom relation\n",
      "            car = F.shebanq_ft_clause_atom_relation.v(i)\n",
      "        #handle the current clause atom relation\n",
      "            analyze_new_car(car, car_prose, car_poetry, car_prophecy, car_total, totals, bookname, chapter) \n",
      "    #if the node's object type is that of 'book', the bookname is reset to the value of the current node. Note that since a 'book node' \n",
      "    #always precedes the 'clause atom nodes' in that book, the bookname will always be set correctly. Thus, its initial value 'None' will\n",
      "    #always have been reset before the program for the first time encounters a new clause atom relation.\n",
      "        elif otype == \"book\":\n",
      "            bookname = F.shebanq_sft_book.v(i)\n",
      "        #as an intermediate test, print all booknames that are encountered to the standard output (see pink block below this cell)\n",
      "            sys.stderr.write(\"{} \".format(bookname))\n",
      "    #if the node's object type is that of 'chapter', the chapter number is reset to the value of the current node. Note that since a \n",
      "    #'chapter node' always precedes the 'clause atom nodes' in that chapter, the chapter numbers will always be set correctly. Thus, its \n",
      "    #initial value 'None' will always have been reset before the program for the first time encounters a new clause atom relation.\n",
      "        elif otype == \"chapter\":\n",
      "            chapter = F.shebanq_sft_chapter.v(i)\n",
      "    \n",
      "def perform_task():\n",
      "    #create 3 dictionaries for prose, poetry and prophecy. These dictionaries will contain combinations of a clause pattern type (key) and the \n",
      "    #number of occurrences of that clause pattern type (value). Every new key (clause pattern type) will be assigned a default value (number of \n",
      "    #occurrences) of 0 by using the lambda function.\n",
      "    car_prose = collections.defaultdict(lambda: 0)\n",
      "    car_poetry = collections.defaultdict(lambda: 0)\n",
      "    car_prophecy = collections.defaultdict(lambda: 0)\n",
      "\n",
      "    #create an empty list containing all clause pattern types that have been found in the books we are comparing. This will enable us to \n",
      "    #output only those patterns that are attested at least once in our corpus of prosaic, poetic and prophetic texts.\n",
      "    car_total = []\n",
      "\n",
      "    #create three variables containing the total number of clause patterns in each of the 3 genres we are comparing. This will enable us to \n",
      "    #calculate the relative portion of all clause patterns in a given genre that is represented by a specific clause pattern type.\n",
      "    totals = {\"prose\": 0, \"poetry\": 0, \"prophecy\": 0}\n",
      "    \n",
      "    #iterate through all nodes in the LAF-dataset\n",
      "    iterate_through_nodes(car_prose, car_poetry, car_prophecy, car_total, totals)\n",
      "    #after the program has iterated over all nodes, a sorted list of all clause atom relation types (between 100 and 168) that are attested \n",
      "    #in our corpus is stored in the variable 'car_all'        \n",
      "    car_all = sorted(car_total)\n",
      "    #the results are written to the output file\n",
      "    write_to_output(out, car_prose, car_poetry, car_prophecy, car_all, totals)\n",
      "\n",
      "perform_task()"
     ],
     "language": "python",
     "metadata": {},
     "outputs": [
      {
       "output_type": "stream",
       "stream": "stderr",
       "text": [
        "Genesis Exodus "
       ]
      },
      {
       "output_type": "stream",
       "stream": "stderr",
       "text": [
        "Leviticus Numbers "
       ]
      },
      {
       "output_type": "stream",
       "stream": "stderr",
       "text": [
        "Deuteronomy Joshua "
       ]
      },
      {
       "output_type": "stream",
       "stream": "stderr",
       "text": [
        "Judges I_Samuel "
       ]
      },
      {
       "output_type": "stream",
       "stream": "stderr",
       "text": [
        "II_Samuel I_Kings "
       ]
      },
      {
       "output_type": "stream",
       "stream": "stderr",
       "text": [
        "II_Kings Isaiah "
       ]
      },
      {
       "output_type": "stream",
       "stream": "stderr",
       "text": [
        "Jeremiah Ezekiel "
       ]
      },
      {
       "output_type": "stream",
       "stream": "stderr",
       "text": [
        "Hosea Joel Amos Obadiah Jonah Micah Nahum Habakkuk Zephaniah Haggai Zechariah Malachi "
       ]
      },
      {
       "output_type": "stream",
       "stream": "stderr",
       "text": [
        "Psalms Job "
       ]
      },
      {
       "output_type": "stream",
       "stream": "stderr",
       "text": [
        "Proverbs Ruth Canticles Ecclesiastes "
       ]
      },
      {
       "output_type": "stream",
       "stream": "stderr",
       "text": [
        "Lamentations Esther Daniel Ezra "
       ]
      },
      {
       "output_type": "stream",
       "stream": "stderr",
       "text": [
        "Nehemiah I_Chronicles II_Chronicles "
       ]
      }
     ],
     "prompt_number": 58
    },
    {
     "cell_type": "heading",
     "level": 2,
     "metadata": {},
     "source": [
      "5. Finalizing"
     ]
    },
    {
     "cell_type": "markdown",
     "metadata": {},
     "source": [
      "At the end of our program we need to close all open files (i.e. the log file and the output file). This is done in the <em>final()</em> function in the processor object."
     ]
    },
    {
     "cell_type": "code",
     "collapsed": false,
     "input": [
      "processor.final()"
     ],
     "language": "python",
     "metadata": {},
     "outputs": [
      {
       "output_type": "stream",
       "stream": "stderr",
       "text": [
        "    19s END TASK ClauseFunctions\n"
       ]
      },
      {
       "output_type": "stream",
       "stream": "stderr",
       "text": [
        "    19s Results directory:\n",
        "C:/Users/Gino/bhs/Data/bhs3.txt.hdr/ClauseFunctions\n"
       ]
      },
      {
       "output_type": "stream",
       "stream": "stderr",
       "text": [
        "__log__ClauseFunctions.txt              186 Wed Feb 12 11:52:13 2014\n",
        "table.csv                              5730 Wed Feb 12 11:52:31 2014\n",
        "table.tsv                             28828 Thu Feb  6 13:13:58 2014\n"
       ]
      }
     ],
     "prompt_number": 59
    },
    {
     "cell_type": "heading",
     "level": 2,
     "metadata": {},
     "source": [
      "6. Formatting the output"
     ]
    },
    {
     "cell_type": "markdown",
     "metadata": {},
     "source": [
      "After we have finished our programme, the results stored in the output file will have to be displayed. After placing the output data in a <em>pandas DataFrame</em> object, they can be nicely presented in a table."
     ]
    },
    {
     "cell_type": "code",
     "collapsed": false,
     "input": [
      "import pandas\n",
      "from IPython.display import display\n",
      "pandas.set_option('display.notebook_repr_html', True)"
     ],
     "language": "python",
     "metadata": {},
     "outputs": [],
     "prompt_number": 60
    },
    {
     "cell_type": "code",
     "collapsed": false,
     "input": [
      "table_file = processor.my_files('table.csv')\n",
      "df = pandas.read_csv(table_file)"
     ],
     "language": "python",
     "metadata": {},
     "outputs": [],
     "prompt_number": 61
    },
    {
     "cell_type": "code",
     "collapsed": false,
     "input": [
      "df"
     ],
     "language": "python",
     "metadata": {},
     "outputs": [
      {
       "html": [
        "<div style=\"max-height:1000px;max-width:1500px;overflow:auto;\">\n",
        "<table border=\"1\" class=\"dataframe\">\n",
        "  <thead>\n",
        "    <tr style=\"text-align: right;\">\n",
        "      <th></th>\n",
        "      <th>CARnumber</th>\n",
        "      <th>prose     </th>\n",
        "      <th>% of clauses in prose</th>\n",
        "      <th>poetry    </th>\n",
        "      <th>% of clauses in poetry</th>\n",
        "      <th>prophecy  </th>\n",
        "      <th>% of clauses in prophecy</th>\n",
        "    </tr>\n",
        "  </thead>\n",
        "  <tbody>\n",
        "    <tr>\n",
        "      <th>0 </th>\n",
        "      <td>                    TOTALS</td>\n",
        "      <td> 2677</td>\n",
        "      <td> 100.000000</td>\n",
        "      <td> 221</td>\n",
        "      <td> 100.000000</td>\n",
        "      <td> 3478</td>\n",
        "      <td> 100.000000</td>\n",
        "    </tr>\n",
        "    <tr>\n",
        "      <th>1 </th>\n",
        "      <td>        nominal -&gt; nominal</td>\n",
        "      <td>  375</td>\n",
        "      <td>  14.008218</td>\n",
        "      <td>  38</td>\n",
        "      <td>  17.194570</td>\n",
        "      <td>  263</td>\n",
        "      <td>   7.561817</td>\n",
        "    </tr>\n",
        "    <tr>\n",
        "      <th>2 </th>\n",
        "      <td>         yiqtol -&gt; nominal</td>\n",
        "      <td>  105</td>\n",
        "      <td>   3.922301</td>\n",
        "      <td>  17</td>\n",
        "      <td>   7.692308</td>\n",
        "      <td>  213</td>\n",
        "      <td>   6.124209</td>\n",
        "    </tr>\n",
        "    <tr>\n",
        "      <th>3 </th>\n",
        "      <td>          qatal -&gt; nominal</td>\n",
        "      <td>  145</td>\n",
        "      <td>   5.416511</td>\n",
        "      <td>  15</td>\n",
        "      <td>   6.787330</td>\n",
        "      <td>  299</td>\n",
        "      <td>   8.596895</td>\n",
        "    </tr>\n",
        "    <tr>\n",
        "      <th>4 </th>\n",
        "      <td>     imperative -&gt; nominal</td>\n",
        "      <td>   48</td>\n",
        "      <td>   1.793052</td>\n",
        "      <td>   4</td>\n",
        "      <td>   1.809955</td>\n",
        "      <td>  187</td>\n",
        "      <td>   5.376653</td>\n",
        "    </tr>\n",
        "    <tr>\n",
        "      <th>5 </th>\n",
        "      <td>    infinConstr -&gt; nominal</td>\n",
        "      <td>   17</td>\n",
        "      <td>   0.635039</td>\n",
        "      <td>   0</td>\n",
        "      <td>   0.000000</td>\n",
        "      <td>   31</td>\n",
        "      <td>   0.891317</td>\n",
        "    </tr>\n",
        "    <tr>\n",
        "      <th>6 </th>\n",
        "      <td>     infinAbsol -&gt; nominal</td>\n",
        "      <td>    0</td>\n",
        "      <td>   0.000000</td>\n",
        "      <td>   0</td>\n",
        "      <td>   0.000000</td>\n",
        "      <td>    4</td>\n",
        "      <td>   0.115009</td>\n",
        "    </tr>\n",
        "    <tr>\n",
        "      <th>7 </th>\n",
        "      <td>     participle -&gt; nominal</td>\n",
        "      <td>   31</td>\n",
        "      <td>   1.158013</td>\n",
        "      <td>   4</td>\n",
        "      <td>   1.809955</td>\n",
        "      <td>  104</td>\n",
        "      <td>   2.990224</td>\n",
        "    </tr>\n",
        "    <tr>\n",
        "      <th>8 </th>\n",
        "      <td>      wayyiqtol -&gt; nominal</td>\n",
        "      <td>  114</td>\n",
        "      <td>   4.258498</td>\n",
        "      <td>   1</td>\n",
        "      <td>   0.452489</td>\n",
        "      <td>   24</td>\n",
        "      <td>   0.690052</td>\n",
        "    </tr>\n",
        "    <tr>\n",
        "      <th>9 </th>\n",
        "      <td>       weyiqtol -&gt; nominal</td>\n",
        "      <td>    6</td>\n",
        "      <td>   0.224131</td>\n",
        "      <td>   1</td>\n",
        "      <td>   0.452489</td>\n",
        "      <td>    4</td>\n",
        "      <td>   0.115009</td>\n",
        "    </tr>\n",
        "    <tr>\n",
        "      <th>10</th>\n",
        "      <td>         nominal -&gt; yiqtol</td>\n",
        "      <td>  229</td>\n",
        "      <td>   8.554352</td>\n",
        "      <td>  17</td>\n",
        "      <td>   7.692308</td>\n",
        "      <td>  240</td>\n",
        "      <td>   6.900518</td>\n",
        "    </tr>\n",
        "    <tr>\n",
        "      <th>11</th>\n",
        "      <td>          yiqtol -&gt; yiqtol</td>\n",
        "      <td>  317</td>\n",
        "      <td>  11.841614</td>\n",
        "      <td>  22</td>\n",
        "      <td>   9.954751</td>\n",
        "      <td>  264</td>\n",
        "      <td>   7.590569</td>\n",
        "    </tr>\n",
        "    <tr>\n",
        "      <th>12</th>\n",
        "      <td>           qatal -&gt; yiqtol</td>\n",
        "      <td>  141</td>\n",
        "      <td>   5.267090</td>\n",
        "      <td>  13</td>\n",
        "      <td>   5.882353</td>\n",
        "      <td>  259</td>\n",
        "      <td>   7.446809</td>\n",
        "    </tr>\n",
        "    <tr>\n",
        "      <th>13</th>\n",
        "      <td>      imperative -&gt; yiqtol</td>\n",
        "      <td>   73</td>\n",
        "      <td>   2.726933</td>\n",
        "      <td>   5</td>\n",
        "      <td>   2.262443</td>\n",
        "      <td>   82</td>\n",
        "      <td>   2.357677</td>\n",
        "    </tr>\n",
        "    <tr>\n",
        "      <th>14</th>\n",
        "      <td>     infinConstr -&gt; yiqtol</td>\n",
        "      <td>   10</td>\n",
        "      <td>   0.373552</td>\n",
        "      <td>   0</td>\n",
        "      <td>   0.000000</td>\n",
        "      <td>    7</td>\n",
        "      <td>   0.201265</td>\n",
        "    </tr>\n",
        "    <tr>\n",
        "      <th>15</th>\n",
        "      <td>      infinAbsol -&gt; yiqtol</td>\n",
        "      <td>    7</td>\n",
        "      <td>   0.261487</td>\n",
        "      <td>   0</td>\n",
        "      <td>   0.000000</td>\n",
        "      <td>    1</td>\n",
        "      <td>   0.028752</td>\n",
        "    </tr>\n",
        "    <tr>\n",
        "      <th>16</th>\n",
        "      <td>      participle -&gt; yiqtol</td>\n",
        "      <td>   35</td>\n",
        "      <td>   1.307434</td>\n",
        "      <td>   1</td>\n",
        "      <td>   0.452489</td>\n",
        "      <td>   64</td>\n",
        "      <td>   1.840138</td>\n",
        "    </tr>\n",
        "    <tr>\n",
        "      <th>17</th>\n",
        "      <td>       wayyiqtol -&gt; yiqtol</td>\n",
        "      <td>   11</td>\n",
        "      <td>   0.410908</td>\n",
        "      <td>   3</td>\n",
        "      <td>   1.357466</td>\n",
        "      <td>   18</td>\n",
        "      <td>   0.517539</td>\n",
        "    </tr>\n",
        "    <tr>\n",
        "      <th>18</th>\n",
        "      <td>        weyiqtol -&gt; yiqtol</td>\n",
        "      <td>    9</td>\n",
        "      <td>   0.336197</td>\n",
        "      <td>   0</td>\n",
        "      <td>   0.000000</td>\n",
        "      <td>   11</td>\n",
        "      <td>   0.316274</td>\n",
        "    </tr>\n",
        "    <tr>\n",
        "      <th>19</th>\n",
        "      <td>          nominal -&gt; qatal</td>\n",
        "      <td>  156</td>\n",
        "      <td>   5.827419</td>\n",
        "      <td>  21</td>\n",
        "      <td>   9.502262</td>\n",
        "      <td>  234</td>\n",
        "      <td>   6.728005</td>\n",
        "    </tr>\n",
        "    <tr>\n",
        "      <th>20</th>\n",
        "      <td>           yiqtol -&gt; qatal</td>\n",
        "      <td>   31</td>\n",
        "      <td>   1.158013</td>\n",
        "      <td>   7</td>\n",
        "      <td>   3.167421</td>\n",
        "      <td>  118</td>\n",
        "      <td>   3.392754</td>\n",
        "    </tr>\n",
        "    <tr>\n",
        "      <th>21</th>\n",
        "      <td>            qatal -&gt; qatal</td>\n",
        "      <td>  106</td>\n",
        "      <td>   3.959656</td>\n",
        "      <td>  23</td>\n",
        "      <td>  10.407240</td>\n",
        "      <td>  335</td>\n",
        "      <td>   9.631972</td>\n",
        "    </tr>\n",
        "    <tr>\n",
        "      <th>22</th>\n",
        "      <td>       imperative -&gt; qatal</td>\n",
        "      <td>   30</td>\n",
        "      <td>   1.120657</td>\n",
        "      <td>   4</td>\n",
        "      <td>   1.809955</td>\n",
        "      <td>   88</td>\n",
        "      <td>   2.530190</td>\n",
        "    </tr>\n",
        "    <tr>\n",
        "      <th>23</th>\n",
        "      <td>      infinConstr -&gt; qatal</td>\n",
        "      <td>    5</td>\n",
        "      <td>   0.186776</td>\n",
        "      <td>   0</td>\n",
        "      <td>   0.000000</td>\n",
        "      <td>    5</td>\n",
        "      <td>   0.143761</td>\n",
        "    </tr>\n",
        "    <tr>\n",
        "      <th>24</th>\n",
        "      <td>       participle -&gt; qatal</td>\n",
        "      <td>   13</td>\n",
        "      <td>   0.485618</td>\n",
        "      <td>   1</td>\n",
        "      <td>   0.452489</td>\n",
        "      <td>   46</td>\n",
        "      <td>   1.322599</td>\n",
        "    </tr>\n",
        "    <tr>\n",
        "      <th>25</th>\n",
        "      <td>        wayyiqtol -&gt; qatal</td>\n",
        "      <td>  126</td>\n",
        "      <td>   4.706761</td>\n",
        "      <td>   4</td>\n",
        "      <td>   1.809955</td>\n",
        "      <td>   38</td>\n",
        "      <td>   1.092582</td>\n",
        "    </tr>\n",
        "    <tr>\n",
        "      <th>26</th>\n",
        "      <td>         weyiqtol -&gt; qatal</td>\n",
        "      <td>    1</td>\n",
        "      <td>   0.037355</td>\n",
        "      <td>   0</td>\n",
        "      <td>   0.000000</td>\n",
        "      <td>    3</td>\n",
        "      <td>   0.086256</td>\n",
        "    </tr>\n",
        "    <tr>\n",
        "      <th>27</th>\n",
        "      <td>     nominal -&gt; imperative</td>\n",
        "      <td>  123</td>\n",
        "      <td>   4.594696</td>\n",
        "      <td>   4</td>\n",
        "      <td>   1.809955</td>\n",
        "      <td>   59</td>\n",
        "      <td>   1.696377</td>\n",
        "    </tr>\n",
        "    <tr>\n",
        "      <th>28</th>\n",
        "      <td>      yiqtol -&gt; imperative</td>\n",
        "      <td>   45</td>\n",
        "      <td>   1.680986</td>\n",
        "      <td>   3</td>\n",
        "      <td>   1.357466</td>\n",
        "      <td>   38</td>\n",
        "      <td>   1.092582</td>\n",
        "    </tr>\n",
        "    <tr>\n",
        "      <th>29</th>\n",
        "      <td>       qatal -&gt; imperative</td>\n",
        "      <td>   46</td>\n",
        "      <td>   1.718341</td>\n",
        "      <td>   1</td>\n",
        "      <td>   0.452489</td>\n",
        "      <td>   39</td>\n",
        "      <td>   1.121334</td>\n",
        "    </tr>\n",
        "    <tr>\n",
        "      <th>30</th>\n",
        "      <td>  imperative -&gt; imperative</td>\n",
        "      <td>   21</td>\n",
        "      <td>   0.784460</td>\n",
        "      <td>   1</td>\n",
        "      <td>   0.452489</td>\n",
        "      <td>   28</td>\n",
        "      <td>   0.805060</td>\n",
        "    </tr>\n",
        "    <tr>\n",
        "      <th>31</th>\n",
        "      <td> infinConstr -&gt; imperative</td>\n",
        "      <td>    2</td>\n",
        "      <td>   0.074710</td>\n",
        "      <td>   0</td>\n",
        "      <td>   0.000000</td>\n",
        "      <td>    1</td>\n",
        "      <td>   0.028752</td>\n",
        "    </tr>\n",
        "    <tr>\n",
        "      <th>32</th>\n",
        "      <td>  infinAbsol -&gt; imperative</td>\n",
        "      <td>    3</td>\n",
        "      <td>   0.112066</td>\n",
        "      <td>   0</td>\n",
        "      <td>   0.000000</td>\n",
        "      <td>    1</td>\n",
        "      <td>   0.028752</td>\n",
        "    </tr>\n",
        "    <tr>\n",
        "      <th>33</th>\n",
        "      <td>  participle -&gt; imperative</td>\n",
        "      <td>   13</td>\n",
        "      <td>   0.485618</td>\n",
        "      <td>   0</td>\n",
        "      <td>   0.000000</td>\n",
        "      <td>    8</td>\n",
        "      <td>   0.230017</td>\n",
        "    </tr>\n",
        "    <tr>\n",
        "      <th>34</th>\n",
        "      <td>   wayyiqtol -&gt; imperative</td>\n",
        "      <td>    2</td>\n",
        "      <td>   0.074710</td>\n",
        "      <td>   0</td>\n",
        "      <td>   0.000000</td>\n",
        "      <td>    1</td>\n",
        "      <td>   0.028752</td>\n",
        "    </tr>\n",
        "    <tr>\n",
        "      <th>35</th>\n",
        "      <td>     nominal -&gt; infinAbsol</td>\n",
        "      <td>    2</td>\n",
        "      <td>   0.074710</td>\n",
        "      <td>   0</td>\n",
        "      <td>   0.000000</td>\n",
        "      <td>    4</td>\n",
        "      <td>   0.115009</td>\n",
        "    </tr>\n",
        "    <tr>\n",
        "      <th>36</th>\n",
        "      <td>      yiqtol -&gt; infinAbsol</td>\n",
        "      <td>    6</td>\n",
        "      <td>   0.224131</td>\n",
        "      <td>   0</td>\n",
        "      <td>   0.000000</td>\n",
        "      <td>    8</td>\n",
        "      <td>   0.230017</td>\n",
        "    </tr>\n",
        "    <tr>\n",
        "      <th>37</th>\n",
        "      <td>       qatal -&gt; infinAbsol</td>\n",
        "      <td>    2</td>\n",
        "      <td>   0.074710</td>\n",
        "      <td>   0</td>\n",
        "      <td>   0.000000</td>\n",
        "      <td>   11</td>\n",
        "      <td>   0.316274</td>\n",
        "    </tr>\n",
        "    <tr>\n",
        "      <th>38</th>\n",
        "      <td>  imperative -&gt; infinAbsol</td>\n",
        "      <td>    1</td>\n",
        "      <td>   0.037355</td>\n",
        "      <td>   0</td>\n",
        "      <td>   0.000000</td>\n",
        "      <td>    4</td>\n",
        "      <td>   0.115009</td>\n",
        "    </tr>\n",
        "    <tr>\n",
        "      <th>39</th>\n",
        "      <td> infinConstr -&gt; infinAbsol</td>\n",
        "      <td>    0</td>\n",
        "      <td>   0.000000</td>\n",
        "      <td>   0</td>\n",
        "      <td>   0.000000</td>\n",
        "      <td>    4</td>\n",
        "      <td>   0.115009</td>\n",
        "    </tr>\n",
        "    <tr>\n",
        "      <th>40</th>\n",
        "      <td>  infinAbsol -&gt; infinAbsol</td>\n",
        "      <td>    0</td>\n",
        "      <td>   0.000000</td>\n",
        "      <td>   0</td>\n",
        "      <td>   0.000000</td>\n",
        "      <td>    1</td>\n",
        "      <td>   0.028752</td>\n",
        "    </tr>\n",
        "    <tr>\n",
        "      <th>41</th>\n",
        "      <td>  participle -&gt; infinAbsol</td>\n",
        "      <td>    0</td>\n",
        "      <td>   0.000000</td>\n",
        "      <td>   0</td>\n",
        "      <td>   0.000000</td>\n",
        "      <td>    2</td>\n",
        "      <td>   0.057504</td>\n",
        "    </tr>\n",
        "    <tr>\n",
        "      <th>42</th>\n",
        "      <td>   wayyiqtol -&gt; infinAbsol</td>\n",
        "      <td>    4</td>\n",
        "      <td>   0.149421</td>\n",
        "      <td>   0</td>\n",
        "      <td>   0.000000</td>\n",
        "      <td>    3</td>\n",
        "      <td>   0.086256</td>\n",
        "    </tr>\n",
        "    <tr>\n",
        "      <th>43</th>\n",
        "      <td>    weyiqtol -&gt; infinAbsol</td>\n",
        "      <td>    0</td>\n",
        "      <td>   0.000000</td>\n",
        "      <td>   0</td>\n",
        "      <td>   0.000000</td>\n",
        "      <td>    1</td>\n",
        "      <td>   0.028752</td>\n",
        "    </tr>\n",
        "    <tr>\n",
        "      <th>44</th>\n",
        "      <td>     nominal -&gt; participle</td>\n",
        "      <td>   84</td>\n",
        "      <td>   3.137841</td>\n",
        "      <td>   7</td>\n",
        "      <td>   3.167421</td>\n",
        "      <td>  109</td>\n",
        "      <td>   3.133985</td>\n",
        "    </tr>\n",
        "    <tr>\n",
        "      <th>45</th>\n",
        "      <td>      yiqtol -&gt; participle</td>\n",
        "      <td>   32</td>\n",
        "      <td>   1.195368</td>\n",
        "      <td>   0</td>\n",
        "      <td>   0.000000</td>\n",
        "      <td>   52</td>\n",
        "      <td>   1.495112</td>\n",
        "    </tr>\n",
        "    <tr>\n",
        "      <th>46</th>\n",
        "      <td>       qatal -&gt; participle</td>\n",
        "      <td>   43</td>\n",
        "      <td>   1.606276</td>\n",
        "      <td>   2</td>\n",
        "      <td>   0.904977</td>\n",
        "      <td>   79</td>\n",
        "      <td>   2.271420</td>\n",
        "    </tr>\n",
        "    <tr>\n",
        "      <th>47</th>\n",
        "      <td>  imperative -&gt; participle</td>\n",
        "      <td>   14</td>\n",
        "      <td>   0.522973</td>\n",
        "      <td>   0</td>\n",
        "      <td>   0.000000</td>\n",
        "      <td>   19</td>\n",
        "      <td>   0.546291</td>\n",
        "    </tr>\n",
        "    <tr>\n",
        "      <th>48</th>\n",
        "      <td> infinConstr -&gt; participle</td>\n",
        "      <td>    8</td>\n",
        "      <td>   0.298842</td>\n",
        "      <td>   0</td>\n",
        "      <td>   0.000000</td>\n",
        "      <td>    6</td>\n",
        "      <td>   0.172513</td>\n",
        "    </tr>\n",
        "    <tr>\n",
        "      <th>49</th>\n",
        "      <td>  infinAbsol -&gt; participle</td>\n",
        "      <td>    1</td>\n",
        "      <td>   0.037355</td>\n",
        "      <td>   0</td>\n",
        "      <td>   0.000000</td>\n",
        "      <td>    0</td>\n",
        "      <td>   0.000000</td>\n",
        "    </tr>\n",
        "    <tr>\n",
        "      <th>50</th>\n",
        "      <td>  participle -&gt; participle</td>\n",
        "      <td>   31</td>\n",
        "      <td>   1.158013</td>\n",
        "      <td>   0</td>\n",
        "      <td>   0.000000</td>\n",
        "      <td>   41</td>\n",
        "      <td>   1.178838</td>\n",
        "    </tr>\n",
        "    <tr>\n",
        "      <th>51</th>\n",
        "      <td>   wayyiqtol -&gt; participle</td>\n",
        "      <td>   52</td>\n",
        "      <td>   1.942473</td>\n",
        "      <td>   2</td>\n",
        "      <td>   0.904977</td>\n",
        "      <td>   13</td>\n",
        "      <td>   0.373778</td>\n",
        "    </tr>\n",
        "    <tr>\n",
        "      <th>52</th>\n",
        "      <td>    weyiqtol -&gt; participle</td>\n",
        "      <td>    1</td>\n",
        "      <td>   0.037355</td>\n",
        "      <td>   0</td>\n",
        "      <td>   0.000000</td>\n",
        "      <td>    4</td>\n",
        "      <td>   0.115009</td>\n",
        "    </tr>\n",
        "  </tbody>\n",
        "</table>\n",
        "</div>"
       ],
       "metadata": {},
       "output_type": "pyout",
       "prompt_number": 62,
       "text": [
        "                    CARnumber  prose       % of clauses in prose  poetry      \\\n",
        "0                      TOTALS        2677             100.000000         221   \n",
        "1          nominal -> nominal         375              14.008218          38   \n",
        "2           yiqtol -> nominal         105               3.922301          17   \n",
        "3            qatal -> nominal         145               5.416511          15   \n",
        "4       imperative -> nominal          48               1.793052           4   \n",
        "5      infinConstr -> nominal          17               0.635039           0   \n",
        "6       infinAbsol -> nominal           0               0.000000           0   \n",
        "7       participle -> nominal          31               1.158013           4   \n",
        "8        wayyiqtol -> nominal         114               4.258498           1   \n",
        "9         weyiqtol -> nominal           6               0.224131           1   \n",
        "10          nominal -> yiqtol         229               8.554352          17   \n",
        "11           yiqtol -> yiqtol         317              11.841614          22   \n",
        "12            qatal -> yiqtol         141               5.267090          13   \n",
        "13       imperative -> yiqtol          73               2.726933           5   \n",
        "14      infinConstr -> yiqtol          10               0.373552           0   \n",
        "15       infinAbsol -> yiqtol           7               0.261487           0   \n",
        "16       participle -> yiqtol          35               1.307434           1   \n",
        "17        wayyiqtol -> yiqtol          11               0.410908           3   \n",
        "18         weyiqtol -> yiqtol           9               0.336197           0   \n",
        "19           nominal -> qatal         156               5.827419          21   \n",
        "20            yiqtol -> qatal          31               1.158013           7   \n",
        "21             qatal -> qatal         106               3.959656          23   \n",
        "22        imperative -> qatal          30               1.120657           4   \n",
        "23       infinConstr -> qatal           5               0.186776           0   \n",
        "24        participle -> qatal          13               0.485618           1   \n",
        "25         wayyiqtol -> qatal         126               4.706761           4   \n",
        "26          weyiqtol -> qatal           1               0.037355           0   \n",
        "27      nominal -> imperative         123               4.594696           4   \n",
        "28       yiqtol -> imperative          45               1.680986           3   \n",
        "29        qatal -> imperative          46               1.718341           1   \n",
        "30   imperative -> imperative          21               0.784460           1   \n",
        "31  infinConstr -> imperative           2               0.074710           0   \n",
        "32   infinAbsol -> imperative           3               0.112066           0   \n",
        "33   participle -> imperative          13               0.485618           0   \n",
        "34    wayyiqtol -> imperative           2               0.074710           0   \n",
        "35      nominal -> infinAbsol           2               0.074710           0   \n",
        "36       yiqtol -> infinAbsol           6               0.224131           0   \n",
        "37        qatal -> infinAbsol           2               0.074710           0   \n",
        "38   imperative -> infinAbsol           1               0.037355           0   \n",
        "39  infinConstr -> infinAbsol           0               0.000000           0   \n",
        "40   infinAbsol -> infinAbsol           0               0.000000           0   \n",
        "41   participle -> infinAbsol           0               0.000000           0   \n",
        "42    wayyiqtol -> infinAbsol           4               0.149421           0   \n",
        "43     weyiqtol -> infinAbsol           0               0.000000           0   \n",
        "44      nominal -> participle          84               3.137841           7   \n",
        "45       yiqtol -> participle          32               1.195368           0   \n",
        "46        qatal -> participle          43               1.606276           2   \n",
        "47   imperative -> participle          14               0.522973           0   \n",
        "48  infinConstr -> participle           8               0.298842           0   \n",
        "49   infinAbsol -> participle           1               0.037355           0   \n",
        "50   participle -> participle          31               1.158013           0   \n",
        "51    wayyiqtol -> participle          52               1.942473           2   \n",
        "52     weyiqtol -> participle           1               0.037355           0   \n",
        "\n",
        "    % of clauses in poetry  prophecy    % of clauses in prophecy  \n",
        "0               100.000000        3478                100.000000  \n",
        "1                17.194570         263                  7.561817  \n",
        "2                 7.692308         213                  6.124209  \n",
        "3                 6.787330         299                  8.596895  \n",
        "4                 1.809955         187                  5.376653  \n",
        "5                 0.000000          31                  0.891317  \n",
        "6                 0.000000           4                  0.115009  \n",
        "7                 1.809955         104                  2.990224  \n",
        "8                 0.452489          24                  0.690052  \n",
        "9                 0.452489           4                  0.115009  \n",
        "10                7.692308         240                  6.900518  \n",
        "11                9.954751         264                  7.590569  \n",
        "12                5.882353         259                  7.446809  \n",
        "13                2.262443          82                  2.357677  \n",
        "14                0.000000           7                  0.201265  \n",
        "15                0.000000           1                  0.028752  \n",
        "16                0.452489          64                  1.840138  \n",
        "17                1.357466          18                  0.517539  \n",
        "18                0.000000          11                  0.316274  \n",
        "19                9.502262         234                  6.728005  \n",
        "20                3.167421         118                  3.392754  \n",
        "21               10.407240         335                  9.631972  \n",
        "22                1.809955          88                  2.530190  \n",
        "23                0.000000           5                  0.143761  \n",
        "24                0.452489          46                  1.322599  \n",
        "25                1.809955          38                  1.092582  \n",
        "26                0.000000           3                  0.086256  \n",
        "27                1.809955          59                  1.696377  \n",
        "28                1.357466          38                  1.092582  \n",
        "29                0.452489          39                  1.121334  \n",
        "30                0.452489          28                  0.805060  \n",
        "31                0.000000           1                  0.028752  \n",
        "32                0.000000           1                  0.028752  \n",
        "33                0.000000           8                  0.230017  \n",
        "34                0.000000           1                  0.028752  \n",
        "35                0.000000           4                  0.115009  \n",
        "36                0.000000           8                  0.230017  \n",
        "37                0.000000          11                  0.316274  \n",
        "38                0.000000           4                  0.115009  \n",
        "39                0.000000           4                  0.115009  \n",
        "40                0.000000           1                  0.028752  \n",
        "41                0.000000           2                  0.057504  \n",
        "42                0.000000           3                  0.086256  \n",
        "43                0.000000           1                  0.028752  \n",
        "44                3.167421         109                  3.133985  \n",
        "45                0.000000          52                  1.495112  \n",
        "46                0.904977          79                  2.271420  \n",
        "47                0.000000          19                  0.546291  \n",
        "48                0.000000           6                  0.172513  \n",
        "49                0.000000           0                  0.000000  \n",
        "50                0.000000          41                  1.178838  \n",
        "51                0.904977          13                  0.373778  \n",
        "52                0.000000           4                  0.115009  "
       ]
      }
     ],
     "prompt_number": 62
    },
    {
     "cell_type": "heading",
     "level": 2,
     "metadata": {},
     "source": [
      "7. Results"
     ]
    },
    {
     "cell_type": "markdown",
     "metadata": {},
     "source": [
      "From the table above some interesting insights can be deduced. Thus, we find several patterns that are more strongly attested in one genre than in another. In poetry, for instance, a sequence of two perfects (21: qatal > qatal) is the second most occurring asyndetic clause pattern, while in prose other combinations of mother and daughter clause are more prominent, especially those containing a imperfect consecutive (wayyiqtol) mother clause.<br>\n",
      "On the other hand, the differences in numbers of occurrences are not extreme, which appears to support our research hypothesis that prose and poetry make use of one single verbal system. They clearly show some mutual differences in their preferences for specific patterns within this system, but the table seems to suggest indeed that this does not entail that the two genres make use of wholly different linguistic systems (or - as many Hebraists assume implicitly - that poetry's of verbal forms isn't bound to any grammatical rules at all). "
     ]
    }
   ],
   "metadata": {}
  }
 ]
}