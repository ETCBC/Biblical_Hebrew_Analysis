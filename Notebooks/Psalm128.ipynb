{
 "metadata": {
  "name": ""
 },
 "nbformat": 3,
 "nbformat_minor": 0,
 "worksheets": [
  {
   "cells": [
    {
     "cell_type": "code",
     "collapsed": false,
     "input": [
      "import Psalms"
     ],
     "language": "python",
     "metadata": {},
     "outputs": [
      {
       "html": [
        "\n",
        "<style>\n",
        "\n",
        "table.presentation {\n",
        "    border-style:hidden;\n",
        "}\n",
        "\n",
        "table.presentation tr {\n",
        "    border-style:hidden;\n",
        "}\n",
        "\n",
        "table.presentation th {\n",
        "    padding:0px 15px 0px 0px;\n",
        "    border-style:hidden;\n",
        "    text-align:center;\n",
        "}\n",
        "\n",
        "table.presentation td {\n",
        "    padding:0px 5px 0px 0px;\n",
        "    border-style:hidden;\n",
        "}\n",
        "\n",
        "table.presentation td.unicode {\n",
        "    text-align:right;\n",
        "    font-family:SBL Hebrew;\n",
        "}\n",
        "\n",
        "table.categories {\n",
        "    margin-left: auto;\n",
        "    margin-right: auto;\n",
        "}\n",
        "\n",
        "table.categories, table.categories tr, table.categories th, table.categories td {\n",
        "    border-style:hidden;\n",
        "    color: Maroon;\n",
        "}\n",
        "\n",
        "div.navigation {\n",
        "    margin:auto;\n",
        "    width:50%;\n",
        "    font-size:small;\n",
        "    font-style:italic;\n",
        "}\n",
        "\n",
        "div.navigation form, div.navigation form input {\n",
        "    display: inline;\n",
        "}\n",
        "\n",
        "form input {\n",
        "    max-width: 30px;\n",
        "}\n",
        "\n",
        "div.button form input {\n",
        "\tmax-width:100%;\n",
        "}\n",
        "\n",
        "div.button {\n",
        "\tmax-width:15%;\n",
        "\tmargin:auto;\n",
        "}\n",
        "\n",
        "div.output {\n",
        "    font-size: small;\n",
        "    z-index:0;\n",
        "}\n",
        "\n",
        "div.front, div.front_a, div.front_b {\n",
        "    color: Crimson;\n",
        "}\n",
        "\n",
        "div.front, div.front_a {\n",
        "\ttext-align: center;\n",
        "}\n",
        "\n",
        "div.front_b div, div.front_a div {\n",
        "    display: none;\n",
        "} \n",
        "\n",
        "div.front div, div.front_hebrew div {\n",
        "    display: none;\n",
        "    position: relative;\n",
        "}\n",
        "\n",
        "div.front:hover div, div.front_a:hover div, div.front_b:hover div {\n",
        "    display: block;\n",
        "    max-width: 200px;\n",
        "}\n",
        "    \n",
        "div.front_hebrew:hover div {\n",
        "    display: block;\n",
        "}\n",
        "\n",
        "div.def_disc, div.factors {\n",
        "    font-size: x-small;\n",
        "    background-color:White;\n",
        "    z-index:1;\n",
        "    position:absolute;\n",
        "    font-family:SBL Hebrew;\n",
        "    line-height: 95%;\n",
        "}\n",
        "\n",
        "div.translation {\n",
        "    z-index:1;\n",
        "    position:absolute;\n",
        "    right:10%;\n",
        "    line-height: 90%;\n",
        "    font-size: x-small;\n",
        "}\n",
        "\n",
        "div.left {\n",
        "    border-left-style:dotted;\n",
        "    border-left-width:thin;\n",
        "}\n",
        "\n",
        "div.right {\n",
        "    border-right-style:dotted;\n",
        "    border-right-width:thin;\n",
        "}\n",
        "\n",
        "div.delimit {\n",
        "\tborder-top-width: thin;\n",
        "\tborder-top-style: dotted;\n",
        "}\n",
        "\n",
        "span.translation_verb{\n",
        "    color: Crimson;\n",
        "    font-weight: bold;\n",
        "}\n",
        "\n",
        "span.verb {\n",
        "    color: Crimson;\n",
        "}\n",
        "\n",
        "div.small {\n",
        "    font-size: xx-small;\t\n",
        "\tline-height: 95%;\n",
        "}\n",
        "\n",
        "</style>\n"
       ],
       "metadata": {},
       "output_type": "display_data",
       "text": [
        "<IPython.core.display.HTML at 0x3bd52d0>"
       ]
      }
     ],
     "prompt_number": 1
    },
    {
     "cell_type": "markdown",
     "metadata": {},
     "source": [
      "<div class=\"navigation\">\n",
      "Navigate to the <a href=\"Index.ipynb\">Index</a> or enter a Psalm of your choice: <form name=\"myform\"><input type=\"text\" name=\"psalm\"> <a href=\"javascript: read_input()\">Go to Psalm...</a></form>\n",
      "</div>\n",
      "<script type=\"text/javascript\">\n",
      "function read_input(){\n",
      "    psalm_number = document.myform.psalm.value\n",
      "    if (psalm_number < 1 || psalm_number > 150){\n",
      "        alert(\"You have provided an invalid Psalm number. Please choose one of the 150 available Psalms.\");\n",
      "    } else {    \n",
      "        var psalm = \"\";\n",
      "        if (psalm_number < 10){\n",
      "            psalm = \"Psalm00\" + psalm_number + \".ipynb\";\n",
      "        } else if (psalm_number < 100){\n",
      "            psalm = \"Psalm0\" + psalm_number + \".ipynb\";\n",
      "        } else {\n",
      "            psalm = \"Psalm\" + psalm_number + \".ipynb\";\n",
      "        }\n",
      "        window.open(psalm);\n",
      "    }\n",
      "}\n",
      "</script>"
     ]
    },
    {
     "cell_type": "heading",
     "level": 1,
     "metadata": {},
     "source": [
      "PSALM 128"
     ]
    },
    {
     "cell_type": "heading",
     "level": 2,
     "metadata": {},
     "source": [
      "1. Translation of Psalm 128"
     ]
    },
    {
     "cell_type": "code",
     "collapsed": false,
     "input": [
      "Psalms.print_translation(\"Input/psalmen128Raw.txt\")"
     ],
     "language": "python",
     "metadata": {},
     "outputs": [
      {
       "html": [
        "<table class=\"presentation\" id=\"Translation\"><tr><th></th><th><a href=\"HebrewText.ipynb\" target=\"_blank\">Hebrew text</a></th><th><a href=\"ClauseLabels.ipynb\" target=\"_blank\">ClTp</a></th><th><a href=\"Translation.ipynb\" target=\"_blank\">Translation</a></th></tr><tr><td>001</td><td class=\"unicode\" nowrap>&nbsp;&nbsp;&nbsp;&nbsp;&nbsp;&nbsp;&nbsp;&nbsp;&nbsp;&nbsp;&nbsp;&nbsp;&nbsp;&nbsp;&nbsp;&nbsp;&nbsp;&nbsp;&nbsp;&nbsp;&nbsp;&nbsp;&nbsp;&nbsp;&nbsp;&nbsp;&nbsp;&nbsp;&nbsp;&nbsp;&nbsp;&nbsp;&nbsp;&nbsp;&nbsp;&nbsp;&nbsp;&nbsp;&nbsp;&nbsp;&nbsp;&nbsp;&nbsp;&nbsp;&nbsp;&nbsp;&nbsp;&nbsp;&nbsp;&nbsp;&nbsp;&nbsp;&nbsp;&nbsp;&nbsp;&nbsp;&nbsp;&nbsp;&nbsp;&nbsp;&nbsp;&nbsp;&nbsp;[&lt;PC&gt;&nbsp;\u05e9\u05c1\u05d9\u05e8&nbsp;\u05d4-\u05de\u05e2\u05dc\u05d5\u05ea]&nbsp;&nbsp;&nbsp;</td><td style=\"font-family:Courier\">NmCl</td><td nowrap>&nbsp;this <span class=\"translation_verb\">is</span> the song of the ascents </td></tr><tr><td></td><td class=\"unicode\" nowrap>&nbsp;&nbsp;&nbsp;&nbsp;&nbsp;&nbsp;&nbsp;&nbsp;&nbsp;&nbsp;&nbsp;&nbsp;&nbsp;&nbsp;&nbsp;&nbsp;&nbsp;&nbsp;&nbsp;&nbsp;&nbsp;&nbsp;&nbsp;&nbsp;&nbsp;&nbsp;&nbsp;&nbsp;&nbsp;&nbsp;&nbsp;&nbsp;&nbsp;&nbsp;&nbsp;&nbsp;&nbsp;&nbsp;&nbsp;&nbsp;&nbsp;&nbsp;&nbsp;&nbsp;&nbsp;&nbsp;&nbsp;&nbsp;&nbsp;&nbsp;&nbsp;&nbsp;&nbsp;&nbsp;&nbsp;&nbsp;&nbsp;&nbsp;[&lt;PC&gt;&nbsp;\u05d0\u05e9\u05c1\u05e8\u05d9&nbsp;\u05db\u05dc&nbsp;\u05d9\u05e8\u05d0&nbsp;\u05d9\u05d4\u05d5\u05d4]&nbsp;&nbsp;&nbsp;</td><td style=\"font-family:Courier\">NmCl</td><td nowrap>&nbsp;these <span class=\"translation_verb\">are</span> the happinesses of all of the afraid one </td></tr><tr><td></td><td class=\"unicode\" nowrap>&nbsp;&nbsp;&nbsp;&nbsp;&nbsp;&nbsp;&nbsp;&nbsp;&nbsp;&nbsp;&nbsp;&nbsp;&nbsp;&nbsp;&nbsp;&nbsp;&nbsp;&nbsp;&nbsp;&nbsp;&nbsp;&nbsp;&nbsp;&nbsp;&nbsp;&nbsp;&nbsp;&nbsp;&nbsp;&nbsp;&nbsp;[&lt;Co&gt;&nbsp;\u05d1-\u05d3\u05e8\u05db\u05d9\u05d5]&nbsp;<span class=\"verb\">&nbsp;[&lt;PC&gt;&nbsp;\u05d4\u05dc\u05da]</span>&nbsp;&nbsp;[&lt;Re&gt;&nbsp;-\u05d4]&nbsp;&nbsp;&nbsp;&nbsp;|&nbsp;&nbsp;&nbsp;|&nbsp;&nbsp;&nbsp;|&nbsp;&nbsp;&nbsp;&nbsp;&nbsp;&nbsp;</td><td style=\"font-family:Courier\">Ptcp</td><td nowrap>&nbsp;&nbsp;&nbsp;&nbsp;&nbsp;&nbsp;|&nbsp;&nbsp;&nbsp;|&nbsp;&nbsp;&nbsp;|&nbsp;&nbsp;who/which <span class=\"translation_verb\">is</span> <span class=\"translation_verb\">walking</span> </td></tr><tr><td>002</td><td class=\"unicode\" nowrap>&nbsp;&nbsp;&nbsp;&nbsp;&nbsp;&nbsp;&nbsp;&nbsp;&nbsp;&nbsp;&nbsp;&nbsp;&nbsp;&nbsp;&nbsp;&nbsp;&nbsp;&nbsp;&nbsp;&nbsp;&nbsp;&nbsp;&nbsp;&nbsp;&nbsp;&nbsp;&nbsp;&nbsp;&nbsp;&nbsp;&nbsp;&nbsp;&nbsp;&nbsp;&nbsp;&nbsp;&nbsp;&nbsp;&nbsp;&nbsp;&nbsp;&nbsp;&nbsp;&nbsp;&nbsp;&nbsp;&nbsp;&nbsp;&nbsp;[&lt;Ob&gt;&nbsp;\u05d9\u05d2\u05d9\u05e2&nbsp;\u05db\u05e4\u05d9\u05da]&nbsp;&nbsp;&nbsp;&nbsp;|&nbsp;&nbsp;&nbsp;|&nbsp;&nbsp;&nbsp;|&nbsp;&nbsp;&nbsp;&nbsp;&nbsp;&nbsp;</td><td style=\"font-family:Courier\">XPos</td><td nowrap>&nbsp;&nbsp;&nbsp;&nbsp;&nbsp;&nbsp;|&nbsp;&nbsp;&nbsp;|&nbsp;&nbsp;&nbsp;|&nbsp;&nbsp;the toil of your palms </td></tr><tr><td></td><td class=\"unicode\" nowrap><span class=\"verb\">&nbsp;&nbsp;&nbsp;&nbsp;&nbsp;&nbsp;&nbsp;&nbsp;&nbsp;&nbsp;&nbsp;&nbsp;&nbsp;&nbsp;&nbsp;&nbsp;&nbsp;&nbsp;&nbsp;&nbsp;&nbsp;&nbsp;&nbsp;&nbsp;&nbsp;&nbsp;&nbsp;&nbsp;&nbsp;&nbsp;&nbsp;&nbsp;&nbsp;&nbsp;&nbsp;&nbsp;&nbsp;&nbsp;&nbsp;&nbsp;&nbsp;&nbsp;&nbsp;&nbsp;&nbsp;&nbsp;&nbsp;&nbsp;[&lt;Pr&gt;&nbsp;\u05ea\u05d0\u05db\u05dc]</span>&nbsp;&nbsp;[&lt;Cj&gt;&nbsp;\u05db\u05d9]&nbsp;&nbsp;&nbsp;&nbsp;|&nbsp;&nbsp;&nbsp;|&nbsp;&nbsp;&nbsp;&nbsp;&nbsp;&nbsp;</td><td style=\"font-family:Courier\">xYq0</td><td nowrap>&nbsp;&nbsp;&nbsp;&nbsp;&nbsp;&nbsp;|&nbsp;&nbsp;&nbsp;|&nbsp;&nbsp;given that you <span class=\"translation_verb\">eat</span> </td></tr><tr><td></td><td class=\"unicode\" nowrap>&nbsp;&nbsp;&nbsp;&nbsp;&nbsp;&nbsp;&nbsp;&nbsp;&nbsp;&nbsp;&nbsp;&nbsp;&nbsp;&nbsp;&nbsp;&nbsp;&nbsp;&nbsp;&nbsp;&nbsp;&nbsp;&nbsp;&nbsp;&nbsp;&nbsp;&nbsp;&nbsp;&nbsp;&nbsp;&nbsp;&nbsp;&nbsp;&nbsp;&nbsp;&nbsp;&nbsp;&nbsp;&nbsp;&nbsp;&nbsp;&nbsp;&nbsp;&nbsp;&nbsp;&nbsp;&nbsp;&nbsp;&nbsp;&nbsp;&nbsp;&nbsp;&nbsp;&nbsp;&nbsp;&nbsp;&nbsp;&nbsp;&nbsp;&nbsp;&nbsp;&nbsp;[&lt;PC&gt;&nbsp;\u05d0\u05e9\u05c1\u05e8\u05d9\u05da]&nbsp;&nbsp;&nbsp;&nbsp;|&nbsp;&nbsp;&nbsp;&nbsp;&nbsp;&nbsp;</td><td style=\"font-family:Courier\">NmCl</td><td nowrap>&nbsp;&nbsp;&nbsp;&nbsp;&nbsp;&nbsp;|&nbsp;&nbsp;these <span class=\"translation_verb\">are</span> your happinesses </td></tr><tr><td></td><td class=\"unicode\" nowrap>&nbsp;&nbsp;&nbsp;&nbsp;&nbsp;&nbsp;&nbsp;&nbsp;&nbsp;&nbsp;&nbsp;&nbsp;&nbsp;&nbsp;&nbsp;&nbsp;&nbsp;&nbsp;&nbsp;&nbsp;&nbsp;&nbsp;&nbsp;&nbsp;&nbsp;&nbsp;&nbsp;&nbsp;[&lt;Co&gt;&nbsp;\u05dc\u05da]&nbsp;<span class=\"verb\">&nbsp;[&lt;Pr&gt;&nbsp;\u05d8\u05d5\u05d1]</span>&nbsp;&nbsp;[&lt;Cj&gt;&nbsp;-\u05d5]&nbsp;&nbsp;&nbsp;&nbsp;|&nbsp;&nbsp;&nbsp;|&nbsp;&nbsp;&nbsp;|&nbsp;&nbsp;&nbsp;&nbsp;&nbsp;&nbsp;&nbsp;|&nbsp;&nbsp;&nbsp;&nbsp;&nbsp;&nbsp;</td><td style=\"font-family:Courier\">WQt0</td><td nowrap>&nbsp;&nbsp;&nbsp;&nbsp;&nbsp;&nbsp;|&nbsp;&nbsp;&nbsp;&nbsp;&nbsp;&nbsp;&nbsp;|&nbsp;&nbsp;&nbsp;|&nbsp;&nbsp;&nbsp;|&nbsp;&nbsp;then he <span class=\"translation_verb\">will</span> <span class=\"translation_verb\">be</span> <span class=\"translation_verb\">good</span> </td></tr><tr><td>003</td><td class=\"unicode\" nowrap>&nbsp;&nbsp;&nbsp;&nbsp;&nbsp;&nbsp;&nbsp;&nbsp;&nbsp;&nbsp;&nbsp;&nbsp;&nbsp;[&lt;sp&gt;&lt;PC&gt;&nbsp;\u05db-\u05d2\u05e4\u05df&nbsp;\u05e4\u05e8\u05d9\u05d4&nbsp;/&nbsp;\u05d1-\u05d9\u05e8\u05db\u05ea\u05d9&nbsp;\u05d1\u05d9\u05ea\u05da]&nbsp;&nbsp;[&lt;Su&gt;&nbsp;\u05d0\u05e9\u05c1\u05ea\u05da]&nbsp;&nbsp;&nbsp;&nbsp;|&nbsp;&nbsp;&nbsp;|&nbsp;&nbsp;&nbsp;&nbsp;&nbsp;&nbsp;&nbsp;|&nbsp;&nbsp;&nbsp;&nbsp;&nbsp;&nbsp;</td><td style=\"font-family:Courier\">NmCl</td><td nowrap>&nbsp;&nbsp;&nbsp;&nbsp;&nbsp;&nbsp;|&nbsp;&nbsp;&nbsp;&nbsp;&nbsp;&nbsp;&nbsp;|&nbsp;&nbsp;&nbsp;|&nbsp;&nbsp;your woman <span class=\"translation_verb\">is</span> as a vine </td></tr><tr><td></td><td class=\"unicode\" nowrap>[&lt;sp&gt;&lt;Aj&gt;&nbsp;\u05e1\u05d1\u05d9\u05d1&nbsp;/&nbsp;\u05dc-\u05e9\u05c1\u05dc\u05d7\u05e0\u05da]&nbsp;&nbsp;[&lt;PC&gt;&nbsp;\u05db-\u05e9\u05c1\u05ea\u05dc\u05d9&nbsp;\u05d6\u05d9\u05ea\u05d9\u05dd]&nbsp;&nbsp;[&lt;Su&gt;&nbsp;\u05d1\u05e0\u05d9\u05da]&nbsp;&nbsp;&nbsp;&nbsp;&nbsp;&nbsp;&nbsp;&nbsp;|&nbsp;&nbsp;&nbsp;|&nbsp;&nbsp;&nbsp;&nbsp;&nbsp;&nbsp;&nbsp;|&nbsp;&nbsp;&nbsp;&nbsp;&nbsp;&nbsp;</td><td style=\"font-family:Courier\">NmCl</td><td nowrap>&nbsp;&nbsp;&nbsp;&nbsp;&nbsp;&nbsp;|&nbsp;&nbsp;&nbsp;&nbsp;&nbsp;&nbsp;&nbsp;|&nbsp;&nbsp;&nbsp;|&nbsp;&nbsp;&nbsp;&nbsp;&nbsp;&nbsp;your sons <span class=\"translation_verb\">are</span> as layers of olives </td></tr><tr><td>004</td><td class=\"unicode\" nowrap>&nbsp;&nbsp;&nbsp;&nbsp;&nbsp;&nbsp;&nbsp;&nbsp;&nbsp;&nbsp;&nbsp;&nbsp;&nbsp;&nbsp;&nbsp;&nbsp;&nbsp;&nbsp;&nbsp;&nbsp;&nbsp;&nbsp;&nbsp;&nbsp;&nbsp;&nbsp;&nbsp;&nbsp;&nbsp;&nbsp;&nbsp;&nbsp;&nbsp;&nbsp;&nbsp;&nbsp;&nbsp;&nbsp;&nbsp;&nbsp;&nbsp;&nbsp;&nbsp;&nbsp;&nbsp;&nbsp;&nbsp;&nbsp;&nbsp;&nbsp;&nbsp;&nbsp;&nbsp;&nbsp;&nbsp;[&lt;Ij&gt;&nbsp;\u05d4\u05e0\u05d4]&nbsp;&nbsp;&nbsp;&nbsp;|&nbsp;&nbsp;&nbsp;&nbsp;&nbsp;&nbsp;&nbsp;|&nbsp;&nbsp;&nbsp;&nbsp;&nbsp;&nbsp;</td><td style=\"font-family:Courier\">MSyn</td><td nowrap>&nbsp;&nbsp;&nbsp;&nbsp;&nbsp;&nbsp;|&nbsp;&nbsp;&nbsp;&nbsp;&nbsp;&nbsp;&nbsp;|&nbsp;&nbsp;behold </td></tr><tr><td></td><td class=\"unicode\" nowrap>&nbsp;&nbsp;&nbsp;&nbsp;[&lt;sp&gt;&lt;Su&gt;&nbsp;\u05d2\u05d1\u05e8&nbsp;/&nbsp;\u05d9\u05e8\u05d0&nbsp;\u05d9\u05d4\u05d5\u05d4]&nbsp;<span class=\"verb\">&nbsp;[&lt;Pr&gt;&nbsp;\u05d9\u05d1\u05e8\u05da]</span>&nbsp;&nbsp;[&lt;Mo&gt;&nbsp;\u05db\u05df]&nbsp;&nbsp;[&lt;Cj&gt;&nbsp;\u05db\u05d9]&nbsp;&nbsp;&nbsp;&nbsp;&nbsp;&nbsp;&nbsp;&nbsp;|&nbsp;&nbsp;&nbsp;&nbsp;&nbsp;&nbsp;&nbsp;|&nbsp;&nbsp;&nbsp;&nbsp;&nbsp;&nbsp;</td><td style=\"font-family:Courier\">xYqX</td><td nowrap>&nbsp;&nbsp;&nbsp;&nbsp;&nbsp;&nbsp;|&nbsp;&nbsp;&nbsp;&nbsp;&nbsp;&nbsp;&nbsp;|&nbsp;&nbsp;&nbsp;&nbsp;&nbsp;&nbsp;given that a vigorous man <span class=\"translation_verb\">is</span> <span class=\"translation_verb\">blessed</span> </td></tr><tr><td>005</td><td class=\"unicode\" nowrap>&nbsp;&nbsp;&nbsp;&nbsp;&nbsp;&nbsp;&nbsp;&nbsp;&nbsp;&nbsp;&nbsp;&nbsp;&nbsp;&nbsp;&nbsp;&nbsp;&nbsp;&nbsp;&nbsp;&nbsp;&nbsp;&nbsp;&nbsp;&nbsp;&nbsp;&nbsp;&nbsp;&nbsp;&nbsp;&nbsp;&nbsp;[&lt;Aj&gt;&nbsp;\u05de-\u05e6\u05d9\u05d5\u05df]&nbsp;&nbsp;[&lt;Su&gt;&nbsp;\u05d9\u05d4\u05d5\u05d4]&nbsp;<span class=\"verb\">&nbsp;[&lt;PO&gt;&nbsp;\u05d9\u05d1\u05e8\u05db\u05da]</span>&nbsp;&nbsp;&nbsp;&nbsp;&nbsp;&nbsp;&nbsp;&nbsp;|&nbsp;&nbsp;&nbsp;&nbsp;&nbsp;&nbsp;</td><td style=\"font-family:Courier\">ZYqX</td><td nowrap>&nbsp;&nbsp;&nbsp;&nbsp;&nbsp;&nbsp;|&nbsp;&nbsp;&nbsp;&nbsp;&nbsp;&nbsp;<span class=\"translation_verb\">let</span> YHWH <span class=\"translation_verb\">bless</span> you </td></tr><tr><td></td><td class=\"unicode\" nowrap>&nbsp;&nbsp;&nbsp;&nbsp;&nbsp;&nbsp;&nbsp;[&lt;Ti&gt;&nbsp;\u05db\u05dc&nbsp;\u05d9\u05de\u05d9&nbsp;\u05d7\u05d9\u05d9\u05da]&nbsp;&nbsp;[&lt;Co&gt;&nbsp;\u05d1-\u05d8\u05d5\u05d1&nbsp;\u05d9\u05e8\u05d5\u05e9\u05c1\u05dc\u05dd]&nbsp;<span class=\"verb\">&nbsp;[&lt;Pr&gt;&nbsp;\u05e8\u05d0\u05d4]</span>&nbsp;&nbsp;[&lt;Cj&gt;&nbsp;-\u05d5]&nbsp;&nbsp;&nbsp;&nbsp;&nbsp;&nbsp;&nbsp;&nbsp;&nbsp;&nbsp;&nbsp;&nbsp;|&nbsp;&nbsp;&nbsp;&nbsp;&nbsp;&nbsp;</td><td style=\"font-family:Courier\">WIm0</td><td nowrap>&nbsp;&nbsp;&nbsp;&nbsp;&nbsp;&nbsp;|&nbsp;&nbsp;&nbsp;&nbsp;&nbsp;&nbsp;&nbsp;&nbsp;&nbsp;&nbsp;and <span class=\"translation_verb\">see</span>! </td></tr><tr><td>006</td><td class=\"unicode\" nowrap>&nbsp;&nbsp;&nbsp;&nbsp;&nbsp;&nbsp;&nbsp;&nbsp;&nbsp;&nbsp;&nbsp;&nbsp;&nbsp;&nbsp;&nbsp;&nbsp;&nbsp;&nbsp;&nbsp;&nbsp;&nbsp;[&lt;sp&gt;&lt;Ob&gt;&nbsp;\u05d1\u05e0\u05d9\u05dd&nbsp;/&nbsp;\u05dc-\u05d1\u05e0\u05d9\u05da]&nbsp;<span class=\"verb\">&nbsp;[&lt;Pr&gt;&nbsp;\u05e8\u05d0\u05d4]</span>&nbsp;&nbsp;[&lt;Cj&gt;&nbsp;-\u05d5]&nbsp;&nbsp;&nbsp;&nbsp;&nbsp;&nbsp;&nbsp;&nbsp;&nbsp;&nbsp;&nbsp;&nbsp;|&nbsp;&nbsp;&nbsp;&nbsp;&nbsp;&nbsp;</td><td style=\"font-family:Courier\">WIm0</td><td nowrap>&nbsp;&nbsp;&nbsp;&nbsp;&nbsp;&nbsp;|&nbsp;&nbsp;&nbsp;&nbsp;&nbsp;&nbsp;&nbsp;&nbsp;&nbsp;&nbsp;and <span class=\"translation_verb\">see</span> sons! </td></tr><tr><td></td><td class=\"unicode\" nowrap>&nbsp;&nbsp;&nbsp;&nbsp;&nbsp;&nbsp;&nbsp;&nbsp;&nbsp;&nbsp;&nbsp;&nbsp;&nbsp;&nbsp;&nbsp;&nbsp;&nbsp;&nbsp;&nbsp;&nbsp;&nbsp;&nbsp;&nbsp;&nbsp;&nbsp;&nbsp;&nbsp;&nbsp;&nbsp;&nbsp;&nbsp;&nbsp;&nbsp;&nbsp;&nbsp;&nbsp;&nbsp;&nbsp;&nbsp;&nbsp;&nbsp;&nbsp;&nbsp;&nbsp;&nbsp;&nbsp;&nbsp;&nbsp;&nbsp;&nbsp;[&lt;PC&gt;&nbsp;\u05e2\u05dc&nbsp;\u05d9\u05e9\u05c2\u05e8\u05d0\u05dc]&nbsp;&nbsp;[&lt;Su&gt;&nbsp;\u05e9\u05c1\u05dc\u05d5\u05dd]&nbsp;&nbsp;&nbsp;&nbsp;&nbsp;&nbsp;&nbsp;</td><td style=\"font-family:Courier\">NmCl</td><td nowrap>&nbsp;&nbsp;&nbsp;&nbsp;&nbsp;peace <span class=\"translation_verb\">is</span> upon Israel </td></tr></table>"
       ],
       "metadata": {},
       "output_type": "display_data",
       "text": [
        "<IPython.core.display.HTML at 0x3bd5eb0>"
       ]
      }
     ],
     "prompt_number": 2
    },
    {
     "cell_type": "heading",
     "level": 2,
     "metadata": {},
     "source": [
      "2. Analysis of Psalm 128"
     ]
    },
    {
     "cell_type": "code",
     "collapsed": false,
     "input": [
      "Psalms.print_analysis(\"Input/psalmen128Raw.txt\")"
     ],
     "language": "python",
     "metadata": {},
     "outputs": [
      {
       "html": [
        "<table class=\"presentation\" id=\"Analysis\"><tr><th>Vs</th><th>Ln</th><th nowrap><a href=\"HebrewText.ipynb\" target=\"_blank\">Hebrew text</a><br><div class=\"small\">(mouse-over for <a href=\"Translation.ipynb\" target=\"_blank\">Translation)</a></div></th><th nowrap><a href=\"ClauseLabels.ipynb\" target=\"_blank\">ClTp</a><br><div class=\"small\">(mouse-over<br>for<br><a href=\"DefaultDiscourseFunctions.ipynb\" target=\"_blank\">DefDiscFu)</a></div></th><th><a href=\"DefaultFunctions.ipynb\" target=\"_blank\">DefFu</a></th><th><a href=\"Processes.ipynb\" target=\"_blank\">Processes</a><br><div class=\"small\">(hover over<br>\"!\"-sign)</div></th><th><a href=\"FinalFunctions.ipynb\" target=\"_blank\">FinFu</a></th><th><a href=\"MDModifier.ipynb\" target=\"_blank\">MDMod</a></th><th><a href=\"CCR.ipynb\" target=\"_blank\">CCR</a></th><th><a href=\"DiscourseFunctions.ipynb\" target=\"_blank\">DiscFu</a></th><th><a href=\"ConcordanceOfPatterns.ipynb\" target=\"_blank\">#Pat</a></th></tr><tr id=\"ln1\"><td>001</td><td>1</td><td class=\"unicode\" nowrap><div class=\"front_hebrew\">&nbsp;&nbsp;&nbsp;&nbsp;&nbsp;&nbsp;&nbsp;&nbsp;&nbsp;&nbsp;&nbsp;&nbsp;&nbsp;&nbsp;&nbsp;&nbsp;&nbsp;&nbsp;&nbsp;&nbsp;&nbsp;&nbsp;&nbsp;&nbsp;&nbsp;&nbsp;&nbsp;&nbsp;&nbsp;&nbsp;&nbsp;&nbsp;&nbsp;&nbsp;&nbsp;&nbsp;&nbsp;&nbsp;&nbsp;&nbsp;&nbsp;&nbsp;&nbsp;&nbsp;&nbsp;&nbsp;&nbsp;&nbsp;&nbsp;&nbsp;&nbsp;&nbsp;&nbsp;&nbsp;&nbsp;&nbsp;&nbsp;&nbsp;&nbsp;&nbsp;&nbsp;&nbsp;&nbsp;[&lt;PC&gt;&nbsp;\u05e9\u05c1\u05d9\u05e8&nbsp;\u05d4-\u05de\u05e2\u05dc\u05d5\u05ea]&nbsp;&nbsp;<div class=\"translation\">this <span class=\"translation_verb\">is</span> the song of the ascents </div></div></td><td><div class=\"front\">NmCl<div class=\"def_disc\">disc-main</div></div></td><td><div class=\"left\">nomin.</div></td><td>  </td><td><div class=\"right\">nomin.</div></td><td class=\"unicode\"></td><td></td><td>(re)openMain</td><td>&nbsp;</td></tr><tr id=\"ln2\"><td>001</td><td>2</td><td class=\"unicode\" nowrap><div class=\"front_hebrew\">&nbsp;&nbsp;&nbsp;&nbsp;&nbsp;&nbsp;&nbsp;&nbsp;&nbsp;&nbsp;&nbsp;&nbsp;&nbsp;&nbsp;&nbsp;&nbsp;&nbsp;&nbsp;&nbsp;&nbsp;&nbsp;&nbsp;&nbsp;&nbsp;&nbsp;&nbsp;&nbsp;&nbsp;&nbsp;&nbsp;&nbsp;&nbsp;&nbsp;&nbsp;&nbsp;&nbsp;&nbsp;&nbsp;&nbsp;&nbsp;&nbsp;&nbsp;&nbsp;&nbsp;&nbsp;&nbsp;&nbsp;&nbsp;&nbsp;&nbsp;&nbsp;&nbsp;&nbsp;&nbsp;&nbsp;&nbsp;&nbsp;&nbsp;[&lt;PC&gt;&nbsp;\u05d0\u05e9\u05c1\u05e8\u05d9&nbsp;\u05db\u05dc&nbsp;\u05d9\u05e8\u05d0&nbsp;\u05d9\u05d4\u05d5\u05d4]&nbsp;&nbsp;<div class=\"translation\">these <span class=\"translation_verb\">are</span> the happinesses of all of the afraid one </div></div></td><td><div class=\"front\">NmCl<div class=\"def_disc\">disc-main</div></div></td><td><div class=\"left\">nomin.</div></td><td>  </td><td><div class=\"right\">nomin.</div></td><td class=\"unicode\"></td><td></td><td>opnDrSpMain</td><td>&nbsp;</td></tr><tr id=\"ln3\"><td>001</td><td>3</td><td class=\"unicode\" nowrap><div class=\"front_hebrew\">&nbsp;&nbsp;&nbsp;&nbsp;&nbsp;&nbsp;&nbsp;&nbsp;&nbsp;&nbsp;&nbsp;&nbsp;&nbsp;&nbsp;&nbsp;&nbsp;&nbsp;&nbsp;&nbsp;&nbsp;&nbsp;&nbsp;&nbsp;&nbsp;&nbsp;&nbsp;&nbsp;&nbsp;&nbsp;&nbsp;&nbsp;[&lt;Co&gt;&nbsp;\u05d1-\u05d3\u05e8\u05db\u05d9\u05d5]&nbsp;[&lt;PC&gt;&nbsp;\u05d4\u05dc\u05da]&nbsp;[&lt;Re&gt;&nbsp;-\u05d4]&nbsp;&nbsp;&nbsp;|&nbsp;&nbsp;&nbsp;|&nbsp;&nbsp;&nbsp;|&nbsp;&nbsp;&nbsp;&nbsp;&nbsp;&nbsp;<div class=\"translation\">who/which <span class=\"translation_verb\">is</span> <span class=\"translation_verb\">walking</span> </div></div></td><td><div class=\"front\">Ptcp<div class=\"def_disc\">disc-main</div></div></td><td><div class=\"left\">ind.</div></td><td>  </td><td><div class=\"right\">ind.</div></td><td class=\"unicode\"></td><td>Attr</td><td>opnAttrMain</td><td><a href=\"ConcordanceOfPatterns.ipynb#1643\" target=\"_blank\">1643</a></td></tr><tr id=\"ln4\"><td>002</td><td>4</td><td class=\"unicode\" nowrap><div class=\"front_hebrew\">&nbsp;&nbsp;&nbsp;&nbsp;&nbsp;&nbsp;&nbsp;&nbsp;&nbsp;&nbsp;&nbsp;&nbsp;&nbsp;&nbsp;&nbsp;&nbsp;&nbsp;&nbsp;&nbsp;&nbsp;&nbsp;&nbsp;&nbsp;&nbsp;&nbsp;&nbsp;&nbsp;&nbsp;&nbsp;&nbsp;&nbsp;&nbsp;&nbsp;&nbsp;&nbsp;&nbsp;&nbsp;&nbsp;&nbsp;&nbsp;&nbsp;&nbsp;&nbsp;&nbsp;&nbsp;&nbsp;&nbsp;&nbsp;&nbsp;[&lt;Ob&gt;&nbsp;\u05d9\u05d2\u05d9\u05e2&nbsp;\u05db\u05e4\u05d9\u05da]&nbsp;&nbsp;&nbsp;|&nbsp;&nbsp;&nbsp;|&nbsp;&nbsp;&nbsp;|&nbsp;&nbsp;&nbsp;&nbsp;&nbsp;&nbsp;<div class=\"translation\">the toil of your palms </div></div></td><td><div class=\"front\">XPos<div class=\"def_disc\"></div></div></td><td><div class=\"left\">-</div></td><td>  </td><td><div class=\"right\">-</div></td><td class=\"unicode\"></td><td></td><td></td><td>&nbsp;</td></tr><tr id=\"ln5\"><td>002</td><td>5</td><td class=\"unicode\" nowrap><div class=\"front_hebrew\">&nbsp;&nbsp;&nbsp;&nbsp;&nbsp;&nbsp;&nbsp;&nbsp;&nbsp;&nbsp;&nbsp;&nbsp;&nbsp;&nbsp;&nbsp;&nbsp;&nbsp;&nbsp;&nbsp;&nbsp;&nbsp;&nbsp;&nbsp;&nbsp;&nbsp;&nbsp;&nbsp;&nbsp;&nbsp;&nbsp;&nbsp;&nbsp;&nbsp;&nbsp;&nbsp;&nbsp;&nbsp;&nbsp;&nbsp;&nbsp;&nbsp;&nbsp;&nbsp;&nbsp;&nbsp;&nbsp;&nbsp;&nbsp;[&lt;Pr&gt;&nbsp;\u05ea\u05d0\u05db\u05dc]&nbsp;[&lt;Cj&gt;&nbsp;\u05db\u05d9]&nbsp;&nbsp;&nbsp;|&nbsp;&nbsp;&nbsp;|&nbsp;&nbsp;&nbsp;&nbsp;&nbsp;&nbsp;<div class=\"translation\">given that you <span class=\"translation_verb\">eat</span> </div></div></td><td><div class=\"front\">xYq0<div class=\"def_disc\">disc-main-zero</div></div></td><td><div class=\"left\">non-vol.</div></td><td>  </td><td><div class=\"right\">non-vol.</div></td><td class=\"unicode\"></td><td></td><td>opnSbLnMain</td><td><a href=\"ConcordanceOfPatterns.ipynb#653\" target=\"_blank\">653</a></td></tr><tr id=\"ln6\"><td>002</td><td>6</td><td class=\"unicode\" nowrap><div class=\"front_hebrew\">&nbsp;&nbsp;&nbsp;&nbsp;&nbsp;&nbsp;&nbsp;&nbsp;&nbsp;&nbsp;&nbsp;&nbsp;&nbsp;&nbsp;&nbsp;&nbsp;&nbsp;&nbsp;&nbsp;&nbsp;&nbsp;&nbsp;&nbsp;&nbsp;&nbsp;&nbsp;&nbsp;&nbsp;&nbsp;&nbsp;&nbsp;&nbsp;&nbsp;&nbsp;&nbsp;&nbsp;&nbsp;&nbsp;&nbsp;&nbsp;&nbsp;&nbsp;&nbsp;&nbsp;&nbsp;&nbsp;&nbsp;&nbsp;&nbsp;&nbsp;&nbsp;&nbsp;&nbsp;&nbsp;&nbsp;&nbsp;&nbsp;&nbsp;&nbsp;&nbsp;&nbsp;[&lt;PC&gt;&nbsp;\u05d0\u05e9\u05c1\u05e8\u05d9\u05da]&nbsp;&nbsp;&nbsp;|&nbsp;&nbsp;&nbsp;&nbsp;&nbsp;&nbsp;<div class=\"translation\">these <span class=\"translation_verb\">are</span> your happinesses </div></div></td><td><div class=\"front\">NmCl<div class=\"def_disc\">disc-main</div></div></td><td><div class=\"left\">nomin.</div></td><td>  </td><td><div class=\"right\">nomin.</div></td><td class=\"unicode\"></td><td></td><td>(re)openMain</td><td>&nbsp;</td></tr><tr id=\"ln7\"><td>002</td><td>7</td><td class=\"unicode\" nowrap><div class=\"front_hebrew\">&nbsp;&nbsp;&nbsp;&nbsp;&nbsp;&nbsp;&nbsp;&nbsp;&nbsp;&nbsp;&nbsp;&nbsp;&nbsp;&nbsp;&nbsp;&nbsp;&nbsp;&nbsp;&nbsp;&nbsp;&nbsp;&nbsp;&nbsp;&nbsp;&nbsp;&nbsp;&nbsp;&nbsp;[&lt;Co&gt;&nbsp;\u05dc\u05da]&nbsp;[&lt;Pr&gt;&nbsp;\u05d8\u05d5\u05d1]&nbsp;[&lt;Cj&gt;&nbsp;-\u05d5]&nbsp;&nbsp;&nbsp;|&nbsp;&nbsp;&nbsp;|&nbsp;&nbsp;&nbsp;|&nbsp;&nbsp;&nbsp;&nbsp;&nbsp;&nbsp;&nbsp;|&nbsp;&nbsp;&nbsp;&nbsp;&nbsp;&nbsp;<div class=\"translation\">then he <span class=\"translation_verb\">will</span> <span class=\"translation_verb\">be</span> <span class=\"translation_verb\">good</span> </div></div></td><td><div class=\"front\">WQt0<div class=\"def_disc\">disc-2nd-forwd</div></div></td><td><div class=\"left\">non-vol.</div></td><td>  </td><td><div class=\"right\">non-vol.</div></td><td class=\"unicode\"></td><td></td><td>opn2ndF</td><td><a href=\"ConcordanceOfPatterns.ipynb#1552\" target=\"_blank\">1552</a></td></tr><tr id=\"ln8\"><td>003</td><td>8</td><td class=\"unicode\" nowrap><div class=\"front_hebrew\">&nbsp;&nbsp;&nbsp;&nbsp;&nbsp;&nbsp;&nbsp;&nbsp;&nbsp;&nbsp;&nbsp;&nbsp;&nbsp;[&lt;sp&gt;&lt;PC&gt;&nbsp;\u05db-\u05d2\u05e4\u05df&nbsp;\u05e4\u05e8\u05d9\u05d4&nbsp;/&nbsp;\u05d1-\u05d9\u05e8\u05db\u05ea\u05d9&nbsp;\u05d1\u05d9\u05ea\u05da]&nbsp;[&lt;Su&gt;&nbsp;\u05d0\u05e9\u05c1\u05ea\u05da]&nbsp;&nbsp;&nbsp;|&nbsp;&nbsp;&nbsp;|&nbsp;&nbsp;&nbsp;&nbsp;&nbsp;&nbsp;&nbsp;|&nbsp;&nbsp;&nbsp;&nbsp;&nbsp;&nbsp;<div class=\"translation\">your woman <span class=\"translation_verb\">is</span> as a vine </div></div></td><td><div class=\"front\">NmCl<div class=\"def_disc\">disc-main</div></div></td><td><div class=\"left\">nomin.</div></td><td>  </td><td><div class=\"right\">nomin.</div></td><td class=\"unicode\"></td><td></td><td>cntMain</td><td><a href=\"ConcordanceOfPatterns.ipynb#1732\" target=\"_blank\">1732</a></td></tr><tr id=\"ln9\"><td>003</td><td>9</td><td class=\"unicode\" nowrap><div class=\"front_hebrew\">[&lt;sp&gt;&lt;Aj&gt;&nbsp;\u05e1\u05d1\u05d9\u05d1&nbsp;/&nbsp;\u05dc-\u05e9\u05c1\u05dc\u05d7\u05e0\u05da]&nbsp;[&lt;PC&gt;&nbsp;\u05db-\u05e9\u05c1\u05ea\u05dc\u05d9&nbsp;\u05d6\u05d9\u05ea\u05d9\u05dd]&nbsp;[&lt;Su&gt;&nbsp;\u05d1\u05e0\u05d9\u05da]&nbsp;&nbsp;&nbsp;&nbsp;&nbsp;&nbsp;&nbsp;|&nbsp;&nbsp;&nbsp;|&nbsp;&nbsp;&nbsp;&nbsp;&nbsp;&nbsp;&nbsp;|&nbsp;&nbsp;&nbsp;&nbsp;&nbsp;&nbsp;<div class=\"translation\">your sons <span class=\"translation_verb\">are</span> as layers of olives </div></div></td><td><div class=\"front\">NmCl<div class=\"def_disc\">disc-main</div></div></td><td><div class=\"left\">nomin.</div></td><td>  </td><td><div class=\"right\">nomin.</div></td><td class=\"unicode\"></td><td></td><td>cntMain</td><td><a href=\"ConcordanceOfPatterns.ipynb#1732\" target=\"_blank\">1732</a></td></tr><tr id=\"ln10\"><td>004</td><td>10</td><td class=\"unicode\" nowrap><div class=\"front_hebrew\">&nbsp;&nbsp;&nbsp;&nbsp;&nbsp;&nbsp;&nbsp;&nbsp;&nbsp;&nbsp;&nbsp;&nbsp;&nbsp;&nbsp;&nbsp;&nbsp;&nbsp;&nbsp;&nbsp;&nbsp;&nbsp;&nbsp;&nbsp;&nbsp;&nbsp;&nbsp;&nbsp;&nbsp;&nbsp;&nbsp;&nbsp;&nbsp;&nbsp;&nbsp;&nbsp;&nbsp;&nbsp;&nbsp;&nbsp;&nbsp;&nbsp;&nbsp;&nbsp;&nbsp;&nbsp;&nbsp;&nbsp;&nbsp;&nbsp;&nbsp;&nbsp;&nbsp;&nbsp;&nbsp;&nbsp;[&lt;Ij&gt;&nbsp;\u05d4\u05e0\u05d4]&nbsp;&nbsp;&nbsp;|&nbsp;&nbsp;&nbsp;&nbsp;&nbsp;&nbsp;&nbsp;|&nbsp;&nbsp;&nbsp;&nbsp;&nbsp;&nbsp;<div class=\"translation\">behold </div></div></td><td><div class=\"front\">MSyn<div class=\"def_disc\">disc-MAIN;<br>The clause contains or inherits the mainline anchor \u05d4\u05e0\u05d4.</div></div></td><td><div class=\"left\">-</div></td><td>  </td><td><div class=\"right\">-</div></td><td class=\"unicode\"></td><td></td><td></td><td>&nbsp;</td></tr><tr id=\"ln11\"><td>004</td><td>11</td><td class=\"unicode\" nowrap><div class=\"front_hebrew\">&nbsp;&nbsp;&nbsp;&nbsp;[&lt;sp&gt;&lt;Su&gt;&nbsp;\u05d2\u05d1\u05e8&nbsp;/&nbsp;\u05d9\u05e8\u05d0&nbsp;\u05d9\u05d4\u05d5\u05d4]&nbsp;[&lt;Pr&gt;&nbsp;\u05d9\u05d1\u05e8\u05da]&nbsp;[&lt;Mo&gt;&nbsp;\u05db\u05df]&nbsp;[&lt;Cj&gt;&nbsp;\u05db\u05d9]&nbsp;&nbsp;&nbsp;&nbsp;&nbsp;&nbsp;&nbsp;|&nbsp;&nbsp;&nbsp;&nbsp;&nbsp;&nbsp;&nbsp;|&nbsp;&nbsp;&nbsp;&nbsp;&nbsp;&nbsp;<div class=\"translation\">given that a vigorous man <span class=\"translation_verb\">is</span> <span class=\"translation_verb\">blessed</span> </div></div></td><td><div class=\"front\">xYqX<div class=\"def_disc\">disc-main-zero</div></div></td><td><div class=\"left\">non-vol.</div></td><td>  </td><td><div class=\"right\">non-vol.</div></td><td class=\"unicode\"></td><td></td><td>opnSbLnMain</td><td>&nbsp;</td></tr><tr id=\"ln12\"><td>005</td><td>12</td><td class=\"unicode\" nowrap><div class=\"front_hebrew\">&nbsp;&nbsp;&nbsp;&nbsp;&nbsp;&nbsp;&nbsp;&nbsp;&nbsp;&nbsp;&nbsp;&nbsp;&nbsp;&nbsp;&nbsp;&nbsp;&nbsp;&nbsp;&nbsp;&nbsp;&nbsp;&nbsp;&nbsp;&nbsp;&nbsp;&nbsp;&nbsp;&nbsp;&nbsp;&nbsp;&nbsp;[&lt;Aj&gt;&nbsp;\u05de-\u05e6\u05d9\u05d5\u05df]&nbsp;[&lt;Su&gt;&nbsp;\u05d9\u05d4\u05d5\u05d4]&nbsp;[&lt;PO&gt;&nbsp;\u05d9\u05d1\u05e8\u05db\u05da]&nbsp;&nbsp;&nbsp;&nbsp;&nbsp;&nbsp;&nbsp;|&nbsp;&nbsp;&nbsp;&nbsp;&nbsp;&nbsp;<div class=\"translation\"><span class=\"translation_verb\">let</span> YHWH <span class=\"translation_verb\">bless</span> you </div></div></td><td><div class=\"front\">ZYqX<div class=\"def_disc\">disc-main-zero</div></div></td><td><div class=\"left\">volit.</div></td><td>  </td><td><div class=\"right\">volit.</div></td><td class=\"unicode\"></td><td></td><td>cntMain</td><td><a href=\"ConcordanceOfPatterns.ipynb#202\" target=\"_blank\">202</a></td></tr><tr id=\"ln13\"><td>005</td><td>13</td><td class=\"unicode\" nowrap><div class=\"front_hebrew\">&nbsp;&nbsp;&nbsp;&nbsp;&nbsp;&nbsp;&nbsp;[&lt;Ti&gt;&nbsp;\u05db\u05dc&nbsp;\u05d9\u05de\u05d9&nbsp;\u05d7\u05d9\u05d9\u05da]&nbsp;[&lt;Co&gt;&nbsp;\u05d1-\u05d8\u05d5\u05d1&nbsp;\u05d9\u05e8\u05d5\u05e9\u05c1\u05dc\u05dd]&nbsp;[&lt;Pr&gt;&nbsp;\u05e8\u05d0\u05d4]&nbsp;[&lt;Cj&gt;&nbsp;-\u05d5]&nbsp;&nbsp;&nbsp;&nbsp;&nbsp;&nbsp;&nbsp;&nbsp;&nbsp;&nbsp;&nbsp;|&nbsp;&nbsp;&nbsp;&nbsp;&nbsp;&nbsp;<div class=\"translation\">and <span class=\"translation_verb\">see</span>! </div></div></td><td><div class=\"front\">WIm0<div class=\"def_disc\">disc-main-zero</div></div></td><td><div class=\"left\">imperat.</div></td><td>  </td><td><div class=\"right\">imperat.</div></td><td class=\"unicode\"></td><td></td><td>cntMain</td><td><a href=\"ConcordanceOfPatterns.ipynb#22\" target=\"_blank\">22</a></td></tr><tr id=\"ln14\"><td>006</td><td>14</td><td class=\"unicode\" nowrap><div class=\"front_hebrew\">&nbsp;&nbsp;&nbsp;&nbsp;&nbsp;&nbsp;&nbsp;&nbsp;&nbsp;&nbsp;&nbsp;&nbsp;&nbsp;&nbsp;&nbsp;&nbsp;&nbsp;&nbsp;&nbsp;&nbsp;&nbsp;[&lt;sp&gt;&lt;Ob&gt;&nbsp;\u05d1\u05e0\u05d9\u05dd&nbsp;/&nbsp;\u05dc-\u05d1\u05e0\u05d9\u05da]&nbsp;[&lt;Pr&gt;&nbsp;\u05e8\u05d0\u05d4]&nbsp;[&lt;Cj&gt;&nbsp;-\u05d5]&nbsp;&nbsp;&nbsp;&nbsp;&nbsp;&nbsp;&nbsp;&nbsp;&nbsp;&nbsp;&nbsp;|&nbsp;&nbsp;&nbsp;&nbsp;&nbsp;&nbsp;<div class=\"translation\">and <span class=\"translation_verb\">see</span> sons! </div></div></td><td><div class=\"front\">WIm0<div class=\"def_disc\">disc-main-zero</div></div></td><td><div class=\"left\">imperat.</div></td><td>  </td><td><div class=\"right\">imperat.</div></td><td class=\"unicode\"></td><td></td><td>cntMain</td><td><a href=\"ConcordanceOfPatterns.ipynb#11\" target=\"_blank\">11</a></td></tr><tr id=\"ln15\"><td>006</td><td>15</td><td class=\"unicode\" nowrap><div class=\"front_hebrew\">&nbsp;&nbsp;&nbsp;&nbsp;&nbsp;&nbsp;&nbsp;&nbsp;&nbsp;&nbsp;&nbsp;&nbsp;&nbsp;&nbsp;&nbsp;&nbsp;&nbsp;&nbsp;&nbsp;&nbsp;&nbsp;&nbsp;&nbsp;&nbsp;&nbsp;&nbsp;&nbsp;&nbsp;&nbsp;&nbsp;&nbsp;&nbsp;&nbsp;&nbsp;&nbsp;&nbsp;&nbsp;&nbsp;&nbsp;&nbsp;&nbsp;&nbsp;&nbsp;&nbsp;&nbsp;&nbsp;&nbsp;&nbsp;&nbsp;&nbsp;[&lt;PC&gt;&nbsp;\u05e2\u05dc&nbsp;\u05d9\u05e9\u05c2\u05e8\u05d0\u05dc]&nbsp;[&lt;Su&gt;&nbsp;\u05e9\u05c1\u05dc\u05d5\u05dd]&nbsp;&nbsp;&nbsp;&nbsp;&nbsp;&nbsp;<div class=\"translation\">peace <span class=\"translation_verb\">is</span> upon Israel </div></div></td><td><div class=\"front\">NmCl<div class=\"def_disc\">disc-main</div></div></td><td><div class=\"left\">nomin.</div></td><td>  </td><td><div class=\"right\">nomin.</div></td><td class=\"unicode\"></td><td></td><td>(re)openMain</td><td>&nbsp;</td></tr></table>"
       ],
       "metadata": {},
       "output_type": "display_data",
       "text": [
        "<IPython.core.display.HTML at 0x3bee370>"
       ]
      }
     ],
     "prompt_number": 3
    },
    {
     "cell_type": "heading",
     "level": 2,
     "metadata": {},
     "source": [
      "3. Patterns in Psalm 128"
     ]
    },
    {
     "cell_type": "code",
     "collapsed": false,
     "input": [
      "Psalms.print_patterns(\"Input/psalmen128dataPatterns.txt\")"
     ],
     "language": "python",
     "metadata": {},
     "outputs": [
      {
       "html": [
        "<table class=\"presentation\" id=\"Patterns\"><tr><th><a href=\"ConcordanceOfPatterns.ipynb\" target=\"_blank\">#Pat</a></th><th>Vs</th><th>Ln</th><th nowrap><a href=\"ClauseLabels.ipynb\" target=\"_blank\">ClTp</a><br><div class=\"small\">(mouse-over<br>for<br><a href=\"DefaultDiscourseFunctions.ipynb\" target=\"_blank\">DefDiscFu)</a></div></th><th nowrap><a href=\"HebrewText.ipynb\" target=\"_blank\">Hebrew text</a><br><div class=\"small\">(mouse-over for <a href=\"Translation.ipynb\" target=\"_blank\">Translation)</a></div></th><th><a href=\"CCR.ipynb\" target=\"_blank\">CCR</a></th><th><a href=\"DefaultFunctions.ipynb\" target=\"_blank\">DefFu</a></th><th><a href=\"Processes.ipynb\" target=\"_blank\">Processes</a><br><div class=\"small\">(hover over<br>\"!\"-sign)</div></th><th><a href=\"FinalFunctions.ipynb\" target=\"_blank\">FinFu</a></th><th nowrap><a href=\"MDModifier.ipynb\" target=\"_blank\">Mod-MDM</a></th><th><a href=\"Participants.ipynb\" target=\"_blank\">Ptcp</a></th><th><a href=\"DiscourseFunctions.ipynb\" target=\"_blank\">DiscFu</th></tr><tr><td><a href=\"ConcordanceOfPatterns.ipynb#11\" target=\"_blank\">11</a></td><td>PS128,006</td><td><a href=\"#ln13\">13</a></td><td><div class=\"front\">WIm0<div class=\"def_disc\">disc-main-zero</div></div></td><td class=\"unicode\" nowrap><div class=\"front_hebrew\">[&lt;Ti&gt;&nbsp;\u05db\u05dc&nbsp;\u05d9\u05de\u05d9&nbsp;\u05d7\u05d9\u05d9\u05da]&nbsp;[&lt;Co&gt;&nbsp;\u05d1-\u05d8\u05d5\u05d1&nbsp;\u05d9\u05e8\u05d5\u05e9\u05c1\u05dc\u05dd]&nbsp;[&lt;Pr&gt;&nbsp;\u05e8\u05d0\u05d4]&nbsp;[&lt;Cj&gt;&nbsp;-\u05d5]<div class=\"translation\">and <span class=\"translation_verb\">see</span>! </div></div></td><td></td><td nowrap><div class=\"left\">imperat.</div></td><td>  </td><td nowrap><div class=\"right\">imperat.</div></td><td><div class=\"right\">&nbsp;</div></td><td></td><td>cntMain</td></tr><tr><td></td><td></td><td><a href=\"#ln14\">14</a></td><td><div class=\"front\">WIm0<div class=\"def_disc\">disc-main-zero</div></div></td><td class=\"unicode\" nowrap><div class=\"front_hebrew\">[&lt;sp&gt;&lt;Ob&gt;&nbsp;\u05d1\u05e0\u05d9\u05dd&nbsp;/&nbsp;\u05dc-\u05d1\u05e0\u05d9\u05da]&nbsp;[&lt;Pr&gt;&nbsp;\u05e8\u05d0\u05d4]&nbsp;[&lt;Cj&gt;&nbsp;-\u05d5]<div class=\"translation\">and <span class=\"translation_verb\">see</span> sons! </div></div></td><td></td><td nowrap><div class=\"left\">imperat.</div></td><td>  </td><td nowrap><div class=\"right\">imperat.</div></td><td><div class=\"right\">&nbsp;</div></td><td>  SS</td><td>cntMain</td></tr><tr><td>&nbsp;</td></tr><tr><td><a href=\"ConcordanceOfPatterns.ipynb#22\" target=\"_blank\">22</a></td><td>PS128,005</td><td><a href=\"#ln12\">12</a></td><td><div class=\"front\">ZYqX<div class=\"def_disc\">disc-main-zero</div></div></td><td class=\"unicode\" nowrap><div class=\"front_hebrew\">[&lt;Aj&gt;&nbsp;\u05de-\u05e6\u05d9\u05d5\u05df]&nbsp;[&lt;Su&gt;&nbsp;\u05d9\u05d4\u05d5\u05d4]&nbsp;[&lt;PO&gt;&nbsp;\u05d9\u05d1\u05e8\u05db\u05da]<div class=\"translation\"><span class=\"translation_verb\">let</span> YHWH <span class=\"translation_verb\">bless</span> you </div></div></td><td></td><td nowrap><div class=\"left\">volit.</div></td><td>  </td><td nowrap><div class=\"right\">volit.</div></td><td><div class=\"right\">&nbsp;</div></td><td></td><td>cntMain</td></tr><tr><td></td><td></td><td><a href=\"#ln13\">13</a></td><td><div class=\"front\">WIm0<div class=\"def_disc\">disc-main-zero</div></div></td><td class=\"unicode\" nowrap><div class=\"front_hebrew\">[&lt;Ti&gt;&nbsp;\u05db\u05dc&nbsp;\u05d9\u05de\u05d9&nbsp;\u05d7\u05d9\u05d9\u05da]&nbsp;[&lt;Co&gt;&nbsp;\u05d1-\u05d8\u05d5\u05d1&nbsp;\u05d9\u05e8\u05d5\u05e9\u05c1\u05dc\u05dd]&nbsp;[&lt;Pr&gt;&nbsp;\u05e8\u05d0\u05d4]&nbsp;[&lt;Cj&gt;&nbsp;-\u05d5]<div class=\"translation\">and <span class=\"translation_verb\">see</span>! </div></div></td><td></td><td nowrap><div class=\"left\">imperat.</div></td><td>  </td><td nowrap><div class=\"right\">imperat.</div></td><td><div class=\"right\">&nbsp;</div></td><td>  DS</td><td>cntMain</td></tr><tr><td>&nbsp;</td></tr><tr><td><a href=\"ConcordanceOfPatterns.ipynb#202\" target=\"_blank\">202</a></td><td>PS128,005</td><td><a href=\"#ln6\">6</a></td><td><div class=\"front\">NmCl<div class=\"def_disc\">disc-main</div></div></td><td class=\"unicode\" nowrap><div class=\"front_hebrew\">[&lt;PC&gt;&nbsp;\u05d0\u05e9\u05c1\u05e8\u05d9\u05da]<div class=\"translation\">these <span class=\"translation_verb\">are</span> your happinesses </div></div></td><td></td><td nowrap><div class=\"left\">nomin.</div></td><td>  </td><td nowrap><div class=\"right\">nomin.</div></td><td><div class=\"right\">&nbsp;</div></td><td></td><td>(re)openMain</td></tr><tr><td></td><td></td><td><a href=\"#ln12\">12</a></td><td><div class=\"front\">ZYqX<div class=\"def_disc\">disc-main-zero</div></div></td><td class=\"unicode\" nowrap><div class=\"front_hebrew\">[&lt;Aj&gt;&nbsp;\u05de-\u05e6\u05d9\u05d5\u05df]&nbsp;[&lt;Su&gt;&nbsp;\u05d9\u05d4\u05d5\u05d4]&nbsp;[&lt;PO&gt;&nbsp;\u05d9\u05d1\u05e8\u05db\u05da]<div class=\"translation\"><span class=\"translation_verb\">let</span> YHWH <span class=\"translation_verb\">bless</span> you </div></div></td><td></td><td nowrap><div class=\"left\">volit.</div></td><td>  </td><td nowrap><div class=\"right\">volit.</div></td><td><div class=\"right\">&nbsp;</div></td><td>  DS</td><td>cntMain</td></tr><tr><td>&nbsp;</td></tr><tr><td><a href=\"ConcordanceOfPatterns.ipynb#653\" target=\"_blank\">653</a></td><td>PS128,002</td><td><a href=\"#ln2\">2</a></td><td><div class=\"front\">NmCl<div class=\"def_disc\">disc-main</div></div></td><td class=\"unicode\" nowrap><div class=\"front_hebrew\">[&lt;PC&gt;&nbsp;\u05d0\u05e9\u05c1\u05e8\u05d9&nbsp;\u05db\u05dc&nbsp;\u05d9\u05e8\u05d0&nbsp;\u05d9\u05d4\u05d5\u05d4]<div class=\"translation\">these <span class=\"translation_verb\">are</span> the happinesses of all of the afraid one </div></div></td><td></td><td nowrap><div class=\"left\">nomin.</div></td><td>  </td><td nowrap><div class=\"right\">nomin.</div></td><td><div class=\"right\">&nbsp;</div></td><td></td><td>opnDrSpMain</td></tr><tr><td></td><td></td><td><a href=\"#ln5\">5</a></td><td><div class=\"front\">xYq0<div class=\"def_disc\">disc-main-zero</div></div></td><td class=\"unicode\" nowrap><div class=\"front_hebrew\">[&lt;Pr&gt;&nbsp;\u05ea\u05d0\u05db\u05dc]&nbsp;[&lt;Cj&gt;&nbsp;\u05db\u05d9]<div class=\"translation\">given that you <span class=\"translation_verb\">eat</span> </div></div></td><td></td><td nowrap><div class=\"left\">non-vol.</div></td><td>  </td><td nowrap><div class=\"right\">non-vol.</div></td><td class=\"unicode\" nowrap><div class=\"right\">\u05db\u05d9</div></td><td>  </td><td>opnSbLnMain</td></tr><tr><td>&nbsp;</td></tr><tr><td><a href=\"ConcordanceOfPatterns.ipynb#1552\" target=\"_blank\">1552</a></td><td>PS128,002</td><td><a href=\"#ln6\">6</a></td><td><div class=\"front\">NmCl<div class=\"def_disc\">disc-main</div></div></td><td class=\"unicode\" nowrap><div class=\"front_hebrew\">[&lt;PC&gt;&nbsp;\u05d0\u05e9\u05c1\u05e8\u05d9\u05da]<div class=\"translation\">these <span class=\"translation_verb\">are</span> your happinesses </div></div></td><td></td><td nowrap><div class=\"left\">nomin.</div></td><td>  </td><td nowrap><div class=\"right\">nomin.</div></td><td><div class=\"right\">&nbsp;</div></td><td></td><td>(re)openMain</td></tr><tr><td></td><td></td><td><a href=\"#ln7\">7</a></td><td><div class=\"front\">WQt0<div class=\"def_disc\">disc-2nd-forwd</div></div></td><td class=\"unicode\" nowrap><div class=\"front_hebrew\">[&lt;Co&gt;&nbsp;\u05dc\u05da]&nbsp;[&lt;Pr&gt;&nbsp;\u05d8\u05d5\u05d1]&nbsp;[&lt;Cj&gt;&nbsp;-\u05d5]<div class=\"translation\">then he <span class=\"translation_verb\">will</span> <span class=\"translation_verb\">be</span> <span class=\"translation_verb\">good</span> </div></div></td><td></td><td nowrap><div class=\"left\">non-vol.</div></td><td>  </td><td nowrap><div class=\"right\">non-vol.</div></td><td><div class=\"right\">&nbsp;</div></td><td>  DS</td><td>opn2ndF</td></tr><tr><td>&nbsp;</td></tr><tr><td><a href=\"ConcordanceOfPatterns.ipynb#1643\" target=\"_blank\">1643</a></td><td>PS128,001</td><td><a href=\"#ln2\">2</a></td><td><div class=\"front\">NmCl<div class=\"def_disc\">disc-main</div></div></td><td class=\"unicode\" nowrap><div class=\"front_hebrew\">[&lt;PC&gt;&nbsp;\u05d0\u05e9\u05c1\u05e8\u05d9&nbsp;\u05db\u05dc&nbsp;\u05d9\u05e8\u05d0&nbsp;\u05d9\u05d4\u05d5\u05d4]<div class=\"translation\">these <span class=\"translation_verb\">are</span> the happinesses of all of the afraid one </div></div></td><td></td><td nowrap><div class=\"left\">nomin.</div></td><td>  </td><td nowrap><div class=\"right\">nomin.</div></td><td><div class=\"right\">&nbsp;</div></td><td></td><td>opnDrSpMain</td></tr><tr><td></td><td></td><td><a href=\"#ln3\">3</a></td><td><div class=\"front\">Ptcp<div class=\"def_disc\">disc-main</div></div></td><td class=\"unicode\" nowrap><div class=\"front_hebrew\">[&lt;Co&gt;&nbsp;\u05d1-\u05d3\u05e8\u05db\u05d9\u05d5]&nbsp;[&lt;PC&gt;&nbsp;\u05d4\u05dc\u05da]&nbsp;[&lt;Re&gt;&nbsp;-\u05d4]<div class=\"translation\">who/which <span class=\"translation_verb\">is</span> <span class=\"translation_verb\">walking</span> </div></div></td><td>Attr</td><td nowrap><div class=\"left\">ind.</div></td><td>  </td><td nowrap><div class=\"right\">ind.</div></td><td class=\"unicode\" nowrap><div class=\"right\">\u05d4</div></td><td>  </td><td>opnAttrMain</td></tr><tr><td>&nbsp;</td></tr><tr><td><a href=\"ConcordanceOfPatterns.ipynb#1732\" target=\"_blank\">1732</a></td><td>PS128,003</td><td><a href=\"#ln6\">6</a></td><td><div class=\"front\">NmCl<div class=\"def_disc\">disc-main</div></div></td><td class=\"unicode\" nowrap><div class=\"front_hebrew\">[&lt;PC&gt;&nbsp;\u05d0\u05e9\u05c1\u05e8\u05d9\u05da]<div class=\"translation\">these <span class=\"translation_verb\">are</span> your happinesses </div></div></td><td></td><td nowrap><div class=\"left\">nomin.</div></td><td>  </td><td nowrap><div class=\"right\">nomin.</div></td><td><div class=\"right\">&nbsp;</div></td><td></td><td>(re)openMain</td></tr><tr><td></td><td></td><td><a href=\"#ln8\">8</a></td><td><div class=\"front\">NmCl<div class=\"def_disc\">disc-main</div></div></td><td class=\"unicode\" nowrap><div class=\"front_hebrew\">[&lt;sp&gt;&lt;PC&gt;&nbsp;\u05db-\u05d2\u05e4\u05df&nbsp;\u05e4\u05e8\u05d9\u05d4&nbsp;/&nbsp;\u05d1-\u05d9\u05e8\u05db\u05ea\u05d9&nbsp;\u05d1\u05d9\u05ea\u05da]&nbsp;[&lt;Su&gt;&nbsp;\u05d0\u05e9\u05c1\u05ea\u05da]<div class=\"translation\">your woman <span class=\"translation_verb\">is</span> as a vine </div></div></td><td></td><td nowrap><div class=\"left\">nomin.</div></td><td>  </td><td nowrap><div class=\"right\">nomin.</div></td><td><div class=\"right\">&nbsp;</div></td><td>  DS</td><td>cntMain</td></tr><tr><td>&nbsp;</td></tr><tr><td><a href=\"ConcordanceOfPatterns.ipynb#1732\" target=\"_blank\">1732</a></td><td>PS128,003</td><td><a href=\"#ln8\">8</a></td><td><div class=\"front\">NmCl<div class=\"def_disc\">disc-main</div></div></td><td class=\"unicode\" nowrap><div class=\"front_hebrew\">[&lt;sp&gt;&lt;PC&gt;&nbsp;\u05db-\u05d2\u05e4\u05df&nbsp;\u05e4\u05e8\u05d9\u05d4&nbsp;/&nbsp;\u05d1-\u05d9\u05e8\u05db\u05ea\u05d9&nbsp;\u05d1\u05d9\u05ea\u05da]&nbsp;[&lt;Su&gt;&nbsp;\u05d0\u05e9\u05c1\u05ea\u05da]<div class=\"translation\">your woman <span class=\"translation_verb\">is</span> as a vine </div></div></td><td></td><td nowrap><div class=\"left\">nomin.</div></td><td>  </td><td nowrap><div class=\"right\">nomin.</div></td><td><div class=\"right\">&nbsp;</div></td><td></td><td>cntMain</td></tr><tr><td></td><td></td><td><a href=\"#ln9\">9</a></td><td><div class=\"front\">NmCl<div class=\"def_disc\">disc-main</div></div></td><td class=\"unicode\" nowrap><div class=\"front_hebrew\">[&lt;sp&gt;&lt;Aj&gt;&nbsp;\u05e1\u05d1\u05d9\u05d1&nbsp;/&nbsp;\u05dc-\u05e9\u05c1\u05dc\u05d7\u05e0\u05da]&nbsp;[&lt;PC&gt;&nbsp;\u05db-\u05e9\u05c1\u05ea\u05dc\u05d9&nbsp;\u05d6\u05d9\u05ea\u05d9\u05dd]&nbsp;[&lt;Su&gt;&nbsp;\u05d1\u05e0\u05d9\u05da]<div class=\"translation\">your sons <span class=\"translation_verb\">are</span> as layers of olives </div></div></td><td></td><td nowrap><div class=\"left\">nomin.</div></td><td>  </td><td nowrap><div class=\"right\">nomin.</div></td><td><div class=\"right\">&nbsp;</div></td><td>  DS</td><td>cntMain</td></tr><tr><td>&nbsp;</td></tr></table>"
       ],
       "metadata": {},
       "output_type": "display_data",
       "text": [
        "<IPython.core.display.HTML at 0x3bee450>"
       ]
      }
     ],
     "prompt_number": 4
    }
   ],
   "metadata": {}
  }
 ]
}