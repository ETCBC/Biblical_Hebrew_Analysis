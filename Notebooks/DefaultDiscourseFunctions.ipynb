{
 "metadata": {
  "name": ""
 },
 "nbformat": 3,
 "nbformat_minor": 0,
 "worksheets": [
  {
   "cells": [
    {
     "cell_type": "code",
     "collapsed": false,
     "input": [
      "import Theory"
     ],
     "language": "python",
     "metadata": {},
     "outputs": [
      {
       "html": [
        "\n",
        "<style>\n",
        "\n",
        "table.presentation, table.verbs, table.patterns, table.verbal_patterns {\n",
        "    margin-left: auto;\n",
        "    margin-right: auto;\n",
        "}\n",
        "\n",
        "table.presentation, table.presentation tr, table.presentation th, table.presentation td {\n",
        "    border-style:hidden;\n",
        "    color: Maroon;\n",
        "}\n",
        "\n",
        "table.verbs, table.verbs tr, table.verbs th, table.verbs td {\n",
        "    border-style: hidden;\n",
        "    color: Maroon;\n",
        "\ttext-align: center;\n",
        "}\n",
        "\n",
        "table.patterns, table.patterns tr, table.patterns th, table.patterns td {\n",
        "    border-style:hidden;\n",
        "    color: Maroon;\n",
        "    font-size: small;\n",
        "}\n",
        "\n",
        "table.verbal_patterns, table.verbal_patterns tr, table.verbal_patterns th, table.verbal_patterns td {\n",
        "    border-style:hidden;\n",
        "    color: Maroon;\n",
        "}\n",
        "\n",
        "table.presentation th, table.presentation td, table.patterns th, table.patterns td {\n",
        "    padding:0px 10px 0px 0px;\n",
        "}\n",
        "\n",
        "table.verbs td {\n",
        "    padding:5px 10px 5px 10px;\n",
        "}\n",
        "\n",
        "table.verbs div.rotation {\n",
        "\tdisplay:block;\n",
        "\t-webkit-transform: rotate(-90deg);\n",
        "\t-moz-transform: rotate(-90deg);\n",
        "\tfilter: progid:DXImageTransform.Microsoft.BasicImage(rotation=3);\n",
        "}\n",
        "\n",
        "table.verbs td.background {\n",
        "\tbackground-color: LightCyan;\n",
        "\tcolor: DarkBlue;\n",
        "\tfont-weight: bold;\n",
        "\tfont-style: italic;\n",
        "}\n",
        "\n",
        "table.verbs td.foreground {\n",
        "\tbackground-color: MistyRose;\n",
        "\tcolor: DarkRed;\n",
        "\tfont-weight: bold;\n",
        "\tfont-style: italic;\n",
        "}\n",
        "\n",
        "table.verbal_patterns td {\n",
        "    border-left-style:dotted;\n",
        "\tborder-width-left:thin;\n",
        "    border-right-style:dotted;\n",
        "\tborder-width-right:thin;\n",
        "}\n",
        "\n",
        "table.verbs td.dimension {\n",
        "    text-align:center;\n",
        "    text-decoration:underline;\n",
        "}\n",
        "\n",
        "table.verbs td.form {\n",
        "    font-style:italic;\n",
        "    font-weight:bold;\n",
        "    color:Maroon;\n",
        "}\n",
        "\n",
        "table.patterns td.head {\n",
        "    text-decoration:underline;\n",
        "}\n",
        "\n",
        "table.presentation th {\n",
        "    text-align:center;\n",
        "}\n",
        "\n",
        "span.hebrew, table.presentation td.hebrew {\n",
        "    text-align:right;\n",
        "    font-family:SBL Hebrew;\n",
        "}\n",
        "\n",
        "table.presentation td.outer {\n",
        "    vertical-align:top;\n",
        "}\n",
        "\n",
        "p.note {\n",
        "    font-size:small;\n",
        "    font-style:italic;\n",
        "}\n",
        "\n",
        "div.button {\n",
        "\tmax-width:15%;\n",
        "\tmargin:auto;\n",
        "}\n",
        "\n",
        "</style>\n"
       ],
       "metadata": {},
       "output_type": "display_data",
       "text": [
        "<IPython.core.display.HTML at 0x3ebf330>"
       ]
      }
     ],
     "prompt_number": 1
    },
    {
     "cell_type": "heading",
     "level": 1,
     "metadata": {},
     "source": [
      "Default Discourse Functions of Clause Types"
     ]
    },
    {
     "cell_type": "markdown",
     "metadata": {},
     "source": [
      "<p>One of the central hypotheses in our theory on the Biblical Hebrew verbal system is that each clausetype has some default functional values.\n",
      "More specifically, it is assumed that the verbal predicate in a clause marks a default setting of a clause's  functionality along the following three communicative dimensions:</p>\n",
      "<ol>\n",
      "<li>The <strong>type of communication</strong>, which can be either <em>narrative <strong>[narr]</strong></em> or <em>discursive <strong>[disc]</strong></em></li>\n",
      "<li>The <strong>level of communication</strong>, which can be either <em>mainlevel/foreground <strong>[main]</strong></em> or <em>secondary level/background <strong>[2nd]</strong></em></li>\n",
      "<li>The <strong>perspective of communication</strong>, which can be either <em>zero perspective <strong>[zero]</strong></em>, or <em>retrospective perspective <strong>[retro]</strong></em>, or <em>forward perspective <strong>[forwd]</strong></em></li>\n",
      "</ol>\n",
      "\n",
      "<p>The default functional values in terms of these three dimensions marked by the verbal forms are presented in the following scheme:</p>\n",
      "\n",
      "<table class=\"verbs\">\n",
      "<tr><th></th><th></th><th colspan = \"2\">Mode of Communication</th></tr>\n",
      "<tr><th></th><th></th><th>Narrative</th><th>Discursive</th></tr>\n",
      "<tr><th rowspan = \"3\"><div class=\"rotation\">Perspective</div></th><th>Retro</th><td class=\"background\">QATAL</td><td class=\"background\">QATAL</td></tr>\n",
      "<tr><th>Neutral</th><td class=\"foreground\">WAYYIQTOL</td><td class=\"foreground\">YIQTOL / IMPERATIVE</td></tr>\n",
      "<tr><th>Forward</th><td class=\"background\">...</td><td class=\"background\">WEQATAL</td></tr>\n",
      "</table>\n",
      "\n",
      "<p>As the scheme indicates, there is an important interaction between the dimensions of 'level of communication', which is represented by colour (red: foreground; blue: backgroud), and 'perspective of communication'. Thus, a verbal form marking a secondary line of communication never has neutral ('zero') perspective, while, the other way around, forward or backward perspective is, in principle, never expressed at the main level of communication.</p>  \n",
      "<p>It should be noted that in exceptional cases the verbal predicate's 'relief' function of indicating the perspective of communication can be \n",
      "overruled by other linguistic signals. Thus, the presence of <strong>interrogative pronouns</strong> and <strong>interjections</strong> like HNH and >KN always draws a clause into the main level of communication, even if the clause contains a <em>qatal</em>, which, by default, marks a secondary line of communication. In such clauses, the only function of the verbal form is that of indicating perspective. It is therefore only in this type of mainline clauses that the expression of non-zero perspective and mainline communication are not mutually exclusive: interrogative <em>qatal</em> clauses, for instance, denote a retrospective, main level, discursive type of communication. \n",
      "<br>In our analyses of the Psalms these exceptional clauses, in which the 'relief' function of a verbal form is overruled by the presence of so-called (non-verbal) 'mainline markers', are identified by the use of the label 'MAIN' instead of 'main' or '2nd'. Furthermore, the 'mainline markers' are explicitly identified.</p>\n",
      "<p>The discourse functions attained by nominal and participle clause, which do not contain a finite verbal form, are less fixed. It is assumed that these clauses do not have any perspective value, while their values on the other two functional dimensions ('type' and 'level' of communication) are largely determined by the specific clause pattern which they are part of. In the Psalms, the two types of clauses in most cases simply continue the main level of discursive communication.</p>\n",
      "    "
     ]
    },
    {
     "cell_type": "heading",
     "level": 3,
     "metadata": {},
     "source": [
      "References"
     ]
    },
    {
     "cell_type": "markdown",
     "metadata": {},
     "source": [
      "<ul>\n",
      "<li>Kalkman, G.J., <em>Verbal Forms in Biblical Hebrew Poetry: Poetical Freedom or Linguistic System?</em> (dissertation, VU University Amsterdam, Faculty of Theology; 2015), ch.6</li>\n",
      "</ul>"
     ]
    },
    {
     "cell_type": "markdown",
     "metadata": {},
     "source": [
      "<br>\n",
      "<br>\n",
      "<div class=\"button\"><form action=\"Index.ipynb\">\n",
      "    <input type=\"submit\" value=\"Go to Index\">\n",
      "</form>\n",
      "</div>"
     ]
    }
   ],
   "metadata": {}
  }
 ]
}