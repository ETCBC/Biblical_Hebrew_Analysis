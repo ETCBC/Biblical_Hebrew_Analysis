{
 "metadata": {
  "name": ""
 },
 "nbformat": 3,
 "nbformat_minor": 0,
 "worksheets": [
  {
   "cells": [
    {
     "cell_type": "heading",
     "level": 1,
     "metadata": {},
     "source": [
      "Default Discourse Functions of Clause Types"
     ]
    },
    {
     "cell_type": "code",
     "collapsed": false,
     "input": [
      "%%html\n",
      "<style>\n",
      "\n",
      "table.presentation {\n",
      "    font-size:small;\n",
      "    border-style:hidden;\n",
      "}\n",
      "\n",
      "table.presentation tr {\n",
      "    border-style:hidden;\n",
      "}\n",
      "\n",
      "table.presentation td {\n",
      "    padding:5px 10px 5px 10px;\n",
      "    border-style:hidden;\n",
      "}                      \n",
      "\n",
      "table.presentation td.dimension {\n",
      "    text-align:center;\n",
      "    text-decoration:underline;\n",
      "}\n",
      "\n",
      "table.presentation td.form {\n",
      "    font-style:italic;\n",
      "    font-weight:bold;\n",
      "    color:Maroon;\n",
      "}\n",
      "\n",
      "figure.table {\n",
      "    text-align:center;\n",
      "    border-style:dotted;\n",
      "    border-width:thin;\n",
      "    max-width:50%;\n",
      "}\n",
      "\n",
      "figcaption {\n",
      "    font-style:italic;\n",
      "    font-size:x-small;\n",
      "    text-align:right;\n",
      "}\n",
      "</style>"
     ],
     "language": "python",
     "metadata": {},
     "outputs": [
      {
       "html": [
        "<style>\n",
        "\n",
        "table.presentation {\n",
        "    font-size:small;\n",
        "    border-style:hidden;\n",
        "}\n",
        "\n",
        "table.presentation tr {\n",
        "    border-style:hidden;\n",
        "}\n",
        "\n",
        "table.presentation td {\n",
        "    padding:5px 10px 5px 10px;\n",
        "    border-style:hidden;\n",
        "}                      \n",
        "\n",
        "table.presentation td.dimension {\n",
        "    text-align:center;\n",
        "    text-decoration:underline;\n",
        "}\n",
        "\n",
        "table.presentation td.form {\n",
        "    font-style:italic;\n",
        "    font-weight:bold;\n",
        "    color:Maroon;\n",
        "}\n",
        "\n",
        "figure.table {\n",
        "    text-align:center;\n",
        "    border-style:dotted;\n",
        "    border-width:thin;\n",
        "    max-width:50%;\n",
        "}\n",
        "\n",
        "figcaption {\n",
        "    font-style:italic;\n",
        "    font-size:x-small;\n",
        "    text-align:right;\n",
        "}\n",
        "</style>"
       ],
       "metadata": {},
       "output_type": "display_data",
       "text": [
        "<IPython.core.display.HTML at 0x3afd710>"
       ]
      }
     ],
     "prompt_number": 24
    },
    {
     "cell_type": "markdown",
     "metadata": {},
     "source": [
      "<p>One of the central hypotheses in our theory on the Biblical Hebrew verbal system is that each clausetype has some default functional values.\n",
      "More specifically, it is assumed that the verbal predicate in a clause marks a default setting of a clause's  functionality along the following three dimensions:</p>\n",
      "<ol>\n",
      "<li>The <strong>type of communication</strong>, which can be either <em>narrative <strong>[narr]</strong></em> or <em>discursive <strong>[disc]</strong></em></li>\n",
      "<li>The <strong>level of communication</strong>, which can be either <em>mainlevel/foreground <strong>[main]</strong></em> or <em>secondary level/background <strong>[2nd]</strong></em></li>\n",
      "<li>The <strong>perspective of communication</strong>, which can be either <em>zero perspective <strong>[zero]</strong></em>, or <em>retrospective perspective <strong>[retro]</strong></em>, or <em>forward perspective <strong>[forwd]</strong></em></li>\n",
      "</ol>\n",
      "\n",
      "<p>The default functional values in terms of these three dimensions marked by the verbal forms are presented in the following scheme:</p>\n",
      "\n",
      "<figure class=\"table\">\n",
      "<table class=\"presentation\">\n",
      "<tr><td></td><td class = \"dimension\">Narrative</td><td></td><td></td><td></td><td class = \"dimension\">Discursive</td><td></td></tr>\n",
      "<tr><td></td><td></td><td></td><td></td><td></td><td></td><td></td></tr>\n",
      "<tr><td></td><td class = \"form\">wayyiqtol</td><td></td><td class = \"dimension\">Main level</td><td></td><td class = \"form\">yiqtol/imperative</td><td></td></tr>\n",
      "<tr><td></td><td></td><td></td><td></td><td></td><td></td><td></td></tr>\n",
      "<tr><td></td><td></td><td></td><td></td><td></td><td></td><td></td></tr>\n",
      "<tr><td class = \"form\">qatal</td><td></td><td></td><td class = \"dimension\">Secondary level</td><td class = \"form\">qatal</td><td></td><td class = \"form\">weqatal</td></tr>\n",
      "<tr><td></td><td></td><td></td><td></td><td></td><td></td><td></td></tr>\n",
      "<tr><td class = \"dimension\">Retro</td><td></td><td class = \"dimension\">Forward</td><td></td><td class = \"dimension\">Retro</td><td></td><td class = \"dimension\">Forward</td></tr>\n",
      "</table>\n",
      "<figcaption>Default discourse functions of Biblical Hebrew verbal forms</figcaption>\n",
      "</figure>\n",
      "\n",
      "<p>As the scheme indicates, there is an important interaction between the dimensions of 'level of communication' and 'perspective of communication'. Thus, a verbal form marking a secondary line of communication never has neutral ('zero') perspective, while, the other way around, forward or backward perspective is, in principle, never expressed at the main level of communication.</p>  \n",
      "<p>It should be noted that in exceptional cases the verbal predicate's 'relief' function of indicating the perspective of communication can be \n",
      "overruled by other linguistic signals. Thus, the presence of <strong>interrogative pronouns and interjections like HNH and >KN always draws a clause into the main level of communication, even if the clause contains a <em>qatal</em>, which, by default, marks a secondary line of communication. In such clauses, the only function of the verbal form is that of indicating perspective. It is therefore only in this type of mainline clauses that the expression of non-zero perspective and mainline communication are not mutually exclusive: interrogative <em>qatal</em> clauses, for instance, denote a retrospective, main level, discursive type of communication. \n",
      "<br>In our analyses of the Psalms these exceptional clauses, in which the 'relief' function of a verbal form is overruled by the presence of so-called (non-verbal) 'mainline markers', are identified by the use of the label 'MAIN' instead of 'main' or '2nd'. Furthermore, the 'mainline markers' are explicitly identified.</p>\n",
      "<p>The discourse functions attained by nominal and participle clause, which do not contain a finite verbal form, are less fixed. It is assumed that these clauses do not have any perspective value, while their values on the other two functional dimensions ('type' and 'level' of communication) are largely determined by the specific clause pattern which they are part of. In the Psalms, the two types of clauses in most cases simply continue the main level of discursive communication.</p>\n",
      "    "
     ]
    },
    {
     "cell_type": "code",
     "collapsed": false,
     "input": [],
     "language": "python",
     "metadata": {},
     "outputs": []
    }
   ],
   "metadata": {}
  }
 ]
}