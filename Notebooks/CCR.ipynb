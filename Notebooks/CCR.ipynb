{
 "metadata": {
  "name": ""
 },
 "nbformat": 3,
 "nbformat_minor": 0,
 "worksheets": [
  {
   "cells": [
    {
     "cell_type": "heading",
     "level": 1,
     "metadata": {},
     "source": [
      "Clause Atom Relations"
     ]
    },
    {
     "cell_type": "code",
     "collapsed": false,
     "input": [
      "%%html\n",
      "<style>\n",
      "\n",
      "table.presentation, table.presentation td {\n",
      "    border-style:hidden;\n",
      "    color: Maroon;\n",
      "}\n",
      "\n",
      "table.presentation td {\n",
      "    padding:0px 15px 0px 0px;\n",
      "}\n",
      "\n",
      "td.hebrew {\n",
      "    text-align:right;\n",
      "    font-family:SBL Hebrew;\n",
      "}\n",
      "</style>"
     ],
     "language": "python",
     "metadata": {},
     "outputs": [
      {
       "html": [
        "<style>\n",
        "\n",
        "table.presentation, table.presentation td {\n",
        "    border-style:hidden;\n",
        "    color: Maroon;\n",
        "}\n",
        "\n",
        "table.presentation td {\n",
        "    padding:0px 15px 0px 0px;\n",
        "}\n",
        "\n",
        "td.hebrew {\n",
        "    text-align:right;\n",
        "    font-family:SBL Hebrew;\n",
        "}\n",
        "</style>"
       ],
       "metadata": {},
       "output_type": "display_data",
       "text": [
        "<IPython.core.display.HTML at 0x3d182b0>"
       ]
      }
     ],
     "prompt_number": 2
    },
    {
     "cell_type": "markdown",
     "metadata": {},
     "source": [
      "<p>In the 2nd and 3rd section of the notebook of each Psalm we have included a column with the heading <strong>'CAR'</strong>, which provides us with information about specific types of relations between clause atoms in that Psalm. More specifically, this column contains information about the clause constituent relations that are present in the given text.</p>\n",
      "<p>We distinguish between the following types of constituent relations:</p>\n",
      "\n",
      "<table class=\"presentation\">\n",
      "<tr><td>Subject Clause</td><td><strong>SuCl</strong></td></tr>\n",
      "<tr><td>Object Clause</td><td><strong>ObCl</strong></td></tr>\n",
      "<tr><td>Complement Clause</td><td><strong>CoCl</strong></td></tr>\n",
      "<tr><td>Adjunctive Clause</td><td><strong>AjCl</strong></td></tr>\n",
      "<tr><td>Predicate Clause</td><td><strong>PcCl</strong></td></tr>\n",
      "<tr><td>Regens-rectum connection</td><td><strong>RgRc</strong></td></tr>\n",
      "<tr><td>Attributive Clause</td><td><strong>Attr</strong></td></tr>\n",
      "<tr><td>Coordinated Clause</td><td><strong>Coor</strong></td></tr>\n",
      "</table>\n",
      "\n",
      "<p>In the clause patterns identified in our syntactic hierarchies such constituent clauses, which fulfill the role of constituent in the broader sentence, are always treated as the daughter clause of the main clause, together with which they constitute a single sentence. As a result, if the constituent clause precedes the main clause, a downward connection has to be made. An illustrative example can be found in Ps 2.4, where a subject participle clause precedes its <em>yiqtol</em> mother clause.</p> \n",
      "\n",
      "<table class=\"presentation\">\n",
      "<tr><td>004</td><td class=\"hebrew\" nowrap>[&lt;Lo&gt; \u05d1--\u05e9\u05c1\u05de\u05d9\u05de]  [&lt;PC&gt; \u05d9\u05d5\u05e9\u05c1\u05d1]&nbsp;&nbsp;&nbsp;</td><td style=\"font-family:Courier\">Ptcp</td><td nowrap>&nbsp;&nbsp;&nbsp;he/she who is sitting (in)</td></tr>\n",
      "<tr><td></td><td class=\"hebrew\" nowrap>[&lt;Pr&gt; \u05d9\u05e9\u05c2\u05d7\u05e7]</td><td style=\"font-family:Courier\">XYqt</td><td nowrap>laughs</td></tr>             </table>\n",
      "\n",
      "<p>Note that in the ClauseType column, the label of the mother clause, has been updated from <strong>ZYq0</strong> to <strong>XYqt</strong>. In fact, this label functions more as a <em>sentence type label</em> in that it includes both the subject daughter clause (which, being the sentence's explicit subject, is represented in the <strong>X</strong>) and the verbal <em>yiqtol</em> form present in the mother clause.</p>\n",
      "<p>For more information on Clause and Sentence labels, see <a href=\"ClauseLabels.ipynb\" target=\"_blank\">here</a>.</p>"
     ]
    },
    {
     "cell_type": "code",
     "collapsed": false,
     "input": [],
     "language": "python",
     "metadata": {},
     "outputs": []
    }
   ],
   "metadata": {}
  }
 ]
}