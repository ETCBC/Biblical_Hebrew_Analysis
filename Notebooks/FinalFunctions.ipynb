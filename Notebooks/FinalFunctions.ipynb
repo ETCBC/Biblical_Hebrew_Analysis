{
 "metadata": {
  "name": ""
 },
 "nbformat": 3,
 "nbformat_minor": 0,
 "worksheets": [
  {
   "cells": [
    {
     "cell_type": "code",
     "collapsed": false,
     "input": [
      "import Theory"
     ],
     "language": "python",
     "metadata": {},
     "outputs": [
      {
       "html": [
        "\n",
        "<style>\n",
        "\n",
        "table.presentation, table.verbs, table.patterns, table.verbal_patterns {\n",
        "    margin-left: auto;\n",
        "    margin-right: auto;\n",
        "}\n",
        "\n",
        "table.presentation, table.presentation tr, table.presentation th, table.presentation td {\n",
        "    border-style:hidden;\n",
        "    color: Maroon;\n",
        "}\n",
        "\n",
        "table.verbs, table.verbs tr, table.verbs th, table.verbs td {\n",
        "    border-style:hidden;\n",
        "    color: Maroon;\n",
        "    font-size: small;\n",
        "}\n",
        "\n",
        "table.patterns, table.patterns tr, table.patterns th, table.patterns td {\n",
        "    border-style:hidden;\n",
        "    color: Maroon;\n",
        "    font-size: small;\n",
        "}\n",
        "\n",
        "table.verbal_patterns, table.verbal_patterns tr, table.verbal_patterns th, table.verbal_patterns td {\n",
        "    border-style:hidden;\n",
        "    color: Maroon;\n",
        "}\n",
        "\n",
        "table.presentation th, table.presentation td, table.patterns th, table.patterns td {\n",
        "    padding:0px 10px 0px 0px;\n",
        "}\n",
        "\n",
        "table.verbs td {\n",
        "    padding:5px 10px 5px 10px;\n",
        "}\n",
        "\n",
        "table.verbal_patterns td {\n",
        "    border-left-style:dotted;\n",
        "\tborder-width-left:thin;\n",
        "    border-right-style:dotted;\n",
        "\tborder-width-right:thin;\n",
        "}\n",
        "\n",
        "table.verbs td.dimension {\n",
        "    text-align:center;\n",
        "    text-decoration:underline;\n",
        "}\n",
        "\n",
        "table.verbs td.form {\n",
        "    font-style:italic;\n",
        "    font-weight:bold;\n",
        "    color:Maroon;\n",
        "}\n",
        "\n",
        "table.patterns td.head {\n",
        "    text-decoration:underline;\n",
        "}\n",
        "\n",
        "table.presentation th {\n",
        "    text-align:center;\n",
        "}\n",
        "\n",
        "figure.table {\n",
        "    text-align:center;\n",
        "    border-style:dotted;\n",
        "    border-width:thin;\n",
        "    max-width:50%;\n",
        "}\n",
        "\n",
        "figcaption {\n",
        "    font-style:italic;\n",
        "    font-size:x-small;\n",
        "    text-align:right;\n",
        "}\n",
        "\n",
        "span.hebrew, table.presentation td.hebrew {\n",
        "    text-align:right;\n",
        "    font-family:SBL Hebrew;\n",
        "}\n",
        "\n",
        "table.presentation td.outer {\n",
        "    vertical-align:top;\n",
        "}\n",
        "\n",
        "p.note {\n",
        "    font-size:small;\n",
        "    font-style:italic;\n",
        "}\n",
        "\n",
        "div.button {\n",
        "\tmax-width:15%;\n",
        "\tmargin:auto;\n",
        "}\n",
        "\n",
        "</style>\n"
       ],
       "metadata": {},
       "output_type": "display_data",
       "text": [
        "<IPython.core.display.HTML at 0x3b6e370>"
       ]
      }
     ],
     "prompt_number": 1
    },
    {
     "cell_type": "heading",
     "level": 1,
     "metadata": {},
     "source": [
      "Final Functions of Clause Types in terms of Volitivity and Non-volitivity"
     ]
    },
    {
     "cell_type": "markdown",
     "metadata": {},
     "source": [
      "<p>A clause's final function in terms of volitivity and non-volitivity in many cases corresponds to its <a href=\"DefaultFunctions.ipynb\" target=\"_blank\">default function</a>. However, <a href=\"Processes\" target=\"_blank\">processes of inheritance and blocking</a> can cause a discrepancy between the default and the final function of a clause. We present Ps 2: 1-2 as an example (see also <a href=\"Introduction.ipynb\" target=\"_blank\">the Introduction</a>).</p>\n",
      "\n",
      "<table class=\"presentation\">\n",
      "<tr><td>001</td><td class=\"hebrew\">[&lt;Su&gt; \u05d2\u05d5\u05d9\u05dd]  [&lt;Pr&gt; \u05e8\u05d2\u05e9\u05c1\u05d5]  [&lt;Qu&gt; \u05dc\u05de\u05d4]</td><td style=\"font-family:Courier\">xQtX</td><td>why have peoples been in turmoil?</td></tr>\n",
      "<tr><td></td><td class=\"hebrew\">[&lt;Ob&gt; \u05e8\u05d9\u05e7]  [&lt;Pr&gt; \u05d9\u05d4\u05d2\u05d5]  [&lt;Su&gt; \u05dc\u05d0\u05de\u05d9\u05dd]  [&lt;Cj&gt; -\u05d5]&nbsp;&nbsp;&nbsp;&nbsp;&nbsp;</td><td style=\"font-family:Courier\">WXYq</td><td>&nbsp;&nbsp;&nbsp;&nbsp;&nbsp;and/but (why) do peoples mutter an emptiness?</td></tr>\n",
      "<tr><td>002</td><td class=\"hebrew\">[&lt;Su&gt; \u05de\u05dc\u05db\u05d9 \u05d0\u05e8\u05e5]  [&lt;Pr&gt; \u05d9\u05ea\u05d9\u05e6\u05d1\u05d5]&nbsp;&nbsp;&nbsp;</td><td style=\"font-family:Courier\">ZYqX</td><td>&nbsp;&nbsp;&nbsp;(why) do kings of the earth stand?</td></tr>\n",
      "<tr><td></td><td class=\"hebrew\">[&lt;Co&gt; \u05e2\u05dc \u05d9\u05d4\u05d5\u05d4 \u05d5-\u05e2\u05dc \u05de\u05e9\u05c1\u05d9\u05d7\u05d5]  [&lt;Mo&gt; \u05d9\u05d7\u05d3]  [&lt;Pr&gt; \u05e0\u05d5\u05e1\u05d3\u05d5]  [&lt;Su&gt; \u05e8\u05d5\u05d6\u05e0\u05d9\u05dd]  [&lt;Cj&gt; -\u05d5]&nbsp;&nbsp;&nbsp;&nbsp;&nbsp;</td><td style=\"font-family:Courier\">WXQt</td><td>&nbsp;&nbsp;&nbsp;&nbsp;&nbsp;and/but (why) have official ones closed?</td></tr>\n",
      "</table>\n",
      "\n",
      "<p>The <strong>ZYqX</strong> clause has a volitive default function, since it has the <em>yiqtol</em> form in clause-initial position. However, as can be seen in the translation (and in the <a href=\"Psalm2.ipynb#Analysis\" target=\"_blank\">analysis of this Psalm</a>) the <strong>ZYqX</strong> clause inherits from its <strong>xQtX</strong> mother clause the <a href=\"MDModifier.ipynb\" target=\"_blank\">multiple-duty modifier</a> <span class = \"hebrew\">&#1500;&#1502;&#1492;</span> and should therefore be reanalyzed as an <em>[x-]yiqtol</em> clause. As a result, the clause's final function is that of expressing non-volitivity.</p>\n",
      "\n",
      "<p>The labels used to indicate the final functions of clauses are identical to those used in the default functions column. The labels <strong>final</strong> and <strong>consec.</strong> are only attested in the column listing the final functions, since they can only be identified after some (interactive) measurements at the level of <a href=\"Participants.ipynb\" target=\"_blank\">participants</a>. More specifically, the function of expressing finality has been assigned only to <em>weyiqtol</em> clauses having as their subject a participant that was already referred to in the mother clause (or one of the preceding ancestor clauses), but did not take the role of subject in that clause. Similary, the function of expressing consecutive meaning can only be ascribed to <em>weqatal</em> clauses with a different subject than their mother clause.</p> \n",
      "\n",
      "<p>Defective clause atoms, elliptic clauses, vocative clauses, casus pendentes, extrapositions, and macro-syntactic signals are assigned neither default functions nor final functions.</p>"
     ]
    },
    {
     "cell_type": "heading",
     "level": 3,
     "metadata": {},
     "source": [
      "References"
     ]
    },
    {
     "cell_type": "markdown",
     "metadata": {},
     "source": [
      "<ul>\n",
      "<li>Kalkman, G.J., 'In Search of a Verbal System in Biblical Hebrew Poetry: a Computer-Assisted Analysis of Syntactic Patterns', (Digital Humanities Quarterly, 2014), pp.</li>\n",
      "<li>Kalkman, G.J., <em>Verbal Forms in Biblical Hebrew Poetry: Poetical Freedom or Linguistic System?</em> (dissertation, VU University Amsterdam, Faculty of Theology; 2015), ch.5</li>\n",
      "</ul>"
     ]
    },
    {
     "cell_type": "markdown",
     "metadata": {},
     "source": [
      "<br>\n",
      "<br>\n",
      "<div class=\"button\"><form action=\"Index.ipynb\">\n",
      "    <input type=\"submit\" value=\"Go to Index\">\n",
      "</form>\n",
      "</div>"
     ]
    }
   ],
   "metadata": {}
  }
 ]
}