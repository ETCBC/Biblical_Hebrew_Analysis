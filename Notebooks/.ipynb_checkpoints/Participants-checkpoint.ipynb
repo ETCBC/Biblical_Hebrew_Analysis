{
 "metadata": {
  "name": ""
 },
 "nbformat": 3,
 "nbformat_minor": 0,
 "worksheets": [
  {
   "cells": [
    {
     "cell_type": "code",
     "collapsed": false,
     "input": [
      "import Theory"
     ],
     "language": "python",
     "metadata": {},
     "outputs": [
      {
       "html": [
        "\n",
        "<style>\n",
        "\n",
        "table.presentation, table.verbs, table.patterns {\n",
        "    margin-left: auto;\n",
        "    margin-right: auto;\n",
        "}\n",
        "\n",
        "table.presentation, table.presentation tr, table.presentation th, table.presentation td {\n",
        "    border-style:hidden;\n",
        "    color: Maroon;\n",
        "}\n",
        "\n",
        "table.verbs, table.verbs tr, table.verbs th, table.verbs td {\n",
        "    border-style:hidden;\n",
        "    color: Maroon;\n",
        "    font-size: small;\n",
        "}\n",
        "\n",
        "table.patterns, table.patterns tr, table.patterns th, table.patterns td {\n",
        "    border-style:hidden;\n",
        "    color: Maroon;\n",
        "    font-size: small;\n",
        "}\n",
        "\n",
        "table.verbal_patterns, table.verbal_patterns tr, table.verbal_patterns th, table.verbal_patterns td {\n",
        "    border-style:hidden;\n",
        "    color: Maroon;\n",
        "}\n",
        "\n",
        "table.presentation th, table.presentation td, table.patterns th, table.patterns td {\n",
        "    padding:0px 10px 0px 0px;\n",
        "}\n",
        "\n",
        "table.verbs td {\n",
        "    padding:5px 10px 5px 10px;\n",
        "}\n",
        "\n",
        "table.verbal_patterns td {\n",
        "    border-left-style:dotted;\n",
        "\tborder-width-left:thin;\n",
        "    border-right-style:dotted;\n",
        "\tborder-width-right:thin;\n",
        "}\n",
        "\n",
        "table.verbs td.dimension {\n",
        "    text-align:center;\n",
        "    text-decoration:underline;\n",
        "}\n",
        "\n",
        "table.verbs td.form {\n",
        "    font-style:italic;\n",
        "    font-weight:bold;\n",
        "    color:Maroon;\n",
        "}\n",
        "\n",
        "table.patterns td.head {\n",
        "    text-decoration:underline;\n",
        "}\n",
        "\n",
        "table.presentation th {\n",
        "    text-align:center;\n",
        "}\n",
        "\n",
        "figure.table {\n",
        "    text-align:center;\n",
        "    border-style:dotted;\n",
        "    border-width:thin;\n",
        "    max-width:50%;\n",
        "}\n",
        "\n",
        "figcaption {\n",
        "    font-style:italic;\n",
        "    font-size:x-small;\n",
        "    text-align:right;\n",
        "}\n",
        "\n",
        "span.hebrew, table.presentation td.hebrew {\n",
        "    text-align:right;\n",
        "    font-family:SBL Hebrew;\n",
        "}\n",
        "\n",
        "table.presentation td.outer {\n",
        "    vertical-align:top;\n",
        "}\n",
        "\n",
        "p.note {\n",
        "    font-size:small;\n",
        "    font-style:italic;\n",
        "}\n",
        "\n",
        "</style>\n"
       ],
       "metadata": {},
       "output_type": "display_data",
       "text": [
        "<IPython.core.display.HTML at 0x3bd02f0>"
       ]
      }
     ],
     "prompt_number": 1
    },
    {
     "cell_type": "heading",
     "level": 1,
     "metadata": {},
     "source": [
      "Participants"
     ]
    },
    {
     "cell_type": "markdown",
     "metadata": {},
     "source": [
      "<p>Developments at the level of participants can have a significant impact on the distribution of functionalities among clauses. Many of the calculations made by our Java programme have to do with measuring continuity and discontinuity in the set of participants. The results of these calculations are presented in the 'Patterns' sections of the individual Psalm notebooks and in our 'Concordance of Patterns'.</p>\n",
      "<p>First of all, for all clause patterns consisting of a mother clause and a non-dependent daughter clause (that is: all patterns belonging to subcategories 1 and 2 as defined in the <a href=\"ConcordanceOfPatterns.ipynb\" title=\"_blank\">Concordance of Patterns</a>) the degree of continuity in subject reference has been determined. The following labels are used to represent the outcomes of these measurements:</p>\n",
      "<table class=\"presentation\">\n",
      "<tr><td><strong>SS</strong></td><td nowrap>Same Subject</td><td>Mother and daughter clause share the same subject</td></tr>\n",
      "<tr><td><strong>SR</strong></td><td nowrap>Same Referent</td><td>The subjects of mother and daughter clause have the same referent<br>(the daughter may, for instance, refer to its mother's subject referent via a synecdoche construction)</td></tr>\n",
      "<tr><td><strong>Syn</strong></td><td nowrap>Synonymous Subject</td><td>Mother and daughter clause have synonymous subject</td></tr>\n",
      "<tr><td><strong>DS</strong></td><td nowrap>Different Subjects</td><td>The subjects of mother and daughter clause refer to different participants</td></tr>\n",
      "</table>\n",
      "\n",
      "<p>For a limited number of patterns, further attention has been paid to developments in the set of participants. Thus, in patterns consisting of an <em>imperative</em> mother clause and an <em>X-yiqtol</em> daughter clause, inheritance of volitive meaning was only prevented from taking place if the daughter clause introduced a new animate participant as its subject. For these and similar cases, we have used the following descriptions:</p>\n",
      "<table class=\"presentation\">\n",
      "<tr><td><strong>New Agent</strong></td><td>The daughter clause has as its subject another animate participant than its mother clause</td></tr>\n",
      "<tr><td><strong>New Set of Participants</strong></td><td>The daughter clause introduces a new set of participants that was not yet present in the mother clause</td></tr>\n",
      "</table>\n",
      "\n",
      "<p>For more information on how continuity and discontinuity at the level of participants influences the assignment of functionality to clauses in specific clause patterns, we refer the reader to our dissertation.</p>\n",
      "\n",
      "<p>Finally, in some patterns (syntactic and semantic) parallelism has consequences for the discourse functions adopted by the respective clauses. In such cases, parallelism has been detected and noted down among the observations with regard to the set of participants, since such parallel clauses usually imply a high degree of continuation at the participant level.</p>"
     ]
    },
    {
     "cell_type": "heading",
     "level": 3,
     "metadata": {},
     "source": [
      "References"
     ]
    },
    {
     "cell_type": "markdown",
     "metadata": {},
     "source": [
      "<ul>\n",
      "<li>Kalkman, G.J., 'In Search of a Verbal System in Biblical Hebrew Poetry: a Computer-Assisted Analysis of Syntactic Patterns', (Digital Humanities Quarterly, 2014), pp.</li>\n",
      "<li>Kalkman, G.J., <em>Verbal Forms in Biblical Hebrew Poetry: Poetical Freedom or Linguistic System?</em>, (dissertation, VU University Amsterdam, Faculty of Theology; 2015), ch.5</li>\n",
      "</ul>"
     ]
    }
   ],
   "metadata": {}
  }
 ]
}