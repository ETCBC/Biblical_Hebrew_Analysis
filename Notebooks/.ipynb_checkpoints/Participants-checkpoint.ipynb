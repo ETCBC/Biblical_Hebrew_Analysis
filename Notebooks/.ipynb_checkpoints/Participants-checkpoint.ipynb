{
 "metadata": {
  "name": ""
 },
 "nbformat": 3,
 "nbformat_minor": 0,
 "worksheets": [
  {
   "cells": [
    {
     "cell_type": "heading",
     "level": 1,
     "metadata": {},
     "source": [
      "Participants"
     ]
    },
    {
     "cell_type": "code",
     "collapsed": false,
     "input": [
      "%%html\n",
      "<style>\n",
      "\n",
      "table.presentation, table.presentation td {\n",
      "    border-style:hidden;\n",
      "    color: Maroon;\n",
      "}\n",
      "\n",
      "table.presentation td {\n",
      "    padding:0px 15px 0px 0px;\n",
      "}\n",
      "</style>"
     ],
     "language": "python",
     "metadata": {},
     "outputs": [
      {
       "html": [
        "<style>\n",
        "\n",
        "table.presentation, table.presentation td {\n",
        "    border-style:hidden;\n",
        "    color: Maroon;\n",
        "}\n",
        "\n",
        "table.presentation td {\n",
        "    padding:0px 15px 0px 0px;\n",
        "}\n",
        "</style>"
       ],
       "metadata": {},
       "output_type": "display_data",
       "text": [
        "<IPython.core.display.HTML at 0x3d09350>"
       ]
      }
     ],
     "prompt_number": 1
    },
    {
     "cell_type": "markdown",
     "metadata": {},
     "source": [
      "<p>Developments at the level of participants can have a significant impact on the distribution of functionalities among clauses. Many of the calculations made by our Java programme have to do with measuring continuity and discontinuity in the set of participants. The results of these calculations are presented in the 'Patterns' sections of the individual Psalm notebooks and in our 'Concordance of Patterns'.</p>\n",
      "<p>First of all, for all clause patterns consisting of a mother clause and a non-dependent daughter clause (that is: all patterns belonging to subcategories 1 and 2 as defined in the <a href=\"ConcordanceOfPatterns.ipynb\" title=\"_blank\">Concordance of Patterns</a>) the degree of continuity in subject reference has been determined. The following labels are used to represent the outcomes of these measurements:</p>\n",
      "<table class=\"presentation\">\n",
      "<tr><td><strong>SS</strong></td><td nowrap>Same Subject</td><td>Mother and daughter clause share the same subject</td></tr>\n",
      "<tr><td><strong>SR</strong></td><td nowrap>Same Referent</td><td>The subjects of mother and daughter clause have the same referent<br>(the daughter may, for instance, refer to its mother's subject referent via a synecdoche construction)</td></tr>\n",
      "<tr><td><strong>Syn</strong></td><td nowrap>Synonymous Subject</td><td>Mother and daughter clause have synonymous subject</td></tr>\n",
      "<tr><td><strong>DS</strong></td><td nowrap>Different Subjects</td><td>The subjects of mother and daughter clause refer to different participants</td></tr>\n",
      "</table>\n",
      "\n",
      "<p>For a limited number of patterns, further attention has been paid to developments in the set of participants. Thus, in patterns consisting of an <em>imperative</em> mother clause and an <em>X-yiqtol</em> daughter clause, inheritance of volitive meaning was only prevented from taking place if the daughter clause introduced a new animate participant as its subject. For these and similar cases, we have used the following descriptions:</p>\n",
      "<table class=\"presentation\">\n",
      "<tr><td><strong>New Agent</strong></td><td>The daughter clause has as its subject another animate participant than its mother clause</td></tr>\n",
      "<tr><td><strong>New Set of Participants</strong></td><td>The daughter clause introduces a new set of participants that was not yet present in the mother clause</td></tr>\n",
      "</table>\n",
      "\n",
      "<p>For more information on how continuity and discontinuity at the level of participants influences the assignment of functionality to clauses in specific clause patterns, we refer the reader to our dissertation.</p>\n",
      "\n",
      "<p>Finally, in some patterns (syntactic and semantic) parallelism has consequences for the discourse functions adopted by the respective clauses. In such cases, parallelism has been detected and noted down among the observations with regard to the set of participants, since such parallel clauses usually imply a high degree of continuation at the participant level.</p>"
     ]
    },
    {
     "cell_type": "heading",
     "level": 3,
     "metadata": {},
     "source": [
      "References"
     ]
    },
    {
     "cell_type": "markdown",
     "metadata": {},
     "source": [
      "<ul>\n",
      "<li>Kalkman, G.J., 'In Search of a Verbal System in Biblical Hebrew Poetry: a Computer-Assisted Analysis of Syntactic Patterns', (Digital Humanities Quarterly, 2014), pp.</li>\n",
      "<li>Kalkman, G.J., <em>Verbal Forms in Biblical Hebrew Poetry: Poetical Freedom or Linguistic System?</em>, (dissertation, VU University Amsterdam, Faculty of Theology; 2015), ch.5</li>\n",
      "</ul>"
     ]
    },
    {
     "cell_type": "code",
     "collapsed": false,
     "input": [],
     "language": "python",
     "metadata": {},
     "outputs": []
    }
   ],
   "metadata": {}
  }
 ]
}