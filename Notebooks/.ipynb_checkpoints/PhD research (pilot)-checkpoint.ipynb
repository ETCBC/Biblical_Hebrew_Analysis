{
 "metadata": {
  "name": ""
 },
 "nbformat": 3,
 "nbformat_minor": 0,
 "worksheets": [
  {
   "cells": [
    {
     "cell_type": "code",
     "collapsed": false,
     "input": [
      "%%html\n",
      "<style>\n",
      "div {\n",
      "    font-size: small;\n",
      "}\n",
      "div.output_text pre{\n",
      "    color: DarkBlue;\n",
      "    font-size:12px;\n",
      "}\n",
      "\n",
      "</style>\n"
     ],
     "language": "python",
     "metadata": {},
     "outputs": [
      {
       "html": [
        "<style>\n",
        "div {\n",
        "    font-size: small;\n",
        "}\n",
        "div.output_text pre{\n",
        "    color: DarkBlue;\n",
        "    font-size:12px;\n",
        "}\n",
        "\n",
        "</style>"
       ],
       "metadata": {},
       "output_type": "display_data",
       "text": [
        "<IPython.core.display.HTML at 0x3c63190>"
       ]
      }
     ],
     "prompt_number": 3
    },
    {
     "cell_type": "code",
     "collapsed": false,
     "input": [
      "import sys\n",
      "sys.getdefaultencoding()"
     ],
     "language": "python",
     "metadata": {},
     "outputs": [
      {
       "metadata": {},
       "output_type": "pyout",
       "prompt_number": 4,
       "text": [
        "'utf-8'"
       ]
      }
     ],
     "prompt_number": 4
    },
    {
     "cell_type": "code",
     "collapsed": false,
     "input": [
      "f = open('psalmen001Raw.txt', 'r')\n",
      "\n",
      "lines = []\n",
      "\n",
      "for line in f:\n",
      "    lines.append(line)\n",
      "\n",
      "f.close()"
     ],
     "language": "python",
     "metadata": {},
     "outputs": [],
     "prompt_number": 5
    },
    {
     "cell_type": "code",
     "collapsed": false,
     "input": [
      "import re\n",
      "\n",
      "data = []\n",
      "\n",
      "for line in lines:\n",
      "    data_in_line = re.split(';',line)\n",
      "    data.append(data_in_line)"
     ],
     "language": "python",
     "metadata": {},
     "outputs": [],
     "prompt_number": 6
    },
    {
     "cell_type": "code",
     "collapsed": false,
     "input": [
      "conversion_to_utf8 = {'>': \"\\u05D0\",\n",
      "                      'B': \"\\u05D1\",\n",
      "                      'G': \"\\u05D2\",\n",
      "                      'D': \"\\u05D3\",\n",
      "                      'H': \"\\u05D4\",\n",
      "                      'W': \"\\u05D5\",\n",
      "                      'Z': \"\\u05D6\",\n",
      "                      'X': \"\\u05D7\",\n",
      "                      'V': \"\\u05D8\",\n",
      "                      'J': \"\\u05D9\",\n",
      "                      'K': \"\\u05DB\",\n",
      "                      'L': \"\\u05DC\",\n",
      "                      'M': \"\\u05DE\",\n",
      "                      'N': \"\\u05E0\",\n",
      "                      'S': \"\\u05E1\",\n",
      "                      '<': \"\\u05E2\",\n",
      "                      'P': \"\\u05E4\",\n",
      "                      'Y': \"\\u05E6\",\n",
      "                      'Q': \"\\u05E7\",\n",
      "                      'R': \"\\u05E8\",\n",
      "                      'C': \"\\u05E9\\u05C1\",\n",
      "                      'F': \"\\u05E9\\u05C2\",\n",
      "                      'T': \"\\u05EA\",\n",
      "                      'p': \"\\u05E3\",\n",
      "                      'm': \"\\u05DD\",\n",
      "                      'n': \"\\u05DF\",\n",
      "                      'k': \"\\u05DA\",\n",
      "                      'y': \"\\u05E5\",\n",
      "                      '_': \"-\",\n",
      "                      '-': \"-\",\n",
      "                      '[': \"[\",\n",
      "                      ']': \"]\",\n",
      "                      '/': \"/\",\n",
      "                      ' ': \" \",\n",
      "                      '\\0': \"\"}\n",
      "\n",
      "def set_word_to_unicode(sp):\n",
      "    result = \"\"\n",
      "    for c in sp:\n",
      "        result += (conversion_to_utf8[c])\n",
      "    return result\n",
      "        \n",
      "def analyze_phrase(subphrases):\n",
      "    phrasesNew = \"\"\n",
      "\n",
      "    if (len(subphrases) > 1):\n",
      "        i = 0\n",
      "        while (i < (len(subphrases) - 1)):\n",
      "            phrasesNew += (set_word_to_unicode(subphrases[i]) + \" \")\n",
      "            i += 1\n",
      "        label = subphrases[len(subphrases) - 1]\n",
      "        phrasesNew += label + \" \"\n",
      "    else:\n",
      "        sf = re.split('-', subphrases[0])\n",
      "        phrasesNew += set_word_to_unicode(sf[0]) + \"-\" + sf[1]\n",
      "    return phrasesNew\n",
      "\n",
      "def analyze_phrases(phrases):\n",
      "    final_result = \"\"\n",
      "    i = 0\n",
      "    for phrase in reversed(phrases):\n",
      "        final_result += analyze_phrase(phrase.split())\n",
      "        if i > 0:\n",
      "            final_result = final_result.strip() + \"] \"\n",
      "        i += 1\n",
      "    return final_result\n",
      "\n",
      "def set_to_unicode(transcription, max_line_length):\n",
      "    result = \"\"\n",
      "    start_of_line = \"\"\n",
      "    i = 0\n",
      "    for c in transcription:\n",
      "        if c == '[':\n",
      "            break\n",
      "        start_of_line += c\n",
      "        i += 1\n",
      "    rest_of_line = transcription[i:]\n",
      "    whitespace = (max_line_length - len(transcription)) * \" \"\n",
      "    result += whitespace + analyze_phrases(rest_of_line.split('] ')) + (''.join(reversed(start_of_line)))\n",
      "    return result\n",
      "\n",
      "def calculate_max_length(data):\n",
      "    result = 0\n",
      "    for d in data:\n",
      "        transcription = d[19]\n",
      "        if len(transcription) > result:\n",
      "            result = len(transcription)\n",
      "    return result\n",
      "        \n",
      "def analyze_transcription(data):\n",
      "    unicode_lines = []\n",
      "    max_line_length = calculate_max_length(data)\n",
      "    for d in data:\n",
      "        transcription = d[19]\n",
      "        print (transcription)\n",
      "        unicode_heb = set_to_unicode(transcription, max_line_length)\n",
      "        unicode_lines.append(unicode_heb)\n",
      "    return unicode_lines\n",
      "\n",
      "unicode_lines = analyze_transcription(data)\n",
      "for line in unicode_lines:\n",
      "    print (line)"
     ],
     "language": "python",
     "metadata": {},
     "outputs": [],
     "prompt_number": 7
    },
    {
     "cell_type": "code",
     "collapsed": false,
     "input": [
      "i = 0\n",
      "print (\"Psalmen 1\\n\")\n",
      "for d in data:\n",
      "    print (\"{:3s} {:80.80s}\\t{:4s}\\t{}\".format(d[0],unicode_lines[i],d[2],d[20]))                                                                                                                                  \n",
      "    i += 1"
     ],
     "language": "python",
     "metadata": {},
     "outputs": [
      {
       "output_type": "stream",
       "stream": "stdout",
       "text": [
        "Psalmen 1\n",
        "\n",
        "001                                                          [\u05d0\u05e9\u05c1\u05e8\u05d9 \u05d4-\u05d0\u05d9\u05e9\u05c1 <PC>]    \tNmCl\tthese are the happinesses of the man\n",
        "001             [\u05d1-\u05e2\u05e6\u05ea \u05e8\u05e9\u05c1\u05e2\u05d9\u05de <Co>] [\u05d4\u05dc\u05db <Pr>] [\u05dc\u05d0 <Ng>] [\u05d0\u05e9\u05c1\u05e8 <Re>]   |   |        \txQt0\twho/which has not walked\n",
        "001       [\u05e2\u05de\u05d3 <Pr>] [\u05dc\u05d0 <Ng>] [\u05d1-\u05d3\u05e8\u05db \u05d7\u05d8\u05d0\u05d9\u05de <Co>] [\u05d5-<Cj>]   |       |   |          \tWxQ0\tand (who/which) has not stood\n",
        "001       [\u05d9\u05e9\u05c1\u05d1 <Pr>] [\u05dc\u05d0 <Ng>] [\u05d1-\u05de\u05d5\u05e9\u05c1\u05d1 \u05dc\u05e6\u05d9\u05de <Co>] [\u05d5-<Cj>]   |       |   |        \tWxQ0\tand (who/which) has not sat\n",
        "002                [\u05d7\u05e4\u05e6\u05d5 <Su>] [\u05d1-\u05ea\u05d5\u05e8\u05ea \u05d9\u05d4\u05d5\u05d4 <PC>] [\u05db\u05d9 \u05d0\u05de <Cj>]       |   |          \tNmCl\t(for whom/which is true that) however, his pleasure is in/among the instruction of YHWH\n",
        "002 [\u05d9\u05d5\u05de\u05de \u05d5-\u05dc\u05d9\u05dc\u05d4 <Ti>] [\u05d9\u05d4\u05d2\u05d4 <Pr>] [\u05d1-\u05ea\u05d5\u05e8\u05ea\u05d5 <Co>] [\u05d5-<Cj>]           |   |          \tWxY0\tand (who/which) mutters\n",
        "003                                    [\u05db-\u05e2\u05e6 <PC>] [\u05d4\u05d9\u05d4 <Pr>] [\u05d5-<Cj>]   |          \tWQt0\tthen he will be as a tree\n",
        "003                     [\u05e2\u05dc \u05e4\u05dc\u05d2\u05d9 \u05de\u05d9\u05de <Co>] [\u05e9\u05c1\u05ea\u05d5\u05dc <PC>]   |   |   |       |         \tPtcp\twho/which is being transplanted\n",
        "003         [\u05d1-\u05e2\u05ea\u05d5 <Ti>] [\u05d9\u05ea\u05e0 <Pr>] [\u05e4\u05e8\u05d9\u05d5 <Ob>] [\u05d0\u05e9\u05c1\u05e8 <Re>]   |   |       |         \txYq0\twho/which gives his fruit\n",
        "003         [\u05d9\u05d1\u05d5\u05dc <Pr>] [\u05dc\u05d0 <Ng>] [\u05e2\u05dc\u05d4\u05d5 <Su>] [\u05d5-<Cj>]       |   |       |          \tWXxY\tand/but (for whom/which is true that) his leafage does not wither\n",
        "003                                         [\u05db\u05dc <Su>] [\u05d5-<Cj>]   |       |          \tDefc\tand/but all\n",
        "003                             [\u05d9\u05e2\u05e9\u05c2\u05d4 <Pr>] [\u05d0\u05e9\u05c1\u05e8 <Re>]   |       |       |        \txYq0\tfor whom/which is true that he makes\n",
        "003                                           [\u05d9\u05e6\u05dc\u05d9\u05d7 <Pr>]       |       |          \tWXYq\tis strong/succesful\n",
        "004                             [\u05d4-\u05e8\u05e9\u05c1\u05e2\u05d9\u05de <Su>] [\u05db\u05e0 <PC>] [\u05dc\u05d0 <Ng>]       |         \tNmCl\tthe guilty ones are not thus\n",
        "004                                  [\u05db--\u05de\u05e6 <PC>] [\u05db\u05d9 \u05d0\u05de <Cj>]           |          \tNmCl\thowever, they are as the chaff\n",
        "004                     [\u05e8\u05d5\u05d7 <Su>] [\u05ea\u05d3\u05e4\u05e0\u05d5 <PO>] [\u05d0\u05e9\u05c1\u05e8 <Re>]               |         \txYqX\tfor whom/which is true that a wind scatters him\n",
        "005         [\u05d1--\u05de\u05e9\u05c1\u05e4\u05d8 <Aj>] [\u05e8\u05e9\u05c1\u05e2\u05d9\u05de <Su>] [\u05d9\u05e7\u05de\u05d5 <Pr>] [\u05dc\u05d0 <Ng>] [\u05e2\u05dc \u05db\u05e0 <Aj>]        \txYqX\ttherefore guilty ones do not arise (against)\n",
        "005                      [\u05d1-\u05e2\u05d3\u05ea \u05e6\u05d3\u05d9\u05e7\u05d9\u05de <Aj>] [\u05d7\u05d8\u05d0\u05d9\u05de <Su>] [\u05d5-<Cj>]   |              \tEllp\tand sinful ones \n",
        "006                [\u05d3\u05e8\u05db \u05e6\u05d3\u05d9\u05e7\u05d9\u05de <Ob>] [\u05d9\u05d4\u05d5\u05d4 <Su>] [\u05d9\u05d5\u05d3\u05e2 <PC>] [\u05db\u05d9 <Cj>]              \tPtcp\tgiven that YHWH is knowing a way of just ones\n",
        "006                          [\u05ea\u05d0\u05d1\u05d3 <Pr>] [\u05d3\u05e8\u05db \u05e8\u05e9\u05c1\u05e2\u05d9\u05de <Su>] [\u05d5-<Cj>]                 \tWXYq\tand/but (given that) a way of guilty ones perishes\n"
       ]
      }
     ],
     "prompt_number": 8
    },
    {
     "cell_type": "code",
     "collapsed": false,
     "input": [
      "print (\"ClauseAtomFunctionality: inheritance and blocking of volitive and non-volitive functionality\")\n",
      "print (\"\\n\\n{:10s} {:1s} {:14s} {:1s} {:61s} {:1s} {:4s} {:1s} {}\".format(\"Structure\", \"|\", \"Ling.Features\", \"|\", \"ClauseAtomFunctionality: volitivity\", \"|\", \"Patt\", \"|\", \"Text\")); \n",
      "print (\"{:3s} {:3s} {:2s} {:1s} {:4s} {:4s} {:4s} {:1s} {:8s} {:7s} {:8s} {:8s} {:8s} {:8s} {:8s} {:1s} {:4s} {:1s} {}\\n\".format(\"Vs\", \"Ln\", \"\\u00A7\", \"|\", \"PNG\", \"ClTp\", \"CAR\", \"|\", \"DefFu\", \"Morph\", \"Inhtble\", \"Inherit\", \"MDMod\", \"AftBlock\", \"FinalFu\", \"|\", \"#Pat\", \"|\", \"\"))\n",
      "\n",
      "i = 0\n",
      "for d in data:\n",
      "    print (\"{:3s} {:3s} {:2s} {:1s} {:4s} {:4s} {:4s} {:1s} {:8s} {:7s} {:8s} {:8s} {:8s} {:8s} {:8s} {:1s} {:4s} {:1s} {}\".format(d[0],d[4],d[5],\"|\",d[1],d[2],d[3],\"|\",d[7],d[8],d[9],d[10],d[11],d[12],d[13],\"|\",d[6],\"|\",unicode_lines[i]))\n",
      "    i += 1"
     ],
     "language": "python",
     "metadata": {},
     "outputs": [
      {
       "output_type": "stream",
       "stream": "stdout",
       "text": [
        "ClauseAtomFunctionality: inheritance and blocking of volitive and non-volitive functionality\n",
        "\n",
        "\n",
        "Structure  | Ling.Features  | ClauseAtomFunctionality: volitivity                           | Patt | Text\n",
        "Vs  Ln  \u00a7  | PNG  ClTp CAR  | DefFu    Morph   Inhtble  Inherit  MDMod    AftBlock FinalFu  | #Pat | \n",
        "\n",
        "001 1   1  | ---  NmCl      | nomin.                                               nomin.   | 0    |                                                          [\u05d0\u05e9\u05c1\u05e8\u05d9 \u05d4-\u05d0\u05d9\u05e9\u05c1 <PC>]  \n",
        "001 2   1  | 3sgm xQt0 Attr | ind.                                                 ind.     | 1013 |             [\u05d1-\u05e2\u05e6\u05ea \u05e8\u05e9\u05c1\u05e2\u05d9\u05de <Co>] [\u05d4\u05dc\u05db <Pr>] [\u05dc\u05d0 <Ng>] [\u05d0\u05e9\u05c1\u05e8 <Re>]   |   |      \n",
        "001 3   1  | 3sgm WxQ0 Coor | ind.                               >CR               ind.     | 1061 |       [\u05e2\u05de\u05d3 <Pr>] [\u05dc\u05d0 <Ng>] [\u05d1-\u05d3\u05e8\u05db \u05d7\u05d8\u05d0\u05d9\u05de <Co>] [\u05d5-<Cj>]   |       |   |      \n",
        "001 4   1  | 3sgm WxQ0 Coor | ind.                               >CR               ind.     | 1061 |       [\u05d9\u05e9\u05c1\u05d1 <Pr>] [\u05dc\u05d0 <Ng>] [\u05d1-\u05de\u05d5\u05e9\u05c1\u05d1 \u05dc\u05e6\u05d9\u05de <Co>] [\u05d5-<Cj>]   |       |   |      \n",
        "002 5   1  | ---  NmCl Coor | nomin.                             >CR               nomin.   | 1691 |                [\u05d7\u05e4\u05e6\u05d5 <Su>] [\u05d1-\u05ea\u05d5\u05e8\u05ea \u05d9\u05d4\u05d5\u05d4 <PC>] [\u05db\u05d9 \u05d0\u05de <Cj>]       |   |      \n",
        "002 6   1  | 3sgm WxY0 Coor | non-vol.                           >CR               non-vol. | 741  | [\u05d9\u05d5\u05de\u05de \u05d5-\u05dc\u05d9\u05dc\u05d4 <Ti>] [\u05d9\u05d4\u05d2\u05d4 <Pr>] [\u05d1-\u05ea\u05d5\u05e8\u05ea\u05d5 <Co>] [\u05d5-<Cj>]           |   |      \n",
        "003 7   1  | 3sgm WQt0      | non-vol.                                             non-vol. | 1552 |                                    [\u05db-\u05e2\u05e6 <PC>] [\u05d4\u05d9\u05d4 <Pr>] [\u05d5-<Cj>]   |      \n",
        "003 8   1  | -sgm Ptcp Attr | ind.                                                 ind.     | 1623 |                     [\u05e2\u05dc \u05e4\u05dc\u05d2\u05d9 \u05de\u05d9\u05de <Co>] [\u05e9\u05c1\u05ea\u05d5\u05dc <PC>]   |   |   |       |      \n",
        "003 9   1  | 3sgm xYq0 Attr | non-vol.                                             non-vol. | 633  |         [\u05d1-\u05e2\u05ea\u05d5 <Ti>] [\u05d9\u05ea\u05e0 <Pr>] [\u05e4\u05e8\u05d9\u05d5 <Ob>] [\u05d0\u05e9\u05c1\u05e8 <Re>]   |   |       |      \n",
        "003 10  1  | 3sgm WXxY Coor | non-vol.                           >CR               non-vol. | 511  |         [\u05d9\u05d1\u05d5\u05dc <Pr>] [\u05dc\u05d0 <Ng>] [\u05e2\u05dc\u05d4\u05d5 <Su>] [\u05d5-<Cj>]       |   |       |      \n",
        "003 11  1  | ---  Defc      | -                                                    -        | 542  |                                         [\u05db\u05dc <Su>] [\u05d5-<Cj>]   |       |      \n",
        "003 12  1  | 3sgm xYq0 Attr | non-vol.                                             non-vol. | 593  |                             [\u05d9\u05e2\u05e9\u05c2\u05d4 <Pr>] [\u05d0\u05e9\u05c1\u05e8 <Re>]   |       |       |      \n",
        "003 13  1  | 3sgm WXYq      | non-vol.                                             non-vol. | 0    |                                           [\u05d9\u05e6\u05dc\u05d9\u05d7 <Pr>]       |       |      \n",
        "004 14  1  | ---  NmCl      | nomin.                                               nomin.   | 1712 |                             [\u05d4-\u05e8\u05e9\u05c1\u05e2\u05d9\u05de <Su>] [\u05db\u05e0 <PC>] [\u05dc\u05d0 <Ng>]       |      \n",
        "004 15  1  | ---  NmCl      | nomin.                                               nomin.   | 1731 |                                  [\u05db--\u05de\u05e6 <PC>] [\u05db\u05d9 \u05d0\u05de <Cj>]           |      \n",
        "004 16  1  | 3sgf xYqX Attr | non-vol.                                             non-vol. | 653  |                     [\u05e8\u05d5\u05d7 <Su>] [\u05ea\u05d3\u05e4\u05e0\u05d5 <PO>] [\u05d0\u05e9\u05c1\u05e8 <Re>]               |      \n",
        "005 17  1  | 3plm xYqX      | non-vol.                                             non-vol. | 0    |         [\u05d1--\u05de\u05e9\u05c1\u05e4\u05d8 <Aj>] [\u05e8\u05e9\u05c1\u05e2\u05d9\u05de <Su>] [\u05d9\u05e7\u05de\u05d5 <Pr>] [\u05dc\u05d0 <Ng>] [\u05e2\u05dc \u05db\u05e0 <Aj>]      \n",
        "005 18  1  | ---  Ellp      | -                                                    -        | 0    |                      [\u05d1-\u05e2\u05d3\u05ea \u05e6\u05d3\u05d9\u05e7\u05d9\u05de <Aj>] [\u05d7\u05d8\u05d0\u05d9\u05de <Su>] [\u05d5-<Cj>]   |          \n",
        "006 19  1  | -sgm Ptcp      | ind.                                                 ind.     | 1593 |                [\u05d3\u05e8\u05db \u05e6\u05d3\u05d9\u05e7\u05d9\u05de <Ob>] [\u05d9\u05d4\u05d5\u05d4 <Su>] [\u05d9\u05d5\u05d3\u05e2 <PC>] [\u05db\u05d9 <Cj>]          \n",
        "006 20  1  | 3sgf WXYq Coor | non-vol.                           KJ                non-vol. | 552  |                          [\u05ea\u05d0\u05d1\u05d3 <Pr>] [\u05d3\u05e8\u05db \u05e8\u05e9\u05c1\u05e2\u05d9\u05de <Su>] [\u05d5-<Cj>]              \n"
       ]
      }
     ],
     "prompt_number": 10
    },
    {
     "cell_type": "code",
     "collapsed": false,
     "input": [
      "print (\"Discourse Functionality\")\n",
      "print (\"\\n\\n{:10s} {:1s} {:14s} {:1s} {:35s} {:1s} {:4s} {:1s} {}\".format(\"Structure\", \"|\", \"Ling.Features\", \"|\", \"DiscourseFunctionality\", \"|\", \"Patt\", \"|\", \"Text\")); \n",
      "print (\"{:3s} {:3s} {:2s} {:1s} {:4s} {:4s} {:4s} {:1s} {:4s} {:4s} {:5s} {:12s} {:6s} {:1s} {:4s} {:1s} {}\\n\".format(\"Vs\", \"Ln\", \"\\u00A7\", \"|\", \"PNG\", \"ClTp\", \"CAR\", \"|\", \"Type\", \"Lev\", \"Persp\", \"DiscFunction\", \"Domain\", \"|\", \"#Pat\", \"|\", \"\"))\n",
      "\n",
      "i = 0\n",
      "for d in data:\n",
      "    print (\"{:3s} {:3s} {:2s} {:1s} {:4s} {:4s} {:4s} {:1s} {:4s} {:4s} {:5s} {:12s} {:6s} {:1s} {:4s} {:1s} {}\".format(d[0],d[4],d[5],\"|\",d[1],d[2],d[3],\"|\",d[14],d[15],d[16],d[17],d[18],\"|\",d[6],\"|\",unicode_lines[i]))\n",
      "    i += 1"
     ],
     "language": "python",
     "metadata": {},
     "outputs": [
      {
       "output_type": "stream",
       "stream": "stdout",
       "text": [
        "Discourse Functionality\n",
        "\n",
        "\n",
        "Structure  | Ling.Features  | DiscourseFunctionality              | Patt | Text\n",
        "Vs  Ln  \u00a7  | PNG  ClTp CAR  | Type Lev  Persp DiscFunction Domain | #Pat | \n",
        "\n",
        "001 1   1  | ---  NmCl      | disc main       (re)openMain        | 0    |                                                          [\u05d0\u05e9\u05c1\u05e8\u05d9 \u05d4-\u05d0\u05d9\u05e9\u05c1 <PC>]  \n",
        "001 2   1  | 3sgm xQt0 Attr | disc 2nd  retro opnAttr2ndR  AttrDm | 1013 |             [\u05d1-\u05e2\u05e6\u05ea \u05e8\u05e9\u05c1\u05e2\u05d9\u05de <Co>] [\u05d4\u05dc\u05db <Pr>] [\u05dc\u05d0 <Ng>] [\u05d0\u05e9\u05c1\u05e8 <Re>]   |   |      \n",
        "001 3   1  | 3sgm WxQ0 Coor | disc 2nd  retro crdAttr2ndR  AttrDm | 1061 |       [\u05e2\u05de\u05d3 <Pr>] [\u05dc\u05d0 <Ng>] [\u05d1-\u05d3\u05e8\u05db \u05d7\u05d8\u05d0\u05d9\u05de <Co>] [\u05d5-<Cj>]   |       |   |      \n",
        "001 4   1  | 3sgm WxQ0 Coor | disc 2nd  retro crdAttr2ndR  AttrDm | 1061 |       [\u05d9\u05e9\u05c1\u05d1 <Pr>] [\u05dc\u05d0 <Ng>] [\u05d1-\u05de\u05d5\u05e9\u05c1\u05d1 \u05dc\u05e6\u05d9\u05de <Co>] [\u05d5-<Cj>]   |       |   |      \n",
        "002 5   1  | ---  NmCl Coor | disc main       crdAttr>Fg   AttrDm | 1691 |                [\u05d7\u05e4\u05e6\u05d5 <Su>] [\u05d1-\u05ea\u05d5\u05e8\u05ea \u05d9\u05d4\u05d5\u05d4 <PC>] [\u05db\u05d9 \u05d0\u05de <Cj>]       |   |      \n",
        "002 6   1  | 3sgm WxY0 Coor | disc main zero  crdAttrMain  AttrDm | 741  | [\u05d9\u05d5\u05de\u05de \u05d5-\u05dc\u05d9\u05dc\u05d4 <Ti>] [\u05d9\u05d4\u05d2\u05d4 <Pr>] [\u05d1-\u05ea\u05d5\u05e8\u05ea\u05d5 <Co>] [\u05d5-<Cj>]           |   |      \n",
        "003 7   1  | 3sgm WQt0      | disc 2nd  forwd opn2ndF             | 1552 |                                    [\u05db-\u05e2\u05e6 <PC>] [\u05d4\u05d9\u05d4 <Pr>] [\u05d5-<Cj>]   |      \n",
        "003 8   1  | -sgm Ptcp Attr | disc main       opnAttrMain  AttrDm | 1623 |                     [\u05e2\u05dc \u05e4\u05dc\u05d2\u05d9 \u05de\u05d9\u05de <Co>] [\u05e9\u05c1\u05ea\u05d5\u05dc <PC>]   |   |   |       |      \n",
        "003 9   1  | 3sgm xYq0 Attr | disc main zero  opnAttrMain  AttrDm | 633  |         [\u05d1-\u05e2\u05ea\u05d5 <Ti>] [\u05d9\u05ea\u05e0 <Pr>] [\u05e4\u05e8\u05d9\u05d5 <Ob>] [\u05d0\u05e9\u05c1\u05e8 <Re>]   |   |       |      \n",
        "003 10  1  | 3sgm WXxY Coor | disc main zero  crdAttrMain  AttrDm | 511  |         [\u05d9\u05d1\u05d5\u05dc <Pr>] [\u05dc\u05d0 <Ng>] [\u05e2\u05dc\u05d4\u05d5 <Su>] [\u05d5-<Cj>]       |   |       |      \n",
        "003 11  1  | ---  Defc      |                 cnt2ndF>Fg          | 542  |                                         [\u05db\u05dc <Su>] [\u05d5-<Cj>]   |       |      \n",
        "003 12  1  | 3sgm xYq0 Attr | disc main zero  opnAttrMain  AttrDm | 593  |                             [\u05d9\u05e2\u05e9\u05c2\u05d4 <Pr>] [\u05d0\u05e9\u05c1\u05e8 <Re>]   |       |       |      \n",
        "003 13  1  | 3sgm WXYq      | disc main zero                      | 0    |                                           [\u05d9\u05e6\u05dc\u05d9\u05d7 <Pr>]       |       |      \n",
        "004 14  1  | ---  NmCl      | disc main       opnMain             | 1712 |                             [\u05d4-\u05e8\u05e9\u05c1\u05e2\u05d9\u05de <Su>] [\u05db\u05e0 <PC>] [\u05dc\u05d0 <Ng>]       |      \n",
        "004 15  1  | ---  NmCl      | disc main       cntMain             | 1731 |                                  [\u05db--\u05de\u05e6 <PC>] [\u05db\u05d9 \u05d0\u05de <Cj>]           |      \n",
        "004 16  1  | 3sgf xYqX Attr | disc main zero  opnAttrMain  AttrDm | 653  |                     [\u05e8\u05d5\u05d7 <Su>] [\u05ea\u05d3\u05e4\u05e0\u05d5 <PO>] [\u05d0\u05e9\u05c1\u05e8 <Re>]               |      \n",
        "005 17  1  | 3plm xYqX      | disc main zero  (re)openMain        | 0    |         [\u05d1--\u05de\u05e9\u05c1\u05e4\u05d8 <Aj>] [\u05e8\u05e9\u05c1\u05e2\u05d9\u05de <Su>] [\u05d9\u05e7\u05de\u05d5 <Pr>] [\u05dc\u05d0 <Ng>] [\u05e2\u05dc \u05db\u05e0 <Aj>]      \n",
        "005 18  1  | ---  Ellp      |                                     | 0    |                      [\u05d1-\u05e2\u05d3\u05ea \u05e6\u05d3\u05d9\u05e7\u05d9\u05de <Aj>] [\u05d7\u05d8\u05d0\u05d9\u05de <Su>] [\u05d5-<Cj>]   |          \n",
        "006 19  1  | -sgm Ptcp      | disc main       opnSbLnMain  SubDm  | 1593 |                [\u05d3\u05e8\u05db \u05e6\u05d3\u05d9\u05e7\u05d9\u05de <Ob>] [\u05d9\u05d4\u05d5\u05d4 <Su>] [\u05d9\u05d5\u05d3\u05e2 <PC>] [\u05db\u05d9 <Cj>]          \n",
        "006 20  1  | 3sgf WXYq Coor | disc main zero  crdSbLnMain  SubDm  | 552  |                          [\u05ea\u05d0\u05d1\u05d3 <Pr>] [\u05d3\u05e8\u05db \u05e8\u05e9\u05c1\u05e2\u05d9\u05de <Su>] [\u05d5-<Cj>]              \n"
       ]
      }
     ],
     "prompt_number": 11
    },
    {
     "cell_type": "code",
     "collapsed": false,
     "input": [
      "print (\"All calculations in one table...\")\n",
      "print (\"\\n\\n{:10s} {:1s} {:14s} {:1s} {:61s} {:1s} {:35s} {:1s} {:4s} {:1s} {}\".format(\"Structure\", \"|\", \"Ling.Features\", \"|\", \"ClauseAtomFunctionality: volitivity\", \"|\", \"DiscourseFunctionality\", \"|\", \"Patt\", \"|\", \"Hebrew text\")); \n",
      "print (\"{:3s} {:3s} {:2s} {:1s} {:4s} {:4s} {:4s} {:1s} {:8s} {:7s} {:8s} {:8s} {:8s} {:8s} {:8s} {:1s} {:4s} {:4s} {:5s} {:12s} {:6s} {:1s} {:4s} {:1s} {}\\n\".format(\"Vs\", \"Ln\", \"\\u00A7\", \"|\", \"PNG\", \"ClTp\", \"CAR\", \"|\", \"DefFu\", \"Morph\", \"Inhtble\", \"Inherit\", \"MDMod\", \"AftBlock\", \"FinalFu\", \"|\", \"Type\", \"Lev\", \"Persp\", \"DiscFunction\", \"Domain\", \"|\", \"#Pat\", \"|\", \"\"))\n",
      "\n",
      "i = 0\n",
      "for d in data:\n",
      "    print (\"{:3s} {:3s} {:2s} {:1s} {:4s} {:4s} {:4s} {:1s} {:8s} {:7s} {:8s} {:8s} {:8s} {:8s} {:8s} {:1s} {:4s} {:4s} {:5s} {:12s} {:6s} {:1s} {:4s} {:1s} {}\".format(d[0],d[4],d[5],\"|\",d[1],d[2],d[3],\"|\",d[7],d[8],d[9],d[10],d[11],d[12],d[13],\"|\",d[14],d[15],d[16],d[17],d[18],\"|\",d[6],\"|\",unicode_lines[i]))\n",
      "    i += 1"
     ],
     "language": "python",
     "metadata": {},
     "outputs": [
      {
       "output_type": "stream",
       "stream": "stdout",
       "text": [
        "All calculations in one table...\n",
        "\n",
        "\n",
        "Structure  | Ling.Features  | ClauseAtomFunctionality: volitivity                           | DiscourseFunctionality              | Patt | Hebrew text\n",
        "Vs  Ln  \u00a7  | PNG  ClTp CAR  | DefFu    Morph   Inhtble  Inherit  MDMod    AftBlock FinalFu  | Type Lev  Persp DiscFunction Domain | #Pat | \n",
        "\n",
        "001 1   1  | ---  NmCl      | nomin.                                               nomin.   | disc main       (re)openMain        | 0    |                                                          [\u05d0\u05e9\u05c1\u05e8\u05d9 \u05d4-\u05d0\u05d9\u05e9\u05c1 <PC>]  \n",
        "001 2   1  | 3sgm xQt0 Attr | ind.                                                 ind.     | disc 2nd  retro opnAttr2ndR  AttrDm | 1013 |             [\u05d1-\u05e2\u05e6\u05ea \u05e8\u05e9\u05c1\u05e2\u05d9\u05de <Co>] [\u05d4\u05dc\u05db <Pr>] [\u05dc\u05d0 <Ng>] [\u05d0\u05e9\u05c1\u05e8 <Re>]   |   |      \n",
        "001 3   1  | 3sgm WxQ0 Coor | ind.                               >CR               ind.     | disc 2nd  retro crdAttr2ndR  AttrDm | 1061 |       [\u05e2\u05de\u05d3 <Pr>] [\u05dc\u05d0 <Ng>] [\u05d1-\u05d3\u05e8\u05db \u05d7\u05d8\u05d0\u05d9\u05de <Co>] [\u05d5-<Cj>]   |       |   |      \n",
        "001 4   1  | 3sgm WxQ0 Coor | ind.                               >CR               ind.     | disc 2nd  retro crdAttr2ndR  AttrDm | 1061 |       [\u05d9\u05e9\u05c1\u05d1 <Pr>] [\u05dc\u05d0 <Ng>] [\u05d1-\u05de\u05d5\u05e9\u05c1\u05d1 \u05dc\u05e6\u05d9\u05de <Co>] [\u05d5-<Cj>]   |       |   |      \n",
        "002 5   1  | ---  NmCl Coor | nomin.                             >CR               nomin.   | disc main       crdAttr>Fg   AttrDm | 1691 |                [\u05d7\u05e4\u05e6\u05d5 <Su>] [\u05d1-\u05ea\u05d5\u05e8\u05ea \u05d9\u05d4\u05d5\u05d4 <PC>] [\u05db\u05d9 \u05d0\u05de <Cj>]       |   |      \n",
        "002 6   1  | 3sgm WxY0 Coor | non-vol.                           >CR               non-vol. | disc main zero  crdAttrMain  AttrDm | 741  | [\u05d9\u05d5\u05de\u05de \u05d5-\u05dc\u05d9\u05dc\u05d4 <Ti>] [\u05d9\u05d4\u05d2\u05d4 <Pr>] [\u05d1-\u05ea\u05d5\u05e8\u05ea\u05d5 <Co>] [\u05d5-<Cj>]           |   |      \n",
        "003 7   1  | 3sgm WQt0      | non-vol.                                             non-vol. | disc 2nd  forwd opn2ndF             | 1552 |                                    [\u05db-\u05e2\u05e6 <PC>] [\u05d4\u05d9\u05d4 <Pr>] [\u05d5-<Cj>]   |      \n",
        "003 8   1  | -sgm Ptcp Attr | ind.                                                 ind.     | disc main       opnAttrMain  AttrDm | 1623 |                     [\u05e2\u05dc \u05e4\u05dc\u05d2\u05d9 \u05de\u05d9\u05de <Co>] [\u05e9\u05c1\u05ea\u05d5\u05dc <PC>]   |   |   |       |      \n",
        "003 9   1  | 3sgm xYq0 Attr | non-vol.                                             non-vol. | disc main zero  opnAttrMain  AttrDm | 633  |         [\u05d1-\u05e2\u05ea\u05d5 <Ti>] [\u05d9\u05ea\u05e0 <Pr>] [\u05e4\u05e8\u05d9\u05d5 <Ob>] [\u05d0\u05e9\u05c1\u05e8 <Re>]   |   |       |      \n",
        "003 10  1  | 3sgm WXxY Coor | non-vol.                           >CR               non-vol. | disc main zero  crdAttrMain  AttrDm | 511  |         [\u05d9\u05d1\u05d5\u05dc <Pr>] [\u05dc\u05d0 <Ng>] [\u05e2\u05dc\u05d4\u05d5 <Su>] [\u05d5-<Cj>]       |   |       |      \n",
        "003 11  1  | ---  Defc      | -                                                    -        |                 cnt2ndF>Fg          | 542  |                                         [\u05db\u05dc <Su>] [\u05d5-<Cj>]   |       |      \n",
        "003 12  1  | 3sgm xYq0 Attr | non-vol.                                             non-vol. | disc main zero  opnAttrMain  AttrDm | 593  |                             [\u05d9\u05e2\u05e9\u05c2\u05d4 <Pr>] [\u05d0\u05e9\u05c1\u05e8 <Re>]   |       |       |      \n",
        "003 13  1  | 3sgm WXYq      | non-vol.                                             non-vol. | disc main zero                      | 0    |                                           [\u05d9\u05e6\u05dc\u05d9\u05d7 <Pr>]       |       |      \n",
        "004 14  1  | ---  NmCl      | nomin.                                               nomin.   | disc main       opnMain             | 1712 |                             [\u05d4-\u05e8\u05e9\u05c1\u05e2\u05d9\u05de <Su>] [\u05db\u05e0 <PC>] [\u05dc\u05d0 <Ng>]       |      \n",
        "004 15  1  | ---  NmCl      | nomin.                                               nomin.   | disc main       cntMain             | 1731 |                                  [\u05db--\u05de\u05e6 <PC>] [\u05db\u05d9 \u05d0\u05de <Cj>]           |      \n",
        "004 16  1  | 3sgf xYqX Attr | non-vol.                                             non-vol. | disc main zero  opnAttrMain  AttrDm | 653  |                     [\u05e8\u05d5\u05d7 <Su>] [\u05ea\u05d3\u05e4\u05e0\u05d5 <PO>] [\u05d0\u05e9\u05c1\u05e8 <Re>]               |      \n",
        "005 17  1  | 3plm xYqX      | non-vol.                                             non-vol. | disc main zero  (re)openMain        | 0    |         [\u05d1--\u05de\u05e9\u05c1\u05e4\u05d8 <Aj>] [\u05e8\u05e9\u05c1\u05e2\u05d9\u05de <Su>] [\u05d9\u05e7\u05de\u05d5 <Pr>] [\u05dc\u05d0 <Ng>] [\u05e2\u05dc \u05db\u05e0 <Aj>]      \n",
        "005 18  1  | ---  Ellp      | -                                                    -        |                                     | 0    |                      [\u05d1-\u05e2\u05d3\u05ea \u05e6\u05d3\u05d9\u05e7\u05d9\u05de <Aj>] [\u05d7\u05d8\u05d0\u05d9\u05de <Su>] [\u05d5-<Cj>]   |          \n",
        "006 19  1  | -sgm Ptcp      | ind.                                                 ind.     | disc main       opnSbLnMain  SubDm  | 1593 |                [\u05d3\u05e8\u05db \u05e6\u05d3\u05d9\u05e7\u05d9\u05de <Ob>] [\u05d9\u05d4\u05d5\u05d4 <Su>] [\u05d9\u05d5\u05d3\u05e2 <PC>] [\u05db\u05d9 <Cj>]          \n",
        "006 20  1  | 3sgf WXYq Coor | non-vol.                           KJ                non-vol. | disc main zero  crdSbLnMain  SubDm  | 552  |                          [\u05ea\u05d0\u05d1\u05d3 <Pr>] [\u05d3\u05e8\u05db \u05e8\u05e9\u05c1\u05e2\u05d9\u05de <Su>] [\u05d5-<Cj>]              \n"
       ]
      }
     ],
     "prompt_number": 12
    },
    {
     "cell_type": "code",
     "collapsed": false,
     "input": [],
     "language": "python",
     "metadata": {},
     "outputs": [],
     "prompt_number": 12
    },
    {
     "cell_type": "code",
     "collapsed": false,
     "input": [],
     "language": "python",
     "metadata": {},
     "outputs": []
    }
   ],
   "metadata": {}
  }
 ]
}