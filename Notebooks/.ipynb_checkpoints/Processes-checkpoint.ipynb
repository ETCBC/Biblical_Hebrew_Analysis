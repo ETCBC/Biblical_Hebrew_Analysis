{
 "metadata": {
  "name": ""
 },
 "nbformat": 3,
 "nbformat_minor": 0,
 "worksheets": [
  {
   "cells": [
    {
     "cell_type": "code",
     "collapsed": false,
     "input": [
      "import Theory"
     ],
     "language": "python",
     "metadata": {},
     "outputs": [
      {
       "html": [
        "\n",
        "<style>\n",
        "\n",
        "table.presentation, table.verbs, table.patterns, table.verbal_patterns {\n",
        "    margin-left: auto;\n",
        "    margin-right: auto;\n",
        "}\n",
        "\n",
        "table.presentation, table.presentation tr, table.presentation th, table.presentation td {\n",
        "    border-style:hidden;\n",
        "    color: Maroon;\n",
        "}\n",
        "\n",
        "table.verbs, table.verbs tr, table.verbs th, table.verbs td {\n",
        "    border-style:hidden;\n",
        "    color: Maroon;\n",
        "    font-size: small;\n",
        "}\n",
        "\n",
        "table.patterns, table.patterns tr, table.patterns th, table.patterns td {\n",
        "    border-style:hidden;\n",
        "    color: Maroon;\n",
        "    font-size: small;\n",
        "}\n",
        "\n",
        "table.verbal_patterns, table.verbal_patterns tr, table.verbal_patterns th, table.verbal_patterns td {\n",
        "    border-style:hidden;\n",
        "    color: Maroon;\n",
        "}\n",
        "\n",
        "table.presentation th, table.presentation td, table.patterns th, table.patterns td {\n",
        "    padding:0px 10px 0px 0px;\n",
        "}\n",
        "\n",
        "table.verbs td {\n",
        "    padding:5px 10px 5px 10px;\n",
        "}\n",
        "\n",
        "table.verbal_patterns td {\n",
        "    border-left-style:dotted;\n",
        "\tborder-width-left:thin;\n",
        "    border-right-style:dotted;\n",
        "\tborder-width-right:thin;\n",
        "}\n",
        "\n",
        "table.verbs td.dimension {\n",
        "    text-align:center;\n",
        "    text-decoration:underline;\n",
        "}\n",
        "\n",
        "table.verbs td.form {\n",
        "    font-style:italic;\n",
        "    font-weight:bold;\n",
        "    color:Maroon;\n",
        "}\n",
        "\n",
        "table.patterns td.head {\n",
        "    text-decoration:underline;\n",
        "}\n",
        "\n",
        "table.presentation th {\n",
        "    text-align:center;\n",
        "}\n",
        "\n",
        "figure.table {\n",
        "    text-align:center;\n",
        "    border-style:dotted;\n",
        "    border-width:thin;\n",
        "    max-width:50%;\n",
        "}\n",
        "\n",
        "figcaption {\n",
        "    font-style:italic;\n",
        "    font-size:x-small;\n",
        "    text-align:right;\n",
        "}\n",
        "\n",
        "span.hebrew, table.presentation td.hebrew {\n",
        "    text-align:right;\n",
        "    font-family:SBL Hebrew;\n",
        "}\n",
        "\n",
        "table.presentation td.outer {\n",
        "    vertical-align:top;\n",
        "}\n",
        "\n",
        "p.note {\n",
        "    font-size:small;\n",
        "    font-style:italic;\n",
        "}\n",
        "\n",
        "</style>\n"
       ],
       "metadata": {},
       "output_type": "display_data",
       "text": [
        "<IPython.core.display.HTML at 0x3c71210>"
       ]
      }
     ],
     "prompt_number": 1
    },
    {
     "cell_type": "heading",
     "level": 1,
     "metadata": {},
     "source": [
      "Processes"
     ]
    },
    {
     "cell_type": "markdown",
     "metadata": {},
     "source": [
      "<p>As one will notice in our analyses of the Psalms, a clause's <a href=\"DefaultFunctions\" target=\"_blank\">default function in terms of volitivity and non-volitivity</a> and its <a href=\"FinalFunctions\">final function</a> do not always match. This is the result of the possible activation of certain processes or mechanisms that prevent a <em>yiqtol</em> clause from fulfilling its default functionality.</p>\n",
      "<p>If such processes are at work, an exclamation mark is included in the <strong>Prcs</strong> column. By hovering over this exclamation mark, one can retrieve information about the exact mechanisms that are affecting the distribution of functionality in the respective clauses.</p>\n",
      "<p>Below, we briefly describe the different types of factors and processes that may influence the assignment of volitive and non-volitive functions.</p>"
     ]
    },
    {
     "cell_type": "heading",
     "level": 2,
     "metadata": {},
     "source": [
      "1. Morphological Marking"
     ]
    },
    {
     "cell_type": "markdown",
     "metadata": {},
     "source": [
      "In the hierarchy of linguistic markings of volitive functionality, morphology precedes syntax, that is: if a <em>yiqtol</em> clause contains a volitive (cohortative or jussive) form, it always is to be assigned a volitive function (except in some narrative contexts, see under <a href=\"#block\">3.3</a>. Since morphological marking of jussive meaning is only possible for a limited set of verbs - that is: 'hollow verbs' having either the <span class=\"hebrew\">&#1493;</span> or the <span class=\"hebrew\">&#1497;</span> as the second radical of their root, verbs having the <span class=\"hebrew\">&#1492;</span> as the final radical of their root, and the Hifil forms of all verbs excluding those having the <span class=\"hebrew\">&#1492;</span> as their final root radical or having identical second and third root radicals - the use of non-jussive forms, whether a jussive counterpart exists or not, cannot be taken as a mark of non-volitive functionality. Therefore, indicative morphology plays no role in the marking of (non-)volitivity. It is only volitive morphology that may overrule (or confirm) syntactic marking of (non-)volitivity.</p>\n",
      "<p>On a more concrete level this all entails that <em>yiqtol</em> clauses in which the verbal form does not take initial position, but is morphologically marked as cohortative or jussive, do not fulfill their default non-volitive function, but do express volitive meaning. In verb-initial <em>yiqtol</em> clauses, cohortative or jussive morphology confirms the type of default functionality marked by clause-level syntax.</p>"
     ]
    },
    {
     "cell_type": "heading",
     "level": 2,
     "metadata": {},
     "source": [
      "2. Inheritance of Functionality"
     ]
    },
    {
     "cell_type": "heading",
     "level": 3,
     "metadata": {},
     "source": [
      "2.1 Clause Pairs"
     ]
    },
    {
     "cell_type": "markdown",
     "metadata": {},
     "source": [
      "<p>Taking into account only morphological and syntactic features of an isolated clause itself is not sufficient for an adequate identification of volitive and non-volitive functionality. Instead, processes operating at levels higher than that of the individual clause may affect the assignment of (non-)volitive functionality to that clause. Therefore, it is important to look at the broader clause patterns which a clause is part of.</p>\n",
      "<p>In many types of clause sequences a daughter clause's default function can, under certain conditions, be overruled by a function which it inherits from its mother clause. Such inheritance only takes place if there is a sufficient level of continuity between the two clauses. Thus, mechanisms of inheritance are more likely to be activated in case the two clauses share the same subject or agent or at least share the same set of <a href=\"Participants.ipynb\">participants</a>.</p>\n",
      "<p>In our dissertation (&#167;5.3), we elaborately discuss all types of clause pairs in which inheritance of (non-)volitive functionality may take place. Here, we will only briefly list these clause patterns and include a reference to their position in the <a href=\"ConcordanceOfPatterns.ipynb\" target=\"_blank\">The Concordance of Patterns</a>:</p>\n",
      "<table class=\"verbal_patterns\">\n",
      "<tr><th>Pattern</th><th>Default</th><th>Inheritance</th><th>Pattern number</th></tr>\n",
      "<tr><td>(waw-)X-yiqtol &#8594; &#8709;-yiqtol</td><td>non-volitive &#8594; volitive</td><td>non-volitive &#8594; non-volitive</td><td><a href=\"ConcordanceOfPatterns.ipynb\" target=\"_blank\">120-130</a></td></tr>\n",
      "<tr><td>(waw-)x-yiqtol &#8594; &#8709;-yiqtol</td><td>non-volitive &#8594; volitive</td><td>non-volitive &#8594; non-volitive</td><td><a href=\"ConcordanceOfPatterns.ipynb\" target=\"_blank\">140-150</a></td></tr>\n",
      "<tr><td>&nbsp;</td><td>&nbsp;</td><td>&nbsp;</td><td>&nbsp;</td></tr>\n",
      "<tr><td>(waw-)&#8709;-yiqtol &#8594; x-yiqtol</td><td>volitive &#8594; non-volitive</td><td>volitive &#8594; volitive</td><td><a href=\"ConcordanceOfPatterns.ipynb\" target=\"_blank\">580</a></td></tr>\n",
      "<tr><td>(waw-)&#8709;-yiqtol &#8594; X-yiqtol</td><td>volitive &#8594; non-volitive</td><td>volitive &#8594; volitive</td><td><a href=\"ConcordanceOfPatterns.ipynb\" target=\"_blank\">400</a></td></tr>\n",
      "<tr><td>&nbsp;</td><td>&nbsp;</td><td>&nbsp;</td><td>&nbsp;</td></tr>\n",
      "<tr><td>imperative &#8594; x-yiqtol</td><td>volitive &#8594; non-volitive</td><td>volitive &#8594; volitive</td><td><a href=\"ConcordanceOfPatterns.ipynb\" target=\"_blank\">570</a></td></tr>\n",
      "<tr><td>imperative &#8594; X-yiqtol</td><td>volitive &#8594; non-volitive</td><td>volitive &#8594; volitive</td><td><a href=\"ConcordanceOfPatterns.ipynb\" target=\"_blank\">390</a></td></tr>\n",
      "<tr><td>&nbsp;</td><td>&nbsp;</td><td>&nbsp;</td><td>&nbsp;</td></tr>\n",
      "<tr><td>(waw-)X-yiqtol &#8594; weyiqtol</td><td>non-volitive &#8594; volitive</td><td>non-volitive &#8594; non-volitive<br>volitive &#8594; volitive</td><td><a href=\"ConcordanceOfPatterns.ipynb\" target=\"_blank\">250-260</a></td></tr>\n",
      "<tr><td>(waw-)x-yiqtol &#8594; weyiqtol</td><td>non-volitive &#8594; volitive</td><td>non-volitive &#8594; non-volitive</td><td><a href=\"ConcordanceOfPatterns.ipynb\" target=\"_blank\">270-280</a></td></tr>\n",
      "<tr><td>&nbsp;</td><td>&nbsp;</td><td>&nbsp;</td><td>&nbsp;</td></tr>\n",
      "<tr><td>(waw-)&#8709;-yiqtol &#8594; waw-x-yiqtol</td><td>volitive &#8594; non-volitive</td><td>volitive &#8594; volitive</td><td><a href=\"ConcordanceOfPatterns.ipynb\" target=\"_blank\">670</a></td></tr>\n",
      "<tr><td>(waw-)&#8709;-yiqtol &#8594; waw-X-yiqtol</td><td>volitive &#8594; non-volitive</td><td>volitive &#8594; volitive</td><td><a href=\"ConcordanceOfPatterns.ipynb\" target=\"_blank\">490</a></td></tr>\n",
      "<tr><td>&nbsp;</td><td>&nbsp;</td><td>&nbsp;</td><td>&nbsp;</td></tr>\n",
      "<tr><td>imperative &#8594; waw-x-yiqtol</td><td>volitive &#8594; non-volitive</td><td>volitive &#8594; volitive</td><td><a href=\"ConcordanceOfPatterns.ipynb\" target=\"_blank\">660</a></td></tr>\n",
      "<tr><td>imperative &#8594; waw-X-yiqtol</td><td>volitive &#8594; non-volitive</td><td>volitive &#8594; volitive</td><td><a href=\"ConcordanceOfPatterns.ipynb\" target=\"_blank\">480</a></td></tr>\n",
      "<tr><td>&nbsp;</td><td>&nbsp;</td><td>&nbsp;</td><td>&nbsp;</td></tr>\n",
      "<tr><td>imperative &#8594; weqatal</td><td>volitive &#8594; non-volitive</td><td>volitive &#8594; volitive</td><td><a href=\"ConcordanceOfPatterns.ipynb\" target=\"_blank\">1390</a></td></tr>\n",
      "<tr><td>(waw-)&#8709;-yiqtol &#8594; weqatal</td><td>volitive &#8594; non-volitive</td><td>volitive &#8594; volitive</td><td><a href=\"ConcordanceOfPatterns.ipynb\" target=\"_blank\">1400-1410</a></td></tr>\n",
      "<tr><td>(waw-)X/x-yiqtol &#8594; weqatal</td><td>non-volitive &#8594; non-volitive</td><td>non-volitive &#8594; non-volitive</td><td><a href=\"ConcordanceOfPatterns.ipynb\" target=\"_blank\">1430-1450</a></td></tr>\n",
      "</table>"
     ]
    },
    {
     "cell_type": "heading",
     "level": 3,
     "metadata": {},
     "source": [
      "2.2 Clause Chains"
     ]
    },
    {
     "cell_type": "markdown",
     "metadata": {},
     "source": [
      "<p>Again, studying only pairs of clauses is not enough in order to arrive at a correct identification of volitive and non-volitive functionalities. This is so because mechanisms of inheritance are of a recursive nature. In the scheme below, clause C has clause B as its mother and may inherit a specific type of functionality from it. However, clause B is itself the daughter of clause A, from which it, too, may adopt certain functional values. Therefore, one should start at the root of the clause chain, which is clause A, and then work down through all subsequent (grand) daughter clauses until one arrives at clause C. If, for instance, clause B is a verb-initial <em>yiqtol</em> clause inheriting non-volitive functionality from clause A, it will no longer be able to pass on volitive functionality to its own daughter clause A.</p>\n",
      "\n",
      "<table class=\"presentation\">\n",
      "<tr><th>Clause</th><th>ClauseType</th><th>Default Function</th><th>Final Function</th></tr>\n",
      "<tr><td>Clause A</td><td><em>x-yiqtol</em></td><td>non-volitive</td><td>non-volitive</td></tr>\n",
      "<tr><td>&nbsp;&nbsp;&nbsp;&nbsp;&nbsp;&#8595;</td></tr>\n",
      "<tr><td>&nbsp;&nbsp;&nbsp;Clause B</td><td><em>&#8709;-yiqtol</em></td><td>volitive</td><td><strong>non-volitive</strong></td></tr>\n",
      "<tr><td>&nbsp;&nbsp;&nbsp;&nbsp;&nbsp;&nbsp;&nbsp;&#8595;</td></tr>\n",
      "<tr><td>&nbsp;&nbsp;&nbsp;&nbsp;&nbsp;Clause C</td><td><em>x-yiqtol</em></td><td>non-volitive</td><td><strong>non-volitive</strong></td></tr>\n",
      "</table>\n",
      "\n",
      "<p>In our dissertation (&#167;5.4) we discuss the following clause chains:</p>\n",
      "<table class=\"verbal_patterns\">\n",
      "<tr><th>Pattern</th><th>Default</th><th>Inheritance</th><th>Pattern number</th>\n",
      "<tr><td><em>[volitive]</em> &#8594; (waw-)X-yiqtol &#8594; &#8709;-yiqtol</td><td>volitive &#8594; non-volitive &#8594; volitive</td><td>volitive &#8594; volitive &#8594; volitive</td><td><a href=\"ConcordanceOfPatterns.ipynb\" target=\"_blank\">120-130</a></td></tr>\n",
      "<tr><td><em>[volitive]</em> &#8594; (waw-)x-yiqtol &#8594; &#8709;-yiqtol</td><td>volitive &#8594; non-volitive &#8594; volitive</td><td>volitive &#8594; volitive &#8594; volitive</td><td><a href=\"ConcordanceOfPatterns.ipynb\" target=\"_blank\">150-160</a></td></tr>\n",
      "<tr><td>&nbsp;</td><td>&nbsp;</td><td>&nbsp;</td><td>&nbsp;</td></tr>\n",
      "<tr><td><em>[non-volitive]</em> &#8594; &#8709;-yiqtol &#8594; x-yiqtol</td><td>non-volitive &#8594; volitive &#8594; non-volitive</td><td>non-volitive &#8594; non-volitive &#8594; non-volitive</td><td><a href=\"ConcordanceOfPatterns.ipynb\" target=\"_blank\">580</a></td></tr>\n",
      "<tr><td><em>[non-volitive]</em> &#8594; &#8709;-yiqtol &#8594; X-yiqtol</td><td>non-volitive &#8594; volitive &#8594; non-volitive</td><td>non-volitive &#8594; non-volitive &#8594; non-volitive</td><td><a href=\"ConcordanceOfPatterns.ipynb\" target=\"_blank\">400</a></td></tr>\n",
      "<tr><td>&nbsp;</td><td>&nbsp;</td><td>&nbsp;</td><td>&nbsp;</td></tr>\n",
      "<tr><td><em>[volitive]</em> &#8594; (waw-)X-yiqtol &#8594; weyiqtol</td><td>volitive &#8594; non-volitive &#8594; volitive</td><td>volitive &#8594; volitive &#8594; volitive</td><td><a href=\"ConcordanceOfPatterns.ipynb\" target=\"_blank\">260</a></td></tr>\n",
      "<tr><td><em>[volitive]</em> &#8594; (waw-)x-yiqtol &#8594; weyiqtol</td><td>volitive &#8594; non-volitive &#8594; volitive</td><td>volitive &#8594; volitive &#8594; volitive</td><td><a href=\"ConcordanceOfPatterns.ipynb\" target=\"_blank\">280</a></td></tr>\n",
      "<tr><td>&nbsp;</td><td>&nbsp;</td><td>&nbsp;</td><td>&nbsp;</td></tr>\n",
      "<tr><td><em>[non-volitive]</em> &#8594; &#8709;-yiqtol &#8594; waw-x-yiqtol</td><td>non-volitive &#8594; volitive &#8594; non-volitive</td><td>non-volitive &#8594; non-volitive &#8594; non-volitive</td><td><a href=\"ConcordanceOfPatterns.ipynb\" target=\"_blank\">670</a></td></tr>\n",
      "<tr><td><em>[non-volitive]</em> &#8594; &#8709;-yiqtol &#8594; waw-X-yiqtol</td><td>non-volitive &#8594; volitive &#8594; non-volitive</td><td>non-volitive &#8594; non-volitive &#8594; non-volitive</td><td><a href=\"ConcordanceOfPatterns.ipynb\" target=\"_blank\">490</a></td></tr>\n",
      "</table>"
     ]
    },
    {
     "cell_type": "heading",
     "level": 2,
     "metadata": {},
     "source": [
      "3. Blocking of Functionality"
     ]
    },
    {
     "cell_type": "heading",
     "level": 3,
     "metadata": {},
     "source": [
      "3.1 Multiple-duty Modifiers (MDM)"
     ]
    },
    {
     "cell_type": "markdown",
     "metadata": {},
     "source": [
      "<p id=\"MDM\">Clause opening elements sometimes do not only govern the clause in which they take initial position, but also one or multiple daughter clause(s) of this clause. If a verb-initial <em>yiqtol</em> clause inherits such a modifying element from an ancestor clause, it has to be reanalyzed as an <em>[x-]yiqtol</em> clause, in which the <em>[x-]</em> is not explicitly realized, but represents the <strong>multiple-duty modifier</strong> and so should be understood as implicitly present. As a result, the <em>yiqtol</em> clause is to be assigned a non-volitive function.</p>\n",
      "<p>We distinguish between three subclasses of multiple-duty modifiers:</p>\n",
      "<ol>\n",
      "<li>Interrogative pronouns and phrases: <span class = \"hebrew\">&#1500;&#1502;&#1492;</span>, <span class = \"hebrew\">&#1502;&#1497;</span>, <span class = \"hebrew\">&#1492;-</span>, <span class = \"hebrew\">&#1506;&#1491; &#1506;&#1504;&#1492;</span>, etc.</li>\n",
      "<li>Subordinate conjunctions (<span class = \"hebrew\">&#1499;&#1497;</span>, <span class = \"hebrew\">&#1488;&#1501;</span>, <span class=\"hebrew\">&#1500;-&#1502;&#1506;&#1503;</span>, <span class=\"hebrew\">&#1508;&#1503;</span>, etc.) and relative pronouns (<span class = \"hebrew\">&#1488;&#64298;&#1512;</span>, <span class = \"hebrew\">&#1494;&#64309;</span>, etc.)</li>\n",
      "<li>Deictic adverbs: <span class=\"hebrew\">&#1499;&#1492;</span>, <span class=\"hebrew\">&#1500;&#1499;&#1503;</span>, etc.\n",
      "</ol>\n",
      "<p>In our dissertation (&#167;5.3.1), we provide a discussion of all patterns in which <em>0-yiqtol</em> and <em>weyiqtol</em> daughter clauses inherit a multiple-duty modifier from their mother clause and therefore should no longer be assigned a volitive function:</p>\n",
      "<table class=\"presentation\">\n",
      "<tr><th>Pattern</th><th>Pattern number in Concordance</th>\n",
      "<tr><td>(MDM-)yiqtol &#8594; &#8709;-yiqtol</td><td><a href=\"ConcordanceOfPatterns.ipynb\" target=\"_blank\">120-150</a></td></tr>\n",
      "<tr><td>(MDM-)yiqtol &#8594; weyiqtol</td><td><a href=\"ConcordanceOfPatterns.ipynb\" target=\"_blank\">250-280</a></td></tr>\n",
      "<tr><td>(MDM-)qatal &#8594; &#8709;-yiqtol</td><td><a href=\"ConcordanceOfPatterns.ipynb\" target=\"_blank\">160</a></td></tr>\n",
      "<tr><td>(MDM-)participle &#8594; &#8709;-yiqtol</td><td><a href=\"ConcordanceOfPatterns.ipynb\" target=\"_blank\">190</a></td></tr>\n",
      "<tr><td>(MDM-)nominal clause &#8594; &#8709;-yiqtol</td><td><a href=\"ConcordanceOfPatterns.ipynb\" target=\"_blank\">200</a></td></tr>\n",
      "</table>\n",
      "\n",
      "<p>For more information on modifiers and multiple-duty modifiers, see <a href=\"MDModifier.ipynb\" target=\"_blank\">here</a>.</p>"
     ]
    },
    {
     "cell_type": "heading",
     "level": 3,
     "metadata": {},
     "source": [
      "3.2 Resumption of Explicit Subject"
     ]
    },
    {
     "cell_type": "markdown",
     "metadata": {},
     "source": [
      "<p>Sometimes and only in specific patterns fronted explicit subjects may function in a way similar to the multiple-duty modifiers. By being implicitly assumed in a <em>0-yiqtol</em> daughter clause, such explicit subjects prompt for a reanalysis of this daughter clause as an <em>[X-]yiqtol</em> clause. This is, however, only possible under strict conditions. Thus, the explicit subject has to take pre-verbal (or pre-predicate) position in the <em>0-yiqtol</em>'s mother clause.</p>\n",
      "<p>Our dissertation (&#167;5.3.2) offers several examples, which have been taken from the following types of clause patterns:</p>\n",
      "<table class=\"presentation\">\n",
      "<tr><th>Pattern</th><th>Pattern number in Concordance</th>\n",
      "<tr><td>(waw-)X-yiqtol &#8594; &#8709;-yiqtol</td><td><a href=\"ConcordanceOfPatterns.ipynb\" target=\"_blank\">130</a></td></tr>\n",
      "<tr><td>(waw-)(X/x-)qatal &#8594; weyiqtol</td><td><a href=\"ConcordanceOfPatterns.ipynb\" target=\"_blank\">160</a></td></tr>\n",
      "<tr><td>(X-)participle &#8594; &#8709;-yiqtol</td><td><a href=\"ConcordanceOfPatterns.ipynb\" target=\"_blank\">190</a></td></tr>\n",
      "<tr><td>nominal clause (subject-predicate) &#8594; &#8709;-yiqtol</td><td><a href=\"ConcordanceOfPatterns.ipynb\" target=\"_blank\">200</a></td></tr>\n",
      "</table>"
     ]
    },
    {
     "cell_type": "heading",
     "level": 3,
     "metadata": {},
     "source": [
      "3.3 Blocking in Communicative Domains"
     ]
    },
    {
     "cell_type": "markdown",
     "metadata": {},
     "source": [
      "<p class=\"block\">\n",
      "</p>"
     ]
    },
    {
     "cell_type": "markdown",
     "metadata": {},
     "source": [
      "<p id=\"block\">Besides the phenomena of the multiple-duty modifier and the ellipsis of an explicit subject Biblical Hebrew has yet another higher-level syntactic mechanism that blocks the default volitive functionality of <em>0-yiqtol</em> clauses. If such verb-initial <em>yiqtol</em> clauses are embedded in a narrative domain - i.e.: a chain of narrative <em>wayyiqtol</em> clauses - they are always prevented from expressing volitivity.</p>\n",
      "<p>It is interesting to note that this blocking of volitivity even takes place <strong>if the verbal form in the <em>0-yiqtol</em> clause is morphologically marked as jussive</strong>. On the basis of the <a href=\"DefaultDiscourseFunctions.ipynb\" target=\"_blank\">default discourse functions</a> of the <em>wayyiqtol</em> clause and the <em>0-yiqtol</em> clause we hold that the function of such narrative line interrupting <em>0-yiqtol</em> clauses is that of indicating a discourse shift from a narrative mode of communication to a more involved, discursive mode of communication. These <em>0-yiqtol</em> clauses are used for a vivid portrayal of specific historical events.</p>\n",
      "<p>Narrative chains of <em>wayyiqtol</em> clauses are rarely interrupted by <em>yiqtol</em> clauses in which the verbal form does not take initial position. Besides, such narrative-line interrupting non-verb-initial <em>yiqtol</em> clauses are different from their verb-initial counterparts in that they do not fulfill a vivifying function, but rather represent a step out of the narrative and provide some more general factual (non-historical) information.</p>\n",
      "<p>Examples of non-volitive <em>0-yiqtol</em> clauses embedded in a narrative domain of communication can be found under pattern number <a href=\"ConcordanceOfPatterns.ipynb\" target=\"_blank\">170</a> in the Concordance of Patterns and in our discussion of this type of clause patterns in the dissertation (&#167;5.3.3.1).</p>"
     ]
    },
    {
     "cell_type": "heading",
     "level": 3,
     "metadata": {},
     "source": [
      "References"
     ]
    },
    {
     "cell_type": "markdown",
     "metadata": {},
     "source": [
      "<ul>\n",
      "<li>Kalkman, G.J., 'In Search of a Verbal System in Biblical Hebrew Poetry: a Computer-Assisted Analysis of Syntactic Patterns', (Digital Humanities Quarterly, 2014), pp.</li>\n",
      "<li>Kalkman, G.J., <em>Verbal Forms in Biblical Hebrew Poetry: Poetical Freedom or Linguistic System?</em>, (dissertation, VU University Amsterdam, Faculty of Theology; 2015), ch.5</li>\n",
      "<li>On the 'double-duty modifier': Niccacci, A., 'The Biblical Hebrew Verbal System', in: S.E. Fassberg &amp; A. Hurvitz, <em>Biblical Hebrew in its Northwest Semitic Setting; Typological and Historical Perspectives</em> (Jerusalem: Hebrew University Magnes Press, 2006), pp.253, 258-261</li>\n",
      "</ul>"
     ]
    }
   ],
   "metadata": {}
  }
 ]
}