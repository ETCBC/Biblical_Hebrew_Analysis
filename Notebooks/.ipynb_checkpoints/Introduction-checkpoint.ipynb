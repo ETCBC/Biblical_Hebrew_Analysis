{
 "metadata": {
  "name": ""
 },
 "nbformat": 3,
 "nbformat_minor": 0,
 "worksheets": [
  {
   "cells": [
    {
     "cell_type": "markdown",
     "metadata": {},
     "source": [
      "This is a link to <a href=\"https://github.com/GinoKalkman/Biblical_Hebrew_Analysis/blob/master/Notebooks/PhD%20research%20(pilot).ipynb\">Psalm 1</a>."
     ]
    },
    {
     "cell_type": "code",
     "collapsed": false,
     "input": [],
     "language": "python",
     "metadata": {},
     "outputs": []
    }
   ],
   "metadata": {}
  }
 ]
}