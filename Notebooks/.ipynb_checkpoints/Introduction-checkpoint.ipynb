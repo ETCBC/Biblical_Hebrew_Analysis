{
 "metadata": {
  "name": ""
 },
 "nbformat": 3,
 "nbformat_minor": 0,
 "worksheets": [
  {
   "cells": [
    {
     "cell_type": "code",
     "collapsed": false,
     "input": [
      "import Psalms"
     ],
     "language": "python",
     "metadata": {},
     "outputs": [
      {
       "html": [
        "\n",
        "<style>\n",
        "\n",
        "table.presentation {\n",
        "    border-style:hidden;\n",
        "}\n",
        "\n",
        "table.presentation tr {\n",
        "    border-style:hidden;\n",
        "}\n",
        "\n",
        "table.presentation th {\n",
        "    padding:0px 15px 0px 0px;\n",
        "    border-style:hidden;\n",
        "    text-align:center;\n",
        "}\n",
        "\n",
        "table.presentation td {\n",
        "    padding:0px 5px 0px 0px;\n",
        "    border-style:hidden;\n",
        "}\n",
        "\n",
        "table.presentation td.unicode {\n",
        "    text-align:right;\n",
        "    font-family:SBL Hebrew;\n",
        "}\n",
        "\n",
        "table.categories {\n",
        "    margin-left: auto;\n",
        "    margin-right: auto;\n",
        "}\n",
        "\n",
        "table.categories, table.categories tr, table.categories th, table.categories td {\n",
        "    border-style:hidden;\n",
        "    color: Maroon;\n",
        "}\n",
        "\n",
        "div.navigation {\n",
        "    margin:auto;\n",
        "    width:50%;\n",
        "    font-size:small;\n",
        "    font-style:italic;\n",
        "}\n",
        "\n",
        "div.navigation form, div.navigation form input {\n",
        "    display: inline;\n",
        "}\n",
        "\n",
        "form input {\n",
        "    max-width: 20px;\n",
        "}\n",
        "\n",
        "div.button form input {\n",
        "\tmax-width:100%;\n",
        "}\n",
        "\n",
        "div.button {\n",
        "\tmax-width:15%;\n",
        "\tmargin:auto;\n",
        "}\n",
        "\n",
        "div.output {\n",
        "    font-size: small;\n",
        "    z-index:0;\n",
        "}\n",
        "\n",
        "div.front, div.front_a, div.front_b {\n",
        "    color: Crimson;\n",
        "}\n",
        "\n",
        "div.front, div.front_a {\n",
        "\ttext-align: center;\n",
        "}\n",
        "\n",
        "div.front_b div, div.front_a div {\n",
        "    display: none;\n",
        "} \n",
        "\n",
        "div.front div, div.front_hebrew div {\n",
        "    display: none;\n",
        "    position: relative;\n",
        "}\n",
        "\n",
        "div.front:hover div, div.front_a:hover div, div.front_b:hover div {\n",
        "    display: block;\n",
        "    max-width: 200px;\n",
        "}\n",
        "    \n",
        "div.front_hebrew:hover div {\n",
        "    display: block;\n",
        "}\n",
        "\n",
        "div.def_disc, div.factors {\n",
        "    font-size: x-small;\n",
        "    background-color:White;\n",
        "    z-index:1;\n",
        "    position:absolute;\n",
        "    font-family:SBL Hebrew;\n",
        "    line-height: 95%;\n",
        "}\n",
        "\n",
        "div.translation {\n",
        "    z-index:1;\n",
        "    position:absolute;\n",
        "    right:10%;\n",
        "    line-height: 90%;\n",
        "    font-size: x-small;\n",
        "}\n",
        "\n",
        "div.left {\n",
        "    border-left-style:dotted;\n",
        "    border-left-width:thin;\n",
        "}\n",
        "\n",
        "div.right {\n",
        "    border-right-style:dotted;\n",
        "    border-right-width:thin;\n",
        "}\n",
        "\n",
        "div.delimit {\n",
        "\tborder-top-width: thin;\n",
        "\tborder-top-style: dotted;\n",
        "}\n",
        "\n",
        "span.translation_verb{\n",
        "    color: Crimson;\n",
        "    font-weight: bold;\n",
        "}\n",
        "\n",
        "span.verb {\n",
        "    color: Crimson;\n",
        "}\n",
        "\n",
        "div.small {\n",
        "    font-size: xx-small;\t\n",
        "\tline-height: 95%;\n",
        "}\n",
        "\n",
        "</style>\n"
       ],
       "metadata": {},
       "output_type": "display_data",
       "text": [
        "<IPython.core.display.HTML at 0x3d83370>"
       ]
      }
     ],
     "prompt_number": 1
    },
    {
     "cell_type": "heading",
     "level": 1,
     "metadata": {},
     "source": [
      "Welcome!"
     ]
    },
    {
     "cell_type": "markdown",
     "metadata": {},
     "source": [
      "<p>Welcome to the website of Gino Kalkman! The website consists of a collection of Notebooks in which we present our translations and analyses of the 150 Psalms in the Hebrew Bible and our theory on the use of the verbal forms in Biblical Hebrew poetry. The website is complementary to the dissertation 'Verbal Forms in Biblical Hebrew Poetry: Poetical Freedom or Linguistic System?' <em>(forthcoming)</em>.</p>"
     ]
    },
    {
     "cell_type": "markdown",
     "metadata": {},
     "source": [
      "<p>An overview of all available theoretical and Psalm notebooks can be found in the <a href=\"Index.ipynb\" target=\"_blank\">INDEX</a>,"
     ]
    },
    {
     "cell_type": "heading",
     "level": 1,
     "metadata": {},
     "source": [
      "Research"
     ]
    },
    {
     "cell_type": "markdown",
     "metadata": {},
     "source": [
      "<p>Each of the 150 Psalms in the Hebrew Bible has been analyzed by means of a Java program which we developed ourselves. The program identifies the functionalities that are to be assigned to the verbal forms and clauses attested in a text and offers an automatically generated <a href=\"Translation.ipynb\" target=\"_blank\">translation</a> of the central elements in each clause. Thus, it translates - if present - the verbal predicate, the subject, the object and the predicate complement.</p>\n",
      "<p>The Java program takes as input a file containing data extracted from the linguistic database developed and maintained by the <strong>Eep Talstra Centre for Bible and Computer (ETCBC)</strong>. The data in this file result from analyses conducted at multiple linguistic levels, i.e.: morphological level, phrase level, clause level, and text level. Since our research focuses on patterns of verbal forms, we are most interested in the type of analysis that has been done (by ourselves) at the highest level, namely that of creating a syntactic hierarchy of the text, in which all clause atoms are given a place. This hierarchy enables us to identify the pairs of mother and daughter clauses that eventually have been assembled in our <a href=\"ConcordanceOfPatterns.ipynb\" target=\"_blank\">Concordance of Patterns</a>. These clause pairs prove to be of crucial importance for the correct determination of the functions of verbal forms and clauses.</p>\n",
      "<p>\n",
      "At this website we present the output generated by our program for each of the Psalms. Below we provide an example of such a presentation and will explain how to interpret it. \n",
      "</p>"
     ]
    },
    {
     "cell_type": "heading",
     "level": 1,
     "metadata": {},
     "source": [
      "Example"
     ]
    },
    {
     "cell_type": "markdown",
     "metadata": {},
     "source": [
      "<p>For each of the 150 Psalms we have created a separate notebook consisting of three sections:</p>\n",
      "<ol>\n",
      "<li>Presentation of Hebrew text and the translation generated by our Java program</li>\n",
      "<li>Analysis of active processes and parameters in the Psalm</li>\n",
      "<li>Overview of clause patterns attested in the Psalm</li>\n",
      "</ol>\n",
      "<p>Below we will show and explain how Ps 2: 1-2 is dealt with in each of these three sections.</p>"
     ]
    },
    {
     "cell_type": "heading",
     "level": 2,
     "metadata": {},
     "source": [
      "1. Translation of Ps 2 : 1-2"
     ]
    },
    {
     "cell_type": "code",
     "collapsed": false,
     "input": [
      "Psalms.print_translation(\"Input/psalmen002Raw.txt\", 4)"
     ],
     "language": "python",
     "metadata": {},
     "outputs": [
      {
       "html": [
        "<table class=\"presentation\" id=\"Translation\"><tr><th></th><th><a href=\"HebrewText.ipynb\" target=\"_blank\">Hebrew text</a></th><th><a href=\"ClauseLabels.ipynb\" target=\"_blank\">ClTp</a></th><th><a href=\"Translation.ipynb\" target=\"_blank\">Translation</a></th></tr><tr><td>001</td><td class=\"unicode\" nowrap>&nbsp;&nbsp;&nbsp;&nbsp;&nbsp;&nbsp;&nbsp;&nbsp;&nbsp;&nbsp;&nbsp;&nbsp;&nbsp;&nbsp;&nbsp;&nbsp;&nbsp;&nbsp;&nbsp;&nbsp;&nbsp;&nbsp;&nbsp;&nbsp;&nbsp;&nbsp;&nbsp;&nbsp;&nbsp;&nbsp;&nbsp;&nbsp;&nbsp;&nbsp;&nbsp;&nbsp;&nbsp;&nbsp;&nbsp;&nbsp;&nbsp;&nbsp;&nbsp;&nbsp;&nbsp;&nbsp;&nbsp;&nbsp;&nbsp;&nbsp;&nbsp;&nbsp;&nbsp;&nbsp;&nbsp;&nbsp;&nbsp;&nbsp;&nbsp;&nbsp;&nbsp;&nbsp;&nbsp;[&lt;Su&gt;&nbsp;\u05d2\u05d5\u05d9\u05dd]&nbsp;<span class=\"verb\">&nbsp;[&lt;Pr&gt;&nbsp;\u05e8\u05d2\u05e9\u05c1\u05d5]</span>&nbsp;&nbsp;[&lt;Qu&gt;&nbsp;\u05dc\u05de\u05d4]&nbsp;&nbsp;&nbsp;</td><td style=\"font-family:Courier\">xQtX</td><td nowrap>&nbsp;why <span class=\"translation_verb\">have</span> peoples <span class=\"translation_verb\">been</span> <span class=\"translation_verb\">in</span> <span class=\"translation_verb\">turmoil</span>? </td></tr><tr><td></td><td class=\"unicode\" nowrap>&nbsp;&nbsp;&nbsp;&nbsp;&nbsp;&nbsp;&nbsp;&nbsp;&nbsp;&nbsp;&nbsp;&nbsp;&nbsp;&nbsp;&nbsp;&nbsp;&nbsp;&nbsp;&nbsp;&nbsp;&nbsp;&nbsp;&nbsp;&nbsp;&nbsp;&nbsp;&nbsp;&nbsp;&nbsp;[&lt;Ob&gt;&nbsp;\u05e8\u05d9\u05e7]&nbsp;<span class=\"verb\">&nbsp;[&lt;Pr&gt;&nbsp;\u05d9\u05d4\u05d2\u05d5]</span>&nbsp;&nbsp;[&lt;Su&gt;&nbsp;\u05dc\u05d0\u05de\u05d9\u05dd]&nbsp;&nbsp;[&lt;Cj&gt;&nbsp;-\u05d5]&nbsp;&nbsp;&nbsp;&nbsp;|&nbsp;&nbsp;&nbsp;|&nbsp;&nbsp;&nbsp;|&nbsp;&nbsp;&nbsp;|&nbsp;&nbsp;&nbsp;|&nbsp;&nbsp;&nbsp;&nbsp;&nbsp;&nbsp;</td><td style=\"font-family:Courier\">WXYq</td><td nowrap>&nbsp;&nbsp;&nbsp;&nbsp;&nbsp;&nbsp;|&nbsp;&nbsp;&nbsp;|&nbsp;&nbsp;&nbsp;|&nbsp;&nbsp;&nbsp;|&nbsp;&nbsp;&nbsp;|&nbsp;&nbsp;and/but (why) <span class=\"translation_verb\">do</span> peoples <span class=\"translation_verb\">mutter</span> an emptiness? </td></tr><tr><td>002</td><td class=\"unicode\" nowrap>&nbsp;&nbsp;&nbsp;&nbsp;&nbsp;&nbsp;&nbsp;&nbsp;&nbsp;&nbsp;&nbsp;&nbsp;&nbsp;&nbsp;&nbsp;&nbsp;&nbsp;&nbsp;&nbsp;&nbsp;&nbsp;&nbsp;&nbsp;&nbsp;&nbsp;&nbsp;&nbsp;&nbsp;&nbsp;&nbsp;&nbsp;&nbsp;&nbsp;&nbsp;&nbsp;&nbsp;&nbsp;&nbsp;&nbsp;&nbsp;&nbsp;&nbsp;&nbsp;&nbsp;&nbsp;&nbsp;&nbsp;&nbsp;[&lt;Su&gt;&nbsp;\u05de\u05dc\u05db\u05d9&nbsp;\u05d0\u05e8\u05e5]&nbsp;<span class=\"verb\">&nbsp;[&lt;Pr&gt;&nbsp;\u05d9\u05ea\u05d9\u05e6\u05d1\u05d5]</span>&nbsp;&nbsp;&nbsp;&nbsp;|&nbsp;&nbsp;&nbsp;|&nbsp;&nbsp;&nbsp;|&nbsp;&nbsp;&nbsp;|&nbsp;&nbsp;&nbsp;&nbsp;&nbsp;&nbsp;</td><td style=\"font-family:Courier\">ZYqX</td><td nowrap>&nbsp;&nbsp;&nbsp;&nbsp;&nbsp;&nbsp;|&nbsp;&nbsp;&nbsp;|&nbsp;&nbsp;&nbsp;|&nbsp;&nbsp;&nbsp;|&nbsp;&nbsp;(why) <span class=\"translation_verb\">do</span> kings of the earth <span class=\"translation_verb\">stand</span>? </td></tr><tr><td></td><td class=\"unicode\" nowrap>&nbsp;[&lt;Co&gt;&nbsp;\u05e2\u05dc&nbsp;\u05d9\u05d4\u05d5\u05d4&nbsp;\u05d5-\u05e2\u05dc&nbsp;\u05de\u05e9\u05c1\u05d9\u05d7\u05d5]&nbsp;&nbsp;[&lt;Mo&gt;&nbsp;\u05d9\u05d7\u05d3]&nbsp;<span class=\"verb\">&nbsp;[&lt;Pr&gt;&nbsp;\u05e0\u05d5\u05e1\u05d3\u05d5]</span>&nbsp;&nbsp;[&lt;Su&gt;&nbsp;\u05e8\u05d5\u05d6\u05e0\u05d9\u05dd]&nbsp;&nbsp;[&lt;Cj&gt;&nbsp;-\u05d5]&nbsp;&nbsp;&nbsp;&nbsp;&nbsp;&nbsp;&nbsp;&nbsp;|&nbsp;&nbsp;&nbsp;|&nbsp;&nbsp;&nbsp;|&nbsp;&nbsp;&nbsp;|&nbsp;&nbsp;&nbsp;&nbsp;&nbsp;&nbsp;</td><td style=\"font-family:Courier\">WXQt</td><td nowrap>&nbsp;&nbsp;&nbsp;&nbsp;&nbsp;&nbsp;|&nbsp;&nbsp;&nbsp;|&nbsp;&nbsp;&nbsp;|&nbsp;&nbsp;&nbsp;|&nbsp;&nbsp;&nbsp;&nbsp;&nbsp;&nbsp;and/but (why) <span class=\"translation_verb\">have</span> official ones <span class=\"translation_verb\">closed</span>? </td></tr></table>"
       ],
       "metadata": {},
       "output_type": "display_data",
       "text": [
        "<IPython.core.display.HTML at 0x3d9c290>"
       ]
      }
     ],
     "prompt_number": 2
    },
    {
     "cell_type": "markdown",
     "metadata": {},
     "source": [
      "<p>In the first section we present the Hebrew text and the translation generated by our Java program. Both the Hebrew text and the translation are presented in the form of the syntactic hierarchy we created in the <abbr title=\"Eep Talstra Centre for Bible and Computer\">ETCBC</abbr>-database, since this enables us to see how relations between mother and daughter clauses affect the translation of a clause and its verbal form, in particular.</p>\n",
      "<p>In the first two verses of Ps 2, for instance, attention has to be paid to the connection between the <em>qatal</em> mother clause (<em>xQtX</em>) and the <em>yiqtol</em> daughter clause (<em>ZYqX</em>). Usually, a verb-initial <em>yiqtol</em> clause has a volitive meaning, but here it inherits a non-verbal constituent from its mother clause - <span class = \"hebrew\">&#1500;&#1502;&#1492;</span>, as can be seen in the translation - \"<strong>(why)</strong> do...\".</p>\n",
      "More information on such processes of inheritance (of elements and functionalities) is provided in the second section of each notebook, as we will see below. The translation, however, already gives us some insight in the linguistic processes that are taking place in a given Psalm. \n",
      "<p>Our representation of the Hebrew text contains annotations providing information about the boundaries between phrases and the functions of these phrases in the clause. An explanation of the functional labels can be obtained by clicking on the header 'Hebrew text'. Information on the clause type labels is provided in the notebook ClauseTypes, which can be navigated to by following the link in the 'ClTp' header.</p>\n",
      "<p>For the sake of clarity, both the Hebrew verbal form and its translation have been printed in a distinctive color. A brief note on the generation of our translation is given in the 'Translation' notebook, which is linked to in the heading of the translation column.</p>"
     ]
    },
    {
     "cell_type": "heading",
     "level": 2,
     "metadata": {},
     "source": [
      "2. Analysis of Ps 2 : 1-2"
     ]
    },
    {
     "cell_type": "code",
     "collapsed": false,
     "input": [
      "Psalms.print_analysis(\"Input/psalmen002Raw.txt\", 4)"
     ],
     "language": "python",
     "metadata": {},
     "outputs": [
      {
       "html": [
        "<table class=\"presentation\" id=\"Analysis\"><tr><th>Vs</th><th>\u00a7</th><th nowrap><a href=\"HebrewText.ipynb\" target=\"_blank\">Hebrew text</a><br><div class=\"small\">(mouse-over for <a href=\"Translation.ipynb\" target=\"_blank\">Translation)</a></div></th><th nowrap><a href=\"ClauseLabels.ipynb\" target=\"_blank\">ClTp</a><br><div class=\"small\">(mouse-over<br>for<br><a href=\"DefaultDiscourseFunctions.ipynb\" target=\"_blank\">DefDiscFu)</a></div></th><th><a href=\"DefaultFunctions.ipynb\" target=\"_blank\">DefFu</a></th><th><a href=\"Processes.ipynb\" target=\"_blank\">Processes</a><br><div class=\"small\">(hover over<br>\"!\"-sign)</div></th><th><a href=\"FinalFunctions.ipynb\" target=\"_blank\">FinFu</a></th><th><a href=\"MDModifier.ipynb\" target=\"_blank\">MDMod</a></th><th><a href=\"CCR.ipynb\" target=\"_blank\">CCR</a></th><th><a href=\"DiscourseFunctions.ipynb\" target=\"_blank\">DiscFu</a></th><th><a href=\"ConcordanceOfPatterns.ipynb\" target=\"_blank\">#Pat</a></th></tr><tr id=\"ln1\"><td>001</td><td>1</td><td class=\"unicode\" nowrap><div class=\"front_hebrew\">&nbsp;&nbsp;&nbsp;&nbsp;&nbsp;&nbsp;&nbsp;&nbsp;&nbsp;&nbsp;&nbsp;&nbsp;&nbsp;&nbsp;&nbsp;&nbsp;&nbsp;&nbsp;&nbsp;&nbsp;&nbsp;&nbsp;&nbsp;&nbsp;&nbsp;&nbsp;&nbsp;&nbsp;&nbsp;&nbsp;&nbsp;&nbsp;&nbsp;&nbsp;&nbsp;&nbsp;&nbsp;&nbsp;&nbsp;&nbsp;&nbsp;&nbsp;&nbsp;&nbsp;&nbsp;&nbsp;&nbsp;&nbsp;&nbsp;&nbsp;&nbsp;&nbsp;&nbsp;&nbsp;&nbsp;&nbsp;&nbsp;&nbsp;&nbsp;&nbsp;&nbsp;&nbsp;&nbsp;[&lt;Su&gt;&nbsp;\u05d2\u05d5\u05d9\u05dd]&nbsp;[&lt;Pr&gt;&nbsp;\u05e8\u05d2\u05e9\u05c1\u05d5]&nbsp;[&lt;Qu&gt;&nbsp;\u05dc\u05de\u05d4]&nbsp;&nbsp;<div class=\"translation\">why <span class=\"translation_verb\">have</span> peoples <span class=\"translation_verb\">been</span> <span class=\"translation_verb\">in</span> <span class=\"translation_verb\">turmoil</span>? </div></div></td><td><div class=\"front\">xQtX<div class=\"def_disc\">disc-MAIN-retro;<br>The clause contains or inherits the mainline anchor \u05dc\u05de\u05d4.</div></div></td><td><div class=\"left\">ind.</div></td><td>  </td><td><div class=\"right\">ind.</div></td><td class=\"unicode\"></td><td></td><td>(re)openMain</td><td><a href=\"ConcordanceOfPatterns.ipynb#0\" target=\"_blank\">0</a></td></tr><tr id=\"ln2\"><td>001</td><td>1</td><td class=\"unicode\" nowrap><div class=\"front_hebrew\">&nbsp;&nbsp;&nbsp;&nbsp;&nbsp;&nbsp;&nbsp;&nbsp;&nbsp;&nbsp;&nbsp;&nbsp;&nbsp;&nbsp;&nbsp;&nbsp;&nbsp;&nbsp;&nbsp;&nbsp;&nbsp;&nbsp;&nbsp;&nbsp;&nbsp;&nbsp;&nbsp;&nbsp;&nbsp;[&lt;Ob&gt;&nbsp;\u05e8\u05d9\u05e7]&nbsp;[&lt;Pr&gt;&nbsp;\u05d9\u05d4\u05d2\u05d5]&nbsp;[&lt;Su&gt;&nbsp;\u05dc\u05d0\u05de\u05d9\u05dd]&nbsp;[&lt;Cj&gt;&nbsp;-\u05d5]&nbsp;&nbsp;&nbsp;|&nbsp;&nbsp;&nbsp;|&nbsp;&nbsp;&nbsp;|&nbsp;&nbsp;&nbsp;|&nbsp;&nbsp;&nbsp;|&nbsp;&nbsp;&nbsp;&nbsp;&nbsp;&nbsp;<div class=\"translation\">and/but (why) <span class=\"translation_verb\">do</span> peoples <span class=\"translation_verb\">mutter</span> an emptiness? </div></div></td><td><div class=\"front\">WXYq<div class=\"def_disc\">disc-MAIN-zero;<br>The clause contains or inherits the mainline anchor \u05dc\u05de\u05d4.</div></div></td><td><div class=\"left\">non-vol.</div></td><td>  </td><td><div class=\"right\">non-vol.</div></td><td class=\"unicode\">\u05dc\u05de\u05d4</td><td>Coor</td><td>crdMn>zero</td><td><a href=\"ConcordanceOfPatterns.ipynb#521\" target=\"_blank\">521</a></td></tr><tr id=\"ln3\"><td>002</td><td>1</td><td class=\"unicode\" nowrap><div class=\"front_hebrew\">&nbsp;&nbsp;&nbsp;&nbsp;&nbsp;&nbsp;&nbsp;&nbsp;&nbsp;&nbsp;&nbsp;&nbsp;&nbsp;&nbsp;&nbsp;&nbsp;&nbsp;&nbsp;&nbsp;&nbsp;&nbsp;&nbsp;&nbsp;&nbsp;&nbsp;&nbsp;&nbsp;&nbsp;&nbsp;&nbsp;&nbsp;&nbsp;&nbsp;&nbsp;&nbsp;&nbsp;&nbsp;&nbsp;&nbsp;&nbsp;&nbsp;&nbsp;&nbsp;&nbsp;&nbsp;&nbsp;&nbsp;&nbsp;[&lt;Su&gt;&nbsp;\u05de\u05dc\u05db\u05d9&nbsp;\u05d0\u05e8\u05e5]&nbsp;[&lt;Pr&gt;&nbsp;\u05d9\u05ea\u05d9\u05e6\u05d1\u05d5]&nbsp;&nbsp;&nbsp;|&nbsp;&nbsp;&nbsp;|&nbsp;&nbsp;&nbsp;|&nbsp;&nbsp;&nbsp;|&nbsp;&nbsp;&nbsp;&nbsp;&nbsp;&nbsp;<div class=\"translation\">(why) <span class=\"translation_verb\">do</span> kings of the earth <span class=\"translation_verb\">stand</span>? </div></div></td><td><div class=\"front\">ZYqX<div class=\"def_disc\">disc-MAIN-zero;<br>The clause contains or inherits the mainline anchor \u05dc\u05de\u05d4.</div></div></td><td><div class=\"left\">volit.</div></td><td><div class=\"front_a\">!<div class=\"factors\">This yiqtol clause inherits the multiple-duty modifier \u05dc\u05de\u05d4 and so does not fulfill its volitive  default function.</div></div></td><td><div class=\"right\">non-vol.</div></td><td class=\"unicode\">\u05dc\u05de\u05d4</td><td>Coor</td><td>crdMn>zero</td><td><a href=\"ConcordanceOfPatterns.ipynb#162\" target=\"_blank\">162</a></td></tr><tr id=\"ln4\"><td>002</td><td>11</td><td class=\"unicode\" nowrap><div class=\"front_hebrew\">&nbsp;[&lt;Co&gt;&nbsp;\u05e2\u05dc&nbsp;\u05d9\u05d4\u05d5\u05d4&nbsp;\u05d5-\u05e2\u05dc&nbsp;\u05de\u05e9\u05c1\u05d9\u05d7\u05d5]&nbsp;[&lt;Mo&gt;&nbsp;\u05d9\u05d7\u05d3]&nbsp;[&lt;Pr&gt;&nbsp;\u05e0\u05d5\u05e1\u05d3\u05d5]&nbsp;[&lt;Su&gt;&nbsp;\u05e8\u05d5\u05d6\u05e0\u05d9\u05dd]&nbsp;[&lt;Cj&gt;&nbsp;-\u05d5]&nbsp;&nbsp;&nbsp;&nbsp;&nbsp;&nbsp;&nbsp;|&nbsp;&nbsp;&nbsp;|&nbsp;&nbsp;&nbsp;|&nbsp;&nbsp;&nbsp;|&nbsp;&nbsp;&nbsp;&nbsp;&nbsp;&nbsp;<div class=\"translation\">and/but (why) <span class=\"translation_verb\">have</span> official ones <span class=\"translation_verb\">closed</span>? </div></div></td><td><div class=\"front\">WXQt<div class=\"def_disc\">disc-MAIN-retro;<br>The clause contains or inherits the mainline anchor \u05dc\u05de\u05d4.</div></div></td><td><div class=\"left\">ind.</div></td><td>  </td><td><div class=\"right\">ind.</div></td><td class=\"unicode\">\u05dc\u05de\u05d4</td><td>Coor</td><td>crdMn>retro</td><td><a href=\"ConcordanceOfPatterns.ipynb#851\" target=\"_blank\">851</a></td></tr></table>"
       ],
       "metadata": {},
       "output_type": "display_data",
       "text": [
        "<IPython.core.display.HTML at 0x3d9c390>"
       ]
      }
     ],
     "prompt_number": 3
    },
    {
     "cell_type": "markdown",
     "metadata": {},
     "source": [
      "<p>The results of the calculations made by our programme are presented in the notebook's second section. This section contains a table in which each clause (or clause atom, namely if a clause is splitted into different parts because of embedded elements) is dealt with in a separate row. Let us briefly go through the columns of which the table shown in this section is made up.</p>\n",
      "<p>In the first two columns, we give the numbers of the verse and the (sub) paragraph to which a clause (atom) belongs. The paragraph numbers are based on the instructions provided during the creation of the syntactic hierarchy of the Psalm and usually mark continuation within or transitions between textual domains.</p>\n",
      "<p>The next column contains the Hebrew text of the clause (atom). If one places the cursor on the Hebrew text, the translation made of that text by our Java program shows up below the Hebrew text. This will prevent one from having to switch back and forth between section 1 and section 2. Again, information on the labels identifying the clause atom relations and the functions of the constituent phrases can be found in the \"HebrewText\" notebook, which is linked to in the 'Hebrew text' heading, while the creation of our translation is explained in the <a href=\"Translation.ipynb\" target=\"_blank\">'Translation' notebook</a>.</p>\n",
      "<p>The fourth column informs us about the type of the clause. More information about the clause-type labels that have been used can be obtained by clicking on the link in the heading of the column. If one hovers over the clause type labels, information pops up about the default discourse functions executed by the respective clauses. In addition, this information box also identifies mainline markers, if these are present in the clause. Since the default discourse functions are inextricably bound to the type of the verbal predicate in the clause, we deemed it sufficient to present them in this way instead of always showing them explicitly in separate columns. Information about the default discourse functions and the effect of mainline markers can be found in the <a href=\"DefaultDiscourseFunctions.ipynb\" target=\"_blank\">notebook on default discourse functions</a>.</p>\n",
      "<p>The next columns provide insights into a clause's function in terms of volitivity, non-volitivity and indicativity. First, we provide the default function of a clause. Then there is a column which alarms us in case interesting processes are taking place that affect the (non-)volitive function of a clause. Information about such a process is obtained by hovering the mouse over the exclamation mark.<br>\n",
      "We find such an exclamation mark in Ps 2 : 2. When placing our cursor on the sign, a message pops up telling us that <q>this verb-initial <em>yiqtol</em> clause inherits the multiple-duty modifier <span class = \"hebrew\">&#1500;&#1502;&#1492;</span> and so does not fulfill its volitive default function.</q> In the translation offered in the previous section, we already saw, indeed, that the <em>yiqtol</em> clause in this verse was translated as a <strong>non-volitive</strong> interrogative clause.<br>\n",
      "The final (non-)volitive function of a clause, whether being the result of activated mechanisms of inheritance and blocking or not, is presented in the next column.<br>\n",
      "More information about all this can be found in the notebooks that can be navigated to by clicking on the links in the headings of the respective columns.</p>\n",
      "<p>In the next column we identify socalled '<em>multiple-duty modifiers (MDM)</em>' - clause opening constituents that do not only govern the clause in which they stand, but also one or <em>multiple</em> coordinate daughter clauses. More information about 'multiple-duty modifiers' can, again, be acquired by clicking on the link in the column heading. It should be noted that the inheritance of such governing elements (e.g.: <span class = \"hebrew\">&#1500;&#1502;&#1492;</span>) by daughter clauses is also reflected in the automatically generated translation.</p>\n",
      "<p>Subsequently, we provide information about clause constituent relations (CCR). This enables us to identify (1) clause atoms that form part of a larger clause and, in that clause, fulfill the role of subject, object, or any other constituent, and (2) clauses that together constitute a single sentence. As can be seen in the example, coordinated clauses, which belong to the same sentence as their mother clause, are also identified in this column. More information about clause constituent relations is found in the notebook linked to in the 'CCR' column heading.</p>\n",
      "<p>After this, the final discourse function of a clause (atom) is described. This function is a concretization of the default discourse functional values that were identified in the messages popping up in the 'ClTp' column. The exact determination of the final discourse function and the different descriptive labels used in this column are further explained in the notebook that can be visited by clicking on the link in the 'DiscFunction' column heading.</p>\n",
      "<p>The final column contains a number identifying the type of clause pattern to which the current clause (atom) belongs. Note that for each clause pattern in a Psalm the corresponding number is presented in the row of the daughter clause (atom). The meaning of the different components of the label is elucidated in the 'Concordance of Patterns' that can be navigated to via the link in the final column's heading. By clicking on a pattern number, one will be brought to the corresponding section in the 'Concordance of Patterns', which makes it possible to find out how often the given pattern occurs in the Psalms and in which Psalms other occurrences of the same pattern can be found. An overview of all patterns attested in a Psalm is provided in the third section of a Psalm's notebook.</p>"
     ]
    },
    {
     "cell_type": "heading",
     "level": 2,
     "metadata": {},
     "source": [
      "3. Patterns in Ps 2 : 1-2"
     ]
    },
    {
     "cell_type": "code",
     "collapsed": false,
     "input": [
      "Psalms.print_patterns(\"Input/psalmen002dataPatterns.txt\", 162)"
     ],
     "language": "python",
     "metadata": {},
     "outputs": [
      {
       "html": [
        "<table class=\"presentation\" id=\"Patterns\"><tr><th><a href=\"ConcordanceOfPatterns.ipynb\" target=\"_blank\">#Pat</a></th><th>Vs</th><th>Ln</th><th nowrap><a href=\"ClauseLabels.ipynb\" target=\"_blank\">ClTp</a><br><div class=\"small\">(mouse-over<br>for<br><a href=\"DefaultDiscourseFunctions.ipynb\" target=\"_blank\">DefDiscFu)</a></div></th><th nowrap><a href=\"HebrewText.ipynb\" target=\"_blank\">Hebrew text</a><br><div class=\"small\">(mouse-over for <a href=\"Translation.ipynb\" target=\"_blank\">Translation)</a></div></th><th><a href=\"CCR.ipynb\" target=\"_blank\">CCR</a></th><th><a href=\"DefaultFunctions.ipynb\" target=\"_blank\">DefFu</a></th><th><a href=\"Processes.ipynb\" target=\"_blank\">Processes</a><br><div class=\"small\">(hover over<br>\"!\"-sign)</div></th><th><a href=\"FinalFunctions.ipynb\" target=\"_blank\">FinFu</a></th><th nowrap><a href=\"MDModifier.ipynb\" target=\"_blank\">Mod-MDM</a></th><th><a href=\"Participants.ipynb\" target=\"_blank\">Ptcp</a></th><th><a href=\"DiscourseFunctions.ipynb\" target=\"_blank\">DiscFu</th></tr><tr><td><a href=\"ConcordanceOfPatterns.ipynb#162\" target=\"_blank\">162</a></td><td>PS002,002</td><td><a href=\"#ln1\">1</a></td><td><div class=\"front\">xQtX<div class=\"def_disc\">disc-MAIN-retro;<br>The clause contains or inherits the mainline anchor \u05dc\u05de\u05d4.</div></div></td><td class=\"unicode\" nowrap><div class=\"front_hebrew\">[&lt;Su&gt;&nbsp;\u05d2\u05d5\u05d9\u05dd]&nbsp;[&lt;Pr&gt;&nbsp;\u05e8\u05d2\u05e9\u05c1\u05d5]&nbsp;[&lt;Qu&gt;&nbsp;\u05dc\u05de\u05d4]<div class=\"translation\">why <span class=\"translation_verb\">have</span> peoples <span class=\"translation_verb\">been</span> <span class=\"translation_verb\">in</span> <span class=\"translation_verb\">turmoil</span>? </div></div></td><td></td><td nowrap><div class=\"left\">ind.</div></td><td>  </td><td nowrap><div class=\"right\">ind.</div></td><td class=\"unicode\" nowrap><div class=\"right\">\u05dc\u05de\u05d4</div></td><td></td><td>(re)openMain</td></tr><tr><td></td><td></td><td><a href=\"#ln3\">3</a></td><td><div class=\"front\">ZYqX<div class=\"def_disc\">disc-MAIN-zero;<br>The clause contains or inherits the mainline anchor \u05dc\u05de\u05d4.</div></div></td><td class=\"unicode\" nowrap><div class=\"front_hebrew\">[&lt;Su&gt;&nbsp;\u05de\u05dc\u05db\u05d9&nbsp;\u05d0\u05e8\u05e5]&nbsp;[&lt;Pr&gt;&nbsp;\u05d9\u05ea\u05d9\u05e6\u05d1\u05d5]<div class=\"translation\">(why) <span class=\"translation_verb\">do</span> kings of the earth <span class=\"translation_verb\">stand</span>? </div></div></td><td>Coor</td><td nowrap><div class=\"left\">volit.</div></td><td><div class=\"front_a\">!<div class=\"factors\">This yiqtol clause inherits the multiple-duty modifier \u05dc\u05de\u05d4 and so does not fulfill its volitive  default function.</div></div></td><td nowrap><div class=\"right\">non-vol.</div></td><td class=\"unicode\" nowrap><div class=\"right\">(\u05dc\u05de\u05d4)</div></td><td>  DS</td><td>crdMn>zero</td></tr><tr><td>&nbsp;</td></tr></table>"
       ],
       "metadata": {},
       "output_type": "display_data",
       "text": [
        "<IPython.core.display.HTML at 0x3d9c490>"
       ]
      }
     ],
     "prompt_number": 4
    },
    {
     "cell_type": "markdown",
     "metadata": {},
     "source": [
      "<p>In the third section of a Psalm's notebook we provide an overview of all clause pairs that are attested in the Psalm. Again, the patterns are presented in a table consisting of multiple columns in which more specific information is given about the characteristics of the clauses and the clause pattern as a whole. Let us briefly walk through them.<p>\n",
      "<p>In the first column, we provide the number by which the specific sequence of mother and daughter clause is identified in the <a href=\"ConcordanceOfPatterns.ipynb\" target=\"_blank\">Concordance of Patterns</a>. By clicking on this pattern number, one is brought to the corresponding section in the Concordance, where other occurrences of the same pattern can be found and looked up.</p>\n",
      "<p>The next columns give us the verse number in which the <em>daughter</em> of the clause pattern can be found and the linenumbers of both mother and daughter clause. If one clicks on these linenumbers, the page will jump back to the analysis of the given clause (atom) in the second section of the notebook. This will enable the user to get an idea of the broader context in which the given pattern is embedded.</p>\n",
      "<p>In the fourth column, the type of both mother and daughter clause is noted. When one hovers the mouse over the clause type label, information pops up about the <a href=\"DefaultDiscourseFunctions.ipynb\" target=\"_blank\">default discourse functions</a> of the clause and about the presence of mainline markers. In the sample pattern provided above the <em>xQtX</em> mother clause contains the mainline marker <span class = \"hebrew\">&#1500;&#1502;&#1492;</span> and this same mainline anchor is inherited by the <em>ZYqX</em> daughter clause.</p>\n",
      "<p>The next column presents the annotated Hebrew text of mother and daughter clause. If the cursor is placed on this Hebrew text, the automatically generated translation of the clause becomes visible. A clarification of the annotations in the Hebrew text can be found in the notebook referred to by the link in the 'Hebrew text' header, while we account for the creation of our translation in the <a href=\"Translation.ipynb\" target=\"_blank\">'Translation' notebook</a>.</p>\n",
      "<p>The sixth column informs us about clause constituent relations attested in the patterns. In the sample pattern the daughter clause is coordinated to its mother clause and thus forms one sentence with it, which enables it to inherit its mother clause's multiple-duty modifier <span class = \"hebrew\">&#1500;&#1502;&#1492;</span>. More information about clause constituent relations is found in the notebook linked to in the 'CCR' column heading.</p>\n",
      "<p>The next columns provide insights into a clause's function in terms of volitivity, non-volitivity and indicativity. After having given the default function of a clause, we identify processes of inheritance and blocking that affect the (non-)volitive function of a clause. Information about these process is obtained by hovering the mouse over the exclamation mark. In the sample pattern we are told that <q>this verb-initial <em>yiqtol</em> clause inherits the multiple-duty modifier <span class = \"hebrew\">&#1500;&#1502;&#1492;</span> and so does not fulfill its volitive default function</q>, but acquires a non-volitive meaning.<br>\n",
      "The final (non-)volitive function of a clause, whether being the result of activated mechanisms of inheritance and blocking or not, is presented in the next column.<br>\n",
      "More information about default and final functions in terms of volitivity and non-volitivity and the processes of inheritance and blocking that may cause discrepancies between default and final functions is given in the notebooks that can be navigated to by clicking on the links in the headings of the respective columns.</p>\n",
      "<p>The next column shows us which modifiers and multiple-duty modifiers are (assumed to be) present in the clauses making up a clause pattern. Modifiers and multiple-duty modifiers are separated from each other by the fact that the second category is printed between parentheses. Thus, in the sample pattern the mother clause contains the <strong>modifier</strong> <span class = \"hebrew\">&#1500;&#1502;&#1492;</span>, which is subsequently imported as a <strong>multiple-duty modifier</strong> in the daughter clause. We explain the phenomenon of the multiple-duty modifier in a separate notebook, which can be navigated to by clicking the link in the column heading.</p>\n",
      "<p>After this, we arrive at the <strong>Ptcp</strong> column which informs us about the developments in the set of participants taking place in a specific clause pattern. It should be noted that since this information is pattern-specific, it is only included in the daughter clause's row of observations. For every pattern consisting of two non-dependent clauses information is provided about the relation between the subjects of the two clauses. Thus, our sample pattern involves a change of subject (<strong>DS</strong>). For some patterns, additional calculations have been made with regard to the broader set of participants. The outcomes of these calculations can be retrieved by hovering over the label providing subject information. If this label is not printed in red, no further calculations have been made. Information about our analyses at the level of participants is provided in a separate notebook, which is referred to by the link in the <strong>'Ptcp'</strong> heading.</p>\n",
      "<p>In the final column we present the final discourse functions of mother and daughter clause, which are context-specific concretizations of the default discourse functional values of both clauses. The exact determination of the final discourse function and the different descriptive labels used in this column are further explained in the notebook that can be visited by clicking on the link in the <strong>'DiscFu'</strong> column heading.</p>"
     ]
    },
    {
     "cell_type": "markdown",
     "metadata": {},
     "source": [
      "<div class=\"button\"><form action=\"Index.ipynb\">\n",
      "    <input type=\"submit\" value=\"Go to Index\">\n",
      "</form>\n",
      "</div>"
     ]
    }
   ],
   "metadata": {}
  }
 ]
}