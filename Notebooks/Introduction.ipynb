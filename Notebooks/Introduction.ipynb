{
 "metadata": {
  "name": ""
 },
 "nbformat": 3,
 "nbformat_minor": 0,
 "worksheets": [
  {
   "cells": [
    {
     "cell_type": "markdown",
     "metadata": {},
     "source": [
      "This is a link to <a href=\"http://nbviewer.ipython.org/github/GinoKalkman/Biblical_Hebrew_Analysis/blob/master/Notebooks/PhD%20research%20%28pilot%29.ipynb?create=1\">Psalm 1</a>."
     ]
    },
    {
     "cell_type": "code",
     "collapsed": false,
     "input": [],
     "language": "python",
     "metadata": {},
     "outputs": []
    }
   ],
   "metadata": {}
  }
 ]
}